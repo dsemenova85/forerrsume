{
 "cells": [
  {
   "cell_type": "markdown",
   "metadata": {
    "id": "dIeE5ydqCPN_"
   },
   "source": [
    "# Анализ оттока клиентов "
   ]
  },
  {
   "cell_type": "markdown",
   "metadata": {
    "id": "1kbjKNJfCPOB"
   },
   "source": [
    "В нашем отделе маркетинга нет автоматизированных систем рассылок, письма каждому клиенту пишутся вручную, поэтому нам важно для отдела маркетинга представить компактные однородные сегменты и дать примеры мероприятий, которые можно провести, чтобы вернуть клиентов в банк или удержать сомневающихся от оттока."
   ]
  },
  {
   "cell_type": "markdown",
   "metadata": {
    "id": "oDJdbB-FCPOE"
   },
   "source": [
    "**Цель исследования** - изучить причины оттока клиентов, сегментировать пользователей банка, предоставить рекомендации по удержанию и возврату клиентской базы"
   ]
  },
  {
   "cell_type": "markdown",
   "metadata": {
    "id": "Xo1j866_CPOI"
   },
   "source": [
    "**Ход исследования**\n",
    "___\n",
    "\n",
    "**Исследование пройдёт в несколько этапов:**\n",
    "\n",
    "1. Обзор данных.\n",
    "2. Предобработка данных.\n",
    "3. Исследовательский анализ данных.\n",
    "4. Корреляционный анализ\n",
    "5. Статистический анализ\n",
    "6. Сегментация пользователей\n",
    "7. Выводы и рекомендации для заказчика\n",
    "\n",
    "**На каждом этапе будут подготовлены итоги анализа**"
   ]
  },
  {
   "cell_type": "markdown",
   "metadata": {
    "id": "ZUZEPkzpCPOO"
   },
   "source": [
    "# Материалы\n",
    "\n",
    "* [Презентация](https://disk.yandex.ru/i/f3KKoaJrrX1Ztw)"
   ]
  },
  {
   "cell_type": "markdown",
   "metadata": {
    "id": "umP85NlxCPOY"
   },
   "source": [
    "* [Дашборд](https://public.tableau.com/views/Final_16806421769350/sheet2?:language=en-US&publish=yes&:display_count=n&:origin=viz_share_link)"
   ]
  },
  {
   "cell_type": "markdown",
   "metadata": {
    "id": "wWKsX1raCPOa"
   },
   "source": [
    "## Обзор данных "
   ]
  },
  {
   "cell_type": "markdown",
   "metadata": {
    "id": "8QRNsMgoCPOb"
   },
   "source": [
    "### Изучим данные"
   ]
  },
  {
   "cell_type": "code",
   "execution_count": null,
   "metadata": {
    "id": "VCHc8XsACPOb"
   },
   "outputs": [],
   "source": [
    "# импорт библиотек\n",
    "import pandas as pd\n",
    "import matplotlib.pyplot as plt\n",
    "import seaborn as sns\n",
    "import plotly.express as px\n",
    "import numpy as np\n",
    "from plotly import graph_objects as go\n",
    "from scipy import stats as st"
   ]
  },
  {
   "cell_type": "code",
   "execution_count": null,
   "metadata": {
    "id": "IBU8cdaWCPOe"
   },
   "outputs": [],
   "source": [
    "# чтение файла bank_scrooge.csv с данными и сохранение его в переменную \n",
    "\n",
    "path = \"https://drive.google.com/uc?export=download&id=1-U61mhTz_N1ARjy2XSAZ7IlQqGjeqP0F\" \n",
    "data = pd.read_csv(path)"
   ]
  },
  {
   "cell_type": "code",
   "execution_count": null,
   "metadata": {
    "id": "t3KqhbP6CPOf",
    "outputId": "4c1ba4a1-4502-481a-d3b9-ef1f4b3e4823"
   },
   "outputs": [
    {
     "data": {
      "text/html": [
       "<div>\n",
       "<style scoped>\n",
       "    .dataframe tbody tr th:only-of-type {\n",
       "        vertical-align: middle;\n",
       "    }\n",
       "\n",
       "    .dataframe tbody tr th {\n",
       "        vertical-align: top;\n",
       "    }\n",
       "\n",
       "    .dataframe thead th {\n",
       "        text-align: right;\n",
       "    }\n",
       "</style>\n",
       "<table border=\"1\" class=\"dataframe\">\n",
       "  <thead>\n",
       "    <tr style=\"text-align: right;\">\n",
       "      <th></th>\n",
       "      <th>USERID</th>\n",
       "      <th>score</th>\n",
       "      <th>city</th>\n",
       "      <th>gender</th>\n",
       "      <th>age</th>\n",
       "      <th>equity</th>\n",
       "      <th>balance</th>\n",
       "      <th>products</th>\n",
       "      <th>credit_card</th>\n",
       "      <th>last_activity</th>\n",
       "      <th>EST_SALARY</th>\n",
       "      <th>churn</th>\n",
       "    </tr>\n",
       "  </thead>\n",
       "  <tbody>\n",
       "    <tr>\n",
       "      <th>0</th>\n",
       "      <td>183012</td>\n",
       "      <td>850.0</td>\n",
       "      <td>Рыбинск</td>\n",
       "      <td>Ж</td>\n",
       "      <td>25.0</td>\n",
       "      <td>1</td>\n",
       "      <td>59214.82</td>\n",
       "      <td>2</td>\n",
       "      <td>0</td>\n",
       "      <td>1</td>\n",
       "      <td>75719.14</td>\n",
       "      <td>1</td>\n",
       "    </tr>\n",
       "    <tr>\n",
       "      <th>1</th>\n",
       "      <td>146556</td>\n",
       "      <td>861.0</td>\n",
       "      <td>Рыбинск</td>\n",
       "      <td>Ж</td>\n",
       "      <td>37.0</td>\n",
       "      <td>5</td>\n",
       "      <td>850594.33</td>\n",
       "      <td>3</td>\n",
       "      <td>1</td>\n",
       "      <td>0</td>\n",
       "      <td>86621.77</td>\n",
       "      <td>0</td>\n",
       "    </tr>\n",
       "    <tr>\n",
       "      <th>2</th>\n",
       "      <td>120722</td>\n",
       "      <td>892.0</td>\n",
       "      <td>Рыбинск</td>\n",
       "      <td>Ж</td>\n",
       "      <td>30.0</td>\n",
       "      <td>0</td>\n",
       "      <td>NaN</td>\n",
       "      <td>1</td>\n",
       "      <td>1</td>\n",
       "      <td>1</td>\n",
       "      <td>107683.34</td>\n",
       "      <td>0</td>\n",
       "    </tr>\n",
       "    <tr>\n",
       "      <th>3</th>\n",
       "      <td>225363</td>\n",
       "      <td>866.0</td>\n",
       "      <td>Ярославль</td>\n",
       "      <td>Ж</td>\n",
       "      <td>51.0</td>\n",
       "      <td>5</td>\n",
       "      <td>1524746.26</td>\n",
       "      <td>2</td>\n",
       "      <td>0</td>\n",
       "      <td>1</td>\n",
       "      <td>174423.53</td>\n",
       "      <td>1</td>\n",
       "    </tr>\n",
       "    <tr>\n",
       "      <th>4</th>\n",
       "      <td>157978</td>\n",
       "      <td>730.0</td>\n",
       "      <td>Ярославль</td>\n",
       "      <td>М</td>\n",
       "      <td>34.0</td>\n",
       "      <td>5</td>\n",
       "      <td>174.00</td>\n",
       "      <td>1</td>\n",
       "      <td>1</td>\n",
       "      <td>0</td>\n",
       "      <td>67353.16</td>\n",
       "      <td>1</td>\n",
       "    </tr>\n",
       "    <tr>\n",
       "      <th>5</th>\n",
       "      <td>202305</td>\n",
       "      <td>856.0</td>\n",
       "      <td>Рыбинск</td>\n",
       "      <td>М</td>\n",
       "      <td>56.0</td>\n",
       "      <td>4</td>\n",
       "      <td>863687.24</td>\n",
       "      <td>3</td>\n",
       "      <td>1</td>\n",
       "      <td>0</td>\n",
       "      <td>156619.80</td>\n",
       "      <td>0</td>\n",
       "    </tr>\n",
       "    <tr>\n",
       "      <th>6</th>\n",
       "      <td>177259</td>\n",
       "      <td>807.0</td>\n",
       "      <td>Ярославль</td>\n",
       "      <td>Ж</td>\n",
       "      <td>39.0</td>\n",
       "      <td>3</td>\n",
       "      <td>405042.44</td>\n",
       "      <td>3</td>\n",
       "      <td>0</td>\n",
       "      <td>1</td>\n",
       "      <td>103838.32</td>\n",
       "      <td>0</td>\n",
       "    </tr>\n",
       "    <tr>\n",
       "      <th>7</th>\n",
       "      <td>218868</td>\n",
       "      <td>825.0</td>\n",
       "      <td>Ярославль</td>\n",
       "      <td>Ж</td>\n",
       "      <td>38.0</td>\n",
       "      <td>4</td>\n",
       "      <td>458145.40</td>\n",
       "      <td>2</td>\n",
       "      <td>1</td>\n",
       "      <td>1</td>\n",
       "      <td>68085.48</td>\n",
       "      <td>0</td>\n",
       "    </tr>\n",
       "    <tr>\n",
       "      <th>8</th>\n",
       "      <td>211686</td>\n",
       "      <td>923.0</td>\n",
       "      <td>Ярославль</td>\n",
       "      <td>М</td>\n",
       "      <td>54.0</td>\n",
       "      <td>5</td>\n",
       "      <td>1206337.87</td>\n",
       "      <td>2</td>\n",
       "      <td>1</td>\n",
       "      <td>0</td>\n",
       "      <td>155371.79</td>\n",
       "      <td>0</td>\n",
       "    </tr>\n",
       "    <tr>\n",
       "      <th>9</th>\n",
       "      <td>133130</td>\n",
       "      <td>906.0</td>\n",
       "      <td>Ярославль</td>\n",
       "      <td>Ж</td>\n",
       "      <td>67.0</td>\n",
       "      <td>0</td>\n",
       "      <td>NaN</td>\n",
       "      <td>1</td>\n",
       "      <td>0</td>\n",
       "      <td>1</td>\n",
       "      <td>238055.53</td>\n",
       "      <td>0</td>\n",
       "    </tr>\n",
       "  </tbody>\n",
       "</table>\n",
       "</div>"
      ],
      "text/plain": [
       "   USERID  score       city gender   age  equity     balance  products   \n",
       "0  183012  850.0    Рыбинск      Ж  25.0       1    59214.82         2  \\\n",
       "1  146556  861.0    Рыбинск      Ж  37.0       5   850594.33         3   \n",
       "2  120722  892.0    Рыбинск      Ж  30.0       0         NaN         1   \n",
       "3  225363  866.0  Ярославль      Ж  51.0       5  1524746.26         2   \n",
       "4  157978  730.0  Ярославль      М  34.0       5      174.00         1   \n",
       "5  202305  856.0    Рыбинск      М  56.0       4   863687.24         3   \n",
       "6  177259  807.0  Ярославль      Ж  39.0       3   405042.44         3   \n",
       "7  218868  825.0  Ярославль      Ж  38.0       4   458145.40         2   \n",
       "8  211686  923.0  Ярославль      М  54.0       5  1206337.87         2   \n",
       "9  133130  906.0  Ярославль      Ж  67.0       0         NaN         1   \n",
       "\n",
       "   credit_card  last_activity  EST_SALARY  churn  \n",
       "0            0              1    75719.14      1  \n",
       "1            1              0    86621.77      0  \n",
       "2            1              1   107683.34      0  \n",
       "3            0              1   174423.53      1  \n",
       "4            1              0    67353.16      1  \n",
       "5            1              0   156619.80      0  \n",
       "6            0              1   103838.32      0  \n",
       "7            1              1    68085.48      0  \n",
       "8            1              0   155371.79      0  \n",
       "9            0              1   238055.53      0  "
      ]
     },
     "execution_count": 3,
     "metadata": {},
     "output_type": "execute_result"
    }
   ],
   "source": [
    "data.head(10)"
   ]
  },
  {
   "cell_type": "code",
   "execution_count": null,
   "metadata": {
    "id": "ZnzBu031CPOh",
    "outputId": "c750ddc6-eadb-49ef-87b7-deec814ab925"
   },
   "outputs": [
    {
     "name": "stdout",
     "output_type": "stream",
     "text": [
      "Index(['user_id', 'score', 'city', 'gender', 'age', 'equity', 'balance',\n",
      "       'products', 'credit_card', 'last_activity', 'est_salary', 'churn'],\n",
      "      dtype='object')\n"
     ]
    }
   ],
   "source": [
    "# заменим столбцы\n",
    "data = data.rename(columns={'USERID' : 'user_id', 'EST_SALARY' : 'est_salary'})\n",
    "print(data.columns)"
   ]
  },
  {
   "cell_type": "markdown",
   "metadata": {
    "id": "6hZXg1fVCPOi"
   },
   "source": [
    "**Описание данных:**\n",
    "\n",
    "`user_id` - идентификатор пользователя;\n",
    "\n",
    "`score`- баллы кредитного скоринга;\n",
    "\n",
    "`city` - город;\n",
    "\n",
    "`gender` - пол;\n",
    "\n",
    "`age` - возраст;\n",
    "\n",
    "`equity` - приблизительная оценка собственности;\n",
    "\n",
    "`balance` - баланс на счете;\n",
    "\n",
    "`products` - количество продуктов, которыми пользуется клиент;\n",
    "\n",
    "`credit_card` - есть ли кредитная карта;\n",
    "\n",
    "`last_activity` - был клиент активен последнее время;\n",
    "\n",
    "`est_salary` - оценочная заработная плата клиента;\n",
    "\n",
    "`churn`- уходит или нет."
   ]
  },
  {
   "cell_type": "markdown",
   "metadata": {
    "id": "DmL1tRe2CPOk"
   },
   "source": [
    "## Предобработка данных"
   ]
  },
  {
   "cell_type": "markdown",
   "metadata": {
    "id": "UI1VlReWCPOk"
   },
   "source": [
    "### Меняем тип данных"
   ]
  },
  {
   "cell_type": "code",
   "execution_count": null,
   "metadata": {
    "id": "9VX3S7aZCPOm"
   },
   "outputs": [],
   "source": [
    "obj_df = data.select_dtypes(include=['object']).copy()"
   ]
  },
  {
   "cell_type": "code",
   "execution_count": null,
   "metadata": {
    "id": "kUSjlNKUCPOm",
    "outputId": "6be42ca2-584a-490a-e4ed-7ca7b060cda1"
   },
   "outputs": [
    {
     "data": {
      "text/html": [
       "<div>\n",
       "<style scoped>\n",
       "    .dataframe tbody tr th:only-of-type {\n",
       "        vertical-align: middle;\n",
       "    }\n",
       "\n",
       "    .dataframe tbody tr th {\n",
       "        vertical-align: top;\n",
       "    }\n",
       "\n",
       "    .dataframe thead th {\n",
       "        text-align: right;\n",
       "    }\n",
       "</style>\n",
       "<table border=\"1\" class=\"dataframe\">\n",
       "  <thead>\n",
       "    <tr style=\"text-align: right;\">\n",
       "      <th></th>\n",
       "      <th>city_Ростов</th>\n",
       "      <th>city_Рыбинск</th>\n",
       "      <th>city_Ярославль</th>\n",
       "      <th>gender_Ж</th>\n",
       "      <th>gender_М</th>\n",
       "    </tr>\n",
       "  </thead>\n",
       "  <tbody>\n",
       "    <tr>\n",
       "      <th>0</th>\n",
       "      <td>False</td>\n",
       "      <td>True</td>\n",
       "      <td>False</td>\n",
       "      <td>True</td>\n",
       "      <td>False</td>\n",
       "    </tr>\n",
       "    <tr>\n",
       "      <th>1</th>\n",
       "      <td>False</td>\n",
       "      <td>True</td>\n",
       "      <td>False</td>\n",
       "      <td>True</td>\n",
       "      <td>False</td>\n",
       "    </tr>\n",
       "    <tr>\n",
       "      <th>2</th>\n",
       "      <td>False</td>\n",
       "      <td>True</td>\n",
       "      <td>False</td>\n",
       "      <td>True</td>\n",
       "      <td>False</td>\n",
       "    </tr>\n",
       "    <tr>\n",
       "      <th>3</th>\n",
       "      <td>False</td>\n",
       "      <td>False</td>\n",
       "      <td>True</td>\n",
       "      <td>True</td>\n",
       "      <td>False</td>\n",
       "    </tr>\n",
       "    <tr>\n",
       "      <th>4</th>\n",
       "      <td>False</td>\n",
       "      <td>False</td>\n",
       "      <td>True</td>\n",
       "      <td>False</td>\n",
       "      <td>True</td>\n",
       "    </tr>\n",
       "  </tbody>\n",
       "</table>\n",
       "</div>"
      ],
      "text/plain": [
       "   city_Ростов  city_Рыбинск  city_Ярославль  gender_Ж  gender_М\n",
       "0        False          True           False      True     False\n",
       "1        False          True           False      True     False\n",
       "2        False          True           False      True     False\n",
       "3        False         False            True      True     False\n",
       "4        False         False            True     False      True"
      ]
     },
     "execution_count": 6,
     "metadata": {},
     "output_type": "execute_result"
    }
   ],
   "source": [
    "dd = pd.get_dummies(obj_df, columns=['city', 'gender'])\n",
    "dd.head(5)"
   ]
  },
  {
   "cell_type": "code",
   "execution_count": null,
   "metadata": {
    "id": "C9IDlIN5CPOn"
   },
   "outputs": [],
   "source": [
    "#df.merge(dd, on='user_id', how='right')\n",
    "#df.head(5) "
   ]
  },
  {
   "cell_type": "code",
   "execution_count": null,
   "metadata": {
    "id": "KPHP-HYyCPOn",
    "outputId": "eb01836a-3bd6-4f59-8c74-56fc348f9769"
   },
   "outputs": [
    {
     "data": {
      "text/html": [
       "<div>\n",
       "<style scoped>\n",
       "    .dataframe tbody tr th:only-of-type {\n",
       "        vertical-align: middle;\n",
       "    }\n",
       "\n",
       "    .dataframe tbody tr th {\n",
       "        vertical-align: top;\n",
       "    }\n",
       "\n",
       "    .dataframe thead th {\n",
       "        text-align: right;\n",
       "    }\n",
       "</style>\n",
       "<table border=\"1\" class=\"dataframe\">\n",
       "  <thead>\n",
       "    <tr style=\"text-align: right;\">\n",
       "      <th></th>\n",
       "      <th>user_id</th>\n",
       "      <th>score</th>\n",
       "      <th>city</th>\n",
       "      <th>gender</th>\n",
       "      <th>age</th>\n",
       "      <th>equity</th>\n",
       "      <th>balance</th>\n",
       "      <th>products</th>\n",
       "      <th>credit_card</th>\n",
       "      <th>last_activity</th>\n",
       "      <th>est_salary</th>\n",
       "      <th>churn</th>\n",
       "      <th>city_Ростов</th>\n",
       "      <th>city_Рыбинск</th>\n",
       "      <th>city_Ярославль</th>\n",
       "      <th>gender_Ж</th>\n",
       "      <th>gender_М</th>\n",
       "    </tr>\n",
       "  </thead>\n",
       "  <tbody>\n",
       "    <tr>\n",
       "      <th>0</th>\n",
       "      <td>183012</td>\n",
       "      <td>850.0</td>\n",
       "      <td>Рыбинск</td>\n",
       "      <td>Ж</td>\n",
       "      <td>25.0</td>\n",
       "      <td>1</td>\n",
       "      <td>59214.82</td>\n",
       "      <td>2</td>\n",
       "      <td>0</td>\n",
       "      <td>1</td>\n",
       "      <td>75719.14</td>\n",
       "      <td>1</td>\n",
       "      <td>False</td>\n",
       "      <td>True</td>\n",
       "      <td>False</td>\n",
       "      <td>True</td>\n",
       "      <td>False</td>\n",
       "    </tr>\n",
       "    <tr>\n",
       "      <th>1</th>\n",
       "      <td>146556</td>\n",
       "      <td>861.0</td>\n",
       "      <td>Рыбинск</td>\n",
       "      <td>Ж</td>\n",
       "      <td>37.0</td>\n",
       "      <td>5</td>\n",
       "      <td>850594.33</td>\n",
       "      <td>3</td>\n",
       "      <td>1</td>\n",
       "      <td>0</td>\n",
       "      <td>86621.77</td>\n",
       "      <td>0</td>\n",
       "      <td>False</td>\n",
       "      <td>True</td>\n",
       "      <td>False</td>\n",
       "      <td>True</td>\n",
       "      <td>False</td>\n",
       "    </tr>\n",
       "    <tr>\n",
       "      <th>2</th>\n",
       "      <td>120722</td>\n",
       "      <td>892.0</td>\n",
       "      <td>Рыбинск</td>\n",
       "      <td>Ж</td>\n",
       "      <td>30.0</td>\n",
       "      <td>0</td>\n",
       "      <td>NaN</td>\n",
       "      <td>1</td>\n",
       "      <td>1</td>\n",
       "      <td>1</td>\n",
       "      <td>107683.34</td>\n",
       "      <td>0</td>\n",
       "      <td>False</td>\n",
       "      <td>True</td>\n",
       "      <td>False</td>\n",
       "      <td>True</td>\n",
       "      <td>False</td>\n",
       "    </tr>\n",
       "    <tr>\n",
       "      <th>3</th>\n",
       "      <td>225363</td>\n",
       "      <td>866.0</td>\n",
       "      <td>Ярославль</td>\n",
       "      <td>Ж</td>\n",
       "      <td>51.0</td>\n",
       "      <td>5</td>\n",
       "      <td>1524746.26</td>\n",
       "      <td>2</td>\n",
       "      <td>0</td>\n",
       "      <td>1</td>\n",
       "      <td>174423.53</td>\n",
       "      <td>1</td>\n",
       "      <td>False</td>\n",
       "      <td>False</td>\n",
       "      <td>True</td>\n",
       "      <td>True</td>\n",
       "      <td>False</td>\n",
       "    </tr>\n",
       "    <tr>\n",
       "      <th>4</th>\n",
       "      <td>157978</td>\n",
       "      <td>730.0</td>\n",
       "      <td>Ярославль</td>\n",
       "      <td>М</td>\n",
       "      <td>34.0</td>\n",
       "      <td>5</td>\n",
       "      <td>174.00</td>\n",
       "      <td>1</td>\n",
       "      <td>1</td>\n",
       "      <td>0</td>\n",
       "      <td>67353.16</td>\n",
       "      <td>1</td>\n",
       "      <td>False</td>\n",
       "      <td>False</td>\n",
       "      <td>True</td>\n",
       "      <td>False</td>\n",
       "      <td>True</td>\n",
       "    </tr>\n",
       "  </tbody>\n",
       "</table>\n",
       "</div>"
      ],
      "text/plain": [
       "   user_id  score       city gender   age  equity     balance  products   \n",
       "0   183012  850.0    Рыбинск      Ж  25.0       1    59214.82         2  \\\n",
       "1   146556  861.0    Рыбинск      Ж  37.0       5   850594.33         3   \n",
       "2   120722  892.0    Рыбинск      Ж  30.0       0         NaN         1   \n",
       "3   225363  866.0  Ярославль      Ж  51.0       5  1524746.26         2   \n",
       "4   157978  730.0  Ярославль      М  34.0       5      174.00         1   \n",
       "\n",
       "   credit_card  last_activity  est_salary  churn  city_Ростов  city_Рыбинск   \n",
       "0            0              1    75719.14      1        False          True  \\\n",
       "1            1              0    86621.77      0        False          True   \n",
       "2            1              1   107683.34      0        False          True   \n",
       "3            0              1   174423.53      1        False         False   \n",
       "4            1              0    67353.16      1        False         False   \n",
       "\n",
       "   city_Ярославль  gender_Ж  gender_М  \n",
       "0           False      True     False  \n",
       "1           False      True     False  \n",
       "2           False      True     False  \n",
       "3            True      True     False  \n",
       "4            True     False      True  "
      ]
     },
     "execution_count": 8,
     "metadata": {},
     "output_type": "execute_result"
    }
   ],
   "source": [
    "df = pd.concat([data,dd], sort=False, axis=1)\n",
    "df.head(5)"
   ]
  },
  {
   "cell_type": "code",
   "execution_count": null,
   "metadata": {
    "id": "CPFlyp1pCPOp",
    "outputId": "151d4eee-db76-4f6c-80a6-9a3fd1fb4d3e"
   },
   "outputs": [
    {
     "data": {
      "text/html": [
       "<div>\n",
       "<style scoped>\n",
       "    .dataframe tbody tr th:only-of-type {\n",
       "        vertical-align: middle;\n",
       "    }\n",
       "\n",
       "    .dataframe tbody tr th {\n",
       "        vertical-align: top;\n",
       "    }\n",
       "\n",
       "    .dataframe thead th {\n",
       "        text-align: right;\n",
       "    }\n",
       "</style>\n",
       "<table border=\"1\" class=\"dataframe\">\n",
       "  <thead>\n",
       "    <tr style=\"text-align: right;\">\n",
       "      <th></th>\n",
       "      <th>user_id</th>\n",
       "      <th>score</th>\n",
       "      <th>city</th>\n",
       "      <th>gender</th>\n",
       "      <th>age</th>\n",
       "      <th>equity</th>\n",
       "      <th>balance</th>\n",
       "      <th>products</th>\n",
       "      <th>credit_card</th>\n",
       "      <th>last_activity</th>\n",
       "      <th>est_salary</th>\n",
       "      <th>churn</th>\n",
       "      <th>city_Ростов</th>\n",
       "      <th>city_Рыбинск</th>\n",
       "      <th>city_Ярославль</th>\n",
       "      <th>gender_Ж</th>\n",
       "      <th>gender_М</th>\n",
       "    </tr>\n",
       "  </thead>\n",
       "  <tbody>\n",
       "    <tr>\n",
       "      <th>0</th>\n",
       "      <td>183012</td>\n",
       "      <td>850.0</td>\n",
       "      <td>Рыбинск</td>\n",
       "      <td>Ж</td>\n",
       "      <td>25.0</td>\n",
       "      <td>1</td>\n",
       "      <td>59.21482</td>\n",
       "      <td>2</td>\n",
       "      <td>0</td>\n",
       "      <td>1</td>\n",
       "      <td>75719.14</td>\n",
       "      <td>1</td>\n",
       "      <td>False</td>\n",
       "      <td>True</td>\n",
       "      <td>False</td>\n",
       "      <td>True</td>\n",
       "      <td>False</td>\n",
       "    </tr>\n",
       "    <tr>\n",
       "      <th>1</th>\n",
       "      <td>146556</td>\n",
       "      <td>861.0</td>\n",
       "      <td>Рыбинск</td>\n",
       "      <td>Ж</td>\n",
       "      <td>37.0</td>\n",
       "      <td>5</td>\n",
       "      <td>850.59433</td>\n",
       "      <td>3</td>\n",
       "      <td>1</td>\n",
       "      <td>0</td>\n",
       "      <td>86621.77</td>\n",
       "      <td>0</td>\n",
       "      <td>False</td>\n",
       "      <td>True</td>\n",
       "      <td>False</td>\n",
       "      <td>True</td>\n",
       "      <td>False</td>\n",
       "    </tr>\n",
       "    <tr>\n",
       "      <th>2</th>\n",
       "      <td>120722</td>\n",
       "      <td>892.0</td>\n",
       "      <td>Рыбинск</td>\n",
       "      <td>Ж</td>\n",
       "      <td>30.0</td>\n",
       "      <td>0</td>\n",
       "      <td>NaN</td>\n",
       "      <td>1</td>\n",
       "      <td>1</td>\n",
       "      <td>1</td>\n",
       "      <td>107683.34</td>\n",
       "      <td>0</td>\n",
       "      <td>False</td>\n",
       "      <td>True</td>\n",
       "      <td>False</td>\n",
       "      <td>True</td>\n",
       "      <td>False</td>\n",
       "    </tr>\n",
       "    <tr>\n",
       "      <th>3</th>\n",
       "      <td>225363</td>\n",
       "      <td>866.0</td>\n",
       "      <td>Ярославль</td>\n",
       "      <td>Ж</td>\n",
       "      <td>51.0</td>\n",
       "      <td>5</td>\n",
       "      <td>1524.74626</td>\n",
       "      <td>2</td>\n",
       "      <td>0</td>\n",
       "      <td>1</td>\n",
       "      <td>174423.53</td>\n",
       "      <td>1</td>\n",
       "      <td>False</td>\n",
       "      <td>False</td>\n",
       "      <td>True</td>\n",
       "      <td>True</td>\n",
       "      <td>False</td>\n",
       "    </tr>\n",
       "    <tr>\n",
       "      <th>4</th>\n",
       "      <td>157978</td>\n",
       "      <td>730.0</td>\n",
       "      <td>Ярославль</td>\n",
       "      <td>М</td>\n",
       "      <td>34.0</td>\n",
       "      <td>5</td>\n",
       "      <td>0.17400</td>\n",
       "      <td>1</td>\n",
       "      <td>1</td>\n",
       "      <td>0</td>\n",
       "      <td>67353.16</td>\n",
       "      <td>1</td>\n",
       "      <td>False</td>\n",
       "      <td>False</td>\n",
       "      <td>True</td>\n",
       "      <td>False</td>\n",
       "      <td>True</td>\n",
       "    </tr>\n",
       "  </tbody>\n",
       "</table>\n",
       "</div>"
      ],
      "text/plain": [
       "   user_id  score       city gender   age  equity     balance  products   \n",
       "0   183012  850.0    Рыбинск      Ж  25.0       1    59.21482         2  \\\n",
       "1   146556  861.0    Рыбинск      Ж  37.0       5   850.59433         3   \n",
       "2   120722  892.0    Рыбинск      Ж  30.0       0         NaN         1   \n",
       "3   225363  866.0  Ярославль      Ж  51.0       5  1524.74626         2   \n",
       "4   157978  730.0  Ярославль      М  34.0       5     0.17400         1   \n",
       "\n",
       "   credit_card  last_activity  est_salary  churn  city_Ростов  city_Рыбинск   \n",
       "0            0              1    75719.14      1        False          True  \\\n",
       "1            1              0    86621.77      0        False          True   \n",
       "2            1              1   107683.34      0        False          True   \n",
       "3            0              1   174423.53      1        False         False   \n",
       "4            1              0    67353.16      1        False         False   \n",
       "\n",
       "   city_Ярославль  gender_Ж  gender_М  \n",
       "0           False      True     False  \n",
       "1           False      True     False  \n",
       "2           False      True     False  \n",
       "3            True      True     False  \n",
       "4            True     False      True  "
      ]
     },
     "execution_count": 9,
     "metadata": {},
     "output_type": "execute_result"
    }
   ],
   "source": [
    "df['balance'] = df['balance']/1000\n",
    "df.head(5)"
   ]
  },
  {
   "cell_type": "markdown",
   "metadata": {
    "id": "G3uhUjXYCPOr"
   },
   "source": [
    "### Проверка на пропуски и дубликаты"
   ]
  },
  {
   "cell_type": "code",
   "execution_count": null,
   "metadata": {
    "id": "3_v7fbQYCPOs",
    "outputId": "d4faa4ef-42f0-44f4-c852-3648eac93d42"
   },
   "outputs": [
    {
     "name": "stdout",
     "output_type": "stream",
     "text": [
      "<class 'pandas.core.frame.DataFrame'>\n",
      "RangeIndex: 10000 entries, 0 to 9999\n",
      "Data columns (total 17 columns):\n",
      " #   Column          Non-Null Count  Dtype  \n",
      "---  ------          --------------  -----  \n",
      " 0   user_id         10000 non-null  int64  \n",
      " 1   score           10000 non-null  float64\n",
      " 2   city            10000 non-null  object \n",
      " 3   gender          10000 non-null  object \n",
      " 4   age             9974 non-null   float64\n",
      " 5   equity          10000 non-null  int64  \n",
      " 6   balance         7705 non-null   float64\n",
      " 7   products        10000 non-null  int64  \n",
      " 8   credit_card     10000 non-null  int64  \n",
      " 9   last_activity   10000 non-null  int64  \n",
      " 10  est_salary      10000 non-null  float64\n",
      " 11  churn           10000 non-null  int64  \n",
      " 12  city_Ростов     10000 non-null  bool   \n",
      " 13  city_Рыбинск    10000 non-null  bool   \n",
      " 14  city_Ярославль  10000 non-null  bool   \n",
      " 15  gender_Ж        10000 non-null  bool   \n",
      " 16  gender_М        10000 non-null  bool   \n",
      "dtypes: bool(5), float64(4), int64(6), object(2)\n",
      "memory usage: 986.5+ KB\n"
     ]
    },
    {
     "data": {
      "text/plain": [
       "None"
      ]
     },
     "metadata": {},
     "output_type": "display_data"
    },
    {
     "name": "stdout",
     "output_type": "stream",
     "text": [
      "Количество дубликатов 0\n",
      "Количество пропусков 2321\n"
     ]
    }
   ],
   "source": [
    "# проверим пропуски, дубликаты и тип данных\n",
    "display(df.info())\n",
    "print(f'Количество дубликатов {df.duplicated().sum()}')\n",
    "print(f'Количество пропусков {df.isnull().sum().sum()}')"
   ]
  },
  {
   "cell_type": "markdown",
   "metadata": {
    "id": "V9XWRPqvCPOu"
   },
   "source": [
    "Пропуски имеются в двух столбцах - возвраст и баланс. В возрасте всего 26 пропусков, на наши данные никак не повлияет, поэтому оставим без изменений. В столбце баланса счета, 23% пропусков, убрав строки или заменим их значением, можем исказить выборку, решение - оставим пропуски."
   ]
  },
  {
   "cell_type": "markdown",
   "metadata": {
    "id": "lgQ-4pDhCPOv"
   },
   "source": [
    "### Анализ пропусков"
   ]
  },
  {
   "cell_type": "markdown",
   "metadata": {
    "id": "mJ2OLx-3CPOy"
   },
   "source": [
    "MCAR - есть зависимость пропусков от определенной группы намерено, не приведет к искажениям\n",
    "\n",
    "MAR - есть зависимость пропусков от определенной группы внутри данных\n",
    "\n",
    "MNAR - есть зависимость пропусков от определенной группы вне нашей выборки"
   ]
  },
  {
   "cell_type": "markdown",
   "metadata": {
    "id": "WMmmCSDTCPOy"
   },
   "source": [
    "Есть два метода обнаружения недостающих данных: - isnull() и notnull().\n",
    "\n",
    "Результатом является логическое значение, указывающее, действительно ли значение, переданное в аргумент, отсутствует. «Истина» ( True ) означает, что значение является отсутствующим значением, а «Ложь» ( False ) означает, что значение не является отсутствующим."
   ]
  },
  {
   "cell_type": "code",
   "execution_count": 1,
   "metadata": {
    "collapsed": true,
    "id": "bv5StrrtCPOy",
    "outputId": "c9ec6d52-e6e0-4863-f324-f1070648e478"
   },
   "outputs": [
    {
     "ename": "NameError",
     "evalue": "name 'df' is not defined",
     "output_type": "error",
     "traceback": [
      "\u001b[0;31m---------------------------------------------------------------------------\u001b[0m",
      "\u001b[0;31mNameError\u001b[0m                                 Traceback (most recent call last)",
      "Cell \u001b[0;32mIn[1], line 1\u001b[0m\n\u001b[0;32m----> 1\u001b[0m \u001b[43mdf\u001b[49m\u001b[38;5;241m.\u001b[39mgroupby(df[\u001b[38;5;124m'\u001b[39m\u001b[38;5;124mage\u001b[39m\u001b[38;5;124m'\u001b[39m]\u001b[38;5;241m.\u001b[39misnull())\u001b[38;5;241m.\u001b[39mmean()\n\u001b[1;32m      2\u001b[0m df\u001b[38;5;241m.\u001b[39mgroupby(df[\u001b[38;5;124m'\u001b[39m\u001b[38;5;124mbalance\u001b[39m\u001b[38;5;124m'\u001b[39m]\u001b[38;5;241m.\u001b[39misnull())\u001b[38;5;241m.\u001b[39mmean()\n",
      "\u001b[0;31mNameError\u001b[0m: name 'df' is not defined"
     ]
    }
   ],
   "source": [
    "df.groupby(df['age'].isnull()).mean()\n",
    "df.groupby(df['balance'].isnull()).mean()"
   ]
  },
  {
   "cell_type": "markdown",
   "metadata": {
    "id": "eBXt58rYCPOz"
   },
   "source": [
    "Для более детального анализа, создадим новую колонку `age_NaN` и `balance_NaN`. \n",
    "\n",
    "Используем метод `where()`, где прописываем условие: если значение в колонке отсутствует, то присваиваем в колонке значение 0, если присутствует, то 1."
   ]
  },
  {
   "cell_type": "code",
   "execution_count": null,
   "metadata": {
    "id": "oZFcsPDZCPO1"
   },
   "outputs": [],
   "source": [
    "df['age_NaN'] = np.where(df['age'].isnull(), 0,1)\n",
    "df.head()"
   ]
  },
  {
   "cell_type": "code",
   "execution_count": null,
   "metadata": {
    "id": "D37EvoH4CPO2"
   },
   "outputs": [],
   "source": []
  },
  {
   "cell_type": "code",
   "execution_count": null,
   "metadata": {
    "id": "DOJMb0i3CPO3"
   },
   "outputs": [],
   "source": [
    "df['balance_NaN'] = np.where(df['balance'].isnull(), 0,1)\n",
    "df.head()"
   ]
  },
  {
   "cell_type": "code",
   "execution_count": null,
   "metadata": {
    "id": "YAV9gYmpCPO3"
   },
   "outputs": [],
   "source": [
    "print(df.groupby(['age_NaN']) ['churn'].value_counts(normalize=True))\n",
    "print(df.groupby(['balance_NaN']) ['churn'].value_counts(normalize=True))"
   ]
  },
  {
   "cell_type": "markdown",
   "metadata": {
    "id": "RLf6EFfiCPO3"
   },
   "source": [
    "Очень низкий процент клиентов собирающихся уходить с пропусками в колонках возраста и баланса - 0,03% и 0,005%. "
   ]
  },
  {
   "cell_type": "code",
   "execution_count": null,
   "metadata": {
    "id": "zetRbHgaCPO3"
   },
   "outputs": [],
   "source": [
    "plt.figure(figsize=(7,5))\n",
    "sns.heatmap(df.corr().loc[:,['age_NaN']].drop('age_NaN').sort_values('age_NaN'), annot=True, fmt= '.0%', cmap='Blues', center=0)\n",
    "plt.show()"
   ]
  },
  {
   "cell_type": "markdown",
   "metadata": {
    "id": "Wd5ysBroCPO3"
   },
   "source": [
    "Нет явной зависимости пропущенных значений в колонке возраст от других данных выборки"
   ]
  },
  {
   "cell_type": "code",
   "execution_count": null,
   "metadata": {
    "id": "Y0cBv5zcCPO3"
   },
   "outputs": [],
   "source": [
    "plt.figure(figsize=(7,5))\n",
    "sns.heatmap(df.corr().loc[:,['balance_NaN']].drop('balance_NaN').sort_values('balance_NaN'), annot=True, fmt= '.0%', cmap='Blues', center=0)\n",
    "plt.show()"
   ]
  },
  {
   "cell_type": "markdown",
   "metadata": {
    "id": "j6EXHCiMCPO6"
   },
   "source": [
    "<div style=\"border: solid bisque 2px; padding: 20px; font-size: 16px;\">\n",
    "\n",
    "**Вывод по анализу пропущенных значений**\n",
    "\n",
    "**Возраст**\n",
    "* Всего 26 клиентов имеют пропуск в столбце возраст\n",
    "* Нет явной зависимости пропущенных значений в колонке возраст от других данных выборки\n",
    "\n",
    "**Баланс**\n",
    "\n",
    "* Большинство клиентов с пропускми в балансе являются действющими клиентами\n",
    "* Имеют 1-2 продукта\n",
    "* Один из продуктов скорее всего кредитная карта (81,5% имеют кредитную карту) \n",
    "* По оценке банка не имеют объектов собственности\n",
    "    \n",
    "Зависимости \"все пропуски относятся к ушедшим клиентам\" нет, пропуски в балансе есть и у действующих клиентов.\n",
    "    \n",
    "\n",
    "Для клиентов, имеющих единственный продукт, которым является кредитная карта, нулевой остаток может считаться допустимым явлением, либо влияет специфика продукта, например страховка, однако однозначный ответ мы дать не можем.\n",
    "\n",
    "Отсутствие у клиента объектов собственности по оценке банка может свидетельствовать о недостатке информации у банка о клиенте. Вместе с этим, модель оценки может учитывать информацию о балансе на счете клиента. Отсутствие информации о балансе в выгрузке могло привести к некорректной работе модели и, как следствие, к нулевой оценке.\n",
    "____\n",
    "\n",
    "Исходя из полученной аналитики касательно пропусков баланса, можно сделать вывод, что это категория пропусков **MNAR (Missing Not At Random / Отсутствует не случайно)** — пропуски зависят от данных, которых нет в нашем датасете, без дополнительного обоснования их нельзя отбрасывать или заполнять одним значением, т.к. это приведёт к заметным искажениям.\n",
    "___\n",
    "\n",
    "</div>"
   ]
  },
  {
   "cell_type": "markdown",
   "metadata": {
    "id": "qEcHqGWsCPO7"
   },
   "source": [
    "## Исследовательский анализ"
   ]
  },
  {
   "cell_type": "markdown",
   "metadata": {
    "id": "v4T54qOgCPO7"
   },
   "source": [
    "### Исследование портрета клиента"
   ]
  },
  {
   "cell_type": "code",
   "execution_count": null,
   "metadata": {
    "id": "VPzyg0bQCPO-"
   },
   "outputs": [],
   "source": [
    "# посмотрим на распределения значений\n",
    "display(df.describe(percentiles=[1/2, 0.95]))"
   ]
  },
  {
   "cell_type": "markdown",
   "metadata": {
    "id": "V_K1NljMCPO-"
   },
   "source": [
    "**По таблице мы уже можем выделить несколько выводов о данных**\n",
    "\n",
    "* Максимальные баллы кредитного скоринга 1000, минимальный балл в выборке 642\n",
    "* Возраст - от 18 до 86 лет\n",
    "* Приблизительная оценка стоимости - от 0 до 9\n",
    "* Количество продуктов - от 0 до 5\n",
    "\n",
    "Другие столбцы отвечают на вопрос да или нет\n",
    "\n",
    "0 - нет (Прим. нет кредитной карты)\n",
    "\n",
    "1- да (Прим. да уходит из банка)"
   ]
  },
  {
   "cell_type": "code",
   "execution_count": null,
   "metadata": {
    "id": "QKF5L3hFCPO_"
   },
   "outputs": [],
   "source": [
    "df.groupby('churn').describe(include='all') "
   ]
  },
  {
   "cell_type": "markdown",
   "metadata": {
    "id": "6tFTdbgcCPO_"
   },
   "source": [
    "В данных есть выбросы, поэтому мы будем смотреть характеристики отточных и неотточных пользователей по медиане, также посмотрим минимальные и максимальные значения данных"
   ]
  },
  {
   "cell_type": "code",
   "execution_count": null,
   "metadata": {
    "id": "PQCQT3TfCPO_"
   },
   "outputs": [],
   "source": [
    "pd.pivot_table(df,\n",
    "               index=[\"churn\"],\n",
    "               aggfunc=[np.median])"
   ]
  },
  {
   "cell_type": "code",
   "execution_count": null,
   "metadata": {
    "id": "8YFILAbPCPO_"
   },
   "outputs": [],
   "source": [
    "pd.pivot_table(df,\n",
    "               index=[\"churn\"],\n",
    "               aggfunc=[min])"
   ]
  },
  {
   "cell_type": "code",
   "execution_count": null,
   "metadata": {
    "id": "wfD7S_seCPPC"
   },
   "outputs": [],
   "source": [
    "pd.pivot_table(df,\n",
    "               index=[\"churn\"],\n",
    "               aggfunc=[max])"
   ]
  },
  {
   "cell_type": "markdown",
   "metadata": {
    "id": "JjbmkeYBCPPC"
   },
   "source": [
    "<div style=\"border: solid bisque 2px; padding: 20px; font-size: 16px;\">\n",
    "\n",
    "**Характеристики отточных и неотточных пользователей**\n",
    "\n",
    "Пользователь оттока\n",
    "\n",
    "* Медиана среднего возраста 39 лет, минимальный - 18, максимальный - 79\n",
    "* Медиана оценки собственности - 4\n",
    "* Заработная плата - 125 тыс., мин - 10тыс., макс - 1286 тыс.\n",
    "* Оценка скоринга - 866, мин - 706, макс - 1000\n",
    "* В основном имеет кредитную карту\n",
    "* Количество продуктов - 2\n",
    "* Баланс на карте - 782 тыс.\n",
    "\n",
    "Неотточный пользователь\n",
    "\n",
    "* Медиана среднего возраста 40 лет, минимальный - 18, максимальный - 86\n",
    "* Медиана оценки собственности - 3\n",
    "* Заработная плата - 125 тыс., мин - 2 тыс., макс - 1396 тыс.\n",
    "* Оценка скоринга - 866, мин - 642, макс - 1000\n",
    "* В основном имеет кредитную карту\n",
    "* Количество продуктов - 2\n",
    "* Баланс на карте - 475 тыс.\n",
    "\n",
    "\n",
    "</div>"
   ]
  },
  {
   "cell_type": "code",
   "execution_count": null,
   "metadata": {
    "id": "h7eExgivCPPC"
   },
   "outputs": [],
   "source": [
    "#посмотрим какие столбцы относятся к бинарным и небинарным \n",
    "bi = []\n",
    "nonbi = []\n",
    "for col in df.columns.values:\n",
    "    if df[col].max() == 1:\n",
    "        bi.append(col)\n",
    "    else:\n",
    "        nonbi.append(col)\n",
    "print(bi)\n",
    "print(nonbi)"
   ]
  },
  {
   "cell_type": "markdown",
   "metadata": {
    "id": "VBi5aK9HCPPC"
   },
   "source": [
    "Столбец `churn` - уходит клиент из банка или нет, это основной показатель для нашего анализа. Посмотрим сколько всего клиентов остаются или уходят"
   ]
  },
  {
   "cell_type": "code",
   "execution_count": null,
   "metadata": {
    "id": "ch-UOSmLCPPC"
   },
   "outputs": [],
   "source": [
    "df['churn'].value_counts()"
   ]
  },
  {
   "cell_type": "markdown",
   "metadata": {
    "id": "S_Jinc_tCPPD"
   },
   "source": [
    "Из 10000 пользователей, 1820 собираются уходить из банка"
   ]
  },
  {
   "cell_type": "code",
   "execution_count": null,
   "metadata": {
    "id": "UqVzwC9BCPPD",
    "scrolled": false
   },
   "outputs": [],
   "source": [
    " # визуализируем отличия бинарных признаков\n",
    "for col in bi:\n",
    "    plt.figure(figsize=(8, 7))\n",
    "    sns.histplot(x=col, data=df, hue='churn', multiple='stack')\n",
    "    plt.xlabel(col)\n",
    "    plt.ylabel('Количество клиентов')\n",
    "    plt.show()"
   ]
  },
  {
   "cell_type": "code",
   "execution_count": null,
   "metadata": {
    "id": "Wdv6h_MgCPPD",
    "scrolled": false
   },
   "outputs": [],
   "source": [
    " # визуализируем отличия не бинарных признаков\n",
    "for col in nonbi:\n",
    "    plt.figure(figsize=(15, 7))\n",
    "    sns.histplot(x=col, data=df, hue='churn', multiple='stack')\n",
    "    plt.xlabel(col)\n",
    "    plt.ylabel('Количество клиентов')\n",
    "    plt.show()"
   ]
  },
  {
   "cell_type": "markdown",
   "metadata": {
    "id": "SIV5jMplCPPD"
   },
   "source": [
    "#### Зависимость от местоположения"
   ]
  },
  {
   "cell_type": "markdown",
   "metadata": {
    "id": "blCsxGDDCPPE"
   },
   "source": [
    "Посмотрим какое количество клиентов хочет уйти в разных городах"
   ]
  },
  {
   "cell_type": "code",
   "execution_count": null,
   "metadata": {
    "id": "NbZv12HICPPE"
   },
   "outputs": [],
   "source": [
    "def pivot(df, index):\n",
    "    \n",
    "    pivot = df.pivot_table(index = index, values = 'churn', aggfunc = ['count', 'sum', 'mean']).reset_index()\n",
    "    pivot.columns = [index, 'Кол-во клиентов', 'Кол-во уходящих', 'Уровень оттока']\n",
    "    display(pivot.sort_values('Уровень оттока', ascending = False))\n",
    "    \n",
    "    \n",
    "    \n",
    "    fig = px.bar(pivot, x = index, y = 'Уровень оттока', color = 'Уровень оттока', title = 'Уровень оттока ' + index)\n",
    "    fig.show()\n",
    "    \n",
    "\n",
    "pivot(df, 'city')"
   ]
  },
  {
   "cell_type": "markdown",
   "metadata": {
    "id": "YRUaSH-cCPPE"
   },
   "source": [
    "В выборке имеем 3 города это - Ростов, Рыбинск и Ярославь.\n",
    "\n",
    "* В Рыбинске самый низкий показатель отточных клиентов\n",
    "* Ярославь и Ростов примерно на одном уровне, при этом, количество клиентов в Ярославе в 2 раза больше, чем в Ростове\n",
    "\n",
    "Для анализа будет релевантно брать клиентов в городах с наивысшим уровнем оттока"
   ]
  },
  {
   "cell_type": "markdown",
   "metadata": {
    "id": "RL9W2qFrCPPE"
   },
   "source": [
    "#### Зависимость от пола"
   ]
  },
  {
   "cell_type": "code",
   "execution_count": null,
   "metadata": {
    "id": "ppDaTknICPPH"
   },
   "outputs": [],
   "source": [
    "# посмотрим какой процент пользователей более отточные в зависимости от пола\n",
    "pivot(df, 'gender')"
   ]
  },
  {
   "cell_type": "markdown",
   "metadata": {
    "id": "WAgf0vPqCPPI"
   },
   "source": [
    "Процент оттока мужчин выше - 24%, чем женщин - 13%"
   ]
  },
  {
   "cell_type": "markdown",
   "metadata": {
    "id": "f1vwdwW5CPPI"
   },
   "source": [
    "#### Возраст отточных клиентов"
   ]
  },
  {
   "cell_type": "code",
   "execution_count": null,
   "metadata": {
    "id": "jZsmOFiPCPPI"
   },
   "outputs": [],
   "source": [
    "pivot(df, 'age')"
   ]
  },
  {
   "cell_type": "markdown",
   "metadata": {
    "id": "ouDO4YbQCPPI"
   },
   "source": [
    "**Высокий процент оттока в зависимости от возраста:**\n",
    "\n",
    "* 21 год - скорее всего студенты\n",
    "* от 25 до 29 лет - категория взрослого работающего населения\n",
    "* от 51 до 60 - предпенсионного возраста"
   ]
  },
  {
   "cell_type": "markdown",
   "metadata": {
    "id": "jg3Vir9YCPPI"
   },
   "source": [
    "Количество пользователей от 65 лет, составляет 5% от выборки, такие пользователи уже не планируют менять свой банк, а скачок на 79 годах можем считать выбросом. Посмотрим еще влияние балла кредитного скоринга и количество продуктов на оценочную заработную плату клиента."
   ]
  },
  {
   "cell_type": "markdown",
   "metadata": {
    "id": "N0677q_aCPPI"
   },
   "source": [
    "**Какие данные будем изучать в зависимости от оттока**\n",
    "\n",
    "* credit_card - влияет ли наличие кредитной карты\n",
    "* equity - влияет ли оценка собтсвеннности\n",
    "* est_salary - влияет ли заработная плата пользователей\n",
    "* last_activity - был ли клиент активен последний месяц\n",
    "* products - влияет ли количество продуктов пользователей\n",
    "* score - влияет ли балл кредитного скоринга\n",
    "* age - какой возраст отточных клиентов\n",
    "* city - в каком городе наиболее высокий уровень оттока\n",
    "* balance - текущий баланс клиента \n",
    "\n",
    "**Не влияет на анализ оттока**\n",
    "\n",
    "* user_id - уникальный номер клиента не влияет на аналих"
   ]
  },
  {
   "cell_type": "markdown",
   "metadata": {
    "id": "nIIIsIl2CPPt"
   },
   "source": [
    "Посмотрим подробнее показатели отточных клиентов"
   ]
  },
  {
   "cell_type": "code",
   "execution_count": null,
   "metadata": {
    "id": "PpuXCVepCPPu"
   },
   "outputs": [],
   "source": [
    "#уходят\n",
    "leave = df.query('churn == 1')\n",
    "leave"
   ]
  },
  {
   "cell_type": "markdown",
   "metadata": {
    "id": "VKjtkh1eCPQL"
   },
   "source": [
    "Всего 1820 клиентов собираются закрыть свой счет"
   ]
  },
  {
   "cell_type": "markdown",
   "metadata": {
    "id": "MkLglyEDCPQL"
   },
   "source": [
    "#### Влияние балла кредитного скоринга на оценочную заработную плату клиента"
   ]
  },
  {
   "cell_type": "code",
   "execution_count": null,
   "metadata": {
    "id": "3-ZqPBGsCPQL",
    "scrolled": false
   },
   "outputs": [],
   "source": [
    "def pivot2(df, index):\n",
    "    pivot2 = df.pivot_table(index = index, values = 'est_salary', aggfunc = ['count','mean']).reset_index()\n",
    "    pivot2.columns = [index, 'Кол-во значений', 'Среднее значение']\n",
    "    display(pivot2.sort_values('Среднее значение', ascending = False))\n",
    "    fig = px.scatter(df, x= index, y=\"est_salary\", color=\"churn\")\n",
    "    fig.show()\n",
    "pivot2(df, 'score')"
   ]
  },
  {
   "cell_type": "markdown",
   "metadata": {
    "id": "tiRzgMkLCPQL"
   },
   "source": [
    "* Наиболее плотное распределение у клиентов с баллам от 750 до 950.\n",
    "* У VIP сегмента плотность в разрезе 700 - 800 и 900 - 1000\n",
    "* Высокий уровень оттока у клиентов с зарплатой в диапозоне от 75 до 200 тыс.\n",
    "\n",
    "VIP сегмент наиболее важен для банков, их стоит посмотреть отдельно"
   ]
  },
  {
   "cell_type": "code",
   "execution_count": null,
   "metadata": {
    "id": "f9fKo_ZMCPQL"
   },
   "outputs": [],
   "source": [
    "fig, ax = plt.subplots(figsize=(15, 7))\n",
    "ax.hist(df[df['churn'] == 0]['score'], bins=40, density=True, alpha=0.5, color='red', label = 'churn' + \"0\")\n",
    "ax.hist(df[df['churn'] == 1]['score'], bins=40, density=True, alpha=0.5, color='yellow', label = 'churn' + \"1\")\n",
    "plt.title('Влияние оттока на оценку скоринга пользователей')\n",
    "plt.xlabel('Оценка скоринга')\n",
    "plt.ylabel('Количество пользователей')\n",
    "plt.legend()\n",
    "plt.show()"
   ]
  },
  {
   "cell_type": "markdown",
   "metadata": {
    "id": "M3dy9kXqCPQM"
   },
   "source": [
    "#### Влияние количества продуктов на оценочную заработную плату клиента"
   ]
  },
  {
   "cell_type": "code",
   "execution_count": null,
   "metadata": {
    "id": "es7qHjUSCPQM",
    "scrolled": false
   },
   "outputs": [],
   "source": [
    "pivot(df, 'products')"
   ]
  },
  {
   "cell_type": "markdown",
   "metadata": {
    "id": "U2AhIpDzCPQN"
   },
   "source": [
    "* 63% пользователей имеющих 4 продукта привержены оттоку\n",
    "* Несмотря на небольшой процент оттока у клиентов имеющих 1 продукт (20%), таких клиентов 969, их можно определить в отдельный сегмент\n",
    "* Большая плотность у пользователей имеющих 3 и 5 продуктов, но таких клиентов всего 302 человек\n",
    "* Всего 601 пользователей, у которых от 3-х продуктов хотят покинуть банк\n"
   ]
  },
  {
   "cell_type": "markdown",
   "metadata": {
    "id": "1wb7KU08CPQN"
   },
   "source": [
    "#### Влияние оценки собственности на отток клиентов"
   ]
  },
  {
   "cell_type": "code",
   "execution_count": null,
   "metadata": {
    "id": "4decfo1ICPQN"
   },
   "outputs": [],
   "source": [
    "pivot(df, 'equity')"
   ]
  },
  {
   "cell_type": "markdown",
   "metadata": {
    "id": "Rjl1CGadCPQN"
   },
   "source": [
    "* По графику видим, что чем больше оценка собственности, тем выше уровень оттока\n",
    "* Самый высокий уровень от 6 до 9"
   ]
  },
  {
   "cell_type": "markdown",
   "metadata": {
    "id": "z4AvzQStCPQN"
   },
   "source": [
    "#### Распределение баланса в зависимости от оттока"
   ]
  },
  {
   "cell_type": "code",
   "execution_count": null,
   "metadata": {
    "id": "FbrFHfKWCPQS"
   },
   "outputs": [],
   "source": [
    "df = df[(df.balance <= 10000)]"
   ]
  },
  {
   "cell_type": "code",
   "execution_count": null,
   "metadata": {
    "id": "SSXVsjWDCPQV",
    "scrolled": false
   },
   "outputs": [],
   "source": [
    "fig = px.scatter(df, y= 'balance', color=\"churn\", opacity = .3)\n",
    "fig.show()"
   ]
  },
  {
   "cell_type": "markdown",
   "metadata": {
    "id": "D-V5HiyaCPQV"
   },
   "source": [
    "Баланс равновмерно распределен по всей выборке, нет явной зависимости оттока. Посмотрим на другом графике"
   ]
  },
  {
   "cell_type": "code",
   "execution_count": null,
   "metadata": {
    "id": "sONHdIiECPQV"
   },
   "outputs": [],
   "source": [
    "fig, ax = plt.subplots(figsize=(15, 7))\n",
    "ax.hist(df[df['churn'] == 0]['balance'], bins=40, density=True, alpha=0.5, color='red', label = 'churn' + \"0\")\n",
    "ax.hist(df[df['churn'] == 1]['balance'], bins=40, density=True, alpha=0.5, color='yellow', label = 'churn' + \"1\")\n",
    "plt.title('Влияние оттока на баланс пользователей')\n",
    "plt.xlabel('Баланс пользователей')\n",
    "plt.ylabel('Количество пользователей')\n",
    "plt.legend()\n",
    "plt.show()"
   ]
  },
  {
   "cell_type": "markdown",
   "metadata": {
    "id": "X0R3sZjICPQV"
   },
   "source": [
    "На втором графике видно, что пользователи с балансом от 1 млн. более привержены оттоку"
   ]
  },
  {
   "cell_type": "code",
   "execution_count": null,
   "metadata": {
    "id": "xjS2YsoICPQV"
   },
   "outputs": [],
   "source": [
    "df.query('churn == 1 and balance > 1000').sort_values(by = 'balance', ascending=False)"
   ]
  },
  {
   "cell_type": "code",
   "execution_count": null,
   "metadata": {
    "id": "HHAhwDANCPQV"
   },
   "outputs": [],
   "source": [
    "df.query('balance > 1000').agg({\"churn\":[\"count\",\"sum\",\"mean\"]})"
   ]
  },
  {
   "cell_type": "markdown",
   "metadata": {
    "id": "X6WG7VoFCPQW"
   },
   "source": [
    "Всего таких клиентов клиентов приверженных оттоку 711, это 38% в сегменте, мы возьмем более объемную выборку"
   ]
  },
  {
   "cell_type": "code",
   "execution_count": null,
   "metadata": {
    "id": "N7aE5aKdCPQW"
   },
   "outputs": [],
   "source": [
    "#sns.histplot(data=df,\n",
    "    #hue=\"churn\",\n",
    "    #x=\"balance\",\n",
    "    #stat=\"density\",\n",
    "    #common_norm=False,\n",
    "    #palette=\"flag\"\n",
    "#);"
   ]
  },
  {
   "cell_type": "markdown",
   "metadata": {
    "id": "D8BgWO5qCPQW"
   },
   "source": [
    "####  Заработная плата клиентов "
   ]
  },
  {
   "cell_type": "code",
   "execution_count": null,
   "metadata": {
    "id": "2wjlkriCCPQW"
   },
   "outputs": [],
   "source": [
    "fig, ax = plt.subplots(figsize=(15, 7))\n",
    "ax.hist(df[df['churn'] == 0]['est_salary'], bins=40, density=True, alpha=0.5, color='red', label = 'churn' + \"0\")\n",
    "ax.hist(df[df['churn'] == 1]['est_salary'], bins=40, density=True, alpha=0.5, color='yellow', label = 'churn' + \"1\")\n",
    "plt.title('Влияние оттока на зарплату пользователей')\n",
    "plt.xlabel('Заработная плата пользователей')\n",
    "plt.ylabel('Количество пользователей')\n",
    "plt.legend()\n",
    "plt.show()"
   ]
  },
  {
   "cell_type": "markdown",
   "metadata": {
    "id": "DsqYWKQSCPQW"
   },
   "source": [
    "Наиболее плотное распределение отока от 75 тыс. до 200 тыс."
   ]
  },
  {
   "cell_type": "markdown",
   "metadata": {
    "id": "zJWbXctHCPQW"
   },
   "source": [
    "### Отточные клиенты"
   ]
  },
  {
   "cell_type": "markdown",
   "metadata": {
    "id": "-KJnKSqMCPQW"
   },
   "source": [
    "#### Какой процент отточных клиентов имеет кредитную карту"
   ]
  },
  {
   "cell_type": "code",
   "execution_count": null,
   "metadata": {
    "id": "n5aU-IhjCPQW"
   },
   "outputs": [],
   "source": [
    "leave_group = leave.groupby('credit_card')['user_id'].count().sort_values(ascending=False).reset_index()\n",
    "leave_group"
   ]
  },
  {
   "cell_type": "code",
   "execution_count": null,
   "metadata": {
    "id": "_qzB8TNSCPQW"
   },
   "outputs": [],
   "source": [
    "name_rest = ['Есть кредитная карта', 'Нет кредитной карты']\n",
    "values = [817, 1003]\n",
    "''\n",
    "fig = go.Figure(data=[go.Pie(labels=name_rest, values=values, title = 'Какой процент отточных клиентов имеет кредитную карту')])\n",
    "fig.show()"
   ]
  },
  {
   "cell_type": "markdown",
   "metadata": {
    "id": "5h_x0yKaCPQW"
   },
   "source": [
    "#### Какой процент клиентов были активны последний месяц"
   ]
  },
  {
   "cell_type": "code",
   "execution_count": null,
   "metadata": {
    "id": "s0gM-UC7CPQW"
   },
   "outputs": [],
   "source": [
    "last_group = leave.groupby('last_activity')['user_id'].count().sort_values(ascending=False).reset_index()\n",
    "last_group"
   ]
  },
  {
   "cell_type": "code",
   "execution_count": null,
   "metadata": {
    "id": "rU2_BGDmCPQX"
   },
   "outputs": [],
   "source": [
    "name_rest = ['Активные', 'Не активные']\n",
    "values = [542, 1278]\n",
    "''\n",
    "fig = go.Figure(data=[go.Pie(labels=name_rest, values=values, title = 'Какой процент клиентов были активны последний месяц')])\n",
    "fig.show()"
   ]
  },
  {
   "cell_type": "markdown",
   "metadata": {
    "id": "QpCF4-WfCPQX"
   },
   "source": [
    "70% отточных клиентов не были активны последний месяц"
   ]
  },
  {
   "cell_type": "markdown",
   "metadata": {
    "id": "GmgPbR1DCPQX"
   },
   "source": [
    "### Неотточные клиенты"
   ]
  },
  {
   "cell_type": "code",
   "execution_count": null,
   "metadata": {
    "id": "i26owR32CPQe"
   },
   "outputs": [],
   "source": [
    "#не уходят\n",
    "dont_leave = df.query('churn == 0')\n",
    "dont_leave"
   ]
  },
  {
   "cell_type": "markdown",
   "metadata": {
    "id": "ktzNPoyHCPQf"
   },
   "source": [
    "8180 клиентов продолжают пользоваться услугами Метанпромбанка"
   ]
  },
  {
   "cell_type": "markdown",
   "metadata": {
    "id": "fyMP-3CYCPQg"
   },
   "source": [
    "#### Какой процент неотточных клиентов имеет кредитную карту"
   ]
  },
  {
   "cell_type": "code",
   "execution_count": null,
   "metadata": {
    "id": "Ok31n4dOCPQi"
   },
   "outputs": [],
   "source": [
    "n_group = dont_leave.groupby('credit_card')['user_id'].count().sort_values(ascending=False).reset_index()\n",
    "n_group"
   ]
  },
  {
   "cell_type": "code",
   "execution_count": null,
   "metadata": {
    "id": "FPpAGGerCPQk"
   },
   "outputs": [],
   "source": [
    "name_rest = ['Есть кредитная карта', 'Нет кредитной карты']\n",
    "values = [2379, 5801]\n",
    "''\n",
    "fig = go.Figure(data=[go.Pie(labels=name_rest, values=values, title = 'Какой процент неотточных клиентов имеет кредитную карту')])\n",
    "fig.show()"
   ]
  },
  {
   "cell_type": "markdown",
   "metadata": {
    "id": "x_bDALTtCPQl"
   },
   "source": [
    "#### Какой процент неотточных клиентов были активны последний месяц"
   ]
  },
  {
   "cell_type": "code",
   "execution_count": null,
   "metadata": {
    "id": "eRka8yJKCPQs"
   },
   "outputs": [],
   "source": [
    "k_group = dont_leave.groupby('last_activity')['user_id'].count().sort_values(ascending=False).reset_index()\n",
    "k_group"
   ]
  },
  {
   "cell_type": "code",
   "execution_count": null,
   "metadata": {
    "id": "9oJH6-3CCPQx"
   },
   "outputs": [],
   "source": [
    "name_rest = ['Активные', 'Не активные']\n",
    "values = [3957, 4223]\n",
    "''\n",
    "fig = go.Figure(data=[go.Pie(labels=name_rest, values=values, title = 'Какой процент клиентов были активны последний месяц')])\n",
    "fig.show()"
   ]
  },
  {
   "cell_type": "markdown",
   "metadata": {
    "id": "rsYMGmanCPQx"
   },
   "source": [
    "### Вывод по разделу"
   ]
  },
  {
   "cell_type": "markdown",
   "metadata": {
    "id": "Yr4COrXUCPQx"
   },
   "source": [
    "<div style=\"border: solid bisque 2px; padding: 20px; font-size: 16px;\">\n",
    "\n",
    "**Различие отточных и неотточных пользователей**\n",
    "\n",
    "* Больше всего отточных клиентов в Ярославле и Ростове\n",
    "\n",
    "* Процент оттока мужчин выше - 24%, чем женщин - 13%\n",
    "\n",
    "* 25-29 и 51-60 возрастные категории отточных клиентов с наибольшим количеством\n",
    "\n",
    "* Процент отточных клиентов имеет кредитную карту - 45%, неотточных - 30%\n",
    "\n",
    "* Процент неотточных клиентов были активны последний месяц - 30%, неотточных - 48%\n",
    "\n",
    "* Наиболее плотное распределение оттока у клиентов с баллами оценки кредитного скоринга от 750 до 950.\n",
    "    \n",
    "* Несмотря на небольшой процент оттока у клиентов имеющих 1 продукт (20%), таких клиентов 969, их можно определить в отдельный сегмент\n",
    "* Всего 601 пользователей, у которых от 3-х продуктов хотят покинуть банк\n",
    "    \n",
    "* При зарплате от 75 тыс. до 200 тыс. высокий отток клиентов\n",
    "\n",
    "</div>"
   ]
  },
  {
   "cell_type": "markdown",
   "metadata": {
    "id": "YH5dm3bPCPQy"
   },
   "source": [
    "### Корреляционный анализ"
   ]
  },
  {
   "cell_type": "markdown",
   "metadata": {
    "id": "ywLpRb_DCPQy"
   },
   "source": [
    "Взаимосвязь двух или нескольких величин называется «корреляция».   \n",
    "\n",
    "Чтобы оценить численно, насколько тесна взаимосвязь находят **коэффициент корреляции Пирсона**. Он помогает определить наличие линейной связи между величинами и принимает значения от -1 до 1. \n",
    "\n",
    "* Если с ростом первой величины растёт вторая, то коэффициент корреляции Пирсона — положительный.\n",
    "* Если при изменении одной величины другая остаётся прежней, то коэффициент равен 0.\n",
    "* Если рост одной величины связан с уменьшением другой, коэффициент отрицательный.\n",
    "\n",
    "Чем ближе коэффициент корреляции Пирсона к крайним значениям 1 или -1, тем теснее линейная взаимосвязь. Если значение близко к нулю, значит, линейная связь слабая либо отсутствует вовсе. Бывает, что коэффициент нулевой не потому, что связи между значениями нет, а из-за того, что у неё более сложный, не линейный характер. Потому-то коэффициент корреляции такую связь не берёт.\n",
    "\n",
    "Коэффициент Пирсона находят методом corr() (от англ. correlation — «корреляция»). Метод применяют к столбцу с первой величиной, а столбец со второй передают в параметре. Какая первая, а какая вторая — неважно.\n",
    "\n",
    "Построим матрицу корреляции нашей выборки"
   ]
  },
  {
   "cell_type": "code",
   "execution_count": null,
   "metadata": {
    "id": "SG0QRmryCPQz"
   },
   "outputs": [],
   "source": [
    "# матрица корреляций\n",
    "plt.figure(figsize=(18, 10))\n",
    "sns.heatmap(df.corr(), annot=True, cmap='YlOrBr', cbar=False, robust=True, linewidths=.2, fmt= '.0%')\n",
    "plt.show()"
   ]
  },
  {
   "cell_type": "code",
   "execution_count": null,
   "metadata": {
    "id": "tcLdY8e0CPQz"
   },
   "outputs": [],
   "source": [
    "#для презентации\n",
    "plt.figure(figsize=(7,5))\n",
    "sns.heatmap(df.corr().loc[:,['churn']].drop('churn').sort_values('churn'), annot=True, fmt= '.0%', cmap='YlOrBr', center=0)\n",
    "plt.show()"
   ]
  },
  {
   "cell_type": "markdown",
   "metadata": {
    "id": "D5Qiq1VvCPQz"
   },
   "source": [
    "**По матрице корреляции мы видим несколько основных взаимосвязей**\n",
    "\n",
    "* Наличие кредитной карты имеет обратную зависимость 13%. Чем больше кредитных карт, тем меньше отток клиентов\n",
    "* При этом, чем больше продуктов, тем выше вероятность оттока\n",
    "* По возрасту проходит обратная слабая связь, из общей выборки, мы имеем небольшое количество возрастных категорий, которые наиболее подвережены оттоку\n",
    "* Кредитный рейтинг слабо влияет на отток клиентов - 11%\n",
    "* Активность клиентов последний месяц и оценка собственности имеют высокую корреляцию 17% и 27%"
   ]
  },
  {
   "cell_type": "markdown",
   "metadata": {
    "id": "zJLY_9XjCPQz"
   },
   "source": [
    "## Статистический анализ"
   ]
  },
  {
   "cell_type": "markdown",
   "metadata": {
    "id": "IGIpmXzeCPQz"
   },
   "source": [
    "<div class=\"alert alert-warning\"><b>Комментарий ревьюера 0</b>&nbsp;📌<br>\n",
    "Так как тут можно самостоятельно выбирать инструментарий, то при проверках статистических гипотез необходимо обосновать выбор статистического критерия — перечислить все требования к данным, которые предъявляет этот критерий и проверить, соответствуют ли наши данные этим требованиям. Первую гипотезу, о том, влияет ли отток на доходы клиентов, необходимо проверить и t-критерием и u-критерием, объяснить расхождения, если они возникнут, выбрать, какому критерию стоит доверять сильнее. Т.к. необходимо понимать, когда следует применять t-критерий Стьюдента, а когда u-критерий Манна-Уитни, стоит описать, из-за чего между результатами работы критериев могут возникать расхождения, даже если они не возникли в данном случае.\n",
    "    \n",
    "Также желательно, чтобы вторая, сформулированная вами гипотеза обоснованно требовала бы другого статистического критерия, либо проверка гипотезы была бы важна для выводов (касалась бы какой-то ситуации, когда на графиках видно небольшое различие и мы хотим подтвердить или опровергнуть свои выводы).\n",
    "</div>"
   ]
  },
  {
   "cell_type": "markdown",
   "metadata": {
    "id": "AR_edGRgCPQz"
   },
   "source": [
    "**Исследуем две гипотезы**\n",
    "\n",
    "**Первая гипотеза** - влияет ли отток на доходы клиентов. \n",
    "\n",
    "Проверим с помощью двух критериев t-критерия и u-критерия\n",
    "\n",
    "**Вторая гипотеза** - влияет ли отток на оценку скоринга пользователей."
   ]
  },
  {
   "cell_type": "markdown",
   "metadata": {
    "id": "bacU6YQdCPQ2"
   },
   "source": [
    "### t-критерий Стьюдента"
   ]
  },
  {
   "cell_type": "markdown",
   "metadata": {
    "id": "2hHNgUjRCPQ3"
   },
   "source": [
    "Если эмпирических значений немного (не больше 20-30), то соответствующее нулевой гипотезе распределение будет немного шире нормального. Больший разброс объясняется недостатком данных.\n",
    "Такое распределение называется t-распределением Стьюдента. Его придумал Уильям Госсет, сотрудник ирландской компании Guinness, когда исследовал урожайность сортов ячменя. \n",
    "\n",
    "Если значений в выборке много (30 и больше), то распределение Стьюдента настолько близко к нормальному, что можно было бы просто взять нормальное распределение без всех этих степеней свободы. Но чтобы не усложнять себе жизнь выбором нужного теста, принято просто каждый раз применять t-тест — ведь он работает для выборки любого размера."
   ]
  },
  {
   "cell_type": "markdown",
   "metadata": {
    "id": "PLQTlxS7CPQ4"
   },
   "source": [
    "**Гипотеза - влияет ли отток на доходы клиентов.**\n",
    "\n",
    "▶ **H0** - отток не влияет на доходы пользователей.\n",
    "\n",
    "▶ **H1** - отток влияет на доходы пользователей.\n",
    "\n",
    "Установим уровень значимости - 5%, `alpha = 0.05`."
   ]
  },
  {
   "cell_type": "code",
   "execution_count": null,
   "metadata": {
    "id": "62RI_z1mCPQ4"
   },
   "outputs": [],
   "source": [
    "alpha = 0.05  # критический уровень статистической значимости\n",
    "results = st.ttest_ind(\n",
    "    df[df['churn'] == 1]['est_salary'], \n",
    "    df[df['churn'] == 0]['est_salary']\n",
    ")\n",
    "\n",
    "print('p-значение:', results.pvalue)\n",
    "\n",
    "if results.pvalue < alpha:\n",
    "    print('Отвергаем нулевую гипотезу')\n",
    "else:\n",
    "    print('Не отвергаем нулевую гипотезу') "
   ]
  },
  {
   "cell_type": "code",
   "execution_count": null,
   "metadata": {
    "id": "_9GrPgpOCPQ4"
   },
   "outputs": [],
   "source": [
    "fig, ax = plt.subplots(figsize=(15, 7))\n",
    "ax.hist(df[df['churn'] == 1]['est_salary'], bins=40, density=True, alpha=0.5, color='red', label = 'churn' + \"1\")\n",
    "ax.hist(df[df['churn'] == 0]['est_salary'], bins=40, density=True, alpha=0.5, color='yellow', label = 'churn' + \"0\")\n",
    "plt.title('Влияние оттока на доход пользователей')\n",
    "plt.xlabel('Доход пользователей')\n",
    "plt.ylabel('Количество пользователей')\n",
    "plt.legend()\n",
    "plt.show()"
   ]
  },
  {
   "cell_type": "markdown",
   "metadata": {
    "id": "cs2cC2MzCPQ4"
   },
   "source": [
    "График подтверждает тест Стьюдента, доход пользователей не влияет на отток"
   ]
  },
  {
   "cell_type": "markdown",
   "metadata": {
    "id": "Ok2XMIW4CPQ5"
   },
   "source": [
    "### u-критерий Манна-Уитни"
   ]
  },
  {
   "cell_type": "markdown",
   "metadata": {
    "id": "636tKdmfCPQ5"
   },
   "source": [
    "**Сформулируем нулевую и альтернативную гипотезу:**\n",
    "\n",
    "\n",
    "▶ **H0** - отток не влияет на доходы пользователей.\n",
    "\n",
    "▶ **H1** - отток влияет на доходы пользователей.\n",
    "\n",
    "Установим уровень значимости - 5%, `alpha = 0.05`.\n",
    "Если минимиальный уровень значимости будет меньше того, который был указан, то H0 (нулевая гипотеза) не принимается, а если больше, то мы принимаем нулевую гипотезу.\n",
    "\n",
    "Для проверки гипотез используем критерий Манна-Уитни, так как в данных есть выбросы."
   ]
  },
  {
   "cell_type": "code",
   "execution_count": null,
   "metadata": {
    "id": "uVtl5PxOCPQ5"
   },
   "outputs": [],
   "source": [
    "alpha = 0.05  # критический уровень статистической значимости\n",
    "\n",
    "results = st.mannwhitneyu(df[df['churn'] == 1]['est_salary'], \n",
    "                          df[df['churn'] == 0]['est_salary']\n",
    ")\n",
    "\n",
    "print('p-значение: ', results.pvalue)\n",
    "\n",
    "if results.pvalue < alpha:\n",
    "    print('Отвергаем нулевую гипотезу: разница статистически значима')\n",
    "else:\n",
    "    print(\n",
    "        'Не получилось отвергнуть нулевую гипотезу, вывод о различии сделать нельзя'\n",
    "    ) "
   ]
  },
  {
   "cell_type": "markdown",
   "metadata": {
    "id": "AyDPwzLlCPQ5"
   },
   "source": [
    "По итогу второго теста используя критерий Манна-Уитни, мы можем сказать, что различия все же есть, с учетом выбросов"
   ]
  },
  {
   "cell_type": "markdown",
   "metadata": {
    "id": "x_SV7zBzCPQ5"
   },
   "source": [
    "Главное отличие непараметрических методов в том, что они работают с рангами, — номерами значений в упорядоченном ряду, — никак не учитывая сами значения. Поэтому к ним прибегают тогда, когда работа с самими значениями невозможна из-за выбросов, сильно сдвигающих параметрические результаты.\n",
    "\n",
    "Критерий Манна-Уитни учитывает расположение элементов выборок относительно друг друга, а не значения элементов. Поэтому он не может сравнивать математические ожидания, если он даже не знает абсолютные значения элементов выборки. Критерий Манна-Уитни  не может проверять равенство медиан.\n",
    "___\n",
    "Учитывая, что выбросы в нашем случае не отражают реальную картину и мы можем их убрать, ориентироваться стоит на критерий Стьюдента."
   ]
  },
  {
   "cell_type": "markdown",
   "metadata": {
    "id": "LKLf3KfECPQ5"
   },
   "source": [
    "### Проверка второй гипотезы"
   ]
  },
  {
   "cell_type": "markdown",
   "metadata": {
    "id": "pZzUb7NUCPQ5"
   },
   "source": [
    "**Гипотеза - влияет ли отток на оценку скоринга пользователей.**\n",
    "\n",
    "▶ **H0** - отток не влияет на оценку скоринга пользователей.\n",
    "\n",
    "▶ **H1** - отток влияет на оценку скоринга пользователей.\n",
    "\n",
    "Установим уровень значимости - 5%, `alpha = 0.05`."
   ]
  },
  {
   "cell_type": "code",
   "execution_count": null,
   "metadata": {
    "id": "HgAe-7CaCPQ5"
   },
   "outputs": [],
   "source": [
    "alpha = 0.05  # критический уровень статистической значимости\n",
    "results = st.ttest_ind(\n",
    "    df[df['churn'] == 1]['score'], \n",
    "    df[df['churn'] == 0]['score']\n",
    ")\n",
    "\n",
    "print('p-значение:', results.pvalue)\n",
    "\n",
    "if results.pvalue < alpha:\n",
    "    print('Отвергаем нулевую гипотезу')\n",
    "else:\n",
    "    print('Не отвергаем нулевую гипотезу') \n",
    "    \n",
    "display(df.pivot_table(index='churn', values='score', aggfunc=['count', 'mean', 'median', 'var']))"
   ]
  },
  {
   "cell_type": "markdown",
   "metadata": {
    "id": "bcCKc6tSCPQ5"
   },
   "source": [
    "Для оценки скоринга пользователей подходит больше критерий Стьюдента, потому что в нем нет выбросов. Отток влияет на оценку скоринга пользователей"
   ]
  },
  {
   "cell_type": "code",
   "execution_count": null,
   "metadata": {
    "id": "qN6bAcT7CPQ6"
   },
   "outputs": [],
   "source": [
    "fig, ax = plt.subplots(figsize=(8, 5))\n",
    "ax.hist(df[df['churn'] == 1]['score'], bins=10, density=True, alpha=0.5, color='red', label = 'churn' + \"1\")\n",
    "ax.hist(df[df['churn'] == 0]['score'], bins=10, density=True, alpha=0.5, color='yellow', label = 'churn' + \"0\")\n",
    "plt.title('Влияние оттока на оценку скоринга пользователей')\n",
    "plt.xlabel('Оценка скоринга')\n",
    "plt.ylabel('Количество пользователей')\n",
    "plt.legend()\n",
    "plt.show()"
   ]
  },
  {
   "cell_type": "markdown",
   "metadata": {
    "id": "iHGNw90WCPQ6"
   },
   "source": [
    "На графике видим, что влияние оттока на количество пользователей имеется"
   ]
  },
  {
   "cell_type": "markdown",
   "metadata": {
    "id": "Fp9JW67ACPQ6"
   },
   "source": [
    "### Вывод по разделу"
   ]
  },
  {
   "cell_type": "markdown",
   "metadata": {
    "id": "yFisPuVwCPQ6"
   },
   "source": [
    "<div style=\"border: solid bisque 2px; padding: 20px; font-size: 16px;\">\n",
    "    \n",
    "**Первая гипотеза - отток не влияет на доходы пользователей**\n",
    "\n",
    "* Проверили с помощью двух критериев t-критерия и u-критерия, получили противоречивые данные\n",
    "* Учитывая, что выбросы в нашем случае не отражают реальную картину и мы можем их убрать, ориентироваться стоит на критерий Стьюдента.\n",
    "    \n",
    "    \n",
    "**Вторая гипотеза - отток не влияет на оценку скоринга пользователей**\n",
    "\n",
    "* Для оценки скоринга пользователей подходит больше критерий Стьюдента, потому что в нем нет выбросов. \n",
    "* Отток влияет на оценку скоринга пользователей\n",
    "\n",
    "\n",
    "</div>"
   ]
  },
  {
   "cell_type": "code",
   "execution_count": null,
   "metadata": {
    "id": "5lCZibdtCPQ6"
   },
   "outputs": [],
   "source": [
    "#df.groupby('churn').mean().T"
   ]
  },
  {
   "cell_type": "markdown",
   "metadata": {
    "id": "jEnz2zGlCPQ6"
   },
   "source": [
    "![image.png](attachment:image.png)"
   ]
  },
  {
   "cell_type": "markdown",
   "metadata": {
    "id": "5spPq_zlCPQ6"
   },
   "source": [
    "## Сегментация пользователей"
   ]
  },
  {
   "cell_type": "markdown",
   "metadata": {
    "id": "0X7e4eOYCPQ6"
   },
   "source": [
    "Выделим группы с наибольшей численностью оттока, учитывая разные метрики"
   ]
  },
  {
   "cell_type": "markdown",
   "metadata": {
    "id": "L_BFeeA5CPQ7"
   },
   "source": [
    "**Основные метрики, на которые обратим внимание при сегментации:**\n",
    "\n",
    "* Пол\n",
    "\n",
    "* Возраст\n",
    "\n",
    "* Город/Количество продуктов/Зарплата/Активность клиентов\n",
    "\n",
    "* Чиссленность сегмента от 500 до 2000\n",
    "\n",
    "* Все пользователи отточные"
   ]
  },
  {
   "cell_type": "markdown",
   "metadata": {
    "id": "RxolDvzbCPQ9"
   },
   "source": [
    "Выделим наиболее высоотточные сегменты пользователей банка"
   ]
  },
  {
   "cell_type": "code",
   "execution_count": null,
   "metadata": {
    "id": "Qn945uO_CPQ9"
   },
   "outputs": [],
   "source": [
    "df.query('gender == \"М\" and last_activity == 1 and balance > 500').agg({\"churn\":[\"count\",\"sum\",\"mean\"]})"
   ]
  },
  {
   "cell_type": "code",
   "execution_count": null,
   "metadata": {
    "id": "yd9IwCU4CPQ9"
   },
   "outputs": [],
   "source": [
    "df.query('820 < score < 910 and last_activity == 1').agg({\"churn\":[\"count\",\"sum\",\"mean\"]})"
   ]
  },
  {
   "cell_type": "code",
   "execution_count": null,
   "metadata": {
    "id": "YtHMDPKtCPQ9"
   },
   "outputs": [],
   "source": [
    "df.query('75000 < est_salary < 200000 and last_activity == 1 and balance > 400').agg({\"churn\":[\"count\",\"sum\",\"mean\"]})"
   ]
  },
  {
   "cell_type": "markdown",
   "metadata": {
    "id": "kD5PsBg6CPQ9"
   },
   "source": [
    "  \n",
    "<div class=\"alert-success\" style=\"border-radius: 10px; box-shadow: 2px 2px 2px; border: 1px solid; padding: 10px \">\n",
    "<b> </b> \n",
    "    \n",
    "**Выделили 3 сегмента пользователей, больше приверженных оттоку.**\n",
    "    \n",
    "**Сегмент 1. Клиенты мужчины, активные последний месяц, баланс более 500 тыс.**\n",
    "* 53% оттока и 530 клиентов\n",
    "    \n",
    "**Сегмент 2. Клиенты имеющие оценку кредитного скоринга от 820 до 910, активные последний месяц** \n",
    "* 44% оттока и 856 клиентов\n",
    "    \n",
    "**Сегмент 3. Клиенты с зарплатой от 75 тыс. до 200 тыс., активные последний месяц и имеющие баланс более 400 тыс.** \n",
    "* 42% оттока и 646 клиентов\n",
    "    \n",
    " \n",
    " </div><br><br>"
   ]
  },
  {
   "cell_type": "markdown",
   "metadata": {
    "id": "Ur2rEKKeCPQ9"
   },
   "source": [
    "## Вывод"
   ]
  },
  {
   "cell_type": "markdown",
   "metadata": {
    "id": "_fyxCRxUCPQ9"
   },
   "source": [
    "<div style=\"border: solid green 2px; padding: 20px\"> \n",
    "<b> </b>\n",
    "    \n",
    "**Цель исследования** - изучить причины оттока клиентов, сегментировать пользователей банка, предоставить рекомендации по удержанию и возврату клиентской базы\n",
    "___\n",
    "\n",
    "**По итогу анализа оттока клиентов, выделили следующие выводы:**\n",
    "    \n",
    "* В выборке было 10000 пользователей\n",
    "    \n",
    "* Больше всего отточных клиентов в Ярославле и Ростове\n",
    "\n",
    "* Процент оттока мужчин выше - 24%, чем женщин - 13%\n",
    "\n",
    "* 25-29 и 51-60 возрастные категории отточных клиентов с наибольшим количеством\n",
    "\n",
    "* Процент отточных клиентов имеет кредитную карту - 45%, неотточных - 30%\n",
    "\n",
    "* Процент неотточных клиентов были активны последний месяц - 30%, неотточных - 48%\n",
    "\n",
    "* Наиболее плотное распределение оттока у клиентов с баллами оценки кредитного скоринга от 750 до 950.\n",
    "    \n",
    "* Несмотря на небольшой процент оттока у клиентов имеющих 1 продукт (20%), таких клиентов 969, их можно определить в отдельный сегмент\n",
    "* Всего 601 пользователей, у которых от 3-х продуктов хотят покинуть банк\n",
    "\n",
    "    \n",
    "___\n",
    "     \n",
    "**Матрица корреляций дает нам следующие выводы:**\n",
    "    \n",
    "* Наличие кредитной карты имеет обратную зависимость 13%. Чем больше кредитных карт, тем меньше отток клиентов\n",
    "* При этом, чем больше продуктов, тем выше вероятность оттока\n",
    "* По возрасту проходит обратная слабая связь, из общей выборки, мы имеем небольшое количество возрастных категорий, которые наиболее подвережены оттоку\n",
    "* Кредитный рейтинг слабо влияет на отток клиентов - 11%\n",
    "* Активность клиентов последний месяц и оценка собственности имеют высокую корреляцию 17% и 27%   \n",
    "    \n",
    "___\n",
    "    \n",
    "**Статистический анализ показал:**\n",
    "    \n",
    "**Первая гипотеза - отток не влияет на доходы пользователей**\n",
    "\n",
    "* Проверили с помощью двух критериев t-критерия и u-критерия, получили противоречивые данные\n",
    "* Учитывая, что выбросы в нашем случае не отражают реальную картину и мы можем их убрать, ориентироваться стоит на критерий Стьюдента.\n",
    "    \n",
    "    \n",
    "**Вторая гипотеза - отток не влияет на оценку скоринга пользователей**\n",
    "\n",
    "* Для оценки скоринга пользователей подходит больше критерий Стьюдента, потому что в нем нет выбросов. \n",
    "* Отток влияет на оценку скоринга пользователей\n",
    "    \n",
    "</div>"
   ]
  },
  {
   "cell_type": "markdown",
   "metadata": {
    "id": "Atw3N5SKCPQ-"
   },
   "source": [
    "## Рекомендации"
   ]
  },
  {
   "cell_type": "markdown",
   "metadata": {
    "id": "aH3VRc4ACPQ-"
   },
   "source": [
    "\n",
    "<div class=\"alert-warning\" style=\"border-radius: 10px; box-shadow: 2px 2px 2px; border: 1px solid; padding: 10px \">\n",
    "    \n",
    "**Рекомендации**\n",
    "\n",
    "Чем больше маркетинговых рассылок и, как следствие, активность пользователя в мобильном приложении или сайте банка, тем больше мы можем продать услуг. \n",
    "    \n",
    "    \n",
    "Чаще всего через банковские приложения и интернет-банк пользователи оформляют вклады и накопительные счета, наши пользователи без кредитной карты скорее всего имели именно данные продукты. Оформляя вклады и накопительные счета повышается лояльность к банку. Такие клиенты могли снять деньги после завершения начислений по вкладам, либо понижения процентной ставки по накопительным счетам. \n",
    "\n",
    "Вторая половина клиентов, имеет кредитную карту. Скорее всего, это клиенты, которые приобрели потребительский, ипотечный или автомобильный кредит. Они либо закрыли кредит, либо нашли условия лучше и решили рефинансироваться.\n",
    "    \n",
    "\n",
    "* Можно сделать удобный раздел на сайте, в котором написать письмо в банк может любой пользователь. Насколько ему нравятся продукты банка, которыми он пользуется\n",
    "* Соединить часть продуктов, к примеру, за пользование кредитной/дебетовой картой проводить начисление кэшбэка, который можно использовать на оплату каких-либо услуг банка. Таким образом, клиент активно использует несколько продуктов банка. Деньги используются в оборотах банка\n",
    "\n",
    "\n"
   ]
  }
 ],
 "metadata": {
  "ExecuteTimeLog": [
   {
    "duration": 1398,
    "start_time": "2023-03-20T18:59:35.177Z"
   },
   {
    "duration": 2116,
    "start_time": "2023-03-20T18:59:36.577Z"
   },
   {
    "duration": 17,
    "start_time": "2023-03-20T18:59:51.138Z"
   },
   {
    "duration": 3,
    "start_time": "2023-03-20T19:04:24.723Z"
   },
   {
    "duration": 15,
    "start_time": "2023-03-20T19:07:13.361Z"
   },
   {
    "duration": 906,
    "start_time": "2023-03-20T19:22:44.240Z"
   },
   {
    "duration": 15,
    "start_time": "2023-03-20T19:23:04.881Z"
   },
   {
    "duration": 6,
    "start_time": "2023-03-20T19:23:57.966Z"
   },
   {
    "duration": 4,
    "start_time": "2023-03-20T19:24:04.694Z"
   },
   {
    "duration": 5,
    "start_time": "2023-03-20T19:24:12.231Z"
   },
   {
    "duration": 20,
    "start_time": "2023-03-20T19:28:37.293Z"
   },
   {
    "duration": 885,
    "start_time": "2023-03-20T19:31:54.631Z"
   },
   {
    "duration": 91,
    "start_time": "2023-03-20T19:37:21.810Z"
   },
   {
    "duration": 2,
    "start_time": "2023-03-20T19:38:26.057Z"
   },
   {
    "duration": 2,
    "start_time": "2023-03-20T19:43:03.284Z"
   },
   {
    "duration": 2,
    "start_time": "2023-03-20T19:43:11.958Z"
   },
   {
    "duration": 2,
    "start_time": "2023-03-20T19:43:21.174Z"
   },
   {
    "duration": 3,
    "start_time": "2023-03-20T19:43:22.022Z"
   },
   {
    "duration": 1145,
    "start_time": "2023-03-20T19:44:04.946Z"
   },
   {
    "duration": 2,
    "start_time": "2023-03-20T19:44:06.093Z"
   },
   {
    "duration": 7,
    "start_time": "2023-03-20T19:44:06.096Z"
   },
   {
    "duration": 5,
    "start_time": "2023-03-20T19:44:06.104Z"
   },
   {
    "duration": 4,
    "start_time": "2023-03-20T19:44:06.110Z"
   },
   {
    "duration": 1544,
    "start_time": "2023-03-22T21:03:51.473Z"
   },
   {
    "duration": 1611,
    "start_time": "2023-03-22T21:03:53.020Z"
   },
   {
    "duration": 19,
    "start_time": "2023-03-22T21:03:54.632Z"
   },
   {
    "duration": 5,
    "start_time": "2023-03-22T21:03:54.654Z"
   },
   {
    "duration": 63,
    "start_time": "2023-03-22T21:03:54.660Z"
   },
   {
    "duration": 13,
    "start_time": "2023-03-22T21:11:21.303Z"
   },
   {
    "duration": 25,
    "start_time": "2023-03-22T21:12:25.711Z"
   },
   {
    "duration": 27,
    "start_time": "2023-03-22T21:13:28.118Z"
   },
   {
    "duration": 114,
    "start_time": "2023-03-22T21:15:07.018Z"
   },
   {
    "duration": 8,
    "start_time": "2023-03-22T21:15:11.547Z"
   },
   {
    "duration": 32,
    "start_time": "2023-03-22T21:15:16.858Z"
   },
   {
    "duration": 21,
    "start_time": "2023-03-22T21:17:53.112Z"
   },
   {
    "duration": 80,
    "start_time": "2023-03-22T21:19:42.404Z"
   },
   {
    "duration": 16,
    "start_time": "2023-03-22T21:19:49.302Z"
   },
   {
    "duration": 29,
    "start_time": "2023-03-22T21:20:21.216Z"
   },
   {
    "duration": 28,
    "start_time": "2023-03-22T21:22:55.361Z"
   },
   {
    "duration": 22,
    "start_time": "2023-03-22T21:23:04.025Z"
   },
   {
    "duration": 21,
    "start_time": "2023-03-22T21:24:43.839Z"
   },
   {
    "duration": 17,
    "start_time": "2023-03-22T21:25:44.108Z"
   },
   {
    "duration": 130,
    "start_time": "2023-03-22T21:27:35.027Z"
   },
   {
    "duration": 14,
    "start_time": "2023-03-22T21:27:44.925Z"
   },
   {
    "duration": 1566,
    "start_time": "2023-03-22T21:28:58.361Z"
   },
   {
    "duration": 1390,
    "start_time": "2023-03-22T21:28:59.931Z"
   },
   {
    "duration": 19,
    "start_time": "2023-03-22T21:29:01.323Z"
   },
   {
    "duration": 79,
    "start_time": "2023-03-22T21:29:01.344Z"
   },
   {
    "duration": 30,
    "start_time": "2023-03-22T21:29:01.424Z"
   },
   {
    "duration": 3,
    "start_time": "2023-03-22T21:29:01.456Z"
   },
   {
    "duration": 103,
    "start_time": "2023-03-22T21:29:01.461Z"
   },
   {
    "duration": 0,
    "start_time": "2023-03-22T21:29:01.566Z"
   },
   {
    "duration": 0,
    "start_time": "2023-03-22T21:29:01.568Z"
   },
   {
    "duration": 0,
    "start_time": "2023-03-22T21:29:01.569Z"
   },
   {
    "duration": 3,
    "start_time": "2023-03-22T21:29:16.666Z"
   },
   {
    "duration": 35,
    "start_time": "2023-03-22T21:29:20.089Z"
   },
   {
    "duration": 17,
    "start_time": "2023-03-22T21:29:21.025Z"
   },
   {
    "duration": 28,
    "start_time": "2023-03-22T21:30:05.525Z"
   },
   {
    "duration": 40,
    "start_time": "2023-03-22T21:31:07.465Z"
   },
   {
    "duration": 56,
    "start_time": "2023-03-22T21:31:15.355Z"
   },
   {
    "duration": 2183,
    "start_time": "2023-03-22T21:32:33.308Z"
   },
   {
    "duration": 381,
    "start_time": "2023-03-22T21:34:30.948Z"
   },
   {
    "duration": 232,
    "start_time": "2023-03-22T21:35:00.264Z"
   },
   {
    "duration": 135,
    "start_time": "2023-03-22T21:37:44.828Z"
   },
   {
    "duration": 534,
    "start_time": "2023-03-22T21:37:50.208Z"
   },
   {
    "duration": 123,
    "start_time": "2023-03-22T21:39:11.523Z"
   },
   {
    "duration": 111,
    "start_time": "2023-03-22T21:39:59.737Z"
   },
   {
    "duration": 101,
    "start_time": "2023-03-22T21:40:32.763Z"
   },
   {
    "duration": 88,
    "start_time": "2023-03-22T21:41:21.518Z"
   },
   {
    "duration": 96,
    "start_time": "2023-03-22T21:41:29.072Z"
   },
   {
    "duration": 86,
    "start_time": "2023-03-22T21:42:13.062Z"
   },
   {
    "duration": 108,
    "start_time": "2023-03-22T21:42:26.138Z"
   },
   {
    "duration": 190,
    "start_time": "2023-03-22T21:42:32.868Z"
   },
   {
    "duration": 138,
    "start_time": "2023-03-22T21:44:07.965Z"
   },
   {
    "duration": 194,
    "start_time": "2023-03-22T21:47:24.956Z"
   },
   {
    "duration": 195,
    "start_time": "2023-03-22T21:47:46.320Z"
   },
   {
    "duration": 223,
    "start_time": "2023-03-22T21:50:45.317Z"
   },
   {
    "duration": 37,
    "start_time": "2023-03-22T21:50:55.218Z"
   },
   {
    "duration": 105,
    "start_time": "2023-03-22T21:51:12.404Z"
   },
   {
    "duration": 29,
    "start_time": "2023-03-22T21:52:20.303Z"
   },
   {
    "duration": 26,
    "start_time": "2023-03-22T21:52:34.063Z"
   },
   {
    "duration": 549,
    "start_time": "2023-03-22T21:52:46.341Z"
   },
   {
    "duration": 1406,
    "start_time": "2023-03-22T21:53:18.405Z"
   },
   {
    "duration": 1212,
    "start_time": "2023-03-22T21:53:19.813Z"
   },
   {
    "duration": 20,
    "start_time": "2023-03-22T21:53:21.026Z"
   },
   {
    "duration": 5,
    "start_time": "2023-03-22T21:53:21.048Z"
   },
   {
    "duration": 47,
    "start_time": "2023-03-22T21:53:21.054Z"
   },
   {
    "duration": 7,
    "start_time": "2023-03-22T21:53:21.107Z"
   },
   {
    "duration": 33,
    "start_time": "2023-03-22T21:53:21.124Z"
   },
   {
    "duration": 11,
    "start_time": "2023-03-22T21:53:21.159Z"
   },
   {
    "duration": 69,
    "start_time": "2023-03-22T21:53:21.172Z"
   },
   {
    "duration": 15,
    "start_time": "2023-03-22T21:53:21.243Z"
   },
   {
    "duration": 1691,
    "start_time": "2023-03-22T21:53:21.260Z"
   },
   {
    "duration": 278,
    "start_time": "2023-03-22T21:53:22.953Z"
   },
   {
    "duration": 866,
    "start_time": "2023-03-22T21:53:23.233Z"
   },
   {
    "duration": 220,
    "start_time": "2023-03-22T21:53:24.103Z"
   },
   {
    "duration": 261,
    "start_time": "2023-03-22T21:53:24.325Z"
   },
   {
    "duration": 947,
    "start_time": "2023-03-22T21:53:24.592Z"
   },
   {
    "duration": 8,
    "start_time": "2023-03-22T21:53:31.709Z"
   },
   {
    "duration": 46,
    "start_time": "2023-03-22T21:53:49.067Z"
   },
   {
    "duration": 508,
    "start_time": "2023-03-22T21:53:57.016Z"
   },
   {
    "duration": 423,
    "start_time": "2023-03-22T21:54:53.626Z"
   },
   {
    "duration": 52,
    "start_time": "2023-03-22T21:55:15.396Z"
   },
   {
    "duration": 235,
    "start_time": "2023-03-22T21:55:29.998Z"
   },
   {
    "duration": 753,
    "start_time": "2023-03-22T21:55:43.216Z"
   },
   {
    "duration": 320,
    "start_time": "2023-03-22T21:55:48.816Z"
   },
   {
    "duration": 192,
    "start_time": "2023-03-22T21:56:53.007Z"
   },
   {
    "duration": 252,
    "start_time": "2023-03-22T21:57:15.362Z"
   },
   {
    "duration": 25,
    "start_time": "2023-03-22T21:57:52.628Z"
   },
   {
    "duration": 220,
    "start_time": "2023-03-22T21:58:13.018Z"
   },
   {
    "duration": 219,
    "start_time": "2023-03-22T21:58:41.416Z"
   },
   {
    "duration": 205,
    "start_time": "2023-03-22T21:59:54.822Z"
   },
   {
    "duration": 306,
    "start_time": "2023-03-22T22:04:03.613Z"
   },
   {
    "duration": 240,
    "start_time": "2023-03-22T22:04:25.526Z"
   },
   {
    "duration": 15,
    "start_time": "2023-03-22T22:05:56.119Z"
   },
   {
    "duration": 39,
    "start_time": "2023-03-22T22:06:12.272Z"
   },
   {
    "duration": 6,
    "start_time": "2023-03-22T22:07:44.734Z"
   },
   {
    "duration": 46,
    "start_time": "2023-03-22T22:07:49.974Z"
   },
   {
    "duration": 1404,
    "start_time": "2023-03-22T22:08:06.826Z"
   },
   {
    "duration": 1588,
    "start_time": "2023-03-22T22:08:08.232Z"
   },
   {
    "duration": 19,
    "start_time": "2023-03-22T22:08:09.822Z"
   },
   {
    "duration": 8,
    "start_time": "2023-03-22T22:08:09.844Z"
   },
   {
    "duration": 55,
    "start_time": "2023-03-22T22:08:09.853Z"
   },
   {
    "duration": 33,
    "start_time": "2023-03-22T22:08:09.912Z"
   },
   {
    "duration": 19,
    "start_time": "2023-03-22T22:08:09.946Z"
   },
   {
    "duration": 69,
    "start_time": "2023-03-22T22:08:09.967Z"
   },
   {
    "duration": 51,
    "start_time": "2023-03-22T22:08:10.038Z"
   },
   {
    "duration": 37,
    "start_time": "2023-03-22T22:08:10.093Z"
   },
   {
    "duration": 31,
    "start_time": "2023-03-22T22:08:10.131Z"
   },
   {
    "duration": 8,
    "start_time": "2023-03-22T22:08:10.163Z"
   },
   {
    "duration": 232,
    "start_time": "2023-03-22T22:08:10.175Z"
   },
   {
    "duration": 527,
    "start_time": "2023-03-22T22:08:10.409Z"
   },
   {
    "duration": 173,
    "start_time": "2023-03-22T22:08:10.938Z"
   },
   {
    "duration": 125,
    "start_time": "2023-03-22T22:08:11.113Z"
   },
   {
    "duration": 255,
    "start_time": "2023-03-22T22:08:11.240Z"
   },
   {
    "duration": 244,
    "start_time": "2023-03-22T22:09:46.802Z"
   },
   {
    "duration": 238,
    "start_time": "2023-03-22T22:10:01.403Z"
   },
   {
    "duration": 190,
    "start_time": "2023-03-22T22:11:51.204Z"
   },
   {
    "duration": 225,
    "start_time": "2023-03-22T22:12:54.401Z"
   },
   {
    "duration": 204,
    "start_time": "2023-03-22T22:13:40.757Z"
   },
   {
    "duration": 166,
    "start_time": "2023-03-22T22:14:07.204Z"
   },
   {
    "duration": 195,
    "start_time": "2023-03-22T22:24:00.914Z"
   },
   {
    "duration": 16,
    "start_time": "2023-03-22T22:24:12.519Z"
   },
   {
    "duration": 39,
    "start_time": "2023-03-22T22:24:20.066Z"
   },
   {
    "duration": 1919,
    "start_time": "2023-03-22T22:25:32.851Z"
   },
   {
    "duration": 8,
    "start_time": "2023-03-22T22:26:38.949Z"
   },
   {
    "duration": 438,
    "start_time": "2023-03-22T22:26:39.621Z"
   },
   {
    "duration": 10802,
    "start_time": "2023-03-22T22:27:04.095Z"
   },
   {
    "duration": 906,
    "start_time": "2023-03-22T22:30:30.748Z"
   },
   {
    "duration": 43,
    "start_time": "2023-03-25T12:28:27.163Z"
   },
   {
    "duration": 1208,
    "start_time": "2023-03-25T12:28:32.778Z"
   },
   {
    "duration": 1158,
    "start_time": "2023-03-25T12:28:33.988Z"
   },
   {
    "duration": 16,
    "start_time": "2023-03-25T12:28:35.148Z"
   },
   {
    "duration": 8,
    "start_time": "2023-03-25T12:28:35.165Z"
   },
   {
    "duration": 21,
    "start_time": "2023-03-25T12:28:35.175Z"
   },
   {
    "duration": 2,
    "start_time": "2023-03-25T12:28:35.197Z"
   },
   {
    "duration": 6,
    "start_time": "2023-03-25T12:28:35.201Z"
   },
   {
    "duration": 13,
    "start_time": "2023-03-25T12:28:35.209Z"
   },
   {
    "duration": 28,
    "start_time": "2023-03-25T12:28:35.223Z"
   },
   {
    "duration": 13,
    "start_time": "2023-03-25T12:28:35.253Z"
   },
   {
    "duration": 27,
    "start_time": "2023-03-25T12:28:35.267Z"
   },
   {
    "duration": 5,
    "start_time": "2023-03-25T12:28:35.295Z"
   },
   {
    "duration": 130,
    "start_time": "2023-03-25T12:28:35.301Z"
   },
   {
    "duration": 404,
    "start_time": "2023-03-25T12:28:35.432Z"
   },
   {
    "duration": 121,
    "start_time": "2023-03-25T12:28:35.837Z"
   },
   {
    "duration": 57,
    "start_time": "2023-03-25T12:28:35.959Z"
   },
   {
    "duration": 157,
    "start_time": "2023-03-25T12:28:36.017Z"
   },
   {
    "duration": 144,
    "start_time": "2023-03-25T12:28:36.176Z"
   },
   {
    "duration": 6,
    "start_time": "2023-03-25T12:28:36.321Z"
   },
   {
    "duration": 275,
    "start_time": "2023-03-25T12:28:36.328Z"
   },
   {
    "duration": 8236,
    "start_time": "2023-03-25T12:28:36.604Z"
   },
   {
    "duration": 828,
    "start_time": "2023-03-25T12:28:44.842Z"
   },
   {
    "duration": 31,
    "start_time": "2023-03-25T12:42:54.209Z"
   },
   {
    "duration": 19,
    "start_time": "2023-03-25T13:06:22.204Z"
   },
   {
    "duration": 27,
    "start_time": "2023-03-25T13:09:24.644Z"
   },
   {
    "duration": 2,
    "start_time": "2023-03-25T13:13:13.716Z"
   },
   {
    "duration": 61,
    "start_time": "2023-03-25T13:18:35.841Z"
   },
   {
    "duration": 60,
    "start_time": "2023-03-25T13:19:16.697Z"
   },
   {
    "duration": 66,
    "start_time": "2023-03-25T13:20:50.645Z"
   },
   {
    "duration": 2,
    "start_time": "2023-03-25T13:33:30.681Z"
   },
   {
    "duration": 2,
    "start_time": "2023-03-25T13:34:24.224Z"
   },
   {
    "duration": 3,
    "start_time": "2023-03-25T13:49:29.723Z"
   },
   {
    "duration": 264,
    "start_time": "2023-03-25T13:53:59.250Z"
   },
   {
    "duration": 114,
    "start_time": "2023-03-25T13:54:34.152Z"
   },
   {
    "duration": 123,
    "start_time": "2023-03-25T13:54:54.644Z"
   },
   {
    "duration": 198,
    "start_time": "2023-03-25T13:55:29.066Z"
   },
   {
    "duration": 459,
    "start_time": "2023-03-25T13:56:00.660Z"
   },
   {
    "duration": 285,
    "start_time": "2023-03-25T13:56:39.589Z"
   },
   {
    "duration": 174,
    "start_time": "2023-03-25T13:57:15.092Z"
   },
   {
    "duration": 193,
    "start_time": "2023-03-25T13:57:49.592Z"
   },
   {
    "duration": 10,
    "start_time": "2023-03-25T14:01:59.626Z"
   },
   {
    "duration": 8,
    "start_time": "2023-03-25T14:02:05.537Z"
   },
   {
    "duration": 11,
    "start_time": "2023-03-25T14:02:20.168Z"
   },
   {
    "duration": 15,
    "start_time": "2023-03-25T14:02:32.466Z"
   },
   {
    "duration": 8,
    "start_time": "2023-03-25T14:04:12.484Z"
   },
   {
    "duration": 1168,
    "start_time": "2023-03-25T14:17:02.825Z"
   },
   {
    "duration": 1046,
    "start_time": "2023-03-25T14:17:03.995Z"
   },
   {
    "duration": 20,
    "start_time": "2023-03-25T14:17:05.042Z"
   },
   {
    "duration": 4,
    "start_time": "2023-03-25T14:17:05.064Z"
   },
   {
    "duration": 24,
    "start_time": "2023-03-25T14:17:05.070Z"
   },
   {
    "duration": 32,
    "start_time": "2023-03-25T14:17:05.096Z"
   },
   {
    "duration": 19,
    "start_time": "2023-03-25T14:17:05.130Z"
   },
   {
    "duration": 19,
    "start_time": "2023-03-25T14:17:05.151Z"
   },
   {
    "duration": 13,
    "start_time": "2023-03-25T14:17:05.171Z"
   },
   {
    "duration": 4,
    "start_time": "2023-03-25T14:17:05.186Z"
   },
   {
    "duration": 26,
    "start_time": "2023-03-25T14:17:05.191Z"
   },
   {
    "duration": 349,
    "start_time": "2023-03-25T14:17:05.219Z"
   },
   {
    "duration": 97,
    "start_time": "2023-03-25T14:17:05.569Z"
   },
   {
    "duration": 113,
    "start_time": "2023-03-25T14:17:05.669Z"
   },
   {
    "duration": 216,
    "start_time": "2023-03-25T14:17:05.784Z"
   },
   {
    "duration": 153,
    "start_time": "2023-03-25T14:17:06.001Z"
   },
   {
    "duration": 8,
    "start_time": "2023-03-25T14:17:06.155Z"
   },
   {
    "duration": 14,
    "start_time": "2023-03-25T14:17:06.164Z"
   },
   {
    "duration": 81,
    "start_time": "2023-03-25T14:17:06.180Z"
   },
   {
    "duration": 0,
    "start_time": "2023-03-25T14:17:06.262Z"
   },
   {
    "duration": 0,
    "start_time": "2023-03-25T14:17:06.264Z"
   },
   {
    "duration": 0,
    "start_time": "2023-03-25T14:17:06.264Z"
   },
   {
    "duration": 0,
    "start_time": "2023-03-25T14:17:06.265Z"
   },
   {
    "duration": 0,
    "start_time": "2023-03-25T14:17:06.266Z"
   },
   {
    "duration": 0,
    "start_time": "2023-03-25T14:17:06.267Z"
   },
   {
    "duration": 0,
    "start_time": "2023-03-25T14:17:06.268Z"
   },
   {
    "duration": 8,
    "start_time": "2023-03-25T14:17:16.047Z"
   },
   {
    "duration": 7,
    "start_time": "2023-03-25T14:17:25.909Z"
   },
   {
    "duration": 7,
    "start_time": "2023-03-25T14:18:19.994Z"
   },
   {
    "duration": 7,
    "start_time": "2023-03-25T14:19:58.788Z"
   },
   {
    "duration": 8,
    "start_time": "2023-03-25T14:21:36.854Z"
   },
   {
    "duration": 8,
    "start_time": "2023-03-25T14:21:37.588Z"
   },
   {
    "duration": 8,
    "start_time": "2023-03-25T14:22:35.546Z"
   },
   {
    "duration": 2,
    "start_time": "2023-03-25T14:25:42.066Z"
   },
   {
    "duration": 19,
    "start_time": "2023-03-25T14:26:52.006Z"
   },
   {
    "duration": 17,
    "start_time": "2023-03-25T14:27:51.439Z"
   },
   {
    "duration": 139,
    "start_time": "2023-03-25T14:30:15.736Z"
   },
   {
    "duration": 125,
    "start_time": "2023-03-25T14:30:58.626Z"
   },
   {
    "duration": 4,
    "start_time": "2023-03-25T14:38:22.285Z"
   },
   {
    "duration": 8,
    "start_time": "2023-03-25T14:38:37.954Z"
   },
   {
    "duration": 9,
    "start_time": "2023-03-25T14:38:41.694Z"
   },
   {
    "duration": 278,
    "start_time": "2023-03-25T14:42:43.574Z"
   },
   {
    "duration": 7,
    "start_time": "2023-03-25T14:43:59.492Z"
   },
   {
    "duration": 8,
    "start_time": "2023-03-25T14:44:07.527Z"
   },
   {
    "duration": 8,
    "start_time": "2023-03-25T14:44:29.704Z"
   },
   {
    "duration": 10,
    "start_time": "2023-03-25T14:44:52.727Z"
   },
   {
    "duration": 1231,
    "start_time": "2023-03-26T08:59:33.653Z"
   },
   {
    "duration": 864,
    "start_time": "2023-03-26T08:59:34.885Z"
   },
   {
    "duration": 15,
    "start_time": "2023-03-26T08:59:35.751Z"
   },
   {
    "duration": 4,
    "start_time": "2023-03-26T08:59:35.768Z"
   },
   {
    "duration": 22,
    "start_time": "2023-03-26T08:59:35.773Z"
   },
   {
    "duration": 29,
    "start_time": "2023-03-26T08:59:35.796Z"
   },
   {
    "duration": 23,
    "start_time": "2023-03-26T08:59:35.826Z"
   },
   {
    "duration": 11,
    "start_time": "2023-03-26T08:59:35.850Z"
   },
   {
    "duration": 5,
    "start_time": "2023-03-26T08:59:35.862Z"
   },
   {
    "duration": 3,
    "start_time": "2023-03-26T08:59:35.869Z"
   },
   {
    "duration": 363,
    "start_time": "2023-03-26T08:59:35.873Z"
   },
   {
    "duration": 60,
    "start_time": "2023-03-26T08:59:36.238Z"
   },
   {
    "duration": 108,
    "start_time": "2023-03-26T08:59:36.299Z"
   },
   {
    "duration": 19,
    "start_time": "2023-03-26T08:59:36.408Z"
   },
   {
    "duration": 207,
    "start_time": "2023-03-26T08:59:36.449Z"
   },
   {
    "duration": 173,
    "start_time": "2023-03-26T08:59:36.657Z"
   },
   {
    "duration": 18,
    "start_time": "2023-03-26T08:59:36.831Z"
   },
   {
    "duration": 25,
    "start_time": "2023-03-26T08:59:36.851Z"
   },
   {
    "duration": 7,
    "start_time": "2023-03-26T08:59:36.877Z"
   },
   {
    "duration": 8,
    "start_time": "2023-03-26T08:59:36.886Z"
   },
   {
    "duration": 21,
    "start_time": "2023-03-26T08:59:36.895Z"
   },
   {
    "duration": 157,
    "start_time": "2023-03-26T08:59:36.917Z"
   },
   {
    "duration": 144,
    "start_time": "2023-03-26T08:59:37.076Z"
   },
   {
    "duration": 7,
    "start_time": "2023-03-26T08:59:37.221Z"
   },
   {
    "duration": 24,
    "start_time": "2023-03-26T08:59:37.229Z"
   },
   {
    "duration": 11,
    "start_time": "2023-03-26T08:59:37.254Z"
   },
   {
    "duration": 8,
    "start_time": "2023-03-26T08:59:37.266Z"
   },
   {
    "duration": 737,
    "start_time": "2023-03-26T08:59:37.276Z"
   },
   {
    "duration": 704,
    "start_time": "2023-03-26T09:03:17.073Z"
   },
   {
    "duration": 658,
    "start_time": "2023-03-26T09:03:52.864Z"
   },
   {
    "duration": 678,
    "start_time": "2023-03-26T09:04:01.135Z"
   },
   {
    "duration": 664,
    "start_time": "2023-03-26T09:04:29.479Z"
   },
   {
    "duration": 660,
    "start_time": "2023-03-26T09:04:37.850Z"
   },
   {
    "duration": 638,
    "start_time": "2023-03-26T09:17:31.713Z"
   },
   {
    "duration": 781,
    "start_time": "2023-03-26T09:19:00.865Z"
   },
   {
    "duration": 654,
    "start_time": "2023-03-26T09:20:32.178Z"
   },
   {
    "duration": 643,
    "start_time": "2023-03-26T09:20:47.656Z"
   },
   {
    "duration": 142,
    "start_time": "2023-03-26T09:28:36.003Z"
   },
   {
    "duration": 10,
    "start_time": "2023-03-26T09:29:16.284Z"
   },
   {
    "duration": 2,
    "start_time": "2023-03-26T09:29:24.081Z"
   },
   {
    "duration": 10,
    "start_time": "2023-03-26T09:29:35.185Z"
   },
   {
    "duration": 717,
    "start_time": "2023-03-26T09:44:14.975Z"
   },
   {
    "duration": 9,
    "start_time": "2023-03-26T09:45:05.611Z"
   },
   {
    "duration": 9,
    "start_time": "2023-03-26T09:45:25.325Z"
   },
   {
    "duration": 13,
    "start_time": "2023-03-26T09:45:40.366Z"
   },
   {
    "duration": 260,
    "start_time": "2023-03-26T09:50:25.089Z"
   },
   {
    "duration": 281,
    "start_time": "2023-03-26T09:50:57.557Z"
   },
   {
    "duration": 714,
    "start_time": "2023-03-26T09:51:08.414Z"
   },
   {
    "duration": 629,
    "start_time": "2023-03-26T09:51:13.899Z"
   },
   {
    "duration": 265,
    "start_time": "2023-03-26T09:51:47.871Z"
   },
   {
    "duration": 69,
    "start_time": "2023-03-27T17:20:09.488Z"
   },
   {
    "duration": 1452,
    "start_time": "2023-03-27T17:20:23.183Z"
   },
   {
    "duration": 1190,
    "start_time": "2023-03-27T17:20:24.637Z"
   },
   {
    "duration": 20,
    "start_time": "2023-03-27T17:20:25.828Z"
   },
   {
    "duration": 5,
    "start_time": "2023-03-27T17:20:25.849Z"
   },
   {
    "duration": 27,
    "start_time": "2023-03-27T17:20:25.856Z"
   },
   {
    "duration": 39,
    "start_time": "2023-03-27T17:20:25.885Z"
   },
   {
    "duration": 2,
    "start_time": "2023-03-27T17:20:25.926Z"
   },
   {
    "duration": 8,
    "start_time": "2023-03-27T17:20:25.930Z"
   },
   {
    "duration": 4,
    "start_time": "2023-03-27T17:20:25.940Z"
   },
   {
    "duration": 3,
    "start_time": "2023-03-27T17:20:25.946Z"
   },
   {
    "duration": 1876,
    "start_time": "2023-03-27T17:20:25.976Z"
   },
   {
    "duration": 159,
    "start_time": "2023-03-27T17:20:27.854Z"
   },
   {
    "duration": 97,
    "start_time": "2023-03-27T17:20:28.015Z"
   },
   {
    "duration": 27,
    "start_time": "2023-03-27T17:20:28.115Z"
   },
   {
    "duration": 309,
    "start_time": "2023-03-27T17:20:28.144Z"
   },
   {
    "duration": 218,
    "start_time": "2023-03-27T17:20:28.454Z"
   },
   {
    "duration": 12,
    "start_time": "2023-03-27T17:20:28.676Z"
   },
   {
    "duration": 32,
    "start_time": "2023-03-27T17:20:28.691Z"
   },
   {
    "duration": 12,
    "start_time": "2023-03-27T17:20:28.725Z"
   },
   {
    "duration": 44,
    "start_time": "2023-03-27T17:20:28.739Z"
   },
   {
    "duration": 25,
    "start_time": "2023-03-27T17:20:28.784Z"
   },
   {
    "duration": 187,
    "start_time": "2023-03-27T17:20:28.812Z"
   },
   {
    "duration": 207,
    "start_time": "2023-03-27T17:20:29.001Z"
   },
   {
    "duration": 14,
    "start_time": "2023-03-27T17:20:29.212Z"
   },
   {
    "duration": 51,
    "start_time": "2023-03-27T17:20:29.228Z"
   },
   {
    "duration": 11,
    "start_time": "2023-03-27T17:20:29.281Z"
   },
   {
    "duration": 13,
    "start_time": "2023-03-27T17:20:29.294Z"
   },
   {
    "duration": 937,
    "start_time": "2023-03-27T17:20:29.312Z"
   },
   {
    "duration": 378,
    "start_time": "2023-03-27T17:20:30.251Z"
   },
   {
    "duration": 29,
    "start_time": "2023-03-27T17:20:30.631Z"
   },
   {
    "duration": 0,
    "start_time": "2023-03-27T17:20:30.662Z"
   },
   {
    "duration": 8,
    "start_time": "2023-03-27T17:22:27.054Z"
   },
   {
    "duration": 32,
    "start_time": "2023-03-27T17:24:11.739Z"
   },
   {
    "duration": 25,
    "start_time": "2023-03-27T17:24:23.644Z"
   },
   {
    "duration": 3,
    "start_time": "2023-03-27T17:29:04.412Z"
   },
   {
    "duration": 10,
    "start_time": "2023-03-27T17:32:14.982Z"
   },
   {
    "duration": 12,
    "start_time": "2023-03-27T17:32:26.827Z"
   },
   {
    "duration": 244,
    "start_time": "2023-03-27T17:33:07.632Z"
   },
   {
    "duration": 121,
    "start_time": "2023-03-27T17:33:13.208Z"
   },
   {
    "duration": 51,
    "start_time": "2023-03-27T17:33:45.780Z"
   },
   {
    "duration": 20,
    "start_time": "2023-03-27T17:33:52.041Z"
   },
   {
    "duration": 37,
    "start_time": "2023-03-27T17:34:32.552Z"
   },
   {
    "duration": 9,
    "start_time": "2023-03-27T17:37:49.345Z"
   },
   {
    "duration": 203,
    "start_time": "2023-03-27T17:44:41.315Z"
   },
   {
    "duration": 219,
    "start_time": "2023-03-27T17:46:13.852Z"
   },
   {
    "duration": 177,
    "start_time": "2023-03-27T17:46:23.128Z"
   },
   {
    "duration": 238,
    "start_time": "2023-03-27T17:46:30.080Z"
   },
   {
    "duration": 214,
    "start_time": "2023-03-27T17:46:49.527Z"
   },
   {
    "duration": 246,
    "start_time": "2023-03-27T17:46:55.634Z"
   },
   {
    "duration": 262,
    "start_time": "2023-03-27T17:47:03.284Z"
   },
   {
    "duration": 253,
    "start_time": "2023-03-27T17:47:09.303Z"
   },
   {
    "duration": 251,
    "start_time": "2023-03-27T17:47:20.075Z"
   },
   {
    "duration": 168,
    "start_time": "2023-03-27T17:47:24.599Z"
   },
   {
    "duration": 214,
    "start_time": "2023-03-27T17:48:21.884Z"
   },
   {
    "duration": 393,
    "start_time": "2023-03-27T17:50:02.744Z"
   },
   {
    "duration": 20,
    "start_time": "2023-03-27T18:00:49.079Z"
   },
   {
    "duration": 17,
    "start_time": "2023-03-27T18:01:25.298Z"
   },
   {
    "duration": 20,
    "start_time": "2023-03-27T18:01:32.532Z"
   },
   {
    "duration": 44,
    "start_time": "2023-03-27T18:19:32.498Z"
   },
   {
    "duration": 271,
    "start_time": "2023-03-27T18:19:40.296Z"
   },
   {
    "duration": 67,
    "start_time": "2023-03-27T18:20:10.319Z"
   },
   {
    "duration": 41,
    "start_time": "2023-03-27T18:20:56.286Z"
   },
   {
    "duration": 36,
    "start_time": "2023-03-27T18:21:06.990Z"
   },
   {
    "duration": 181,
    "start_time": "2023-03-27T18:21:21.600Z"
   },
   {
    "duration": 35,
    "start_time": "2023-03-27T18:22:08.133Z"
   },
   {
    "duration": 260,
    "start_time": "2023-03-27T18:22:16.345Z"
   },
   {
    "duration": 262,
    "start_time": "2023-03-27T18:23:00.647Z"
   },
   {
    "duration": 307,
    "start_time": "2023-03-27T18:23:27.596Z"
   },
   {
    "duration": 42,
    "start_time": "2023-03-27T18:30:10.828Z"
   },
   {
    "duration": 36,
    "start_time": "2023-03-27T18:31:33.437Z"
   },
   {
    "duration": 193,
    "start_time": "2023-03-27T18:34:02.948Z"
   },
   {
    "duration": 308,
    "start_time": "2023-03-27T18:35:03.055Z"
   },
   {
    "duration": 317,
    "start_time": "2023-03-27T18:35:41.928Z"
   },
   {
    "duration": 235,
    "start_time": "2023-03-27T18:36:01.765Z"
   },
   {
    "duration": 256,
    "start_time": "2023-03-27T18:36:11.445Z"
   },
   {
    "duration": 312,
    "start_time": "2023-03-27T18:36:20.797Z"
   },
   {
    "duration": 223,
    "start_time": "2023-03-27T18:36:41.563Z"
   },
   {
    "duration": 209,
    "start_time": "2023-03-27T18:36:57.344Z"
   },
   {
    "duration": 139,
    "start_time": "2023-03-27T18:37:34.657Z"
   },
   {
    "duration": 240,
    "start_time": "2023-03-27T18:37:43.802Z"
   },
   {
    "duration": 213,
    "start_time": "2023-03-27T18:38:02.997Z"
   },
   {
    "duration": 216,
    "start_time": "2023-03-27T18:38:12.717Z"
   },
   {
    "duration": 330,
    "start_time": "2023-03-27T18:38:20.764Z"
   },
   {
    "duration": 160,
    "start_time": "2023-03-27T18:38:51.437Z"
   },
   {
    "duration": 204,
    "start_time": "2023-03-27T18:39:03.165Z"
   },
   {
    "duration": 229,
    "start_time": "2023-03-27T18:39:56.002Z"
   },
   {
    "duration": 214,
    "start_time": "2023-03-27T18:40:15.632Z"
   },
   {
    "duration": 48,
    "start_time": "2023-03-27T18:54:29.094Z"
   },
   {
    "duration": 11,
    "start_time": "2023-03-27T19:37:12.893Z"
   },
   {
    "duration": 25,
    "start_time": "2023-03-27T19:37:17.742Z"
   },
   {
    "duration": 34,
    "start_time": "2023-03-27T19:37:36.554Z"
   },
   {
    "duration": 24,
    "start_time": "2023-03-27T19:38:38.223Z"
   },
   {
    "duration": 17,
    "start_time": "2023-03-27T19:39:41.357Z"
   },
   {
    "duration": 42,
    "start_time": "2023-03-27T19:40:19.908Z"
   },
   {
    "duration": 24,
    "start_time": "2023-03-27T19:48:32.865Z"
   },
   {
    "duration": 21,
    "start_time": "2023-03-27T19:48:42.796Z"
   },
   {
    "duration": 15,
    "start_time": "2023-03-27T19:48:53.932Z"
   },
   {
    "duration": 24,
    "start_time": "2023-03-27T19:48:59.008Z"
   },
   {
    "duration": 47,
    "start_time": "2023-03-27T19:49:10.031Z"
   },
   {
    "duration": 51,
    "start_time": "2023-03-27T19:54:18.757Z"
   },
   {
    "duration": 18,
    "start_time": "2023-03-27T19:55:50.706Z"
   },
   {
    "duration": 20,
    "start_time": "2023-03-27T19:55:57.341Z"
   },
   {
    "duration": 12,
    "start_time": "2023-03-27T19:56:31.915Z"
   },
   {
    "duration": 23,
    "start_time": "2023-03-27T19:56:41.163Z"
   },
   {
    "duration": 159,
    "start_time": "2023-03-27T20:24:32.987Z"
   },
   {
    "duration": 165,
    "start_time": "2023-03-27T20:24:43.197Z"
   },
   {
    "duration": 190,
    "start_time": "2023-03-27T20:25:49.508Z"
   },
   {
    "duration": 16,
    "start_time": "2023-03-27T20:27:41.522Z"
   },
   {
    "duration": 287,
    "start_time": "2023-03-27T20:27:46.907Z"
   },
   {
    "duration": 405,
    "start_time": "2023-03-27T20:28:18.647Z"
   },
   {
    "duration": 300,
    "start_time": "2023-03-27T20:28:29.620Z"
   },
   {
    "duration": 314,
    "start_time": "2023-03-27T20:28:45.141Z"
   },
   {
    "duration": 299,
    "start_time": "2023-03-27T20:29:04.792Z"
   },
   {
    "duration": 296,
    "start_time": "2023-03-27T20:30:00.398Z"
   },
   {
    "duration": 12,
    "start_time": "2023-03-27T20:32:45.342Z"
   },
   {
    "duration": 10,
    "start_time": "2023-03-27T20:33:10.124Z"
   },
   {
    "duration": 10,
    "start_time": "2023-03-27T20:33:16.940Z"
   },
   {
    "duration": 21,
    "start_time": "2023-03-27T20:33:24.566Z"
   },
   {
    "duration": 34,
    "start_time": "2023-03-27T20:33:52.601Z"
   },
   {
    "duration": 7,
    "start_time": "2023-03-27T20:34:36.408Z"
   },
   {
    "duration": 10,
    "start_time": "2023-03-27T20:34:58.919Z"
   },
   {
    "duration": 31,
    "start_time": "2023-03-27T20:35:06.653Z"
   },
   {
    "duration": 34,
    "start_time": "2023-03-27T20:35:29.437Z"
   },
   {
    "duration": 14,
    "start_time": "2023-03-27T20:36:41.298Z"
   },
   {
    "duration": 15,
    "start_time": "2023-03-27T20:36:48.268Z"
   },
   {
    "duration": 24,
    "start_time": "2023-03-27T20:37:04.522Z"
   },
   {
    "duration": 25,
    "start_time": "2023-03-27T20:37:19.733Z"
   },
   {
    "duration": 21,
    "start_time": "2023-03-27T22:08:24.081Z"
   },
   {
    "duration": 1203,
    "start_time": "2023-03-27T22:24:24.056Z"
   },
   {
    "duration": 1349,
    "start_time": "2023-03-27T22:24:25.261Z"
   },
   {
    "duration": 19,
    "start_time": "2023-03-27T22:24:26.611Z"
   },
   {
    "duration": 5,
    "start_time": "2023-03-27T22:24:26.632Z"
   },
   {
    "duration": 24,
    "start_time": "2023-03-27T22:24:26.639Z"
   },
   {
    "duration": 53,
    "start_time": "2023-03-27T22:24:26.665Z"
   },
   {
    "duration": 388,
    "start_time": "2023-03-27T22:24:26.720Z"
   },
   {
    "duration": 116,
    "start_time": "2023-03-27T22:24:27.110Z"
   },
   {
    "duration": 117,
    "start_time": "2023-03-27T22:24:27.227Z"
   },
   {
    "duration": 51,
    "start_time": "2023-03-27T22:24:27.347Z"
   },
   {
    "duration": 268,
    "start_time": "2023-03-27T22:24:27.400Z"
   },
   {
    "duration": 193,
    "start_time": "2023-03-27T22:24:27.670Z"
   },
   {
    "duration": 18,
    "start_time": "2023-03-27T22:24:27.865Z"
   },
   {
    "duration": 16,
    "start_time": "2023-03-27T22:24:27.892Z"
   },
   {
    "duration": 13,
    "start_time": "2023-03-27T22:24:27.910Z"
   },
   {
    "duration": 57,
    "start_time": "2023-03-27T22:24:27.925Z"
   },
   {
    "duration": 32,
    "start_time": "2023-03-27T22:24:27.984Z"
   },
   {
    "duration": 176,
    "start_time": "2023-03-27T22:24:28.018Z"
   },
   {
    "duration": 190,
    "start_time": "2023-03-27T22:24:28.196Z"
   },
   {
    "duration": 10,
    "start_time": "2023-03-27T22:24:28.392Z"
   },
   {
    "duration": 11,
    "start_time": "2023-03-27T22:24:28.404Z"
   },
   {
    "duration": 8,
    "start_time": "2023-03-27T22:24:28.417Z"
   },
   {
    "duration": 55,
    "start_time": "2023-03-27T22:24:28.427Z"
   },
   {
    "duration": 827,
    "start_time": "2023-03-27T22:24:28.483Z"
   },
   {
    "duration": 338,
    "start_time": "2023-03-27T22:24:29.311Z"
   },
   {
    "duration": 8,
    "start_time": "2023-03-27T22:24:29.650Z"
   },
   {
    "duration": 290,
    "start_time": "2023-03-27T22:24:29.660Z"
   },
   {
    "duration": 25,
    "start_time": "2023-03-27T22:24:29.953Z"
   },
   {
    "duration": 34,
    "start_time": "2023-03-27T22:24:29.984Z"
   },
   {
    "duration": 228,
    "start_time": "2023-03-27T22:24:30.020Z"
   },
   {
    "duration": 35,
    "start_time": "2023-03-27T22:24:30.250Z"
   },
   {
    "duration": 23,
    "start_time": "2023-03-27T22:24:30.289Z"
   },
   {
    "duration": 27,
    "start_time": "2023-03-27T22:24:30.314Z"
   },
   {
    "duration": 1497,
    "start_time": "2023-03-28T19:03:26.096Z"
   },
   {
    "duration": 1145,
    "start_time": "2023-03-28T19:03:27.595Z"
   },
   {
    "duration": 21,
    "start_time": "2023-03-28T19:03:28.741Z"
   },
   {
    "duration": 5,
    "start_time": "2023-03-28T19:03:28.764Z"
   },
   {
    "duration": 23,
    "start_time": "2023-03-28T19:03:28.771Z"
   },
   {
    "duration": 67,
    "start_time": "2023-03-28T19:03:28.796Z"
   },
   {
    "duration": 1235,
    "start_time": "2023-03-28T19:03:36.733Z"
   },
   {
    "duration": 1100,
    "start_time": "2023-03-28T19:03:37.971Z"
   },
   {
    "duration": 21,
    "start_time": "2023-03-28T19:03:39.073Z"
   },
   {
    "duration": 5,
    "start_time": "2023-03-28T19:03:39.096Z"
   },
   {
    "duration": 26,
    "start_time": "2023-03-28T19:03:39.103Z"
   },
   {
    "duration": 69,
    "start_time": "2023-03-28T19:03:39.130Z"
   },
   {
    "duration": 515,
    "start_time": "2023-03-28T19:03:39.201Z"
   },
   {
    "duration": 163,
    "start_time": "2023-03-28T19:03:39.718Z"
   },
   {
    "duration": 101,
    "start_time": "2023-03-28T19:03:39.883Z"
   },
   {
    "duration": 24,
    "start_time": "2023-03-28T19:03:39.987Z"
   },
   {
    "duration": 284,
    "start_time": "2023-03-28T19:03:40.012Z"
   },
   {
    "duration": 191,
    "start_time": "2023-03-28T19:03:40.297Z"
   },
   {
    "duration": 10,
    "start_time": "2023-03-28T19:03:40.490Z"
   },
   {
    "duration": 11,
    "start_time": "2023-03-28T19:03:40.502Z"
   },
   {
    "duration": 52,
    "start_time": "2023-03-28T19:03:40.516Z"
   },
   {
    "duration": 10,
    "start_time": "2023-03-28T19:03:40.569Z"
   },
   {
    "duration": 24,
    "start_time": "2023-03-28T19:03:40.581Z"
   },
   {
    "duration": 176,
    "start_time": "2023-03-28T19:03:40.606Z"
   },
   {
    "duration": 178,
    "start_time": "2023-03-28T19:03:40.784Z"
   },
   {
    "duration": 9,
    "start_time": "2023-03-28T19:03:40.964Z"
   },
   {
    "duration": 10,
    "start_time": "2023-03-28T19:03:40.974Z"
   },
   {
    "duration": 12,
    "start_time": "2023-03-28T19:03:40.985Z"
   },
   {
    "duration": 9,
    "start_time": "2023-03-28T19:03:40.999Z"
   },
   {
    "duration": 897,
    "start_time": "2023-03-28T19:03:41.009Z"
   },
   {
    "duration": 386,
    "start_time": "2023-03-28T19:03:41.908Z"
   },
   {
    "duration": 9,
    "start_time": "2023-03-28T19:03:42.296Z"
   },
   {
    "duration": 215,
    "start_time": "2023-03-28T19:03:42.307Z"
   },
   {
    "duration": 15,
    "start_time": "2023-03-28T19:03:42.524Z"
   },
   {
    "duration": 51,
    "start_time": "2023-03-28T19:03:42.540Z"
   },
   {
    "duration": 228,
    "start_time": "2023-03-28T19:03:42.593Z"
   },
   {
    "duration": 18,
    "start_time": "2023-03-28T19:03:42.823Z"
   },
   {
    "duration": 35,
    "start_time": "2023-03-28T19:03:42.843Z"
   },
   {
    "duration": 23,
    "start_time": "2023-03-28T19:03:42.880Z"
   },
   {
    "duration": 22,
    "start_time": "2023-03-28T19:16:32.212Z"
   },
   {
    "duration": 5,
    "start_time": "2023-03-28T19:17:15.682Z"
   },
   {
    "duration": 4,
    "start_time": "2023-03-28T19:18:36.860Z"
   },
   {
    "duration": 24,
    "start_time": "2023-03-28T19:24:21.711Z"
   },
   {
    "duration": 528,
    "start_time": "2023-03-28T19:27:10.301Z"
   },
   {
    "duration": 412,
    "start_time": "2023-03-28T19:27:15.432Z"
   },
   {
    "duration": 497,
    "start_time": "2023-03-28T19:27:35.636Z"
   },
   {
    "duration": 389,
    "start_time": "2023-03-28T19:27:45.590Z"
   },
   {
    "duration": 395,
    "start_time": "2023-03-28T19:27:49.446Z"
   },
   {
    "duration": 27,
    "start_time": "2023-03-28T19:37:56.640Z"
   },
   {
    "duration": 9,
    "start_time": "2023-03-28T19:38:50.994Z"
   },
   {
    "duration": 11,
    "start_time": "2023-03-28T19:39:02.471Z"
   },
   {
    "duration": 1702,
    "start_time": "2023-03-29T20:10:27.725Z"
   },
   {
    "duration": 1176,
    "start_time": "2023-03-29T20:10:29.429Z"
   },
   {
    "duration": 20,
    "start_time": "2023-03-29T20:10:30.607Z"
   },
   {
    "duration": 59,
    "start_time": "2023-03-29T20:10:30.630Z"
   },
   {
    "duration": 135,
    "start_time": "2023-03-29T20:10:30.691Z"
   },
   {
    "duration": 0,
    "start_time": "2023-03-29T20:10:30.828Z"
   },
   {
    "duration": 0,
    "start_time": "2023-03-29T20:10:30.830Z"
   },
   {
    "duration": 0,
    "start_time": "2023-03-29T20:10:30.830Z"
   },
   {
    "duration": 0,
    "start_time": "2023-03-29T20:10:30.831Z"
   },
   {
    "duration": 0,
    "start_time": "2023-03-29T20:10:30.833Z"
   },
   {
    "duration": 0,
    "start_time": "2023-03-29T20:10:30.833Z"
   },
   {
    "duration": 0,
    "start_time": "2023-03-29T20:10:30.834Z"
   },
   {
    "duration": 0,
    "start_time": "2023-03-29T20:10:30.835Z"
   },
   {
    "duration": 0,
    "start_time": "2023-03-29T20:10:30.836Z"
   },
   {
    "duration": 0,
    "start_time": "2023-03-29T20:10:30.837Z"
   },
   {
    "duration": 0,
    "start_time": "2023-03-29T20:10:30.838Z"
   },
   {
    "duration": 0,
    "start_time": "2023-03-29T20:10:30.839Z"
   },
   {
    "duration": 0,
    "start_time": "2023-03-29T20:10:30.840Z"
   },
   {
    "duration": 0,
    "start_time": "2023-03-29T20:10:30.841Z"
   },
   {
    "duration": 0,
    "start_time": "2023-03-29T20:10:30.842Z"
   },
   {
    "duration": 0,
    "start_time": "2023-03-29T20:10:30.843Z"
   },
   {
    "duration": 0,
    "start_time": "2023-03-29T20:10:30.845Z"
   },
   {
    "duration": 0,
    "start_time": "2023-03-29T20:10:30.845Z"
   },
   {
    "duration": 0,
    "start_time": "2023-03-29T20:10:30.846Z"
   },
   {
    "duration": 0,
    "start_time": "2023-03-29T20:10:30.847Z"
   },
   {
    "duration": 0,
    "start_time": "2023-03-29T20:10:30.848Z"
   },
   {
    "duration": 0,
    "start_time": "2023-03-29T20:10:30.849Z"
   },
   {
    "duration": 0,
    "start_time": "2023-03-29T20:10:30.850Z"
   },
   {
    "duration": 0,
    "start_time": "2023-03-29T20:10:30.851Z"
   },
   {
    "duration": 0,
    "start_time": "2023-03-29T20:10:30.852Z"
   },
   {
    "duration": 0,
    "start_time": "2023-03-29T20:10:30.853Z"
   },
   {
    "duration": 0,
    "start_time": "2023-03-29T20:10:30.854Z"
   },
   {
    "duration": 0,
    "start_time": "2023-03-29T20:10:30.855Z"
   },
   {
    "duration": 0,
    "start_time": "2023-03-29T20:10:30.856Z"
   },
   {
    "duration": 0,
    "start_time": "2023-03-29T20:10:30.857Z"
   },
   {
    "duration": 0,
    "start_time": "2023-03-29T20:10:30.858Z"
   },
   {
    "duration": 0,
    "start_time": "2023-03-29T20:10:30.859Z"
   },
   {
    "duration": 13,
    "start_time": "2023-03-29T20:11:42.819Z"
   },
   {
    "duration": 4,
    "start_time": "2023-03-29T20:13:56.886Z"
   },
   {
    "duration": 13,
    "start_time": "2023-03-29T20:14:08.706Z"
   },
   {
    "duration": 4,
    "start_time": "2023-03-29T20:14:20.619Z"
   },
   {
    "duration": 10,
    "start_time": "2023-03-29T20:15:04.277Z"
   },
   {
    "duration": 14,
    "start_time": "2023-03-29T20:15:22.439Z"
   },
   {
    "duration": 4,
    "start_time": "2023-03-29T20:15:35.897Z"
   },
   {
    "duration": 25,
    "start_time": "2023-03-29T20:18:09.454Z"
   },
   {
    "duration": 5170,
    "start_time": "2023-03-29T20:33:18.231Z"
   },
   {
    "duration": 5258,
    "start_time": "2023-03-29T20:33:45.012Z"
   },
   {
    "duration": 1703,
    "start_time": "2023-03-29T20:40:46.484Z"
   },
   {
    "duration": 15,
    "start_time": "2023-03-29T20:45:59.756Z"
   },
   {
    "duration": 558,
    "start_time": "2023-03-29T20:46:03.431Z"
   },
   {
    "duration": 85,
    "start_time": "2023-03-29T20:46:18.580Z"
   },
   {
    "duration": 75,
    "start_time": "2023-03-29T20:46:25.341Z"
   },
   {
    "duration": 272,
    "start_time": "2023-03-29T20:46:30.690Z"
   },
   {
    "duration": 277,
    "start_time": "2023-03-29T20:46:43.885Z"
   },
   {
    "duration": 186,
    "start_time": "2023-03-29T20:46:52.226Z"
   },
   {
    "duration": 71,
    "start_time": "2023-03-29T20:48:48.882Z"
   },
   {
    "duration": 8,
    "start_time": "2023-03-29T20:51:53.252Z"
   },
   {
    "duration": 8,
    "start_time": "2023-03-29T20:52:06.885Z"
   },
   {
    "duration": 9,
    "start_time": "2023-03-29T20:52:17.935Z"
   },
   {
    "duration": 7,
    "start_time": "2023-03-29T20:52:49.286Z"
   },
   {
    "duration": 10,
    "start_time": "2023-03-29T20:53:26.947Z"
   },
   {
    "duration": 13,
    "start_time": "2023-03-29T20:54:25.200Z"
   },
   {
    "duration": 12,
    "start_time": "2023-03-29T20:55:52.642Z"
   },
   {
    "duration": 5,
    "start_time": "2023-03-29T20:56:45.783Z"
   },
   {
    "duration": 23,
    "start_time": "2023-03-29T21:11:20.132Z"
   },
   {
    "duration": 22,
    "start_time": "2023-03-29T21:11:24.038Z"
   },
   {
    "duration": 14,
    "start_time": "2023-03-29T21:11:38.214Z"
   },
   {
    "duration": 12,
    "start_time": "2023-03-29T21:11:45.744Z"
   },
   {
    "duration": 14,
    "start_time": "2023-03-29T21:12:26.746Z"
   },
   {
    "duration": 1367,
    "start_time": "2023-03-29T21:12:49.689Z"
   },
   {
    "duration": 866,
    "start_time": "2023-03-29T21:12:51.058Z"
   },
   {
    "duration": 32,
    "start_time": "2023-03-29T21:12:51.926Z"
   },
   {
    "duration": 65,
    "start_time": "2023-03-29T21:12:51.960Z"
   },
   {
    "duration": 36,
    "start_time": "2023-03-29T21:12:52.030Z"
   },
   {
    "duration": 60,
    "start_time": "2023-03-29T21:12:52.068Z"
   },
   {
    "duration": 6007,
    "start_time": "2023-03-29T21:12:52.131Z"
   },
   {
    "duration": 1627,
    "start_time": "2023-03-29T21:12:58.140Z"
   },
   {
    "duration": 12,
    "start_time": "2023-03-29T21:12:59.769Z"
   },
   {
    "duration": 8,
    "start_time": "2023-03-29T21:12:59.784Z"
   },
   {
    "duration": 450,
    "start_time": "2023-03-29T21:12:59.823Z"
   },
   {
    "duration": 10,
    "start_time": "2023-03-29T21:13:00.274Z"
   },
   {
    "duration": 141,
    "start_time": "2023-03-29T21:13:00.285Z"
   },
   {
    "duration": 0,
    "start_time": "2023-03-29T21:13:00.433Z"
   },
   {
    "duration": 0,
    "start_time": "2023-03-29T21:13:00.434Z"
   },
   {
    "duration": 0,
    "start_time": "2023-03-29T21:13:00.435Z"
   },
   {
    "duration": 0,
    "start_time": "2023-03-29T21:13:00.436Z"
   },
   {
    "duration": 0,
    "start_time": "2023-03-29T21:13:00.437Z"
   },
   {
    "duration": 0,
    "start_time": "2023-03-29T21:13:00.438Z"
   },
   {
    "duration": 0,
    "start_time": "2023-03-29T21:13:00.439Z"
   },
   {
    "duration": 0,
    "start_time": "2023-03-29T21:13:00.440Z"
   },
   {
    "duration": 0,
    "start_time": "2023-03-29T21:13:00.441Z"
   },
   {
    "duration": 0,
    "start_time": "2023-03-29T21:13:00.442Z"
   },
   {
    "duration": 0,
    "start_time": "2023-03-29T21:13:00.443Z"
   },
   {
    "duration": 0,
    "start_time": "2023-03-29T21:13:00.444Z"
   },
   {
    "duration": 0,
    "start_time": "2023-03-29T21:13:00.445Z"
   },
   {
    "duration": 0,
    "start_time": "2023-03-29T21:13:00.446Z"
   },
   {
    "duration": 0,
    "start_time": "2023-03-29T21:13:00.447Z"
   },
   {
    "duration": 0,
    "start_time": "2023-03-29T21:13:00.448Z"
   },
   {
    "duration": 0,
    "start_time": "2023-03-29T21:13:00.449Z"
   },
   {
    "duration": 0,
    "start_time": "2023-03-29T21:13:00.450Z"
   },
   {
    "duration": 0,
    "start_time": "2023-03-29T21:13:00.451Z"
   },
   {
    "duration": 0,
    "start_time": "2023-03-29T21:13:00.452Z"
   },
   {
    "duration": 0,
    "start_time": "2023-03-29T21:13:00.453Z"
   },
   {
    "duration": 0,
    "start_time": "2023-03-29T21:13:00.454Z"
   },
   {
    "duration": 0,
    "start_time": "2023-03-29T21:13:00.455Z"
   },
   {
    "duration": 0,
    "start_time": "2023-03-29T21:13:00.456Z"
   },
   {
    "duration": 0,
    "start_time": "2023-03-29T21:13:00.458Z"
   },
   {
    "duration": 0,
    "start_time": "2023-03-29T21:13:00.458Z"
   },
   {
    "duration": 0,
    "start_time": "2023-03-29T21:13:00.462Z"
   },
   {
    "duration": 0,
    "start_time": "2023-03-29T21:13:00.463Z"
   },
   {
    "duration": 0,
    "start_time": "2023-03-29T21:13:00.464Z"
   },
   {
    "duration": 0,
    "start_time": "2023-03-29T21:13:00.465Z"
   },
   {
    "duration": 0,
    "start_time": "2023-03-29T21:13:00.465Z"
   },
   {
    "duration": 0,
    "start_time": "2023-03-29T21:13:00.466Z"
   },
   {
    "duration": 10,
    "start_time": "2023-03-29T21:14:20.498Z"
   },
   {
    "duration": 19,
    "start_time": "2023-03-29T21:14:22.215Z"
   },
   {
    "duration": 9,
    "start_time": "2023-03-29T21:15:52.661Z"
   },
   {
    "duration": 24,
    "start_time": "2023-03-29T21:16:38.328Z"
   },
   {
    "duration": 9,
    "start_time": "2023-03-29T21:16:50.445Z"
   },
   {
    "duration": 13,
    "start_time": "2023-03-29T21:17:52.835Z"
   },
   {
    "duration": 11,
    "start_time": "2023-03-29T21:17:59.158Z"
   },
   {
    "duration": 1429,
    "start_time": "2023-03-29T21:24:30.933Z"
   },
   {
    "duration": 7,
    "start_time": "2023-03-29T21:53:17.188Z"
   },
   {
    "duration": 23,
    "start_time": "2023-03-29T21:55:27.117Z"
   },
   {
    "duration": 848,
    "start_time": "2023-03-29T21:55:37.276Z"
   },
   {
    "duration": 413,
    "start_time": "2023-03-29T21:55:47.133Z"
   },
   {
    "duration": 1438,
    "start_time": "2023-04-01T11:12:28.391Z"
   },
   {
    "duration": 918,
    "start_time": "2023-04-01T11:12:29.831Z"
   },
   {
    "duration": 20,
    "start_time": "2023-04-01T11:12:30.751Z"
   },
   {
    "duration": 33,
    "start_time": "2023-04-01T11:12:30.773Z"
   },
   {
    "duration": 34,
    "start_time": "2023-04-01T11:12:30.808Z"
   },
   {
    "duration": 101,
    "start_time": "2023-04-01T11:12:30.844Z"
   },
   {
    "duration": 4509,
    "start_time": "2023-04-01T11:12:30.947Z"
   },
   {
    "duration": 1440,
    "start_time": "2023-04-01T11:12:35.458Z"
   },
   {
    "duration": 23,
    "start_time": "2023-04-01T11:12:36.900Z"
   },
   {
    "duration": 7,
    "start_time": "2023-04-01T11:12:36.927Z"
   },
   {
    "duration": 429,
    "start_time": "2023-04-01T11:12:36.936Z"
   },
   {
    "duration": 11,
    "start_time": "2023-04-01T11:12:37.368Z"
   },
   {
    "duration": 117,
    "start_time": "2023-04-01T11:12:37.381Z"
   },
   {
    "duration": 0,
    "start_time": "2023-04-01T11:12:37.501Z"
   },
   {
    "duration": 0,
    "start_time": "2023-04-01T11:12:37.502Z"
   },
   {
    "duration": 0,
    "start_time": "2023-04-01T11:12:37.503Z"
   },
   {
    "duration": 0,
    "start_time": "2023-04-01T11:12:37.504Z"
   },
   {
    "duration": 0,
    "start_time": "2023-04-01T11:12:37.505Z"
   },
   {
    "duration": 0,
    "start_time": "2023-04-01T11:12:37.517Z"
   },
   {
    "duration": 0,
    "start_time": "2023-04-01T11:12:37.518Z"
   },
   {
    "duration": 0,
    "start_time": "2023-04-01T11:12:37.519Z"
   },
   {
    "duration": 0,
    "start_time": "2023-04-01T11:12:37.520Z"
   },
   {
    "duration": 0,
    "start_time": "2023-04-01T11:12:37.521Z"
   },
   {
    "duration": 0,
    "start_time": "2023-04-01T11:12:37.522Z"
   },
   {
    "duration": 0,
    "start_time": "2023-04-01T11:12:37.523Z"
   },
   {
    "duration": 0,
    "start_time": "2023-04-01T11:12:37.524Z"
   },
   {
    "duration": 0,
    "start_time": "2023-04-01T11:12:37.525Z"
   },
   {
    "duration": 0,
    "start_time": "2023-04-01T11:12:37.526Z"
   },
   {
    "duration": 0,
    "start_time": "2023-04-01T11:12:37.527Z"
   },
   {
    "duration": 0,
    "start_time": "2023-04-01T11:12:37.528Z"
   },
   {
    "duration": 0,
    "start_time": "2023-04-01T11:12:37.528Z"
   },
   {
    "duration": 0,
    "start_time": "2023-04-01T11:12:37.529Z"
   },
   {
    "duration": 0,
    "start_time": "2023-04-01T11:12:37.530Z"
   },
   {
    "duration": 0,
    "start_time": "2023-04-01T11:12:37.531Z"
   },
   {
    "duration": 0,
    "start_time": "2023-04-01T11:12:37.532Z"
   },
   {
    "duration": 0,
    "start_time": "2023-04-01T11:12:37.533Z"
   },
   {
    "duration": 0,
    "start_time": "2023-04-01T11:12:37.534Z"
   },
   {
    "duration": 0,
    "start_time": "2023-04-01T11:12:37.535Z"
   },
   {
    "duration": 0,
    "start_time": "2023-04-01T11:12:37.536Z"
   },
   {
    "duration": 0,
    "start_time": "2023-04-01T11:12:37.537Z"
   },
   {
    "duration": 0,
    "start_time": "2023-04-01T11:12:37.538Z"
   },
   {
    "duration": 0,
    "start_time": "2023-04-01T11:12:37.538Z"
   },
   {
    "duration": 0,
    "start_time": "2023-04-01T11:12:37.539Z"
   },
   {
    "duration": 0,
    "start_time": "2023-04-01T11:12:37.540Z"
   },
   {
    "duration": 0,
    "start_time": "2023-04-01T11:12:37.541Z"
   },
   {
    "duration": 2,
    "start_time": "2023-04-01T11:13:48.889Z"
   },
   {
    "duration": 9,
    "start_time": "2023-04-01T11:13:51.110Z"
   },
   {
    "duration": 38,
    "start_time": "2023-04-01T11:14:31.335Z"
   },
   {
    "duration": 370,
    "start_time": "2023-04-01T11:14:48.074Z"
   },
   {
    "duration": 66,
    "start_time": "2023-04-01T11:14:54.902Z"
   },
   {
    "duration": 72,
    "start_time": "2023-04-01T11:15:07.393Z"
   },
   {
    "duration": 85,
    "start_time": "2023-04-01T11:15:33.818Z"
   },
   {
    "duration": 34,
    "start_time": "2023-04-01T11:16:02.049Z"
   },
   {
    "duration": 75,
    "start_time": "2023-04-01T11:16:08.524Z"
   },
   {
    "duration": 68,
    "start_time": "2023-04-01T11:16:15.357Z"
   },
   {
    "duration": 77,
    "start_time": "2023-04-01T11:16:19.631Z"
   },
   {
    "duration": 5,
    "start_time": "2023-04-01T11:16:44.725Z"
   },
   {
    "duration": 13,
    "start_time": "2023-04-01T11:17:28.676Z"
   },
   {
    "duration": 35,
    "start_time": "2023-04-01T11:17:32.416Z"
   },
   {
    "duration": 284,
    "start_time": "2023-04-01T11:17:35.015Z"
   },
   {
    "duration": 408,
    "start_time": "2023-04-01T11:17:41.229Z"
   },
   {
    "duration": 39,
    "start_time": "2023-04-01T11:18:34.796Z"
   },
   {
    "duration": 175,
    "start_time": "2023-04-01T11:19:54.411Z"
   },
   {
    "duration": 162,
    "start_time": "2023-04-01T11:19:56.597Z"
   },
   {
    "duration": 142,
    "start_time": "2023-04-01T11:20:31.336Z"
   },
   {
    "duration": 35,
    "start_time": "2023-04-01T11:21:01.699Z"
   },
   {
    "duration": 38,
    "start_time": "2023-04-01T11:21:24.911Z"
   },
   {
    "duration": 34,
    "start_time": "2023-04-01T11:23:09.636Z"
   },
   {
    "duration": 39,
    "start_time": "2023-04-01T11:23:47.119Z"
   },
   {
    "duration": 139,
    "start_time": "2023-04-01T11:25:15.882Z"
   },
   {
    "duration": 139,
    "start_time": "2023-04-01T11:25:30.939Z"
   },
   {
    "duration": 138,
    "start_time": "2023-04-01T11:26:10.297Z"
   },
   {
    "duration": 148,
    "start_time": "2023-04-01T11:26:26.190Z"
   },
   {
    "duration": 86,
    "start_time": "2023-04-01T11:27:06.758Z"
   },
   {
    "duration": 192,
    "start_time": "2023-04-01T11:27:24.437Z"
   },
   {
    "duration": 8,
    "start_time": "2023-04-01T11:27:48.878Z"
   },
   {
    "duration": 36,
    "start_time": "2023-04-01T11:27:51.868Z"
   },
   {
    "duration": 9,
    "start_time": "2023-04-01T11:27:56.429Z"
   },
   {
    "duration": 10,
    "start_time": "2023-04-01T11:27:57.297Z"
   },
   {
    "duration": 23,
    "start_time": "2023-04-01T11:28:02.000Z"
   },
   {
    "duration": 153,
    "start_time": "2023-04-01T11:28:04.223Z"
   },
   {
    "duration": 1217,
    "start_time": "2023-04-01T11:29:28.478Z"
   },
   {
    "duration": 1651,
    "start_time": "2023-04-01T11:29:29.697Z"
   },
   {
    "duration": 18,
    "start_time": "2023-04-01T11:29:31.350Z"
   },
   {
    "duration": 34,
    "start_time": "2023-04-01T11:29:31.370Z"
   },
   {
    "duration": 30,
    "start_time": "2023-04-01T11:29:31.406Z"
   },
   {
    "duration": 50,
    "start_time": "2023-04-01T11:29:31.438Z"
   },
   {
    "duration": 4639,
    "start_time": "2023-04-01T11:29:31.490Z"
   },
   {
    "duration": 1458,
    "start_time": "2023-04-01T11:29:36.132Z"
   },
   {
    "duration": 11,
    "start_time": "2023-04-01T11:29:37.592Z"
   },
   {
    "duration": 6,
    "start_time": "2023-04-01T11:29:37.617Z"
   },
   {
    "duration": 430,
    "start_time": "2023-04-01T11:29:37.624Z"
   },
   {
    "duration": 10,
    "start_time": "2023-04-01T11:29:38.056Z"
   },
   {
    "duration": 4,
    "start_time": "2023-04-01T11:29:38.067Z"
   },
   {
    "duration": 22,
    "start_time": "2023-04-01T11:29:38.073Z"
   },
   {
    "duration": 48,
    "start_time": "2023-04-01T11:29:38.097Z"
   },
   {
    "duration": 389,
    "start_time": "2023-04-01T11:29:38.146Z"
   },
   {
    "duration": 112,
    "start_time": "2023-04-01T11:29:38.537Z"
   },
   {
    "duration": 120,
    "start_time": "2023-04-01T11:29:38.650Z"
   },
   {
    "duration": 5,
    "start_time": "2023-04-01T11:29:38.772Z"
   },
   {
    "duration": 39,
    "start_time": "2023-04-01T11:29:38.779Z"
   },
   {
    "duration": 420,
    "start_time": "2023-04-01T11:29:38.820Z"
   },
   {
    "duration": 240,
    "start_time": "2023-04-01T11:29:39.242Z"
   },
   {
    "duration": 421,
    "start_time": "2023-04-01T11:29:39.484Z"
   },
   {
    "duration": 144,
    "start_time": "2023-04-01T11:29:39.907Z"
   },
   {
    "duration": 8,
    "start_time": "2023-04-01T11:29:40.053Z"
   },
   {
    "duration": 39,
    "start_time": "2023-04-01T11:29:40.063Z"
   },
   {
    "duration": 20,
    "start_time": "2023-04-01T11:29:40.104Z"
   },
   {
    "duration": 11,
    "start_time": "2023-04-01T11:29:40.129Z"
   },
   {
    "duration": 27,
    "start_time": "2023-04-01T11:29:40.141Z"
   },
   {
    "duration": 178,
    "start_time": "2023-04-01T11:29:40.170Z"
   },
   {
    "duration": 0,
    "start_time": "2023-04-01T11:29:40.349Z"
   },
   {
    "duration": 0,
    "start_time": "2023-04-01T11:29:40.351Z"
   },
   {
    "duration": 0,
    "start_time": "2023-04-01T11:29:40.352Z"
   },
   {
    "duration": 0,
    "start_time": "2023-04-01T11:29:40.353Z"
   },
   {
    "duration": 0,
    "start_time": "2023-04-01T11:29:40.354Z"
   },
   {
    "duration": 0,
    "start_time": "2023-04-01T11:29:40.355Z"
   },
   {
    "duration": 0,
    "start_time": "2023-04-01T11:29:40.356Z"
   },
   {
    "duration": 0,
    "start_time": "2023-04-01T11:29:40.357Z"
   },
   {
    "duration": 0,
    "start_time": "2023-04-01T11:29:40.359Z"
   },
   {
    "duration": 0,
    "start_time": "2023-04-01T11:29:40.360Z"
   },
   {
    "duration": 0,
    "start_time": "2023-04-01T11:29:40.361Z"
   },
   {
    "duration": 0,
    "start_time": "2023-04-01T11:29:40.361Z"
   },
   {
    "duration": 0,
    "start_time": "2023-04-01T11:29:40.362Z"
   },
   {
    "duration": 0,
    "start_time": "2023-04-01T11:29:40.363Z"
   },
   {
    "duration": 0,
    "start_time": "2023-04-01T11:29:40.364Z"
   },
   {
    "duration": 9,
    "start_time": "2023-04-01T11:34:26.538Z"
   },
   {
    "duration": 9,
    "start_time": "2023-04-01T11:34:27.273Z"
   },
   {
    "duration": 11,
    "start_time": "2023-04-01T11:34:35.120Z"
   },
   {
    "duration": 9,
    "start_time": "2023-04-01T11:34:35.728Z"
   },
   {
    "duration": 1297,
    "start_time": "2023-04-01T11:35:26.812Z"
   },
   {
    "duration": 1165,
    "start_time": "2023-04-01T11:35:28.111Z"
   },
   {
    "duration": 17,
    "start_time": "2023-04-01T11:35:29.278Z"
   },
   {
    "duration": 11,
    "start_time": "2023-04-01T11:35:29.296Z"
   },
   {
    "duration": 16,
    "start_time": "2023-04-01T11:35:29.308Z"
   },
   {
    "duration": 53,
    "start_time": "2023-04-01T11:35:29.325Z"
   },
   {
    "duration": 4343,
    "start_time": "2023-04-01T11:35:29.380Z"
   },
   {
    "duration": 1381,
    "start_time": "2023-04-01T11:35:33.725Z"
   },
   {
    "duration": 20,
    "start_time": "2023-04-01T11:35:35.108Z"
   },
   {
    "duration": 10,
    "start_time": "2023-04-01T11:35:35.130Z"
   },
   {
    "duration": 455,
    "start_time": "2023-04-01T11:35:35.143Z"
   },
   {
    "duration": 18,
    "start_time": "2023-04-01T11:35:35.600Z"
   },
   {
    "duration": 3,
    "start_time": "2023-04-01T11:35:35.620Z"
   },
   {
    "duration": 26,
    "start_time": "2023-04-01T11:35:35.624Z"
   },
   {
    "duration": 57,
    "start_time": "2023-04-01T11:35:35.651Z"
   },
   {
    "duration": 426,
    "start_time": "2023-04-01T11:35:35.710Z"
   },
   {
    "duration": 107,
    "start_time": "2023-04-01T11:35:36.137Z"
   },
   {
    "duration": 161,
    "start_time": "2023-04-01T11:35:36.245Z"
   },
   {
    "duration": 12,
    "start_time": "2023-04-01T11:35:36.408Z"
   },
   {
    "duration": 30,
    "start_time": "2023-04-01T11:35:36.422Z"
   },
   {
    "duration": 491,
    "start_time": "2023-04-01T11:35:36.455Z"
   },
   {
    "duration": 241,
    "start_time": "2023-04-01T11:35:36.947Z"
   },
   {
    "duration": 412,
    "start_time": "2023-04-01T11:35:37.190Z"
   },
   {
    "duration": 139,
    "start_time": "2023-04-01T11:35:37.604Z"
   },
   {
    "duration": 9,
    "start_time": "2023-04-01T11:35:37.744Z"
   },
   {
    "duration": 19,
    "start_time": "2023-04-01T11:35:37.754Z"
   },
   {
    "duration": 9,
    "start_time": "2023-04-01T11:35:37.775Z"
   },
   {
    "duration": 37,
    "start_time": "2023-04-01T11:35:37.787Z"
   },
   {
    "duration": 22,
    "start_time": "2023-04-01T11:35:37.825Z"
   },
   {
    "duration": 8,
    "start_time": "2023-04-01T11:35:37.848Z"
   },
   {
    "duration": 11,
    "start_time": "2023-04-01T11:35:37.858Z"
   },
   {
    "duration": 8,
    "start_time": "2023-04-01T11:35:37.871Z"
   },
   {
    "duration": 40,
    "start_time": "2023-04-01T11:35:37.881Z"
   },
   {
    "duration": 809,
    "start_time": "2023-04-01T11:35:37.923Z"
   },
   {
    "duration": 315,
    "start_time": "2023-04-01T11:35:38.735Z"
   },
   {
    "duration": 9,
    "start_time": "2023-04-01T11:35:39.052Z"
   },
   {
    "duration": 222,
    "start_time": "2023-04-01T11:35:39.063Z"
   },
   {
    "duration": 15,
    "start_time": "2023-04-01T11:35:39.287Z"
   },
   {
    "duration": 70,
    "start_time": "2023-04-01T11:35:39.303Z"
   },
   {
    "duration": 242,
    "start_time": "2023-04-01T11:35:39.375Z"
   },
   {
    "duration": 17,
    "start_time": "2023-04-01T11:35:39.619Z"
   },
   {
    "duration": 42,
    "start_time": "2023-04-01T11:35:39.638Z"
   },
   {
    "duration": 11,
    "start_time": "2023-04-01T11:35:39.681Z"
   },
   {
    "duration": 44,
    "start_time": "2023-04-01T11:35:39.693Z"
   },
   {
    "duration": 180,
    "start_time": "2023-04-01T11:37:15.889Z"
   },
   {
    "duration": 189,
    "start_time": "2023-04-01T11:37:37.565Z"
   },
   {
    "duration": 200,
    "start_time": "2023-04-01T11:37:55.513Z"
   },
   {
    "duration": 238,
    "start_time": "2023-04-01T11:44:06.672Z"
   },
   {
    "duration": 68,
    "start_time": "2023-04-01T11:45:11.728Z"
   },
   {
    "duration": 197,
    "start_time": "2023-04-01T11:46:12.131Z"
   },
   {
    "duration": 74,
    "start_time": "2023-04-01T11:46:16.383Z"
   },
   {
    "duration": 68,
    "start_time": "2023-04-01T11:48:42.706Z"
   },
   {
    "duration": 2,
    "start_time": "2023-04-01T11:50:35.437Z"
   },
   {
    "duration": 173,
    "start_time": "2023-04-01T11:53:55.260Z"
   },
   {
    "duration": 132,
    "start_time": "2023-04-01T11:54:10.341Z"
   },
   {
    "duration": 186,
    "start_time": "2023-04-01T11:54:16.878Z"
   },
   {
    "duration": 26,
    "start_time": "2023-04-01T11:57:54.350Z"
   },
   {
    "duration": 12,
    "start_time": "2023-04-01T12:34:01.292Z"
   },
   {
    "duration": 34,
    "start_time": "2023-04-01T12:36:11.599Z"
   },
   {
    "duration": 15,
    "start_time": "2023-04-01T12:36:21.855Z"
   },
   {
    "duration": 44,
    "start_time": "2023-04-01T12:36:46.446Z"
   },
   {
    "duration": 14,
    "start_time": "2023-04-01T12:37:14.058Z"
   },
   {
    "duration": 1575,
    "start_time": "2023-04-02T15:00:47.409Z"
   },
   {
    "duration": 893,
    "start_time": "2023-04-02T15:00:48.986Z"
   },
   {
    "duration": 19,
    "start_time": "2023-04-02T15:00:49.881Z"
   },
   {
    "duration": 40,
    "start_time": "2023-04-02T15:00:49.902Z"
   },
   {
    "duration": 5,
    "start_time": "2023-04-02T15:00:49.944Z"
   },
   {
    "duration": 30,
    "start_time": "2023-04-02T15:00:49.951Z"
   },
   {
    "duration": 4851,
    "start_time": "2023-04-02T15:00:49.982Z"
   },
   {
    "duration": 1597,
    "start_time": "2023-04-02T15:00:54.836Z"
   },
   {
    "duration": 10,
    "start_time": "2023-04-02T15:00:56.442Z"
   },
   {
    "duration": 19,
    "start_time": "2023-04-02T15:00:56.456Z"
   },
   {
    "duration": 543,
    "start_time": "2023-04-02T15:00:56.477Z"
   },
   {
    "duration": 20,
    "start_time": "2023-04-02T15:00:57.022Z"
   },
   {
    "duration": 44,
    "start_time": "2023-04-02T15:00:57.044Z"
   },
   {
    "duration": 28,
    "start_time": "2023-04-02T15:00:57.090Z"
   },
   {
    "duration": 49,
    "start_time": "2023-04-02T15:00:57.120Z"
   },
   {
    "duration": 459,
    "start_time": "2023-04-02T15:00:57.171Z"
   },
   {
    "duration": 142,
    "start_time": "2023-04-02T15:00:57.631Z"
   },
   {
    "duration": 149,
    "start_time": "2023-04-02T15:00:57.775Z"
   },
   {
    "duration": 16,
    "start_time": "2023-04-02T15:00:57.927Z"
   },
   {
    "duration": 33,
    "start_time": "2023-04-02T15:00:57.946Z"
   },
   {
    "duration": 195,
    "start_time": "2023-04-02T15:00:57.982Z"
   },
   {
    "duration": 593,
    "start_time": "2023-04-02T15:00:58.180Z"
   },
   {
    "duration": 154,
    "start_time": "2023-04-02T15:00:58.775Z"
   },
   {
    "duration": 84,
    "start_time": "2023-04-02T15:00:58.932Z"
   },
   {
    "duration": 10,
    "start_time": "2023-04-02T15:00:59.042Z"
   },
   {
    "duration": 19,
    "start_time": "2023-04-02T15:00:59.054Z"
   },
   {
    "duration": 15,
    "start_time": "2023-04-02T15:00:59.074Z"
   },
   {
    "duration": 10,
    "start_time": "2023-04-02T15:00:59.092Z"
   },
   {
    "duration": 60,
    "start_time": "2023-04-02T15:00:59.104Z"
   },
   {
    "duration": 9,
    "start_time": "2023-04-02T15:00:59.166Z"
   },
   {
    "duration": 14,
    "start_time": "2023-04-02T15:00:59.177Z"
   },
   {
    "duration": 11,
    "start_time": "2023-04-02T15:00:59.193Z"
   },
   {
    "duration": 41,
    "start_time": "2023-04-02T15:00:59.206Z"
   },
   {
    "duration": 846,
    "start_time": "2023-04-02T15:00:59.249Z"
   },
   {
    "duration": 394,
    "start_time": "2023-04-02T15:01:00.097Z"
   },
   {
    "duration": 12,
    "start_time": "2023-04-02T15:01:00.493Z"
   },
   {
    "duration": 258,
    "start_time": "2023-04-02T15:01:00.507Z"
   },
   {
    "duration": 17,
    "start_time": "2023-04-02T15:01:00.767Z"
   },
   {
    "duration": 96,
    "start_time": "2023-04-02T15:01:00.786Z"
   },
   {
    "duration": 296,
    "start_time": "2023-04-02T15:01:00.884Z"
   },
   {
    "duration": 15,
    "start_time": "2023-04-02T15:01:01.182Z"
   },
   {
    "duration": 50,
    "start_time": "2023-04-02T15:01:01.199Z"
   },
   {
    "duration": 59,
    "start_time": "2023-04-02T15:01:01.252Z"
   },
   {
    "duration": 28,
    "start_time": "2023-04-02T15:01:01.313Z"
   },
   {
    "duration": 97,
    "start_time": "2023-04-02T15:01:01.342Z"
   },
   {
    "duration": 4,
    "start_time": "2023-04-02T15:20:14.283Z"
   },
   {
    "duration": 205,
    "start_time": "2023-04-02T15:20:16.210Z"
   },
   {
    "duration": 5,
    "start_time": "2023-04-02T15:22:31.420Z"
   },
   {
    "duration": 29,
    "start_time": "2023-04-02T15:22:32.522Z"
   },
   {
    "duration": 1957,
    "start_time": "2023-04-02T15:30:05.536Z"
   },
   {
    "duration": 24,
    "start_time": "2023-04-02T15:41:54.016Z"
   },
   {
    "duration": 32,
    "start_time": "2023-04-02T15:43:35.093Z"
   },
   {
    "duration": 20,
    "start_time": "2023-04-02T15:49:10.670Z"
   },
   {
    "duration": 17,
    "start_time": "2023-04-02T15:49:18.022Z"
   },
   {
    "duration": 19,
    "start_time": "2023-04-02T15:49:26.791Z"
   },
   {
    "duration": 20,
    "start_time": "2023-04-02T15:55:53.975Z"
   },
   {
    "duration": 29,
    "start_time": "2023-04-02T15:55:57.903Z"
   },
   {
    "duration": 27,
    "start_time": "2023-04-02T15:56:56.284Z"
   },
   {
    "duration": 10,
    "start_time": "2023-04-02T15:58:21.589Z"
   },
   {
    "duration": 14,
    "start_time": "2023-04-02T15:58:55.321Z"
   },
   {
    "duration": 365,
    "start_time": "2023-04-02T16:05:01.454Z"
   },
   {
    "duration": 112,
    "start_time": "2023-04-02T16:06:35.980Z"
   },
   {
    "duration": 198,
    "start_time": "2023-04-02T16:06:58.878Z"
   },
   {
    "duration": 97973,
    "start_time": "2023-04-02T16:11:13.804Z"
   },
   {
    "duration": 8,
    "start_time": "2023-04-02T16:15:45.486Z"
   },
   {
    "duration": 50,
    "start_time": "2023-04-02T16:15:56.725Z"
   },
   {
    "duration": 7,
    "start_time": "2023-04-02T16:16:03.074Z"
   },
   {
    "duration": 29,
    "start_time": "2023-04-02T16:16:04.615Z"
   },
   {
    "duration": 93650,
    "start_time": "2023-04-02T16:16:25.317Z"
   },
   {
    "duration": 1127,
    "start_time": "2023-04-02T16:21:36.932Z"
   },
   {
    "duration": 2434,
    "start_time": "2023-04-02T16:21:55.510Z"
   },
   {
    "duration": 8,
    "start_time": "2023-04-02T16:23:18.384Z"
   },
   {
    "duration": 1851,
    "start_time": "2023-04-02T16:23:18.891Z"
   },
   {
    "duration": 1469,
    "start_time": "2023-04-02T16:24:59.074Z"
   },
   {
    "duration": 1497,
    "start_time": "2023-04-02T16:25:13.367Z"
   },
   {
    "duration": 1465,
    "start_time": "2023-04-02T16:25:45.259Z"
   },
   {
    "duration": 5,
    "start_time": "2023-04-02T16:26:04.960Z"
   },
   {
    "duration": 4,
    "start_time": "2023-04-02T16:26:19.460Z"
   },
   {
    "duration": 22,
    "start_time": "2023-04-02T16:26:41.340Z"
   },
   {
    "duration": 1381,
    "start_time": "2023-04-02T16:27:07.032Z"
   },
   {
    "duration": 856,
    "start_time": "2023-04-02T16:27:08.416Z"
   },
   {
    "duration": 19,
    "start_time": "2023-04-02T16:27:09.274Z"
   },
   {
    "duration": 5,
    "start_time": "2023-04-02T16:27:09.295Z"
   },
   {
    "duration": 7,
    "start_time": "2023-04-02T16:27:09.302Z"
   },
   {
    "duration": 42,
    "start_time": "2023-04-02T16:27:09.311Z"
   },
   {
    "duration": 3,
    "start_time": "2023-04-02T16:27:09.355Z"
   },
   {
    "duration": 129,
    "start_time": "2023-04-02T16:27:09.360Z"
   },
   {
    "duration": 0,
    "start_time": "2023-04-02T16:27:09.493Z"
   },
   {
    "duration": 0,
    "start_time": "2023-04-02T16:27:09.496Z"
   },
   {
    "duration": 0,
    "start_time": "2023-04-02T16:27:09.497Z"
   },
   {
    "duration": 0,
    "start_time": "2023-04-02T16:27:09.499Z"
   },
   {
    "duration": 0,
    "start_time": "2023-04-02T16:27:09.500Z"
   },
   {
    "duration": 0,
    "start_time": "2023-04-02T16:27:09.501Z"
   },
   {
    "duration": 0,
    "start_time": "2023-04-02T16:27:09.502Z"
   },
   {
    "duration": 0,
    "start_time": "2023-04-02T16:27:09.503Z"
   },
   {
    "duration": 0,
    "start_time": "2023-04-02T16:27:09.504Z"
   },
   {
    "duration": 0,
    "start_time": "2023-04-02T16:27:09.505Z"
   },
   {
    "duration": 0,
    "start_time": "2023-04-02T16:27:09.506Z"
   },
   {
    "duration": 0,
    "start_time": "2023-04-02T16:27:09.507Z"
   },
   {
    "duration": 0,
    "start_time": "2023-04-02T16:27:09.508Z"
   },
   {
    "duration": 0,
    "start_time": "2023-04-02T16:27:09.509Z"
   },
   {
    "duration": 0,
    "start_time": "2023-04-02T16:27:09.510Z"
   },
   {
    "duration": 0,
    "start_time": "2023-04-02T16:27:09.511Z"
   },
   {
    "duration": 0,
    "start_time": "2023-04-02T16:27:09.512Z"
   },
   {
    "duration": 0,
    "start_time": "2023-04-02T16:27:09.543Z"
   },
   {
    "duration": 0,
    "start_time": "2023-04-02T16:27:09.550Z"
   },
   {
    "duration": 0,
    "start_time": "2023-04-02T16:27:09.551Z"
   },
   {
    "duration": 0,
    "start_time": "2023-04-02T16:27:09.552Z"
   },
   {
    "duration": 0,
    "start_time": "2023-04-02T16:27:09.552Z"
   },
   {
    "duration": 0,
    "start_time": "2023-04-02T16:27:09.553Z"
   },
   {
    "duration": 0,
    "start_time": "2023-04-02T16:27:09.554Z"
   },
   {
    "duration": 0,
    "start_time": "2023-04-02T16:27:09.554Z"
   },
   {
    "duration": 0,
    "start_time": "2023-04-02T16:27:09.555Z"
   },
   {
    "duration": 0,
    "start_time": "2023-04-02T16:27:09.556Z"
   },
   {
    "duration": 0,
    "start_time": "2023-04-02T16:27:09.559Z"
   },
   {
    "duration": 0,
    "start_time": "2023-04-02T16:27:09.560Z"
   },
   {
    "duration": 0,
    "start_time": "2023-04-02T16:27:09.562Z"
   },
   {
    "duration": 0,
    "start_time": "2023-04-02T16:27:09.564Z"
   },
   {
    "duration": 0,
    "start_time": "2023-04-02T16:27:09.565Z"
   },
   {
    "duration": 0,
    "start_time": "2023-04-02T16:27:09.566Z"
   },
   {
    "duration": 0,
    "start_time": "2023-04-02T16:27:09.568Z"
   },
   {
    "duration": 0,
    "start_time": "2023-04-02T16:27:09.569Z"
   },
   {
    "duration": 0,
    "start_time": "2023-04-02T16:27:09.571Z"
   },
   {
    "duration": 0,
    "start_time": "2023-04-02T16:27:09.572Z"
   },
   {
    "duration": 0,
    "start_time": "2023-04-02T16:27:09.574Z"
   },
   {
    "duration": 0,
    "start_time": "2023-04-02T16:27:09.575Z"
   },
   {
    "duration": 0,
    "start_time": "2023-04-02T16:27:09.576Z"
   },
   {
    "duration": 0,
    "start_time": "2023-04-02T16:27:09.576Z"
   },
   {
    "duration": 0,
    "start_time": "2023-04-02T16:27:09.578Z"
   },
   {
    "duration": 1,
    "start_time": "2023-04-02T16:27:09.582Z"
   },
   {
    "duration": 0,
    "start_time": "2023-04-02T16:27:09.584Z"
   },
   {
    "duration": 0,
    "start_time": "2023-04-02T16:27:09.586Z"
   },
   {
    "duration": 0,
    "start_time": "2023-04-02T16:27:09.587Z"
   },
   {
    "duration": 0,
    "start_time": "2023-04-02T16:27:09.588Z"
   },
   {
    "duration": 0,
    "start_time": "2023-04-02T16:27:09.650Z"
   },
   {
    "duration": 19,
    "start_time": "2023-04-02T16:27:15.206Z"
   },
   {
    "duration": 19,
    "start_time": "2023-04-02T16:27:15.686Z"
   },
   {
    "duration": 20,
    "start_time": "2023-04-02T16:27:16.752Z"
   },
   {
    "duration": 1591,
    "start_time": "2023-04-02T16:27:20.999Z"
   },
   {
    "duration": 26,
    "start_time": "2023-04-02T16:27:56.629Z"
   },
   {
    "duration": 17,
    "start_time": "2023-04-02T16:28:13.798Z"
   },
   {
    "duration": 21,
    "start_time": "2023-04-02T16:28:26.494Z"
   },
   {
    "duration": 9,
    "start_time": "2023-04-02T16:28:32.112Z"
   },
   {
    "duration": 9,
    "start_time": "2023-04-02T16:28:34.720Z"
   },
   {
    "duration": 16,
    "start_time": "2023-04-02T16:32:54.716Z"
   },
   {
    "duration": 10,
    "start_time": "2023-04-02T16:33:09.691Z"
   },
   {
    "duration": 14,
    "start_time": "2023-04-02T16:33:21.669Z"
   },
   {
    "duration": 439,
    "start_time": "2023-04-02T16:34:08.093Z"
   },
   {
    "duration": 25,
    "start_time": "2023-04-02T16:34:41.065Z"
   },
   {
    "duration": 1267,
    "start_time": "2023-04-02T16:35:43.120Z"
   },
   {
    "duration": 413,
    "start_time": "2023-04-02T16:39:43.111Z"
   },
   {
    "duration": 381,
    "start_time": "2023-04-02T16:40:14.428Z"
   },
   {
    "duration": 43,
    "start_time": "2023-04-02T16:42:50.294Z"
   },
   {
    "duration": 441,
    "start_time": "2023-04-02T16:43:41.372Z"
   },
   {
    "duration": 359,
    "start_time": "2023-04-02T16:44:00.272Z"
   },
   {
    "duration": 22,
    "start_time": "2023-04-02T16:46:23.670Z"
   },
   {
    "duration": 19,
    "start_time": "2023-04-02T16:46:40.169Z"
   },
   {
    "duration": 21,
    "start_time": "2023-04-02T16:50:59.110Z"
   },
   {
    "duration": 17,
    "start_time": "2023-04-02T16:51:23.856Z"
   },
   {
    "duration": 10,
    "start_time": "2023-04-02T16:51:45.256Z"
   },
   {
    "duration": 10,
    "start_time": "2023-04-02T16:51:57.415Z"
   },
   {
    "duration": 355,
    "start_time": "2023-04-02T16:52:25.666Z"
   },
   {
    "duration": 355,
    "start_time": "2023-04-02T16:52:48.078Z"
   },
   {
    "duration": 13,
    "start_time": "2023-04-02T16:53:55.960Z"
   },
   {
    "duration": 16,
    "start_time": "2023-04-02T16:54:19.272Z"
   },
   {
    "duration": 24,
    "start_time": "2023-04-02T16:58:32.152Z"
   },
   {
    "duration": 40,
    "start_time": "2023-04-02T16:58:45.115Z"
   },
   {
    "duration": 2,
    "start_time": "2023-04-02T17:00:46.521Z"
   },
   {
    "duration": 40,
    "start_time": "2023-04-02T17:21:39.052Z"
   },
   {
    "duration": 19,
    "start_time": "2023-04-02T17:49:24.078Z"
   },
   {
    "duration": 714,
    "start_time": "2023-04-02T17:49:41.755Z"
   },
   {
    "duration": 135,
    "start_time": "2023-04-02T17:50:05.886Z"
   },
   {
    "duration": 221,
    "start_time": "2023-04-02T17:51:20.211Z"
   },
   {
    "duration": 193,
    "start_time": "2023-04-02T17:52:01.933Z"
   },
   {
    "duration": 233,
    "start_time": "2023-04-02T17:52:35.468Z"
   },
   {
    "duration": 190,
    "start_time": "2023-04-02T17:52:52.791Z"
   },
   {
    "duration": 192,
    "start_time": "2023-04-02T17:53:32.867Z"
   },
   {
    "duration": 203,
    "start_time": "2023-04-02T17:54:02.318Z"
   },
   {
    "duration": 200,
    "start_time": "2023-04-02T17:54:29.808Z"
   },
   {
    "duration": 11,
    "start_time": "2023-04-02T17:56:03.952Z"
   },
   {
    "duration": 13,
    "start_time": "2023-04-02T18:03:50.687Z"
   },
   {
    "duration": 1149,
    "start_time": "2023-04-02T18:09:27.300Z"
   },
   {
    "duration": 438,
    "start_time": "2023-04-02T18:10:01.861Z"
   },
   {
    "duration": 154,
    "start_time": "2023-04-02T18:10:13.979Z"
   },
   {
    "duration": 73,
    "start_time": "2023-04-02T18:10:17.896Z"
   },
   {
    "duration": 74,
    "start_time": "2023-04-02T18:10:18.815Z"
   },
   {
    "duration": 5,
    "start_time": "2023-04-02T18:10:20.680Z"
   },
   {
    "duration": 36,
    "start_time": "2023-04-02T18:10:24.015Z"
   },
   {
    "duration": 203,
    "start_time": "2023-04-02T18:10:25.787Z"
   },
   {
    "duration": 450,
    "start_time": "2023-04-02T18:10:28.632Z"
   },
   {
    "duration": 162,
    "start_time": "2023-04-02T18:10:31.556Z"
   },
   {
    "duration": 64,
    "start_time": "2023-04-02T18:10:34.059Z"
   },
   {
    "duration": 2,
    "start_time": "2023-04-02T18:10:49.978Z"
   },
   {
    "duration": 11,
    "start_time": "2023-04-02T18:21:00.594Z"
   },
   {
    "duration": 71,
    "start_time": "2023-04-02T18:21:01.228Z"
   },
   {
    "duration": 19,
    "start_time": "2023-04-02T19:30:53.660Z"
   },
   {
    "duration": 18,
    "start_time": "2023-04-02T19:31:04.908Z"
   },
   {
    "duration": 1799,
    "start_time": "2023-04-02T19:32:08.435Z"
   },
   {
    "duration": 148,
    "start_time": "2023-04-02T19:32:16.697Z"
   },
   {
    "duration": 9,
    "start_time": "2023-04-02T19:35:54.837Z"
   },
   {
    "duration": 21,
    "start_time": "2023-04-02T19:39:31.538Z"
   },
   {
    "duration": 29,
    "start_time": "2023-04-02T19:41:27.405Z"
   },
   {
    "duration": 22,
    "start_time": "2023-04-02T19:42:18.302Z"
   },
   {
    "duration": 18,
    "start_time": "2023-04-02T19:43:38.753Z"
   },
   {
    "duration": 27,
    "start_time": "2023-04-02T19:45:41.775Z"
   },
   {
    "duration": 102,
    "start_time": "2023-04-02T19:47:06.422Z"
   },
   {
    "duration": 18,
    "start_time": "2023-04-02T19:47:59.953Z"
   },
   {
    "duration": 16,
    "start_time": "2023-04-02T19:48:22.518Z"
   },
   {
    "duration": 32,
    "start_time": "2023-04-02T19:49:03.602Z"
   },
   {
    "duration": 18,
    "start_time": "2023-04-02T19:49:17.291Z"
   },
   {
    "duration": 10,
    "start_time": "2023-04-02T19:50:31.535Z"
   },
   {
    "duration": 24,
    "start_time": "2023-04-02T19:53:22.082Z"
   },
   {
    "duration": 22,
    "start_time": "2023-04-02T19:53:51.903Z"
   },
   {
    "duration": 22,
    "start_time": "2023-04-02T19:54:17.519Z"
   },
   {
    "duration": 30,
    "start_time": "2023-04-02T19:54:28.436Z"
   },
   {
    "duration": 25,
    "start_time": "2023-04-02T19:54:42.332Z"
   },
   {
    "duration": 12,
    "start_time": "2023-04-02T19:55:15.748Z"
   },
   {
    "duration": 11,
    "start_time": "2023-04-02T19:55:46.294Z"
   },
   {
    "duration": 13,
    "start_time": "2023-04-02T19:56:34.654Z"
   },
   {
    "duration": 259,
    "start_time": "2023-04-02T19:56:42.553Z"
   },
   {
    "duration": 233,
    "start_time": "2023-04-02T19:56:47.956Z"
   },
   {
    "duration": 18,
    "start_time": "2023-04-02T19:57:59.182Z"
   },
   {
    "duration": 274,
    "start_time": "2023-04-02T19:58:04.200Z"
   },
   {
    "duration": 18,
    "start_time": "2023-04-02T19:59:01.904Z"
   },
   {
    "duration": 375,
    "start_time": "2023-04-02T19:59:09.305Z"
   },
   {
    "duration": 11,
    "start_time": "2023-04-02T20:09:37.132Z"
   },
   {
    "duration": 81,
    "start_time": "2023-04-02T20:10:52.400Z"
   },
   {
    "duration": 28,
    "start_time": "2023-04-02T20:13:30.320Z"
   },
   {
    "duration": 9,
    "start_time": "2023-04-02T21:21:01.123Z"
   },
   {
    "duration": 9,
    "start_time": "2023-04-02T21:21:01.709Z"
   },
   {
    "duration": 9,
    "start_time": "2023-04-02T22:30:33.724Z"
   },
   {
    "duration": 258,
    "start_time": "2023-04-02T22:40:34.817Z"
   },
   {
    "duration": 219,
    "start_time": "2023-04-02T22:41:29.068Z"
   },
   {
    "duration": 230,
    "start_time": "2023-04-02T22:42:02.551Z"
   },
   {
    "duration": 27,
    "start_time": "2023-04-02T22:45:11.679Z"
   },
   {
    "duration": 74,
    "start_time": "2023-04-02T22:46:24.121Z"
   },
   {
    "duration": 26,
    "start_time": "2023-04-02T22:46:28.489Z"
   },
   {
    "duration": 28,
    "start_time": "2023-04-02T22:46:36.089Z"
   },
   {
    "duration": 23,
    "start_time": "2023-04-02T22:46:45.978Z"
   },
   {
    "duration": 25,
    "start_time": "2023-04-02T22:48:19.267Z"
   },
   {
    "duration": 162431,
    "start_time": "2023-04-02T22:48:51.624Z"
   },
   {
    "duration": 70,
    "start_time": "2023-04-02T22:52:21.866Z"
   },
   {
    "duration": 71,
    "start_time": "2023-04-02T22:53:37.917Z"
   },
   {
    "duration": 71,
    "start_time": "2023-04-02T22:53:47.320Z"
   },
   {
    "duration": 92,
    "start_time": "2023-04-02T22:54:13.373Z"
   },
   {
    "duration": 77,
    "start_time": "2023-04-02T22:54:19.622Z"
   },
   {
    "duration": 11,
    "start_time": "2023-04-02T22:54:50.223Z"
   },
   {
    "duration": 11,
    "start_time": "2023-04-02T22:55:12.722Z"
   },
   {
    "duration": 76,
    "start_time": "2023-04-02T22:55:19.700Z"
   },
   {
    "duration": 65,
    "start_time": "2023-04-02T22:55:55.820Z"
   },
   {
    "duration": 65,
    "start_time": "2023-04-02T22:56:14.502Z"
   },
   {
    "duration": 25,
    "start_time": "2023-04-02T22:57:38.456Z"
   },
   {
    "duration": 35,
    "start_time": "2023-04-02T22:58:07.298Z"
   },
   {
    "duration": 35,
    "start_time": "2023-04-02T22:58:18.921Z"
   },
   {
    "duration": 37,
    "start_time": "2023-04-02T22:58:31.384Z"
   },
   {
    "duration": 33,
    "start_time": "2023-04-02T22:58:52.715Z"
   },
   {
    "duration": 83,
    "start_time": "2023-04-02T22:59:10.176Z"
   },
   {
    "duration": 75,
    "start_time": "2023-04-02T22:59:25.090Z"
   },
   {
    "duration": 64,
    "start_time": "2023-04-02T23:00:26.249Z"
   },
   {
    "duration": 146,
    "start_time": "2023-04-02T23:02:11.519Z"
   },
   {
    "duration": 127,
    "start_time": "2023-04-02T23:02:16.825Z"
   },
   {
    "duration": 26,
    "start_time": "2023-04-02T23:03:44.707Z"
   },
   {
    "duration": 74,
    "start_time": "2023-04-02T23:03:45.266Z"
   },
   {
    "duration": 81,
    "start_time": "2023-04-02T23:04:40.730Z"
   },
   {
    "duration": 64,
    "start_time": "2023-04-02T23:04:53.323Z"
   },
   {
    "duration": 68,
    "start_time": "2023-04-02T23:14:29.902Z"
   },
   {
    "duration": 61,
    "start_time": "2023-04-02T23:15:28.718Z"
   },
   {
    "duration": 58,
    "start_time": "2023-04-02T23:21:53.381Z"
   },
   {
    "duration": 3,
    "start_time": "2023-04-02T23:28:08.725Z"
   },
   {
    "duration": 3,
    "start_time": "2023-04-02T23:28:11.604Z"
   },
   {
    "duration": 62,
    "start_time": "2023-04-02T23:31:22.374Z"
   },
   {
    "duration": 54,
    "start_time": "2023-04-02T23:34:32.557Z"
   },
   {
    "duration": 51,
    "start_time": "2023-04-02T23:37:47.475Z"
   },
   {
    "duration": 13,
    "start_time": "2023-04-02T23:37:57.277Z"
   },
   {
    "duration": 27,
    "start_time": "2023-04-02T23:38:59.886Z"
   },
   {
    "duration": 28,
    "start_time": "2023-04-02T23:39:18.205Z"
   },
   {
    "duration": 20,
    "start_time": "2023-04-02T23:39:59.203Z"
   },
   {
    "duration": 13,
    "start_time": "2023-04-02T23:40:06.832Z"
   },
   {
    "duration": 29,
    "start_time": "2023-04-02T23:40:22.390Z"
   },
   {
    "duration": 13,
    "start_time": "2023-04-02T23:40:36.386Z"
   },
   {
    "duration": 20,
    "start_time": "2023-04-02T23:40:51.690Z"
   },
   {
    "duration": 28,
    "start_time": "2023-04-02T23:41:03.839Z"
   },
   {
    "duration": 25,
    "start_time": "2023-04-02T23:57:22.659Z"
   },
   {
    "duration": 24,
    "start_time": "2023-04-02T23:57:28.656Z"
   },
   {
    "duration": 92,
    "start_time": "2023-04-03T00:06:30.443Z"
   },
   {
    "duration": 11,
    "start_time": "2023-04-03T00:48:07.720Z"
   },
   {
    "duration": 9,
    "start_time": "2023-04-03T00:48:08.298Z"
   },
   {
    "duration": 25,
    "start_time": "2023-04-03T00:48:26.544Z"
   },
   {
    "duration": 10,
    "start_time": "2023-04-03T00:48:28.600Z"
   },
   {
    "duration": 9,
    "start_time": "2023-04-03T00:48:33.971Z"
   },
   {
    "duration": 11,
    "start_time": "2023-04-03T00:48:35.095Z"
   },
   {
    "duration": 9,
    "start_time": "2023-04-03T00:48:36.192Z"
   },
   {
    "duration": 1284,
    "start_time": "2023-04-03T00:49:31.776Z"
   },
   {
    "duration": 1114,
    "start_time": "2023-04-03T00:49:33.062Z"
   },
   {
    "duration": 18,
    "start_time": "2023-04-03T00:49:34.177Z"
   },
   {
    "duration": 26,
    "start_time": "2023-04-03T00:49:34.197Z"
   },
   {
    "duration": 7,
    "start_time": "2023-04-03T00:49:34.225Z"
   },
   {
    "duration": 25,
    "start_time": "2023-04-03T00:49:34.234Z"
   },
   {
    "duration": 28,
    "start_time": "2023-04-03T00:49:34.260Z"
   },
   {
    "duration": 13,
    "start_time": "2023-04-03T00:49:34.289Z"
   },
   {
    "duration": 37,
    "start_time": "2023-04-03T00:49:34.304Z"
   },
   {
    "duration": 9,
    "start_time": "2023-04-03T00:49:34.344Z"
   },
   {
    "duration": 350,
    "start_time": "2023-04-03T00:49:34.354Z"
   },
   {
    "duration": 372,
    "start_time": "2023-04-03T00:49:34.706Z"
   },
   {
    "duration": 44,
    "start_time": "2023-04-03T00:49:35.080Z"
   },
   {
    "duration": 507,
    "start_time": "2023-04-03T00:49:35.140Z"
   },
   {
    "duration": 135,
    "start_time": "2023-04-03T00:49:35.649Z"
   },
   {
    "duration": 115,
    "start_time": "2023-04-03T00:49:35.786Z"
   },
   {
    "duration": 5,
    "start_time": "2023-04-03T00:49:35.903Z"
   },
   {
    "duration": 46,
    "start_time": "2023-04-03T00:49:35.910Z"
   },
   {
    "duration": 163,
    "start_time": "2023-04-03T00:49:35.958Z"
   },
   {
    "duration": 456,
    "start_time": "2023-04-03T00:49:36.123Z"
   },
   {
    "duration": 170,
    "start_time": "2023-04-03T00:49:36.580Z"
   },
   {
    "duration": 99,
    "start_time": "2023-04-03T00:49:36.751Z"
   },
   {
    "duration": 10,
    "start_time": "2023-04-03T00:49:36.852Z"
   },
   {
    "duration": 13,
    "start_time": "2023-04-03T00:49:36.863Z"
   },
   {
    "duration": 8,
    "start_time": "2023-04-03T00:49:36.877Z"
   },
   {
    "duration": 8,
    "start_time": "2023-04-03T00:49:36.887Z"
   },
   {
    "duration": 57,
    "start_time": "2023-04-03T00:49:36.896Z"
   },
   {
    "duration": 8,
    "start_time": "2023-04-03T00:49:36.956Z"
   },
   {
    "duration": 12,
    "start_time": "2023-04-03T00:49:36.966Z"
   },
   {
    "duration": 9,
    "start_time": "2023-04-03T00:49:36.979Z"
   },
   {
    "duration": 9,
    "start_time": "2023-04-03T00:49:36.990Z"
   },
   {
    "duration": 1007,
    "start_time": "2023-04-03T00:49:37.001Z"
   },
   {
    "duration": 385,
    "start_time": "2023-04-03T00:49:38.010Z"
   },
   {
    "duration": 9,
    "start_time": "2023-04-03T00:49:38.397Z"
   },
   {
    "duration": 310,
    "start_time": "2023-04-03T00:49:38.407Z"
   },
   {
    "duration": 23,
    "start_time": "2023-04-03T00:49:38.719Z"
   },
   {
    "duration": 36,
    "start_time": "2023-04-03T00:49:38.744Z"
   },
   {
    "duration": 243,
    "start_time": "2023-04-03T00:49:38.781Z"
   },
   {
    "duration": 3,
    "start_time": "2023-04-03T00:49:39.025Z"
   },
   {
    "duration": 36,
    "start_time": "2023-04-03T00:49:39.029Z"
   },
   {
    "duration": 17,
    "start_time": "2023-04-03T00:49:39.067Z"
   },
   {
    "duration": 20,
    "start_time": "2023-04-03T00:49:39.085Z"
   },
   {
    "duration": 106,
    "start_time": "2023-04-03T00:49:39.107Z"
   },
   {
    "duration": 0,
    "start_time": "2023-04-03T00:49:39.215Z"
   },
   {
    "duration": 0,
    "start_time": "2023-04-03T00:49:39.217Z"
   },
   {
    "duration": 0,
    "start_time": "2023-04-03T00:49:39.218Z"
   },
   {
    "duration": 1,
    "start_time": "2023-04-03T00:49:39.220Z"
   },
   {
    "duration": 0,
    "start_time": "2023-04-03T00:49:39.222Z"
   },
   {
    "duration": 0,
    "start_time": "2023-04-03T00:49:39.224Z"
   },
   {
    "duration": 0,
    "start_time": "2023-04-03T00:49:39.226Z"
   },
   {
    "duration": 49,
    "start_time": "2023-04-03T15:38:44.300Z"
   },
   {
    "duration": 6,
    "start_time": "2023-04-03T15:38:50.152Z"
   },
   {
    "duration": 1334,
    "start_time": "2023-04-03T15:39:59.134Z"
   },
   {
    "duration": 956,
    "start_time": "2023-04-03T15:40:00.470Z"
   },
   {
    "duration": 18,
    "start_time": "2023-04-03T15:40:01.428Z"
   },
   {
    "duration": 43,
    "start_time": "2023-04-03T15:40:01.448Z"
   },
   {
    "duration": 90,
    "start_time": "2023-04-03T15:40:01.492Z"
   },
   {
    "duration": 62,
    "start_time": "2023-04-03T15:40:05.366Z"
   },
   {
    "duration": 7,
    "start_time": "2023-04-03T15:40:11.432Z"
   },
   {
    "duration": 1226,
    "start_time": "2023-04-03T15:40:23.428Z"
   },
   {
    "duration": 914,
    "start_time": "2023-04-03T15:40:24.656Z"
   },
   {
    "duration": 18,
    "start_time": "2023-04-03T15:40:25.572Z"
   },
   {
    "duration": 11,
    "start_time": "2023-04-03T15:40:25.592Z"
   },
   {
    "duration": 27,
    "start_time": "2023-04-03T15:40:25.604Z"
   },
   {
    "duration": 34,
    "start_time": "2023-04-03T15:40:25.633Z"
   },
   {
    "duration": 25,
    "start_time": "2023-04-03T15:40:25.669Z"
   },
   {
    "duration": 16,
    "start_time": "2023-04-03T15:40:25.696Z"
   },
   {
    "duration": 28,
    "start_time": "2023-04-03T15:40:25.714Z"
   },
   {
    "duration": 10,
    "start_time": "2023-04-03T15:40:25.745Z"
   },
   {
    "duration": 351,
    "start_time": "2023-04-03T15:40:25.757Z"
   },
   {
    "duration": 346,
    "start_time": "2023-04-03T15:40:26.109Z"
   },
   {
    "duration": 43,
    "start_time": "2023-04-03T15:40:26.456Z"
   },
   {
    "duration": 552,
    "start_time": "2023-04-03T15:40:26.500Z"
   },
   {
    "duration": 119,
    "start_time": "2023-04-03T15:40:27.053Z"
   },
   {
    "duration": 115,
    "start_time": "2023-04-03T15:40:27.173Z"
   },
   {
    "duration": 6,
    "start_time": "2023-04-03T15:40:27.290Z"
   },
   {
    "duration": 49,
    "start_time": "2023-04-03T15:40:27.297Z"
   },
   {
    "duration": 167,
    "start_time": "2023-04-03T15:40:27.347Z"
   },
   {
    "duration": 412,
    "start_time": "2023-04-03T15:40:27.516Z"
   },
   {
    "duration": 130,
    "start_time": "2023-04-03T15:40:27.929Z"
   },
   {
    "duration": 88,
    "start_time": "2023-04-03T15:40:28.060Z"
   },
   {
    "duration": 8,
    "start_time": "2023-04-03T15:40:28.149Z"
   },
   {
    "duration": 17,
    "start_time": "2023-04-03T15:40:28.158Z"
   },
   {
    "duration": 8,
    "start_time": "2023-04-03T15:40:28.177Z"
   },
   {
    "duration": 8,
    "start_time": "2023-04-03T15:40:28.187Z"
   },
   {
    "duration": 47,
    "start_time": "2023-04-03T15:40:28.196Z"
   },
   {
    "duration": 9,
    "start_time": "2023-04-03T15:40:28.247Z"
   },
   {
    "duration": 12,
    "start_time": "2023-04-03T15:40:28.257Z"
   },
   {
    "duration": 17,
    "start_time": "2023-04-03T15:40:28.270Z"
   },
   {
    "duration": 7,
    "start_time": "2023-04-03T15:40:28.288Z"
   },
   {
    "duration": 1201,
    "start_time": "2023-04-03T15:40:28.297Z"
   },
   {
    "duration": 398,
    "start_time": "2023-04-03T15:40:29.500Z"
   },
   {
    "duration": 8,
    "start_time": "2023-04-03T15:40:29.899Z"
   },
   {
    "duration": 273,
    "start_time": "2023-04-03T15:40:29.908Z"
   },
   {
    "duration": 15,
    "start_time": "2023-04-03T15:40:30.183Z"
   },
   {
    "duration": 61,
    "start_time": "2023-04-03T15:40:30.200Z"
   },
   {
    "duration": 235,
    "start_time": "2023-04-03T15:40:30.262Z"
   },
   {
    "duration": 3,
    "start_time": "2023-04-03T15:40:30.499Z"
   },
   {
    "duration": 60,
    "start_time": "2023-04-03T15:40:30.503Z"
   },
   {
    "duration": 38,
    "start_time": "2023-04-03T15:40:30.565Z"
   },
   {
    "duration": 65,
    "start_time": "2023-04-03T15:40:30.604Z"
   },
   {
    "duration": 109,
    "start_time": "2023-04-03T15:40:30.671Z"
   },
   {
    "duration": 0,
    "start_time": "2023-04-03T15:40:30.781Z"
   },
   {
    "duration": 0,
    "start_time": "2023-04-03T15:40:30.782Z"
   },
   {
    "duration": 0,
    "start_time": "2023-04-03T15:40:30.784Z"
   },
   {
    "duration": 0,
    "start_time": "2023-04-03T15:40:30.785Z"
   },
   {
    "duration": 0,
    "start_time": "2023-04-03T15:40:30.786Z"
   },
   {
    "duration": 0,
    "start_time": "2023-04-03T15:40:30.787Z"
   },
   {
    "duration": 0,
    "start_time": "2023-04-03T15:40:30.788Z"
   },
   {
    "duration": 281,
    "start_time": "2023-04-03T16:28:20.987Z"
   },
   {
    "duration": 13,
    "start_time": "2023-04-03T16:29:15.920Z"
   },
   {
    "duration": 35,
    "start_time": "2023-04-03T16:29:18.422Z"
   },
   {
    "duration": 94,
    "start_time": "2023-04-03T16:29:18.727Z"
   },
   {
    "duration": 87,
    "start_time": "2023-04-03T16:29:19.217Z"
   },
   {
    "duration": 45,
    "start_time": "2023-04-03T16:29:20.054Z"
   },
   {
    "duration": 3,
    "start_time": "2023-04-03T16:29:20.718Z"
   },
   {
    "duration": 16,
    "start_time": "2023-04-03T16:30:00.609Z"
   },
   {
    "duration": 142,
    "start_time": "2023-04-03T16:43:20.069Z"
   },
   {
    "duration": 1312,
    "start_time": "2023-04-03T16:43:31.832Z"
   },
   {
    "duration": 979,
    "start_time": "2023-04-03T16:43:33.146Z"
   },
   {
    "duration": 37,
    "start_time": "2023-04-03T16:43:34.127Z"
   },
   {
    "duration": 6,
    "start_time": "2023-04-03T16:43:34.166Z"
   },
   {
    "duration": 13,
    "start_time": "2023-04-03T16:43:34.175Z"
   },
   {
    "duration": 67,
    "start_time": "2023-04-03T16:43:34.190Z"
   },
   {
    "duration": 37,
    "start_time": "2023-04-03T16:43:34.263Z"
   },
   {
    "duration": 19,
    "start_time": "2023-04-03T16:43:34.301Z"
   },
   {
    "duration": 22,
    "start_time": "2023-04-03T16:43:34.322Z"
   },
   {
    "duration": 18,
    "start_time": "2023-04-03T16:43:34.350Z"
   },
   {
    "duration": 434,
    "start_time": "2023-04-03T16:43:34.370Z"
   },
   {
    "duration": 446,
    "start_time": "2023-04-03T16:43:34.807Z"
   },
   {
    "duration": 67,
    "start_time": "2023-04-03T16:43:35.260Z"
   },
   {
    "duration": 731,
    "start_time": "2023-04-03T16:43:35.329Z"
   },
   {
    "duration": 192,
    "start_time": "2023-04-03T16:43:36.065Z"
   },
   {
    "duration": 142,
    "start_time": "2023-04-03T16:43:36.259Z"
   },
   {
    "duration": 5,
    "start_time": "2023-04-03T16:43:36.404Z"
   },
   {
    "duration": 51,
    "start_time": "2023-04-03T16:43:36.410Z"
   },
   {
    "duration": 198,
    "start_time": "2023-04-03T16:43:36.469Z"
   },
   {
    "duration": 519,
    "start_time": "2023-04-03T16:43:36.669Z"
   },
   {
    "duration": 229,
    "start_time": "2023-04-03T16:43:37.190Z"
   },
   {
    "duration": 125,
    "start_time": "2023-04-03T16:43:37.425Z"
   },
   {
    "duration": 24,
    "start_time": "2023-04-03T16:43:37.552Z"
   },
   {
    "duration": 15,
    "start_time": "2023-04-03T16:43:37.581Z"
   },
   {
    "duration": 13,
    "start_time": "2023-04-03T16:43:37.598Z"
   },
   {
    "duration": 41,
    "start_time": "2023-04-03T16:43:37.613Z"
   },
   {
    "duration": 37,
    "start_time": "2023-04-03T16:43:37.657Z"
   },
   {
    "duration": 11,
    "start_time": "2023-04-03T16:43:37.699Z"
   },
   {
    "duration": 30,
    "start_time": "2023-04-03T16:43:37.713Z"
   },
   {
    "duration": 14,
    "start_time": "2023-04-03T16:43:37.750Z"
   },
   {
    "duration": 16,
    "start_time": "2023-04-03T16:43:37.766Z"
   },
   {
    "duration": 1297,
    "start_time": "2023-04-03T16:43:37.784Z"
   },
   {
    "duration": 434,
    "start_time": "2023-04-03T16:43:39.083Z"
   },
   {
    "duration": 11,
    "start_time": "2023-04-03T16:43:39.519Z"
   },
   {
    "duration": 335,
    "start_time": "2023-04-03T16:43:39.540Z"
   },
   {
    "duration": 21,
    "start_time": "2023-04-03T16:43:39.877Z"
   },
   {
    "duration": 65,
    "start_time": "2023-04-03T16:43:39.900Z"
   },
   {
    "duration": 254,
    "start_time": "2023-04-03T16:43:39.967Z"
   },
   {
    "duration": 3,
    "start_time": "2023-04-03T16:43:40.223Z"
   },
   {
    "duration": 35,
    "start_time": "2023-04-03T16:43:40.227Z"
   },
   {
    "duration": 12,
    "start_time": "2023-04-03T16:43:40.264Z"
   },
   {
    "duration": 20,
    "start_time": "2023-04-03T16:43:40.278Z"
   },
   {
    "duration": 114,
    "start_time": "2023-04-03T16:43:40.300Z"
   },
   {
    "duration": 0,
    "start_time": "2023-04-03T16:43:40.416Z"
   },
   {
    "duration": 0,
    "start_time": "2023-04-03T16:43:40.417Z"
   },
   {
    "duration": 0,
    "start_time": "2023-04-03T16:43:40.419Z"
   },
   {
    "duration": 0,
    "start_time": "2023-04-03T16:43:40.420Z"
   },
   {
    "duration": 0,
    "start_time": "2023-04-03T16:43:40.421Z"
   },
   {
    "duration": 0,
    "start_time": "2023-04-03T16:43:40.423Z"
   },
   {
    "duration": 0,
    "start_time": "2023-04-03T16:43:40.424Z"
   },
   {
    "duration": 271,
    "start_time": "2023-04-03T16:45:19.272Z"
   },
   {
    "duration": 14,
    "start_time": "2023-04-03T16:45:19.546Z"
   },
   {
    "duration": 64,
    "start_time": "2023-04-03T16:45:19.562Z"
   },
   {
    "duration": 84,
    "start_time": "2023-04-03T16:45:19.630Z"
   },
   {
    "duration": 90,
    "start_time": "2023-04-03T16:45:19.716Z"
   },
   {
    "duration": 60,
    "start_time": "2023-04-03T16:45:19.809Z"
   },
   {
    "duration": 9,
    "start_time": "2023-04-03T16:45:19.871Z"
   },
   {
    "duration": 46,
    "start_time": "2023-04-04T21:37:39.893Z"
   },
   {
    "duration": 1356,
    "start_time": "2023-04-04T21:37:51.465Z"
   },
   {
    "duration": 1095,
    "start_time": "2023-04-04T21:37:52.823Z"
   },
   {
    "duration": 15,
    "start_time": "2023-04-04T21:37:53.920Z"
   },
   {
    "duration": 5,
    "start_time": "2023-04-04T21:37:53.937Z"
   },
   {
    "duration": 4,
    "start_time": "2023-04-04T21:37:53.944Z"
   },
   {
    "duration": 18,
    "start_time": "2023-04-04T21:37:53.949Z"
   },
   {
    "duration": 20,
    "start_time": "2023-04-04T21:37:53.968Z"
   },
   {
    "duration": 22,
    "start_time": "2023-04-04T21:37:53.990Z"
   },
   {
    "duration": 13,
    "start_time": "2023-04-04T21:37:54.014Z"
   },
   {
    "duration": 12,
    "start_time": "2023-04-04T21:37:54.030Z"
   },
   {
    "duration": 36,
    "start_time": "2023-04-04T21:37:54.044Z"
   },
   {
    "duration": 350,
    "start_time": "2023-04-04T21:37:54.081Z"
   },
   {
    "duration": 321,
    "start_time": "2023-04-04T21:37:54.433Z"
   },
   {
    "duration": 42,
    "start_time": "2023-04-04T21:37:54.755Z"
   },
   {
    "duration": 425,
    "start_time": "2023-04-04T21:37:54.799Z"
   },
   {
    "duration": 163,
    "start_time": "2023-04-04T21:37:55.226Z"
   },
   {
    "duration": 94,
    "start_time": "2023-04-04T21:37:55.391Z"
   },
   {
    "duration": 3,
    "start_time": "2023-04-04T21:37:55.487Z"
   },
   {
    "duration": 23,
    "start_time": "2023-04-04T21:37:55.492Z"
   },
   {
    "duration": 149,
    "start_time": "2023-04-04T21:37:55.516Z"
   },
   {
    "duration": 406,
    "start_time": "2023-04-04T21:37:55.671Z"
   },
   {
    "duration": 138,
    "start_time": "2023-04-04T21:37:56.079Z"
   },
   {
    "duration": 77,
    "start_time": "2023-04-04T21:37:56.218Z"
   },
   {
    "duration": 8,
    "start_time": "2023-04-04T21:37:56.298Z"
   },
   {
    "duration": 15,
    "start_time": "2023-04-04T21:37:56.307Z"
   },
   {
    "duration": 7,
    "start_time": "2023-04-04T21:37:56.324Z"
   },
   {
    "duration": 12,
    "start_time": "2023-04-04T21:37:56.332Z"
   },
   {
    "duration": 38,
    "start_time": "2023-04-04T21:37:56.347Z"
   },
   {
    "duration": 7,
    "start_time": "2023-04-04T21:37:56.387Z"
   },
   {
    "duration": 10,
    "start_time": "2023-04-04T21:37:56.395Z"
   },
   {
    "duration": 27,
    "start_time": "2023-04-04T21:37:56.406Z"
   },
   {
    "duration": 15,
    "start_time": "2023-04-04T21:37:56.434Z"
   },
   {
    "duration": 856,
    "start_time": "2023-04-04T21:37:56.450Z"
   },
   {
    "duration": 299,
    "start_time": "2023-04-04T21:37:57.307Z"
   },
   {
    "duration": 8,
    "start_time": "2023-04-04T21:37:57.607Z"
   },
   {
    "duration": 229,
    "start_time": "2023-04-04T21:37:57.616Z"
   },
   {
    "duration": 12,
    "start_time": "2023-04-04T21:37:57.847Z"
   },
   {
    "duration": 35,
    "start_time": "2023-04-04T21:37:57.861Z"
   },
   {
    "duration": 182,
    "start_time": "2023-04-04T21:37:57.898Z"
   },
   {
    "duration": 2,
    "start_time": "2023-04-04T21:37:58.081Z"
   },
   {
    "duration": 21,
    "start_time": "2023-04-04T21:37:58.085Z"
   },
   {
    "duration": 8,
    "start_time": "2023-04-04T21:37:58.107Z"
   },
   {
    "duration": 15,
    "start_time": "2023-04-04T21:37:58.117Z"
   },
   {
    "duration": 83,
    "start_time": "2023-04-04T21:37:58.134Z"
   },
   {
    "duration": 0,
    "start_time": "2023-04-04T21:37:58.218Z"
   },
   {
    "duration": 0,
    "start_time": "2023-04-04T21:37:58.220Z"
   },
   {
    "duration": 0,
    "start_time": "2023-04-04T21:37:58.220Z"
   },
   {
    "duration": 0,
    "start_time": "2023-04-04T21:37:58.222Z"
   },
   {
    "duration": 0,
    "start_time": "2023-04-04T21:37:58.223Z"
   },
   {
    "duration": 0,
    "start_time": "2023-04-04T21:37:58.224Z"
   },
   {
    "duration": 0,
    "start_time": "2023-04-04T21:37:58.225Z"
   },
   {
    "duration": 24,
    "start_time": "2023-04-04T21:39:26.602Z"
   },
   {
    "duration": 47,
    "start_time": "2023-04-05T14:04:13.484Z"
   },
   {
    "duration": 1427,
    "start_time": "2023-04-05T19:41:58.774Z"
   },
   {
    "duration": 1003,
    "start_time": "2023-04-05T19:42:00.204Z"
   },
   {
    "duration": 20,
    "start_time": "2023-04-05T19:42:01.208Z"
   },
   {
    "duration": 30,
    "start_time": "2023-04-05T19:42:01.230Z"
   },
   {
    "duration": 28,
    "start_time": "2023-04-05T19:42:01.262Z"
   },
   {
    "duration": 67,
    "start_time": "2023-04-05T19:42:01.292Z"
   },
   {
    "duration": 32,
    "start_time": "2023-04-05T19:42:01.361Z"
   },
   {
    "duration": 74,
    "start_time": "2023-04-05T19:42:01.395Z"
   },
   {
    "duration": 48,
    "start_time": "2023-04-05T19:42:01.471Z"
   },
   {
    "duration": 55,
    "start_time": "2023-04-05T19:42:01.521Z"
   },
   {
    "duration": 57,
    "start_time": "2023-04-05T19:42:01.578Z"
   },
   {
    "duration": 433,
    "start_time": "2023-04-05T19:42:01.637Z"
   },
   {
    "duration": 342,
    "start_time": "2023-04-05T19:42:02.074Z"
   },
   {
    "duration": 45,
    "start_time": "2023-04-05T19:42:02.417Z"
   },
   {
    "duration": 102,
    "start_time": "2023-04-05T19:42:02.463Z"
   },
   {
    "duration": 553,
    "start_time": "2023-04-05T19:42:02.566Z"
   },
   {
    "duration": 102,
    "start_time": "2023-04-05T19:42:03.121Z"
   },
   {
    "duration": 129,
    "start_time": "2023-04-05T19:42:03.225Z"
   },
   {
    "duration": 7,
    "start_time": "2023-04-05T19:42:03.374Z"
   },
   {
    "duration": 35,
    "start_time": "2023-04-05T19:42:03.383Z"
   },
   {
    "duration": 204,
    "start_time": "2023-04-05T19:42:03.419Z"
   },
   {
    "duration": 462,
    "start_time": "2023-04-05T19:42:03.625Z"
   },
   {
    "duration": 181,
    "start_time": "2023-04-05T19:42:04.089Z"
   },
   {
    "duration": 105,
    "start_time": "2023-04-05T19:42:04.275Z"
   },
   {
    "duration": 10,
    "start_time": "2023-04-05T19:42:04.383Z"
   },
   {
    "duration": 13,
    "start_time": "2023-04-05T19:42:04.395Z"
   },
   {
    "duration": 10,
    "start_time": "2023-04-05T19:42:04.410Z"
   },
   {
    "duration": 10,
    "start_time": "2023-04-05T19:42:04.425Z"
   },
   {
    "duration": 62,
    "start_time": "2023-04-05T19:42:04.437Z"
   },
   {
    "duration": 8,
    "start_time": "2023-04-05T19:42:04.501Z"
   },
   {
    "duration": 10,
    "start_time": "2023-04-05T19:42:04.511Z"
   },
   {
    "duration": 8,
    "start_time": "2023-04-05T19:42:04.523Z"
   },
   {
    "duration": 43,
    "start_time": "2023-04-05T19:42:04.533Z"
   },
   {
    "duration": 1042,
    "start_time": "2023-04-05T19:42:04.577Z"
   },
   {
    "duration": 397,
    "start_time": "2023-04-05T19:42:05.621Z"
   },
   {
    "duration": 8,
    "start_time": "2023-04-05T19:42:06.020Z"
   },
   {
    "duration": 308,
    "start_time": "2023-04-05T19:42:06.030Z"
   },
   {
    "duration": 15,
    "start_time": "2023-04-05T19:42:06.340Z"
   },
   {
    "duration": 50,
    "start_time": "2023-04-05T19:42:06.357Z"
   },
   {
    "duration": 228,
    "start_time": "2023-04-05T19:42:06.409Z"
   },
   {
    "duration": 3,
    "start_time": "2023-04-05T19:42:06.639Z"
   },
   {
    "duration": 33,
    "start_time": "2023-04-05T19:42:06.643Z"
   },
   {
    "duration": 9,
    "start_time": "2023-04-05T19:42:06.678Z"
   },
   {
    "duration": 16,
    "start_time": "2023-04-05T19:42:06.689Z"
   },
   {
    "duration": 46,
    "start_time": "2023-04-05T19:42:06.707Z"
   },
   {
    "duration": 0,
    "start_time": "2023-04-05T19:42:06.755Z"
   },
   {
    "duration": 0,
    "start_time": "2023-04-05T19:42:06.756Z"
   },
   {
    "duration": 0,
    "start_time": "2023-04-05T19:42:06.757Z"
   },
   {
    "duration": 0,
    "start_time": "2023-04-05T19:42:06.758Z"
   },
   {
    "duration": 0,
    "start_time": "2023-04-05T19:42:06.760Z"
   },
   {
    "duration": 0,
    "start_time": "2023-04-05T19:42:06.761Z"
   },
   {
    "duration": 0,
    "start_time": "2023-04-05T19:42:06.762Z"
   },
   {
    "duration": 220,
    "start_time": "2023-04-05T19:49:19.207Z"
   },
   {
    "duration": 66,
    "start_time": "2023-04-07T19:30:10.994Z"
   },
   {
    "duration": 1518,
    "start_time": "2023-04-07T19:30:16.622Z"
   },
   {
    "duration": 1007,
    "start_time": "2023-04-07T19:30:18.149Z"
   },
   {
    "duration": 27,
    "start_time": "2023-04-07T19:30:19.158Z"
   },
   {
    "duration": 5,
    "start_time": "2023-04-07T19:30:19.187Z"
   },
   {
    "duration": 12,
    "start_time": "2023-04-07T19:30:19.193Z"
   },
   {
    "duration": 55,
    "start_time": "2023-04-07T19:30:19.206Z"
   },
   {
    "duration": 32,
    "start_time": "2023-04-07T19:30:19.264Z"
   },
   {
    "duration": 88,
    "start_time": "2023-04-07T19:30:19.298Z"
   },
   {
    "duration": 20,
    "start_time": "2023-04-07T19:30:19.388Z"
   },
   {
    "duration": 21,
    "start_time": "2023-04-07T19:30:19.412Z"
   },
   {
    "duration": 34,
    "start_time": "2023-04-07T19:30:19.435Z"
   },
   {
    "duration": 412,
    "start_time": "2023-04-07T19:30:19.471Z"
   },
   {
    "duration": 395,
    "start_time": "2023-04-07T19:30:19.885Z"
   },
   {
    "duration": 40,
    "start_time": "2023-04-07T19:30:20.282Z"
   },
   {
    "duration": 91,
    "start_time": "2023-04-07T19:30:20.338Z"
   },
   {
    "duration": 506,
    "start_time": "2023-04-07T19:30:20.430Z"
   },
   {
    "duration": 206,
    "start_time": "2023-04-07T19:30:20.939Z"
   },
   {
    "duration": 91,
    "start_time": "2023-04-07T19:30:21.147Z"
   },
   {
    "duration": 7,
    "start_time": "2023-04-07T19:30:21.245Z"
   },
   {
    "duration": 30,
    "start_time": "2023-04-07T19:30:21.254Z"
   },
   {
    "duration": 207,
    "start_time": "2023-04-07T19:30:21.287Z"
   },
   {
    "duration": 497,
    "start_time": "2023-04-07T19:30:21.496Z"
   },
   {
    "duration": 170,
    "start_time": "2023-04-07T19:30:21.995Z"
   },
   {
    "duration": 112,
    "start_time": "2023-04-07T19:30:22.167Z"
   },
   {
    "duration": 12,
    "start_time": "2023-04-07T19:30:22.281Z"
   },
   {
    "duration": 34,
    "start_time": "2023-04-07T19:30:22.295Z"
   },
   {
    "duration": 13,
    "start_time": "2023-04-07T19:30:22.331Z"
   },
   {
    "duration": 23,
    "start_time": "2023-04-07T19:30:22.357Z"
   },
   {
    "duration": 72,
    "start_time": "2023-04-07T19:30:22.382Z"
   },
   {
    "duration": 11,
    "start_time": "2023-04-07T19:30:22.456Z"
   },
   {
    "duration": 18,
    "start_time": "2023-04-07T19:30:22.468Z"
   },
   {
    "duration": 13,
    "start_time": "2023-04-07T19:30:22.488Z"
   },
   {
    "duration": 12,
    "start_time": "2023-04-07T19:30:22.503Z"
   },
   {
    "duration": 1107,
    "start_time": "2023-04-07T19:30:22.516Z"
   },
   {
    "duration": 376,
    "start_time": "2023-04-07T19:30:23.625Z"
   },
   {
    "duration": 10,
    "start_time": "2023-04-07T19:30:24.003Z"
   },
   {
    "duration": 316,
    "start_time": "2023-04-07T19:30:24.015Z"
   },
   {
    "duration": 24,
    "start_time": "2023-04-07T19:30:24.333Z"
   },
   {
    "duration": 95,
    "start_time": "2023-04-07T19:30:24.362Z"
   },
   {
    "duration": 334,
    "start_time": "2023-04-07T19:30:24.459Z"
   },
   {
    "duration": 3,
    "start_time": "2023-04-07T19:30:24.795Z"
   },
   {
    "duration": 44,
    "start_time": "2023-04-07T19:30:24.800Z"
   },
   {
    "duration": 28,
    "start_time": "2023-04-07T19:30:24.845Z"
   },
   {
    "duration": 39,
    "start_time": "2023-04-07T19:30:24.880Z"
   },
   {
    "duration": 98,
    "start_time": "2023-04-07T19:30:24.924Z"
   },
   {
    "duration": 0,
    "start_time": "2023-04-07T19:30:25.024Z"
   },
   {
    "duration": 0,
    "start_time": "2023-04-07T19:30:25.026Z"
   },
   {
    "duration": 0,
    "start_time": "2023-04-07T19:30:25.027Z"
   },
   {
    "duration": 0,
    "start_time": "2023-04-07T19:30:25.029Z"
   },
   {
    "duration": 0,
    "start_time": "2023-04-07T19:30:25.031Z"
   },
   {
    "duration": 0,
    "start_time": "2023-04-07T19:30:25.033Z"
   },
   {
    "duration": 0,
    "start_time": "2023-04-07T19:30:25.039Z"
   },
   {
    "duration": 42,
    "start_time": "2023-04-07T19:31:06.886Z"
   },
   {
    "duration": 36,
    "start_time": "2023-04-07T19:31:23.848Z"
   },
   {
    "duration": 1222,
    "start_time": "2023-04-07T19:31:36.794Z"
   },
   {
    "duration": 878,
    "start_time": "2023-04-07T19:31:38.018Z"
   },
   {
    "duration": 16,
    "start_time": "2023-04-07T19:31:38.898Z"
   },
   {
    "duration": 8,
    "start_time": "2023-04-07T19:31:38.916Z"
   },
   {
    "duration": 29,
    "start_time": "2023-04-07T19:31:38.925Z"
   },
   {
    "duration": 34,
    "start_time": "2023-04-07T19:31:38.956Z"
   },
   {
    "duration": 23,
    "start_time": "2023-04-07T19:31:38.992Z"
   },
   {
    "duration": 35,
    "start_time": "2023-04-07T19:31:39.017Z"
   },
   {
    "duration": 15,
    "start_time": "2023-04-07T19:31:39.053Z"
   },
   {
    "duration": 15,
    "start_time": "2023-04-07T19:31:39.070Z"
   },
   {
    "duration": 13,
    "start_time": "2023-04-07T19:31:39.087Z"
   },
   {
    "duration": 387,
    "start_time": "2023-04-07T19:31:39.101Z"
   },
   {
    "duration": 365,
    "start_time": "2023-04-07T19:31:39.490Z"
   },
   {
    "duration": 41,
    "start_time": "2023-04-07T19:31:39.857Z"
   },
   {
    "duration": 116,
    "start_time": "2023-04-07T19:31:39.900Z"
   },
   {
    "duration": 491,
    "start_time": "2023-04-07T19:31:40.018Z"
   },
   {
    "duration": 130,
    "start_time": "2023-04-07T19:31:40.510Z"
   },
   {
    "duration": 77,
    "start_time": "2023-04-07T19:31:40.641Z"
   },
   {
    "duration": 7,
    "start_time": "2023-04-07T19:31:40.735Z"
   },
   {
    "duration": 35,
    "start_time": "2023-04-07T19:31:40.744Z"
   },
   {
    "duration": 143,
    "start_time": "2023-04-07T19:31:40.781Z"
   },
   {
    "duration": 453,
    "start_time": "2023-04-07T19:31:40.925Z"
   },
   {
    "duration": 171,
    "start_time": "2023-04-07T19:31:41.379Z"
   },
   {
    "duration": 104,
    "start_time": "2023-04-07T19:31:41.553Z"
   },
   {
    "duration": 10,
    "start_time": "2023-04-07T19:31:41.659Z"
   },
   {
    "duration": 10,
    "start_time": "2023-04-07T19:31:41.671Z"
   },
   {
    "duration": 9,
    "start_time": "2023-04-07T19:31:41.682Z"
   },
   {
    "duration": 16,
    "start_time": "2023-04-07T19:31:41.695Z"
   },
   {
    "duration": 30,
    "start_time": "2023-04-07T19:31:41.739Z"
   },
   {
    "duration": 7,
    "start_time": "2023-04-07T19:31:41.771Z"
   },
   {
    "duration": 9,
    "start_time": "2023-04-07T19:31:41.780Z"
   },
   {
    "duration": 10,
    "start_time": "2023-04-07T19:31:41.790Z"
   },
   {
    "duration": 12,
    "start_time": "2023-04-07T19:31:41.801Z"
   },
   {
    "duration": 1055,
    "start_time": "2023-04-07T19:31:41.834Z"
   },
   {
    "duration": 391,
    "start_time": "2023-04-07T19:31:42.891Z"
   },
   {
    "duration": 9,
    "start_time": "2023-04-07T19:31:43.284Z"
   },
   {
    "duration": 284,
    "start_time": "2023-04-07T19:31:43.295Z"
   },
   {
    "duration": 13,
    "start_time": "2023-04-07T19:31:43.581Z"
   },
   {
    "duration": 53,
    "start_time": "2023-04-07T19:31:43.596Z"
   },
   {
    "duration": 202,
    "start_time": "2023-04-07T19:31:43.650Z"
   },
   {
    "duration": 2,
    "start_time": "2023-04-07T19:31:43.854Z"
   },
   {
    "duration": 20,
    "start_time": "2023-04-07T19:31:43.859Z"
   },
   {
    "duration": 10,
    "start_time": "2023-04-07T19:31:43.880Z"
   },
   {
    "duration": 50,
    "start_time": "2023-04-07T19:31:43.892Z"
   },
   {
    "duration": 95,
    "start_time": "2023-04-07T19:31:43.943Z"
   },
   {
    "duration": 0,
    "start_time": "2023-04-07T19:31:44.042Z"
   },
   {
    "duration": 0,
    "start_time": "2023-04-07T19:31:44.043Z"
   },
   {
    "duration": 0,
    "start_time": "2023-04-07T19:31:44.043Z"
   },
   {
    "duration": 0,
    "start_time": "2023-04-07T19:31:44.045Z"
   },
   {
    "duration": 0,
    "start_time": "2023-04-07T19:31:44.046Z"
   },
   {
    "duration": 0,
    "start_time": "2023-04-07T19:31:44.049Z"
   },
   {
    "duration": 0,
    "start_time": "2023-04-07T19:31:44.049Z"
   },
   {
    "duration": 1181,
    "start_time": "2023-04-07T19:32:35.175Z"
   },
   {
    "duration": 1168,
    "start_time": "2023-04-07T19:32:36.358Z"
   },
   {
    "duration": 29,
    "start_time": "2023-04-07T19:32:37.528Z"
   },
   {
    "duration": 15,
    "start_time": "2023-04-07T19:32:37.560Z"
   },
   {
    "duration": 53,
    "start_time": "2023-04-07T19:32:37.577Z"
   },
   {
    "duration": 27,
    "start_time": "2023-04-07T19:32:37.631Z"
   },
   {
    "duration": 25,
    "start_time": "2023-04-07T19:32:37.659Z"
   },
   {
    "duration": 13,
    "start_time": "2023-04-07T19:32:37.686Z"
   },
   {
    "duration": 46,
    "start_time": "2023-04-07T19:32:37.700Z"
   },
   {
    "duration": 14,
    "start_time": "2023-04-07T19:32:37.750Z"
   },
   {
    "duration": 340,
    "start_time": "2023-04-07T19:32:37.765Z"
   },
   {
    "duration": 351,
    "start_time": "2023-04-07T19:32:38.107Z"
   },
   {
    "duration": 42,
    "start_time": "2023-04-07T19:32:38.460Z"
   },
   {
    "duration": 108,
    "start_time": "2023-04-07T19:32:38.504Z"
   },
   {
    "duration": 505,
    "start_time": "2023-04-07T19:32:38.614Z"
   },
   {
    "duration": 122,
    "start_time": "2023-04-07T19:32:39.121Z"
   },
   {
    "duration": 140,
    "start_time": "2023-04-07T19:32:39.245Z"
   },
   {
    "duration": 4,
    "start_time": "2023-04-07T19:32:39.387Z"
   },
   {
    "duration": 27,
    "start_time": "2023-04-07T19:32:39.393Z"
   },
   {
    "duration": 163,
    "start_time": "2023-04-07T19:32:39.421Z"
   },
   {
    "duration": 424,
    "start_time": "2023-04-07T19:32:39.585Z"
   },
   {
    "duration": 143,
    "start_time": "2023-04-07T19:32:40.010Z"
   },
   {
    "duration": 102,
    "start_time": "2023-04-07T19:32:40.155Z"
   },
   {
    "duration": 9,
    "start_time": "2023-04-07T19:32:40.258Z"
   },
   {
    "duration": 42,
    "start_time": "2023-04-07T19:32:40.268Z"
   },
   {
    "duration": 34,
    "start_time": "2023-04-07T19:32:40.312Z"
   },
   {
    "duration": 32,
    "start_time": "2023-04-07T19:32:40.349Z"
   },
   {
    "duration": 34,
    "start_time": "2023-04-07T19:32:40.384Z"
   },
   {
    "duration": 9,
    "start_time": "2023-04-07T19:32:40.420Z"
   },
   {
    "duration": 16,
    "start_time": "2023-04-07T19:32:40.431Z"
   },
   {
    "duration": 14,
    "start_time": "2023-04-07T19:32:40.448Z"
   },
   {
    "duration": 8,
    "start_time": "2023-04-07T19:32:40.464Z"
   },
   {
    "duration": 1006,
    "start_time": "2023-04-07T19:32:40.473Z"
   },
   {
    "duration": 368,
    "start_time": "2023-04-07T19:32:41.481Z"
   },
   {
    "duration": 8,
    "start_time": "2023-04-07T19:32:41.851Z"
   },
   {
    "duration": 259,
    "start_time": "2023-04-07T19:32:41.860Z"
   },
   {
    "duration": 27,
    "start_time": "2023-04-07T19:32:42.120Z"
   },
   {
    "duration": 30,
    "start_time": "2023-04-07T19:32:42.150Z"
   },
   {
    "duration": 222,
    "start_time": "2023-04-07T19:32:42.181Z"
   },
   {
    "duration": 2,
    "start_time": "2023-04-07T19:32:42.405Z"
   },
   {
    "duration": 32,
    "start_time": "2023-04-07T19:32:42.409Z"
   },
   {
    "duration": 13,
    "start_time": "2023-04-07T19:32:42.445Z"
   },
   {
    "duration": 26,
    "start_time": "2023-04-07T19:32:42.462Z"
   },
   {
    "duration": 95,
    "start_time": "2023-04-07T19:32:42.490Z"
   },
   {
    "duration": 0,
    "start_time": "2023-04-07T19:32:42.587Z"
   },
   {
    "duration": 0,
    "start_time": "2023-04-07T19:32:42.588Z"
   },
   {
    "duration": 0,
    "start_time": "2023-04-07T19:32:42.589Z"
   },
   {
    "duration": 0,
    "start_time": "2023-04-07T19:32:42.591Z"
   },
   {
    "duration": 0,
    "start_time": "2023-04-07T19:32:42.592Z"
   },
   {
    "duration": 0,
    "start_time": "2023-04-07T19:32:42.593Z"
   },
   {
    "duration": 0,
    "start_time": "2023-04-07T19:32:42.595Z"
   },
   {
    "duration": 16,
    "start_time": "2023-04-07T19:35:05.098Z"
   },
   {
    "duration": 30,
    "start_time": "2023-04-07T19:36:15.603Z"
   },
   {
    "duration": 172,
    "start_time": "2023-04-07T19:37:00.898Z"
   },
   {
    "duration": 16,
    "start_time": "2023-04-07T19:37:24.705Z"
   },
   {
    "duration": 1103,
    "start_time": "2023-04-07T19:41:33.192Z"
   },
   {
    "duration": 863,
    "start_time": "2023-04-07T19:41:34.297Z"
   },
   {
    "duration": 19,
    "start_time": "2023-04-07T19:41:35.161Z"
   },
   {
    "duration": 4,
    "start_time": "2023-04-07T19:41:35.182Z"
   },
   {
    "duration": 34,
    "start_time": "2023-04-07T19:41:35.189Z"
   },
   {
    "duration": 29,
    "start_time": "2023-04-07T19:41:35.225Z"
   },
   {
    "duration": 30,
    "start_time": "2023-04-07T19:41:35.255Z"
   },
   {
    "duration": 15,
    "start_time": "2023-04-07T19:41:35.287Z"
   },
   {
    "duration": 18,
    "start_time": "2023-04-07T19:41:35.335Z"
   },
   {
    "duration": 13,
    "start_time": "2023-04-07T19:41:35.355Z"
   },
   {
    "duration": 368,
    "start_time": "2023-04-07T19:41:35.370Z"
   },
   {
    "duration": 310,
    "start_time": "2023-04-07T19:41:35.740Z"
   },
   {
    "duration": 39,
    "start_time": "2023-04-07T19:41:36.052Z"
   },
   {
    "duration": 96,
    "start_time": "2023-04-07T19:41:36.095Z"
   },
   {
    "duration": 462,
    "start_time": "2023-04-07T19:41:36.192Z"
   },
   {
    "duration": 125,
    "start_time": "2023-04-07T19:41:36.656Z"
   },
   {
    "duration": 99,
    "start_time": "2023-04-07T19:41:36.783Z"
   },
   {
    "duration": 4,
    "start_time": "2023-04-07T19:41:36.884Z"
   },
   {
    "duration": 22,
    "start_time": "2023-04-07T19:41:36.889Z"
   },
   {
    "duration": 155,
    "start_time": "2023-04-07T19:41:36.912Z"
   },
   {
    "duration": 397,
    "start_time": "2023-04-07T19:41:37.069Z"
   },
   {
    "duration": 127,
    "start_time": "2023-04-07T19:41:37.467Z"
   },
   {
    "duration": 82,
    "start_time": "2023-04-07T19:41:37.596Z"
   },
   {
    "duration": 8,
    "start_time": "2023-04-07T19:41:37.679Z"
   },
   {
    "duration": 17,
    "start_time": "2023-04-07T19:41:37.689Z"
   },
   {
    "duration": 30,
    "start_time": "2023-04-07T19:41:37.707Z"
   },
   {
    "duration": 9,
    "start_time": "2023-04-07T19:41:37.738Z"
   },
   {
    "duration": 26,
    "start_time": "2023-04-07T19:41:37.748Z"
   },
   {
    "duration": 9,
    "start_time": "2023-04-07T19:41:37.776Z"
   },
   {
    "duration": 33,
    "start_time": "2023-04-07T19:41:37.788Z"
   },
   {
    "duration": 21,
    "start_time": "2023-04-07T19:41:37.823Z"
   },
   {
    "duration": 11,
    "start_time": "2023-04-07T19:41:37.846Z"
   },
   {
    "duration": 955,
    "start_time": "2023-04-07T19:41:37.859Z"
   },
   {
    "duration": 380,
    "start_time": "2023-04-07T19:41:38.816Z"
   },
   {
    "duration": 8,
    "start_time": "2023-04-07T19:41:39.197Z"
   },
   {
    "duration": 271,
    "start_time": "2023-04-07T19:41:39.206Z"
   },
   {
    "duration": 14,
    "start_time": "2023-04-07T19:41:39.478Z"
   },
   {
    "duration": 42,
    "start_time": "2023-04-07T19:41:39.493Z"
   },
   {
    "duration": 199,
    "start_time": "2023-04-07T19:41:39.537Z"
   },
   {
    "duration": 2,
    "start_time": "2023-04-07T19:41:39.738Z"
   },
   {
    "duration": 18,
    "start_time": "2023-04-07T19:41:39.745Z"
   },
   {
    "duration": 10,
    "start_time": "2023-04-07T19:41:39.764Z"
   },
   {
    "duration": 17,
    "start_time": "2023-04-07T19:41:39.776Z"
   },
   {
    "duration": 72,
    "start_time": "2023-04-07T19:41:39.795Z"
   },
   {
    "duration": 0,
    "start_time": "2023-04-07T19:41:39.869Z"
   },
   {
    "duration": 0,
    "start_time": "2023-04-07T19:41:39.871Z"
   },
   {
    "duration": 0,
    "start_time": "2023-04-07T19:41:39.872Z"
   },
   {
    "duration": 0,
    "start_time": "2023-04-07T19:41:39.873Z"
   },
   {
    "duration": 0,
    "start_time": "2023-04-07T19:41:39.874Z"
   },
   {
    "duration": 0,
    "start_time": "2023-04-07T19:41:39.875Z"
   },
   {
    "duration": 0,
    "start_time": "2023-04-07T19:41:39.876Z"
   },
   {
    "duration": 18,
    "start_time": "2023-04-07T19:43:10.113Z"
   },
   {
    "duration": 23,
    "start_time": "2023-04-07T19:45:38.894Z"
   },
   {
    "duration": 22,
    "start_time": "2023-04-07T19:45:58.682Z"
   },
   {
    "duration": 1182,
    "start_time": "2023-04-07T19:46:17.181Z"
   },
   {
    "duration": 1044,
    "start_time": "2023-04-07T19:46:18.365Z"
   },
   {
    "duration": 20,
    "start_time": "2023-04-07T19:46:19.411Z"
   },
   {
    "duration": 4,
    "start_time": "2023-04-07T19:46:19.434Z"
   },
   {
    "duration": 38,
    "start_time": "2023-04-07T19:46:19.439Z"
   },
   {
    "duration": 43,
    "start_time": "2023-04-07T19:46:19.479Z"
   },
   {
    "duration": 22,
    "start_time": "2023-04-07T19:46:19.524Z"
   },
   {
    "duration": 36,
    "start_time": "2023-04-07T19:46:19.548Z"
   },
   {
    "duration": 15,
    "start_time": "2023-04-07T19:46:19.586Z"
   },
   {
    "duration": 40,
    "start_time": "2023-04-07T19:46:19.604Z"
   },
   {
    "duration": 25,
    "start_time": "2023-04-07T19:46:19.646Z"
   },
   {
    "duration": 336,
    "start_time": "2023-04-07T19:46:19.673Z"
   },
   {
    "duration": 340,
    "start_time": "2023-04-07T19:46:20.010Z"
   },
   {
    "duration": 42,
    "start_time": "2023-04-07T19:46:20.351Z"
   },
   {
    "duration": 103,
    "start_time": "2023-04-07T19:46:20.395Z"
   },
   {
    "duration": 455,
    "start_time": "2023-04-07T19:46:20.500Z"
   },
   {
    "duration": 118,
    "start_time": "2023-04-07T19:46:20.958Z"
   },
   {
    "duration": 181,
    "start_time": "2023-04-07T19:46:21.077Z"
   },
   {
    "duration": 5,
    "start_time": "2023-04-07T19:46:21.261Z"
   },
   {
    "duration": 87,
    "start_time": "2023-04-07T19:46:21.268Z"
   },
   {
    "duration": 305,
    "start_time": "2023-04-07T19:46:21.357Z"
   },
   {
    "duration": 1118,
    "start_time": "2023-04-07T19:46:21.664Z"
   },
   {
    "duration": 223,
    "start_time": "2023-04-07T19:46:22.834Z"
   },
   {
    "duration": 181,
    "start_time": "2023-04-07T19:46:23.059Z"
   },
   {
    "duration": 31,
    "start_time": "2023-04-07T19:46:23.242Z"
   },
   {
    "duration": 60,
    "start_time": "2023-04-07T19:46:23.275Z"
   },
   {
    "duration": 9,
    "start_time": "2023-04-07T19:46:23.337Z"
   },
   {
    "duration": 9,
    "start_time": "2023-04-07T19:46:23.349Z"
   },
   {
    "duration": 34,
    "start_time": "2023-04-07T19:46:23.360Z"
   },
   {
    "duration": 39,
    "start_time": "2023-04-07T19:46:23.396Z"
   },
   {
    "duration": 9,
    "start_time": "2023-04-07T19:46:23.437Z"
   },
   {
    "duration": 25,
    "start_time": "2023-04-07T19:46:23.448Z"
   },
   {
    "duration": 10,
    "start_time": "2023-04-07T19:46:23.475Z"
   },
   {
    "duration": 996,
    "start_time": "2023-04-07T19:46:23.487Z"
   },
   {
    "duration": 432,
    "start_time": "2023-04-07T19:46:24.485Z"
   },
   {
    "duration": 17,
    "start_time": "2023-04-07T19:46:24.919Z"
   },
   {
    "duration": 281,
    "start_time": "2023-04-07T19:46:24.937Z"
   },
   {
    "duration": 26,
    "start_time": "2023-04-07T19:46:25.220Z"
   },
   {
    "duration": 40,
    "start_time": "2023-04-07T19:46:25.248Z"
   },
   {
    "duration": 258,
    "start_time": "2023-04-07T19:46:25.292Z"
   },
   {
    "duration": 4,
    "start_time": "2023-04-07T19:46:25.551Z"
   },
   {
    "duration": 24,
    "start_time": "2023-04-07T19:46:25.557Z"
   },
   {
    "duration": 36,
    "start_time": "2023-04-07T19:46:25.583Z"
   },
   {
    "duration": 32,
    "start_time": "2023-04-07T19:46:25.622Z"
   },
   {
    "duration": 80,
    "start_time": "2023-04-07T19:46:25.656Z"
   },
   {
    "duration": 0,
    "start_time": "2023-04-07T19:46:25.738Z"
   },
   {
    "duration": 0,
    "start_time": "2023-04-07T19:46:25.740Z"
   },
   {
    "duration": 0,
    "start_time": "2023-04-07T19:46:25.741Z"
   },
   {
    "duration": 0,
    "start_time": "2023-04-07T19:46:25.743Z"
   },
   {
    "duration": 0,
    "start_time": "2023-04-07T19:46:25.744Z"
   },
   {
    "duration": 0,
    "start_time": "2023-04-07T19:46:25.745Z"
   },
   {
    "duration": 0,
    "start_time": "2023-04-07T19:46:25.747Z"
   },
   {
    "duration": 29,
    "start_time": "2023-04-07T19:51:26.007Z"
   },
   {
    "duration": 1246,
    "start_time": "2023-04-07T19:51:37.244Z"
   },
   {
    "duration": 1384,
    "start_time": "2023-04-07T19:51:38.493Z"
   },
   {
    "duration": 19,
    "start_time": "2023-04-07T19:51:39.879Z"
   },
   {
    "duration": 18,
    "start_time": "2023-04-07T19:51:39.901Z"
   },
   {
    "duration": 31,
    "start_time": "2023-04-07T19:51:39.921Z"
   },
   {
    "duration": 34,
    "start_time": "2023-04-07T19:51:39.955Z"
   },
   {
    "duration": 46,
    "start_time": "2023-04-07T19:51:39.991Z"
   },
   {
    "duration": 29,
    "start_time": "2023-04-07T19:51:40.039Z"
   },
   {
    "duration": 19,
    "start_time": "2023-04-07T19:51:40.069Z"
   },
   {
    "duration": 46,
    "start_time": "2023-04-07T19:51:40.091Z"
   },
   {
    "duration": 10,
    "start_time": "2023-04-07T19:51:40.139Z"
   },
   {
    "duration": 347,
    "start_time": "2023-04-07T19:51:40.150Z"
   },
   {
    "duration": 383,
    "start_time": "2023-04-07T19:51:40.499Z"
   },
   {
    "duration": 90,
    "start_time": "2023-04-07T19:51:40.883Z"
   },
   {
    "duration": 273,
    "start_time": "2023-04-07T19:51:40.977Z"
   },
   {
    "duration": 1135,
    "start_time": "2023-04-07T19:51:41.252Z"
   },
   {
    "duration": 199,
    "start_time": "2023-04-07T19:51:42.436Z"
   },
   {
    "duration": 205,
    "start_time": "2023-04-07T19:51:42.639Z"
   },
   {
    "duration": 6,
    "start_time": "2023-04-07T19:51:42.846Z"
   },
   {
    "duration": 89,
    "start_time": "2023-04-07T19:51:42.855Z"
   },
   {
    "duration": 328,
    "start_time": "2023-04-07T19:51:42.946Z"
   },
   {
    "duration": 814,
    "start_time": "2023-04-07T19:51:43.276Z"
   },
   {
    "duration": 158,
    "start_time": "2023-04-07T19:51:44.092Z"
   },
   {
    "duration": 119,
    "start_time": "2023-04-07T19:51:44.252Z"
   },
   {
    "duration": 10,
    "start_time": "2023-04-07T19:51:44.372Z"
   },
   {
    "duration": 21,
    "start_time": "2023-04-07T19:51:44.384Z"
   },
   {
    "duration": 30,
    "start_time": "2023-04-07T19:51:44.408Z"
   },
   {
    "duration": 16,
    "start_time": "2023-04-07T19:51:44.442Z"
   },
   {
    "duration": 41,
    "start_time": "2023-04-07T19:51:44.460Z"
   },
   {
    "duration": 12,
    "start_time": "2023-04-07T19:51:44.503Z"
   },
   {
    "duration": 33,
    "start_time": "2023-04-07T19:51:44.517Z"
   },
   {
    "duration": 17,
    "start_time": "2023-04-07T19:51:44.552Z"
   },
   {
    "duration": 11,
    "start_time": "2023-04-07T19:51:44.571Z"
   },
   {
    "duration": 1290,
    "start_time": "2023-04-07T19:51:44.584Z"
   },
   {
    "duration": 378,
    "start_time": "2023-04-07T19:51:45.876Z"
   },
   {
    "duration": 12,
    "start_time": "2023-04-07T19:51:46.255Z"
   },
   {
    "duration": 433,
    "start_time": "2023-04-07T19:51:46.268Z"
   },
   {
    "duration": 35,
    "start_time": "2023-04-07T19:51:46.704Z"
   },
   {
    "duration": 44,
    "start_time": "2023-04-07T19:51:46.741Z"
   },
   {
    "duration": 283,
    "start_time": "2023-04-07T19:51:46.788Z"
   },
   {
    "duration": 2,
    "start_time": "2023-04-07T19:51:47.073Z"
   },
   {
    "duration": 45,
    "start_time": "2023-04-07T19:51:47.077Z"
   },
   {
    "duration": 26,
    "start_time": "2023-04-07T19:51:47.125Z"
   },
   {
    "duration": 30,
    "start_time": "2023-04-07T19:51:47.153Z"
   },
   {
    "duration": 103,
    "start_time": "2023-04-07T19:51:47.185Z"
   },
   {
    "duration": 0,
    "start_time": "2023-04-07T19:51:47.290Z"
   },
   {
    "duration": 0,
    "start_time": "2023-04-07T19:51:47.291Z"
   },
   {
    "duration": 0,
    "start_time": "2023-04-07T19:51:47.292Z"
   },
   {
    "duration": 0,
    "start_time": "2023-04-07T19:51:47.294Z"
   },
   {
    "duration": 0,
    "start_time": "2023-04-07T19:51:47.295Z"
   },
   {
    "duration": 0,
    "start_time": "2023-04-07T19:51:47.296Z"
   },
   {
    "duration": 0,
    "start_time": "2023-04-07T19:51:47.297Z"
   },
   {
    "duration": 2,
    "start_time": "2023-04-07T19:59:11.598Z"
   },
   {
    "duration": 41,
    "start_time": "2023-04-07T20:00:45.325Z"
   },
   {
    "duration": 25,
    "start_time": "2023-04-07T20:01:20.736Z"
   },
   {
    "duration": 154,
    "start_time": "2023-04-07T20:06:53.917Z"
   },
   {
    "duration": 32,
    "start_time": "2023-04-07T20:07:07.842Z"
   },
   {
    "duration": 36,
    "start_time": "2023-04-07T20:08:14.336Z"
   },
   {
    "duration": 1292,
    "start_time": "2023-04-07T20:09:07.474Z"
   },
   {
    "duration": 1202,
    "start_time": "2023-04-07T20:09:08.768Z"
   },
   {
    "duration": 20,
    "start_time": "2023-04-07T20:09:09.972Z"
   },
   {
    "duration": 19,
    "start_time": "2023-04-07T20:09:09.994Z"
   },
   {
    "duration": 42,
    "start_time": "2023-04-07T20:09:10.015Z"
   },
   {
    "duration": 6,
    "start_time": "2023-04-07T20:09:10.059Z"
   },
   {
    "duration": 67,
    "start_time": "2023-04-07T20:09:10.067Z"
   },
   {
    "duration": 27,
    "start_time": "2023-04-07T20:09:10.137Z"
   },
   {
    "duration": 49,
    "start_time": "2023-04-07T20:09:10.166Z"
   },
   {
    "duration": 28,
    "start_time": "2023-04-07T20:09:10.219Z"
   },
   {
    "duration": 44,
    "start_time": "2023-04-07T20:09:10.249Z"
   },
   {
    "duration": 44,
    "start_time": "2023-04-07T20:09:10.294Z"
   },
   {
    "duration": 404,
    "start_time": "2023-04-07T20:09:10.340Z"
   },
   {
    "duration": 422,
    "start_time": "2023-04-07T20:09:10.745Z"
   },
   {
    "duration": 107,
    "start_time": "2023-04-07T20:09:11.169Z"
   },
   {
    "duration": 285,
    "start_time": "2023-04-07T20:09:11.278Z"
   },
   {
    "duration": 1278,
    "start_time": "2023-04-07T20:09:11.565Z"
   },
   {
    "duration": 221,
    "start_time": "2023-04-07T20:09:12.845Z"
   },
   {
    "duration": 112,
    "start_time": "2023-04-07T20:09:13.068Z"
   },
   {
    "duration": 4,
    "start_time": "2023-04-07T20:09:13.182Z"
   },
   {
    "duration": 45,
    "start_time": "2023-04-07T20:09:13.188Z"
   },
   {
    "duration": 220,
    "start_time": "2023-04-07T20:09:13.235Z"
   },
   {
    "duration": 501,
    "start_time": "2023-04-07T20:09:13.458Z"
   },
   {
    "duration": 182,
    "start_time": "2023-04-07T20:09:13.961Z"
   },
   {
    "duration": 107,
    "start_time": "2023-04-07T20:09:14.146Z"
   },
   {
    "duration": 9,
    "start_time": "2023-04-07T20:09:14.255Z"
   },
   {
    "duration": 48,
    "start_time": "2023-04-07T20:09:14.267Z"
   },
   {
    "duration": 13,
    "start_time": "2023-04-07T20:09:14.320Z"
   },
   {
    "duration": 34,
    "start_time": "2023-04-07T20:09:14.335Z"
   },
   {
    "duration": 42,
    "start_time": "2023-04-07T20:09:14.371Z"
   },
   {
    "duration": 14,
    "start_time": "2023-04-07T20:09:14.415Z"
   },
   {
    "duration": 21,
    "start_time": "2023-04-07T20:09:14.431Z"
   },
   {
    "duration": 24,
    "start_time": "2023-04-07T20:09:14.454Z"
   },
   {
    "duration": 14,
    "start_time": "2023-04-07T20:09:14.480Z"
   },
   {
    "duration": 1181,
    "start_time": "2023-04-07T20:09:14.496Z"
   },
   {
    "duration": 392,
    "start_time": "2023-04-07T20:09:15.679Z"
   },
   {
    "duration": 9,
    "start_time": "2023-04-07T20:09:16.073Z"
   },
   {
    "duration": 327,
    "start_time": "2023-04-07T20:09:16.085Z"
   },
   {
    "duration": 31,
    "start_time": "2023-04-07T20:09:16.414Z"
   },
   {
    "duration": 35,
    "start_time": "2023-04-07T20:09:16.447Z"
   },
   {
    "duration": 242,
    "start_time": "2023-04-07T20:09:16.485Z"
   },
   {
    "duration": 5,
    "start_time": "2023-04-07T20:09:16.729Z"
   },
   {
    "duration": 30,
    "start_time": "2023-04-07T20:09:16.737Z"
   },
   {
    "duration": 16,
    "start_time": "2023-04-07T20:09:16.770Z"
   },
   {
    "duration": 24,
    "start_time": "2023-04-07T20:09:16.788Z"
   },
   {
    "duration": 126,
    "start_time": "2023-04-07T20:09:16.815Z"
   },
   {
    "duration": 0,
    "start_time": "2023-04-07T20:09:16.943Z"
   },
   {
    "duration": 0,
    "start_time": "2023-04-07T20:09:16.945Z"
   },
   {
    "duration": 0,
    "start_time": "2023-04-07T20:09:16.947Z"
   },
   {
    "duration": 0,
    "start_time": "2023-04-07T20:09:16.948Z"
   },
   {
    "duration": 0,
    "start_time": "2023-04-07T20:09:16.950Z"
   },
   {
    "duration": 0,
    "start_time": "2023-04-07T20:09:16.951Z"
   },
   {
    "duration": 0,
    "start_time": "2023-04-07T20:09:16.952Z"
   },
   {
    "duration": 23,
    "start_time": "2023-04-07T20:09:25.537Z"
   },
   {
    "duration": 36,
    "start_time": "2023-04-07T20:09:41.807Z"
   },
   {
    "duration": 31,
    "start_time": "2023-04-07T20:11:01.300Z"
   },
   {
    "duration": 34,
    "start_time": "2023-04-07T20:11:10.041Z"
   },
   {
    "duration": 6,
    "start_time": "2023-04-07T20:12:31.792Z"
   },
   {
    "duration": 13,
    "start_time": "2023-04-07T20:12:32.326Z"
   },
   {
    "duration": 19,
    "start_time": "2023-04-07T20:12:44.507Z"
   },
   {
    "duration": 38,
    "start_time": "2023-04-07T20:12:50.250Z"
   },
   {
    "duration": 1285,
    "start_time": "2023-04-07T20:14:29.455Z"
   },
   {
    "duration": 970,
    "start_time": "2023-04-07T20:14:30.747Z"
   },
   {
    "duration": 30,
    "start_time": "2023-04-07T20:14:31.719Z"
   },
   {
    "duration": 24,
    "start_time": "2023-04-07T20:14:31.752Z"
   },
   {
    "duration": 26,
    "start_time": "2023-04-07T20:14:31.779Z"
   },
   {
    "duration": 37,
    "start_time": "2023-04-07T20:14:31.806Z"
   },
   {
    "duration": 24,
    "start_time": "2023-04-07T20:14:31.848Z"
   },
   {
    "duration": 48,
    "start_time": "2023-04-07T20:14:31.874Z"
   },
   {
    "duration": 39,
    "start_time": "2023-04-07T20:14:31.925Z"
   },
   {
    "duration": 60,
    "start_time": "2023-04-07T20:14:31.966Z"
   },
   {
    "duration": 24,
    "start_time": "2023-04-07T20:14:32.028Z"
   },
   {
    "duration": 25,
    "start_time": "2023-04-07T20:14:32.054Z"
   },
   {
    "duration": 24,
    "start_time": "2023-04-07T20:14:32.081Z"
   },
   {
    "duration": 444,
    "start_time": "2023-04-07T20:14:32.109Z"
   },
   {
    "duration": 367,
    "start_time": "2023-04-07T20:14:32.554Z"
   },
   {
    "duration": 85,
    "start_time": "2023-04-07T20:14:32.922Z"
   },
   {
    "duration": 122,
    "start_time": "2023-04-07T20:14:33.009Z"
   },
   {
    "duration": 524,
    "start_time": "2023-04-07T20:14:33.132Z"
   },
   {
    "duration": 132,
    "start_time": "2023-04-07T20:14:33.658Z"
   },
   {
    "duration": 117,
    "start_time": "2023-04-07T20:14:33.792Z"
   },
   {
    "duration": 6,
    "start_time": "2023-04-07T20:14:33.911Z"
   },
   {
    "duration": 50,
    "start_time": "2023-04-07T20:14:33.919Z"
   },
   {
    "duration": 175,
    "start_time": "2023-04-07T20:14:33.971Z"
   },
   {
    "duration": 433,
    "start_time": "2023-04-07T20:14:34.152Z"
   },
   {
    "duration": 205,
    "start_time": "2023-04-07T20:14:34.587Z"
   },
   {
    "duration": 108,
    "start_time": "2023-04-07T20:14:34.794Z"
   },
   {
    "duration": 12,
    "start_time": "2023-04-07T20:14:34.904Z"
   },
   {
    "duration": 18,
    "start_time": "2023-04-07T20:14:34.936Z"
   },
   {
    "duration": 12,
    "start_time": "2023-04-07T20:14:34.955Z"
   },
   {
    "duration": 12,
    "start_time": "2023-04-07T20:14:34.969Z"
   },
   {
    "duration": 31,
    "start_time": "2023-04-07T20:14:34.982Z"
   },
   {
    "duration": 35,
    "start_time": "2023-04-07T20:14:35.015Z"
   },
   {
    "duration": 15,
    "start_time": "2023-04-07T20:14:35.054Z"
   },
   {
    "duration": 11,
    "start_time": "2023-04-07T20:14:35.071Z"
   },
   {
    "duration": 26,
    "start_time": "2023-04-07T20:14:35.083Z"
   },
   {
    "duration": 1749,
    "start_time": "2023-04-07T20:14:35.110Z"
   },
   {
    "duration": 495,
    "start_time": "2023-04-07T20:14:36.860Z"
   },
   {
    "duration": 8,
    "start_time": "2023-04-07T20:14:37.357Z"
   },
   {
    "duration": 189,
    "start_time": "2023-04-07T20:14:37.367Z"
   },
   {
    "duration": 14,
    "start_time": "2023-04-07T20:14:37.558Z"
   },
   {
    "duration": 40,
    "start_time": "2023-04-07T20:14:37.576Z"
   },
   {
    "duration": 224,
    "start_time": "2023-04-07T20:14:37.639Z"
   },
   {
    "duration": 3,
    "start_time": "2023-04-07T20:14:37.865Z"
   },
   {
    "duration": 28,
    "start_time": "2023-04-07T20:14:37.869Z"
   },
   {
    "duration": 22,
    "start_time": "2023-04-07T20:14:37.898Z"
   },
   {
    "duration": 36,
    "start_time": "2023-04-07T20:14:37.922Z"
   },
   {
    "duration": 90,
    "start_time": "2023-04-07T20:14:37.960Z"
   },
   {
    "duration": 0,
    "start_time": "2023-04-07T20:14:38.052Z"
   },
   {
    "duration": 0,
    "start_time": "2023-04-07T20:14:38.053Z"
   },
   {
    "duration": 1,
    "start_time": "2023-04-07T20:14:38.054Z"
   },
   {
    "duration": 0,
    "start_time": "2023-04-07T20:14:38.056Z"
   },
   {
    "duration": 0,
    "start_time": "2023-04-07T20:14:38.057Z"
   },
   {
    "duration": 0,
    "start_time": "2023-04-07T20:14:38.058Z"
   },
   {
    "duration": 0,
    "start_time": "2023-04-07T20:14:38.059Z"
   },
   {
    "duration": 50,
    "start_time": "2023-04-07T20:14:54.712Z"
   },
   {
    "duration": 176,
    "start_time": "2023-04-07T20:29:50.576Z"
   },
   {
    "duration": 9,
    "start_time": "2023-04-07T20:30:07.429Z"
   },
   {
    "duration": 14,
    "start_time": "2023-04-07T20:37:47.009Z"
   },
   {
    "duration": 9,
    "start_time": "2023-04-07T20:38:16.082Z"
   },
   {
    "duration": 999,
    "start_time": "2023-04-07T20:38:54.115Z"
   },
   {
    "duration": 850,
    "start_time": "2023-04-07T20:39:10.044Z"
   },
   {
    "duration": 9512,
    "start_time": "2023-04-07T20:40:19.144Z"
   },
   {
    "duration": 945,
    "start_time": "2023-04-07T20:43:44.810Z"
   },
   {
    "duration": 1024,
    "start_time": "2023-04-07T20:43:55.552Z"
   },
   {
    "duration": 8,
    "start_time": "2023-04-07T20:44:27.509Z"
   },
   {
    "duration": 15,
    "start_time": "2023-04-07T20:44:31.530Z"
   },
   {
    "duration": 1254,
    "start_time": "2023-04-07T20:48:54.062Z"
   },
   {
    "duration": 1121,
    "start_time": "2023-04-07T20:48:55.318Z"
   },
   {
    "duration": 17,
    "start_time": "2023-04-07T20:48:56.448Z"
   },
   {
    "duration": 4,
    "start_time": "2023-04-07T20:48:56.468Z"
   },
   {
    "duration": 32,
    "start_time": "2023-04-07T20:48:56.473Z"
   },
   {
    "duration": 54,
    "start_time": "2023-04-07T20:48:56.507Z"
   },
   {
    "duration": 15,
    "start_time": "2023-04-07T20:48:56.563Z"
   },
   {
    "duration": 37,
    "start_time": "2023-04-07T20:48:56.580Z"
   },
   {
    "duration": 34,
    "start_time": "2023-04-07T20:48:56.619Z"
   },
   {
    "duration": 36,
    "start_time": "2023-04-07T20:48:56.656Z"
   },
   {
    "duration": 25,
    "start_time": "2023-04-07T20:48:56.693Z"
   },
   {
    "duration": 24,
    "start_time": "2023-04-07T20:48:56.719Z"
   },
   {
    "duration": 23,
    "start_time": "2023-04-07T20:48:56.746Z"
   },
   {
    "duration": 468,
    "start_time": "2023-04-07T20:48:56.771Z"
   },
   {
    "duration": 355,
    "start_time": "2023-04-07T20:48:57.241Z"
   },
   {
    "duration": 60,
    "start_time": "2023-04-07T20:48:57.598Z"
   },
   {
    "duration": 109,
    "start_time": "2023-04-07T20:48:57.659Z"
   },
   {
    "duration": 13,
    "start_time": "2023-04-07T20:48:57.770Z"
   },
   {
    "duration": 17,
    "start_time": "2023-04-07T20:48:57.785Z"
   },
   {
    "duration": 534,
    "start_time": "2023-04-07T20:48:57.804Z"
   },
   {
    "duration": 0,
    "start_time": "2023-04-07T20:48:58.341Z"
   },
   {
    "duration": 0,
    "start_time": "2023-04-07T20:48:58.341Z"
   },
   {
    "duration": 0,
    "start_time": "2023-04-07T20:48:58.343Z"
   },
   {
    "duration": 0,
    "start_time": "2023-04-07T20:48:58.343Z"
   },
   {
    "duration": 0,
    "start_time": "2023-04-07T20:48:58.344Z"
   },
   {
    "duration": 0,
    "start_time": "2023-04-07T20:48:58.345Z"
   },
   {
    "duration": 0,
    "start_time": "2023-04-07T20:48:58.346Z"
   },
   {
    "duration": 0,
    "start_time": "2023-04-07T20:48:58.347Z"
   },
   {
    "duration": 0,
    "start_time": "2023-04-07T20:48:58.348Z"
   },
   {
    "duration": 0,
    "start_time": "2023-04-07T20:48:58.349Z"
   },
   {
    "duration": 0,
    "start_time": "2023-04-07T20:48:58.349Z"
   },
   {
    "duration": 0,
    "start_time": "2023-04-07T20:48:58.350Z"
   },
   {
    "duration": 0,
    "start_time": "2023-04-07T20:48:58.351Z"
   },
   {
    "duration": 0,
    "start_time": "2023-04-07T20:48:58.352Z"
   },
   {
    "duration": 0,
    "start_time": "2023-04-07T20:48:58.353Z"
   },
   {
    "duration": 0,
    "start_time": "2023-04-07T20:48:58.355Z"
   },
   {
    "duration": 0,
    "start_time": "2023-04-07T20:48:58.356Z"
   },
   {
    "duration": 0,
    "start_time": "2023-04-07T20:48:58.358Z"
   },
   {
    "duration": 0,
    "start_time": "2023-04-07T20:48:58.359Z"
   },
   {
    "duration": 0,
    "start_time": "2023-04-07T20:48:58.360Z"
   },
   {
    "duration": 0,
    "start_time": "2023-04-07T20:48:58.362Z"
   },
   {
    "duration": 0,
    "start_time": "2023-04-07T20:48:58.363Z"
   },
   {
    "duration": 0,
    "start_time": "2023-04-07T20:48:58.364Z"
   },
   {
    "duration": 0,
    "start_time": "2023-04-07T20:48:58.365Z"
   },
   {
    "duration": 0,
    "start_time": "2023-04-07T20:48:58.366Z"
   },
   {
    "duration": 0,
    "start_time": "2023-04-07T20:48:58.368Z"
   },
   {
    "duration": 0,
    "start_time": "2023-04-07T20:48:58.369Z"
   },
   {
    "duration": 0,
    "start_time": "2023-04-07T20:48:58.370Z"
   },
   {
    "duration": 0,
    "start_time": "2023-04-07T20:48:58.371Z"
   },
   {
    "duration": 0,
    "start_time": "2023-04-07T20:48:58.372Z"
   },
   {
    "duration": 0,
    "start_time": "2023-04-07T20:48:58.374Z"
   },
   {
    "duration": 0,
    "start_time": "2023-04-07T20:48:58.375Z"
   },
   {
    "duration": 0,
    "start_time": "2023-04-07T20:48:58.376Z"
   },
   {
    "duration": 0,
    "start_time": "2023-04-07T20:48:58.378Z"
   },
   {
    "duration": 0,
    "start_time": "2023-04-07T20:48:58.379Z"
   },
   {
    "duration": 0,
    "start_time": "2023-04-07T20:48:58.438Z"
   },
   {
    "duration": 0,
    "start_time": "2023-04-07T20:48:58.439Z"
   },
   {
    "duration": 491,
    "start_time": "2023-04-07T20:55:38.166Z"
   },
   {
    "duration": 577,
    "start_time": "2023-04-07T20:55:53.674Z"
   },
   {
    "duration": 9,
    "start_time": "2023-04-07T20:56:13.781Z"
   },
   {
    "duration": 916,
    "start_time": "2023-04-07T20:56:21.060Z"
   },
   {
    "duration": 9137,
    "start_time": "2023-04-07T20:56:35.006Z"
   },
   {
    "duration": 8,
    "start_time": "2023-04-07T20:59:26.798Z"
   },
   {
    "duration": 414,
    "start_time": "2023-04-07T20:59:37.247Z"
   },
   {
    "duration": 1189,
    "start_time": "2023-04-07T21:00:52.374Z"
   },
   {
    "duration": 2081,
    "start_time": "2023-04-07T21:08:48.440Z"
   },
   {
    "duration": 2260,
    "start_time": "2023-04-07T21:09:03.429Z"
   },
   {
    "duration": 2278,
    "start_time": "2023-04-07T21:09:30.448Z"
   },
   {
    "duration": 583,
    "start_time": "2023-04-07T21:09:51.083Z"
   },
   {
    "duration": 697,
    "start_time": "2023-04-07T21:10:02.460Z"
   },
   {
    "duration": 508,
    "start_time": "2023-04-07T21:10:08.887Z"
   },
   {
    "duration": 507,
    "start_time": "2023-04-07T21:10:16.744Z"
   },
   {
    "duration": 348,
    "start_time": "2023-04-07T21:11:32.580Z"
   },
   {
    "duration": 358,
    "start_time": "2023-04-07T21:11:39.016Z"
   },
   {
    "duration": 521,
    "start_time": "2023-04-07T21:11:49.055Z"
   },
   {
    "duration": 8899,
    "start_time": "2023-04-07T21:12:53.480Z"
   },
   {
    "duration": 2553,
    "start_time": "2023-04-07T21:14:02.898Z"
   },
   {
    "duration": 2922,
    "start_time": "2023-04-07T21:14:24.557Z"
   },
   {
    "duration": 2576,
    "start_time": "2023-04-07T21:14:32.969Z"
   },
   {
    "duration": 19,
    "start_time": "2023-04-07T21:14:59.278Z"
   },
   {
    "duration": 2315,
    "start_time": "2023-04-07T21:15:34.959Z"
   },
   {
    "duration": 2472,
    "start_time": "2023-04-07T21:16:28.904Z"
   },
   {
    "duration": 2352,
    "start_time": "2023-04-07T21:16:42.437Z"
   },
   {
    "duration": 2172,
    "start_time": "2023-04-07T21:16:58.405Z"
   },
   {
    "duration": 2406,
    "start_time": "2023-04-07T21:17:28.585Z"
   },
   {
    "duration": 8,
    "start_time": "2023-04-07T21:18:56.851Z"
   },
   {
    "duration": 9,
    "start_time": "2023-04-07T21:33:25.873Z"
   },
   {
    "duration": 88,
    "start_time": "2023-04-07T21:33:53.057Z"
   },
   {
    "duration": 4,
    "start_time": "2023-04-07T21:34:11.028Z"
   },
   {
    "duration": 101,
    "start_time": "2023-04-07T21:34:17.539Z"
   },
   {
    "duration": 82,
    "start_time": "2023-04-07T21:34:37.266Z"
   },
   {
    "duration": 46,
    "start_time": "2023-04-07T21:42:14.158Z"
   },
   {
    "duration": 10,
    "start_time": "2023-04-07T21:43:56.902Z"
   },
   {
    "duration": 26,
    "start_time": "2023-04-07T21:47:43.323Z"
   },
   {
    "duration": 141,
    "start_time": "2023-04-07T21:47:50.549Z"
   },
   {
    "duration": 98,
    "start_time": "2023-04-07T21:48:03.898Z"
   },
   {
    "duration": 23,
    "start_time": "2023-04-07T21:48:59.006Z"
   },
   {
    "duration": 110,
    "start_time": "2023-04-07T21:49:02.444Z"
   },
   {
    "duration": 15,
    "start_time": "2023-04-07T21:52:39.541Z"
   },
   {
    "duration": 48,
    "start_time": "2023-04-07T21:52:48.272Z"
   },
   {
    "duration": 91,
    "start_time": "2023-04-07T21:53:22.436Z"
   },
   {
    "duration": 294,
    "start_time": "2023-04-07T21:53:28.499Z"
   },
   {
    "duration": 51,
    "start_time": "2023-04-07T21:53:52.625Z"
   },
   {
    "duration": 32,
    "start_time": "2023-04-07T21:54:38.692Z"
   },
   {
    "duration": 34,
    "start_time": "2023-04-07T21:54:57.978Z"
   },
   {
    "duration": 27,
    "start_time": "2023-04-07T21:55:07.139Z"
   },
   {
    "duration": 35,
    "start_time": "2023-04-07T21:57:01.868Z"
   },
   {
    "duration": 42,
    "start_time": "2023-04-07T21:57:25.545Z"
   },
   {
    "duration": 25,
    "start_time": "2023-04-07T21:57:56.853Z"
   },
   {
    "duration": 44,
    "start_time": "2023-04-07T21:58:12.688Z"
   },
   {
    "duration": 24,
    "start_time": "2023-04-07T22:02:32.379Z"
   },
   {
    "duration": 27,
    "start_time": "2023-04-07T22:02:37.266Z"
   },
   {
    "duration": 23,
    "start_time": "2023-04-07T22:02:45.430Z"
   },
   {
    "duration": 27,
    "start_time": "2023-04-07T22:02:46.165Z"
   },
   {
    "duration": 43,
    "start_time": "2023-04-07T22:02:53.454Z"
   },
   {
    "duration": 87,
    "start_time": "2023-04-08T13:58:31.365Z"
   },
   {
    "duration": 39,
    "start_time": "2023-04-08T13:58:42.413Z"
   },
   {
    "duration": 1409,
    "start_time": "2023-04-08T13:58:54.294Z"
   },
   {
    "duration": 867,
    "start_time": "2023-04-08T13:58:55.705Z"
   },
   {
    "duration": 18,
    "start_time": "2023-04-08T13:58:56.573Z"
   },
   {
    "duration": 4,
    "start_time": "2023-04-08T13:58:56.592Z"
   },
   {
    "duration": 5,
    "start_time": "2023-04-08T13:58:56.598Z"
   },
   {
    "duration": 11,
    "start_time": "2023-04-08T13:58:56.604Z"
   },
   {
    "duration": 2,
    "start_time": "2023-04-08T13:58:56.617Z"
   },
   {
    "duration": 18,
    "start_time": "2023-04-08T13:58:56.621Z"
   },
   {
    "duration": 23,
    "start_time": "2023-04-08T13:58:56.641Z"
   },
   {
    "duration": 32,
    "start_time": "2023-04-08T13:58:56.666Z"
   },
   {
    "duration": 42,
    "start_time": "2023-04-08T13:58:56.700Z"
   },
   {
    "duration": 15,
    "start_time": "2023-04-08T13:58:56.744Z"
   },
   {
    "duration": 7,
    "start_time": "2023-04-08T13:58:56.761Z"
   },
   {
    "duration": 471,
    "start_time": "2023-04-08T13:58:56.771Z"
   },
   {
    "duration": 363,
    "start_time": "2023-04-08T13:58:57.244Z"
   },
   {
    "duration": 54,
    "start_time": "2023-04-08T13:58:57.608Z"
   },
   {
    "duration": 101,
    "start_time": "2023-04-08T13:58:57.664Z"
   },
   {
    "duration": 25,
    "start_time": "2023-04-08T13:58:57.767Z"
   },
   {
    "duration": 42,
    "start_time": "2023-04-08T13:58:57.793Z"
   },
   {
    "duration": 31,
    "start_time": "2023-04-08T13:58:57.837Z"
   },
   {
    "duration": 7,
    "start_time": "2023-04-08T13:58:57.869Z"
   },
   {
    "duration": 7,
    "start_time": "2023-04-08T13:58:57.877Z"
   },
   {
    "duration": 2054,
    "start_time": "2023-04-08T13:58:57.885Z"
   },
   {
    "duration": 8055,
    "start_time": "2023-04-08T13:58:59.941Z"
   },
   {
    "duration": 391,
    "start_time": "2023-04-08T13:59:07.998Z"
   },
   {
    "duration": 82,
    "start_time": "2023-04-08T13:59:08.391Z"
   },
   {
    "duration": 110,
    "start_time": "2023-04-08T13:59:08.474Z"
   },
   {
    "duration": 4,
    "start_time": "2023-04-08T13:59:08.585Z"
   },
   {
    "duration": 29,
    "start_time": "2023-04-08T13:59:08.591Z"
   },
   {
    "duration": 238,
    "start_time": "2023-04-08T13:59:08.622Z"
   },
   {
    "duration": 393,
    "start_time": "2023-04-08T13:59:08.862Z"
   },
   {
    "duration": 130,
    "start_time": "2023-04-08T13:59:09.257Z"
   },
   {
    "duration": 85,
    "start_time": "2023-04-08T13:59:09.389Z"
   },
   {
    "duration": 5333,
    "start_time": "2023-04-08T13:59:09.476Z"
   },
   {
    "duration": 9,
    "start_time": "2023-04-08T13:59:14.811Z"
   },
   {
    "duration": 20,
    "start_time": "2023-04-08T13:59:14.821Z"
   },
   {
    "duration": 19,
    "start_time": "2023-04-08T13:59:14.843Z"
   },
   {
    "duration": 12,
    "start_time": "2023-04-08T13:59:14.864Z"
   },
   {
    "duration": 30,
    "start_time": "2023-04-08T13:59:14.877Z"
   },
   {
    "duration": 8,
    "start_time": "2023-04-08T13:59:14.909Z"
   },
   {
    "duration": 9,
    "start_time": "2023-04-08T13:59:14.934Z"
   },
   {
    "duration": 9,
    "start_time": "2023-04-08T13:59:14.944Z"
   },
   {
    "duration": 10,
    "start_time": "2023-04-08T13:59:14.955Z"
   },
   {
    "duration": 1636,
    "start_time": "2023-04-08T13:59:14.967Z"
   },
   {
    "duration": 712,
    "start_time": "2023-04-08T13:59:16.605Z"
   },
   {
    "duration": 15,
    "start_time": "2023-04-08T13:59:17.319Z"
   },
   {
    "duration": 176,
    "start_time": "2023-04-08T13:59:17.336Z"
   },
   {
    "duration": 25,
    "start_time": "2023-04-08T13:59:17.514Z"
   },
   {
    "duration": 30,
    "start_time": "2023-04-08T13:59:17.541Z"
   },
   {
    "duration": 222,
    "start_time": "2023-04-08T13:59:17.572Z"
   },
   {
    "duration": 2,
    "start_time": "2023-04-08T13:59:17.795Z"
   },
   {
    "duration": 22,
    "start_time": "2023-04-08T13:59:17.799Z"
   },
   {
    "duration": 18,
    "start_time": "2023-04-08T13:59:17.822Z"
   },
   {
    "duration": 18,
    "start_time": "2023-04-08T13:59:17.841Z"
   },
   {
    "duration": 71,
    "start_time": "2023-04-08T13:59:17.860Z"
   },
   {
    "duration": 0,
    "start_time": "2023-04-08T13:59:17.932Z"
   },
   {
    "duration": 0,
    "start_time": "2023-04-08T13:59:17.934Z"
   },
   {
    "duration": 0,
    "start_time": "2023-04-08T13:59:17.935Z"
   },
   {
    "duration": 0,
    "start_time": "2023-04-08T13:59:17.936Z"
   },
   {
    "duration": 0,
    "start_time": "2023-04-08T13:59:17.937Z"
   },
   {
    "duration": 1,
    "start_time": "2023-04-08T13:59:17.938Z"
   },
   {
    "duration": 0,
    "start_time": "2023-04-08T13:59:17.940Z"
   },
   {
    "duration": 5365,
    "start_time": "2023-04-08T14:00:05.652Z"
   },
   {
    "duration": 6336,
    "start_time": "2023-04-08T14:00:18.453Z"
   },
   {
    "duration": 5551,
    "start_time": "2023-04-08T14:00:36.461Z"
   },
   {
    "duration": 142,
    "start_time": "2023-04-08T14:01:47.774Z"
   },
   {
    "duration": 457,
    "start_time": "2023-04-08T14:02:09.861Z"
   },
   {
    "duration": 113,
    "start_time": "2023-04-08T14:04:54.264Z"
   },
   {
    "duration": 219,
    "start_time": "2023-04-08T14:07:13.398Z"
   },
   {
    "duration": 132,
    "start_time": "2023-04-08T14:07:53.170Z"
   },
   {
    "duration": 121,
    "start_time": "2023-04-08T14:08:00.708Z"
   },
   {
    "duration": 447,
    "start_time": "2023-04-08T14:10:42.325Z"
   },
   {
    "duration": 556,
    "start_time": "2023-04-08T14:11:29.473Z"
   },
   {
    "duration": 216,
    "start_time": "2023-04-08T14:11:56.282Z"
   },
   {
    "duration": 231,
    "start_time": "2023-04-08T14:12:22.505Z"
   },
   {
    "duration": 11,
    "start_time": "2023-04-08T14:12:47.880Z"
   },
   {
    "duration": 307,
    "start_time": "2023-04-08T14:12:52.916Z"
   },
   {
    "duration": 2496,
    "start_time": "2023-04-08T14:12:59.842Z"
   },
   {
    "duration": 152,
    "start_time": "2023-04-08T14:14:35.458Z"
   },
   {
    "duration": 192,
    "start_time": "2023-04-08T14:14:44.155Z"
   },
   {
    "duration": 172,
    "start_time": "2023-04-08T14:14:55.949Z"
   },
   {
    "duration": 209,
    "start_time": "2023-04-08T14:15:21.668Z"
   },
   {
    "duration": 177,
    "start_time": "2023-04-08T14:16:48.768Z"
   },
   {
    "duration": 158,
    "start_time": "2023-04-08T14:19:16.963Z"
   },
   {
    "duration": 165,
    "start_time": "2023-04-08T14:19:37.285Z"
   },
   {
    "duration": 288,
    "start_time": "2023-04-08T14:20:46.640Z"
   },
   {
    "duration": 12,
    "start_time": "2023-04-08T14:21:31.859Z"
   },
   {
    "duration": 328,
    "start_time": "2023-04-08T14:21:36.819Z"
   },
   {
    "duration": 5492,
    "start_time": "2023-04-08T14:21:58.797Z"
   },
   {
    "duration": 5776,
    "start_time": "2023-04-08T14:22:12.879Z"
   },
   {
    "duration": 5756,
    "start_time": "2023-04-08T14:22:58.731Z"
   },
   {
    "duration": 5848,
    "start_time": "2023-04-08T14:23:14.537Z"
   },
   {
    "duration": 6047,
    "start_time": "2023-04-08T14:23:38.837Z"
   },
   {
    "duration": 12,
    "start_time": "2023-04-08T14:27:44.420Z"
   },
   {
    "duration": 13,
    "start_time": "2023-04-08T14:28:23.188Z"
   },
   {
    "duration": 16,
    "start_time": "2023-04-08T14:28:26.074Z"
   },
   {
    "duration": 2,
    "start_time": "2023-04-08T14:31:26.050Z"
   },
   {
    "duration": 13,
    "start_time": "2023-04-08T14:40:50.419Z"
   },
   {
    "duration": 5,
    "start_time": "2023-04-08T14:41:58.944Z"
   },
   {
    "duration": 42,
    "start_time": "2023-04-08T14:42:46.378Z"
   },
   {
    "duration": 20,
    "start_time": "2023-04-08T14:43:36.482Z"
   },
   {
    "duration": 13,
    "start_time": "2023-04-08T14:45:31.506Z"
   },
   {
    "duration": 4,
    "start_time": "2023-04-08T14:46:04.322Z"
   },
   {
    "duration": 11,
    "start_time": "2023-04-08T14:46:12.826Z"
   },
   {
    "duration": 1317,
    "start_time": "2023-04-08T14:46:27.320Z"
   },
   {
    "duration": 866,
    "start_time": "2023-04-08T14:46:28.639Z"
   },
   {
    "duration": 19,
    "start_time": "2023-04-08T14:46:29.507Z"
   },
   {
    "duration": 5,
    "start_time": "2023-04-08T14:46:29.528Z"
   },
   {
    "duration": 10,
    "start_time": "2023-04-08T14:46:29.535Z"
   },
   {
    "duration": 16,
    "start_time": "2023-04-08T14:46:29.546Z"
   },
   {
    "duration": 3,
    "start_time": "2023-04-08T14:46:29.564Z"
   },
   {
    "duration": 24,
    "start_time": "2023-04-08T14:46:29.568Z"
   },
   {
    "duration": 49,
    "start_time": "2023-04-08T14:46:29.594Z"
   },
   {
    "duration": 37,
    "start_time": "2023-04-08T14:46:29.645Z"
   },
   {
    "duration": 13,
    "start_time": "2023-04-08T14:46:29.683Z"
   },
   {
    "duration": 39,
    "start_time": "2023-04-08T14:46:29.698Z"
   },
   {
    "duration": 9,
    "start_time": "2023-04-08T14:46:29.739Z"
   },
   {
    "duration": 370,
    "start_time": "2023-04-08T14:46:29.751Z"
   },
   {
    "duration": 364,
    "start_time": "2023-04-08T14:46:30.123Z"
   },
   {
    "duration": 60,
    "start_time": "2023-04-08T14:46:30.489Z"
   },
   {
    "duration": 108,
    "start_time": "2023-04-08T14:46:30.550Z"
   },
   {
    "duration": 25,
    "start_time": "2023-04-08T14:46:30.660Z"
   },
   {
    "duration": 48,
    "start_time": "2023-04-08T14:46:30.687Z"
   },
   {
    "duration": 36,
    "start_time": "2023-04-08T14:46:30.736Z"
   },
   {
    "duration": 9,
    "start_time": "2023-04-08T14:46:30.773Z"
   },
   {
    "duration": 51,
    "start_time": "2023-04-08T14:46:30.783Z"
   },
   {
    "duration": 2154,
    "start_time": "2023-04-08T14:46:30.835Z"
   },
   {
    "duration": 8216,
    "start_time": "2023-04-08T14:46:32.990Z"
   },
   {
    "duration": 345,
    "start_time": "2023-04-08T14:46:41.208Z"
   },
   {
    "duration": 110,
    "start_time": "2023-04-08T14:46:41.554Z"
   },
   {
    "duration": 107,
    "start_time": "2023-04-08T14:46:41.665Z"
   },
   {
    "duration": 5,
    "start_time": "2023-04-08T14:46:41.773Z"
   },
   {
    "duration": 27,
    "start_time": "2023-04-08T14:46:41.779Z"
   },
   {
    "duration": 231,
    "start_time": "2023-04-08T14:46:41.808Z"
   },
   {
    "duration": 389,
    "start_time": "2023-04-08T14:46:42.041Z"
   },
   {
    "duration": 124,
    "start_time": "2023-04-08T14:46:42.432Z"
   },
   {
    "duration": 88,
    "start_time": "2023-04-08T14:46:42.557Z"
   },
   {
    "duration": 5499,
    "start_time": "2023-04-08T14:46:42.646Z"
   },
   {
    "duration": 280,
    "start_time": "2023-04-08T14:46:48.146Z"
   },
   {
    "duration": 479,
    "start_time": "2023-04-08T14:46:48.427Z"
   },
   {
    "duration": 2,
    "start_time": "2023-04-08T14:46:48.908Z"
   },
   {
    "duration": 201,
    "start_time": "2023-04-08T14:46:48.911Z"
   },
   {
    "duration": 150,
    "start_time": "2023-04-08T14:46:49.113Z"
   },
   {
    "duration": 0,
    "start_time": "2023-04-08T14:46:49.265Z"
   },
   {
    "duration": 0,
    "start_time": "2023-04-08T14:46:49.267Z"
   },
   {
    "duration": 0,
    "start_time": "2023-04-08T14:46:49.268Z"
   },
   {
    "duration": 0,
    "start_time": "2023-04-08T14:46:49.269Z"
   },
   {
    "duration": 0,
    "start_time": "2023-04-08T14:46:49.271Z"
   },
   {
    "duration": 0,
    "start_time": "2023-04-08T14:46:49.272Z"
   },
   {
    "duration": 0,
    "start_time": "2023-04-08T14:46:49.273Z"
   },
   {
    "duration": 0,
    "start_time": "2023-04-08T14:46:49.275Z"
   },
   {
    "duration": 0,
    "start_time": "2023-04-08T14:46:49.277Z"
   },
   {
    "duration": 0,
    "start_time": "2023-04-08T14:46:49.277Z"
   },
   {
    "duration": 0,
    "start_time": "2023-04-08T14:46:49.279Z"
   },
   {
    "duration": 0,
    "start_time": "2023-04-08T14:46:49.280Z"
   },
   {
    "duration": 0,
    "start_time": "2023-04-08T14:46:49.281Z"
   },
   {
    "duration": 0,
    "start_time": "2023-04-08T14:46:49.283Z"
   },
   {
    "duration": 0,
    "start_time": "2023-04-08T14:46:49.284Z"
   },
   {
    "duration": 0,
    "start_time": "2023-04-08T14:46:49.285Z"
   },
   {
    "duration": 0,
    "start_time": "2023-04-08T14:46:49.286Z"
   },
   {
    "duration": 0,
    "start_time": "2023-04-08T14:46:49.287Z"
   },
   {
    "duration": 0,
    "start_time": "2023-04-08T14:46:49.289Z"
   },
   {
    "duration": 0,
    "start_time": "2023-04-08T14:46:49.290Z"
   },
   {
    "duration": 0,
    "start_time": "2023-04-08T14:46:49.334Z"
   },
   {
    "duration": 0,
    "start_time": "2023-04-08T14:46:49.335Z"
   },
   {
    "duration": 0,
    "start_time": "2023-04-08T14:46:49.336Z"
   },
   {
    "duration": 0,
    "start_time": "2023-04-08T14:46:49.338Z"
   },
   {
    "duration": 0,
    "start_time": "2023-04-08T14:46:49.339Z"
   },
   {
    "duration": 0,
    "start_time": "2023-04-08T14:46:49.340Z"
   },
   {
    "duration": 0,
    "start_time": "2023-04-08T14:46:49.341Z"
   },
   {
    "duration": 0,
    "start_time": "2023-04-08T14:46:49.342Z"
   },
   {
    "duration": 0,
    "start_time": "2023-04-08T14:46:49.343Z"
   },
   {
    "duration": 0,
    "start_time": "2023-04-08T14:46:49.344Z"
   },
   {
    "duration": 3,
    "start_time": "2023-04-08T14:47:45.353Z"
   },
   {
    "duration": 11,
    "start_time": "2023-04-08T14:48:48.003Z"
   },
   {
    "duration": 1318,
    "start_time": "2023-04-08T14:50:54.835Z"
   },
   {
    "duration": 17,
    "start_time": "2023-04-08T14:51:02.843Z"
   },
   {
    "duration": 28,
    "start_time": "2023-04-08T14:51:18.885Z"
   },
   {
    "duration": 11,
    "start_time": "2023-04-08T14:51:50.391Z"
   },
   {
    "duration": 11,
    "start_time": "2023-04-08T14:51:58.355Z"
   },
   {
    "duration": 45,
    "start_time": "2023-04-08T14:52:07.592Z"
   },
   {
    "duration": 6137,
    "start_time": "2023-04-08T15:09:02.532Z"
   },
   {
    "duration": 6143,
    "start_time": "2023-04-08T15:09:19.779Z"
   },
   {
    "duration": 6197,
    "start_time": "2023-04-08T15:12:00.448Z"
   },
   {
    "duration": 5,
    "start_time": "2023-04-08T15:14:02.313Z"
   },
   {
    "duration": 6200,
    "start_time": "2023-04-08T15:14:03.014Z"
   },
   {
    "duration": 14,
    "start_time": "2023-04-08T15:14:33.784Z"
   },
   {
    "duration": 1222,
    "start_time": "2023-04-08T15:15:43.299Z"
   },
   {
    "duration": 1150,
    "start_time": "2023-04-08T15:15:44.522Z"
   },
   {
    "duration": 21,
    "start_time": "2023-04-08T15:15:45.673Z"
   },
   {
    "duration": 19,
    "start_time": "2023-04-08T15:15:45.696Z"
   },
   {
    "duration": 8,
    "start_time": "2023-04-08T15:15:45.717Z"
   },
   {
    "duration": 21,
    "start_time": "2023-04-08T15:15:45.727Z"
   },
   {
    "duration": 5,
    "start_time": "2023-04-08T15:15:45.750Z"
   },
   {
    "duration": 42,
    "start_time": "2023-04-08T15:15:45.757Z"
   },
   {
    "duration": 33,
    "start_time": "2023-04-08T15:15:45.801Z"
   },
   {
    "duration": 33,
    "start_time": "2023-04-08T15:15:45.836Z"
   },
   {
    "duration": 14,
    "start_time": "2023-04-08T15:15:45.871Z"
   },
   {
    "duration": 15,
    "start_time": "2023-04-08T15:15:45.887Z"
   },
   {
    "duration": 54,
    "start_time": "2023-04-08T15:15:45.904Z"
   },
   {
    "duration": 392,
    "start_time": "2023-04-08T15:15:45.960Z"
   },
   {
    "duration": 360,
    "start_time": "2023-04-08T15:15:46.354Z"
   },
   {
    "duration": 60,
    "start_time": "2023-04-08T15:15:46.715Z"
   },
   {
    "duration": 106,
    "start_time": "2023-04-08T15:15:46.776Z"
   },
   {
    "duration": 25,
    "start_time": "2023-04-08T15:15:46.883Z"
   },
   {
    "duration": 47,
    "start_time": "2023-04-08T15:15:46.910Z"
   },
   {
    "duration": 32,
    "start_time": "2023-04-08T15:15:46.958Z"
   },
   {
    "duration": 8,
    "start_time": "2023-04-08T15:15:46.991Z"
   },
   {
    "duration": 8,
    "start_time": "2023-04-08T15:15:47.001Z"
   },
   {
    "duration": 2264,
    "start_time": "2023-04-08T15:15:47.033Z"
   },
   {
    "duration": 9212,
    "start_time": "2023-04-08T15:15:49.299Z"
   },
   {
    "duration": 368,
    "start_time": "2023-04-08T15:15:58.512Z"
   },
   {
    "duration": 153,
    "start_time": "2023-04-08T15:15:58.882Z"
   },
   {
    "duration": 74,
    "start_time": "2023-04-08T15:15:59.037Z"
   },
   {
    "duration": 21,
    "start_time": "2023-04-08T15:15:59.115Z"
   },
   {
    "duration": 28,
    "start_time": "2023-04-08T15:15:59.137Z"
   },
   {
    "duration": 240,
    "start_time": "2023-04-08T15:15:59.166Z"
   },
   {
    "duration": 462,
    "start_time": "2023-04-08T15:15:59.408Z"
   },
   {
    "duration": 131,
    "start_time": "2023-04-08T15:15:59.872Z"
   },
   {
    "duration": 82,
    "start_time": "2023-04-08T15:16:00.005Z"
   },
   {
    "duration": 16,
    "start_time": "2023-04-08T15:16:00.088Z"
   },
   {
    "duration": 6785,
    "start_time": "2023-04-08T15:16:00.106Z"
   },
   {
    "duration": 285,
    "start_time": "2023-04-08T15:16:06.893Z"
   },
   {
    "duration": 476,
    "start_time": "2023-04-08T15:16:07.180Z"
   },
   {
    "duration": 2,
    "start_time": "2023-04-08T15:16:07.658Z"
   },
   {
    "duration": 255,
    "start_time": "2023-04-08T15:16:07.661Z"
   },
   {
    "duration": 56,
    "start_time": "2023-04-08T15:16:07.918Z"
   },
   {
    "duration": 163,
    "start_time": "2023-04-08T15:16:07.975Z"
   },
   {
    "duration": 0,
    "start_time": "2023-04-08T15:16:08.139Z"
   },
   {
    "duration": 0,
    "start_time": "2023-04-08T15:16:08.141Z"
   },
   {
    "duration": 0,
    "start_time": "2023-04-08T15:16:08.141Z"
   },
   {
    "duration": 0,
    "start_time": "2023-04-08T15:16:08.143Z"
   },
   {
    "duration": 0,
    "start_time": "2023-04-08T15:16:08.144Z"
   },
   {
    "duration": 0,
    "start_time": "2023-04-08T15:16:08.145Z"
   },
   {
    "duration": 0,
    "start_time": "2023-04-08T15:16:08.146Z"
   },
   {
    "duration": 0,
    "start_time": "2023-04-08T15:16:08.148Z"
   },
   {
    "duration": 0,
    "start_time": "2023-04-08T15:16:08.150Z"
   },
   {
    "duration": 0,
    "start_time": "2023-04-08T15:16:08.152Z"
   },
   {
    "duration": 0,
    "start_time": "2023-04-08T15:16:08.153Z"
   },
   {
    "duration": 0,
    "start_time": "2023-04-08T15:16:08.154Z"
   },
   {
    "duration": 0,
    "start_time": "2023-04-08T15:16:08.155Z"
   },
   {
    "duration": 0,
    "start_time": "2023-04-08T15:16:08.156Z"
   },
   {
    "duration": 0,
    "start_time": "2023-04-08T15:16:08.158Z"
   },
   {
    "duration": 0,
    "start_time": "2023-04-08T15:16:08.159Z"
   },
   {
    "duration": 0,
    "start_time": "2023-04-08T15:16:08.160Z"
   },
   {
    "duration": 0,
    "start_time": "2023-04-08T15:16:08.162Z"
   },
   {
    "duration": 0,
    "start_time": "2023-04-08T15:16:08.163Z"
   },
   {
    "duration": 0,
    "start_time": "2023-04-08T15:16:08.164Z"
   },
   {
    "duration": 0,
    "start_time": "2023-04-08T15:16:08.165Z"
   },
   {
    "duration": 0,
    "start_time": "2023-04-08T15:16:08.166Z"
   },
   {
    "duration": 0,
    "start_time": "2023-04-08T15:16:08.167Z"
   },
   {
    "duration": 0,
    "start_time": "2023-04-08T15:16:08.168Z"
   },
   {
    "duration": 0,
    "start_time": "2023-04-08T15:16:08.169Z"
   },
   {
    "duration": 0,
    "start_time": "2023-04-08T15:16:08.170Z"
   },
   {
    "duration": 0,
    "start_time": "2023-04-08T15:16:08.171Z"
   },
   {
    "duration": 0,
    "start_time": "2023-04-08T15:16:08.171Z"
   },
   {
    "duration": 0,
    "start_time": "2023-04-08T15:16:08.174Z"
   },
   {
    "duration": 123,
    "start_time": "2023-04-08T15:16:52.708Z"
   },
   {
    "duration": 206,
    "start_time": "2023-04-08T15:17:00.857Z"
   },
   {
    "duration": 4,
    "start_time": "2023-04-08T15:19:33.200Z"
   },
   {
    "duration": 1255,
    "start_time": "2023-04-08T15:19:39.222Z"
   },
   {
    "duration": 863,
    "start_time": "2023-04-08T15:19:40.479Z"
   },
   {
    "duration": 19,
    "start_time": "2023-04-08T15:19:41.344Z"
   },
   {
    "duration": 4,
    "start_time": "2023-04-08T15:19:41.365Z"
   },
   {
    "duration": 6,
    "start_time": "2023-04-08T15:19:41.370Z"
   },
   {
    "duration": 14,
    "start_time": "2023-04-08T15:19:41.377Z"
   },
   {
    "duration": 3,
    "start_time": "2023-04-08T15:19:41.392Z"
   },
   {
    "duration": 44,
    "start_time": "2023-04-08T15:19:41.396Z"
   },
   {
    "duration": 5,
    "start_time": "2023-04-08T15:19:41.441Z"
   },
   {
    "duration": 27,
    "start_time": "2023-04-08T15:19:41.448Z"
   },
   {
    "duration": 32,
    "start_time": "2023-04-08T15:19:41.476Z"
   },
   {
    "duration": 36,
    "start_time": "2023-04-08T15:19:41.510Z"
   },
   {
    "duration": 43,
    "start_time": "2023-04-08T15:19:41.548Z"
   },
   {
    "duration": 7,
    "start_time": "2023-04-08T15:19:41.593Z"
   },
   {
    "duration": 398,
    "start_time": "2023-04-08T15:19:41.602Z"
   },
   {
    "duration": 409,
    "start_time": "2023-04-08T15:19:42.002Z"
   },
   {
    "duration": 60,
    "start_time": "2023-04-08T15:19:42.413Z"
   },
   {
    "duration": 103,
    "start_time": "2023-04-08T15:19:42.474Z"
   },
   {
    "duration": 24,
    "start_time": "2023-04-08T15:19:42.579Z"
   },
   {
    "duration": 43,
    "start_time": "2023-04-08T15:19:42.605Z"
   },
   {
    "duration": 30,
    "start_time": "2023-04-08T15:19:42.649Z"
   },
   {
    "duration": 6,
    "start_time": "2023-04-08T15:19:42.681Z"
   },
   {
    "duration": 15,
    "start_time": "2023-04-08T15:19:42.689Z"
   },
   {
    "duration": 2159,
    "start_time": "2023-04-08T15:19:42.706Z"
   },
   {
    "duration": 8835,
    "start_time": "2023-04-08T15:19:44.867Z"
   },
   {
    "duration": 383,
    "start_time": "2023-04-08T15:19:53.704Z"
   },
   {
    "duration": 169,
    "start_time": "2023-04-08T15:19:54.089Z"
   },
   {
    "duration": 108,
    "start_time": "2023-04-08T15:19:54.262Z"
   },
   {
    "duration": 5,
    "start_time": "2023-04-08T15:19:54.372Z"
   },
   {
    "duration": 34,
    "start_time": "2023-04-08T15:19:54.378Z"
   },
   {
    "duration": 310,
    "start_time": "2023-04-08T15:19:54.414Z"
   },
   {
    "duration": 468,
    "start_time": "2023-04-08T15:19:54.726Z"
   },
   {
    "duration": 162,
    "start_time": "2023-04-08T15:19:55.195Z"
   },
   {
    "duration": 120,
    "start_time": "2023-04-08T15:19:55.358Z"
   },
   {
    "duration": 15,
    "start_time": "2023-04-08T15:19:55.480Z"
   },
   {
    "duration": 5801,
    "start_time": "2023-04-08T15:19:55.496Z"
   },
   {
    "duration": 311,
    "start_time": "2023-04-08T15:20:01.299Z"
   },
   {
    "duration": 507,
    "start_time": "2023-04-08T15:20:01.611Z"
   },
   {
    "duration": 3,
    "start_time": "2023-04-08T15:20:02.119Z"
   },
   {
    "duration": 247,
    "start_time": "2023-04-08T15:20:02.123Z"
   },
   {
    "duration": 53,
    "start_time": "2023-04-08T15:20:02.371Z"
   },
   {
    "duration": 172,
    "start_time": "2023-04-08T15:20:02.425Z"
   },
   {
    "duration": 0,
    "start_time": "2023-04-08T15:20:02.599Z"
   },
   {
    "duration": 0,
    "start_time": "2023-04-08T15:20:02.600Z"
   },
   {
    "duration": 0,
    "start_time": "2023-04-08T15:20:02.601Z"
   },
   {
    "duration": 0,
    "start_time": "2023-04-08T15:20:02.601Z"
   },
   {
    "duration": 0,
    "start_time": "2023-04-08T15:20:02.603Z"
   },
   {
    "duration": 0,
    "start_time": "2023-04-08T15:20:02.604Z"
   },
   {
    "duration": 1,
    "start_time": "2023-04-08T15:20:02.604Z"
   },
   {
    "duration": 0,
    "start_time": "2023-04-08T15:20:02.606Z"
   },
   {
    "duration": 0,
    "start_time": "2023-04-08T15:20:02.607Z"
   },
   {
    "duration": 0,
    "start_time": "2023-04-08T15:20:02.608Z"
   },
   {
    "duration": 0,
    "start_time": "2023-04-08T15:20:02.609Z"
   },
   {
    "duration": 0,
    "start_time": "2023-04-08T15:20:02.610Z"
   },
   {
    "duration": 0,
    "start_time": "2023-04-08T15:20:02.611Z"
   },
   {
    "duration": 0,
    "start_time": "2023-04-08T15:20:02.612Z"
   },
   {
    "duration": 0,
    "start_time": "2023-04-08T15:20:02.613Z"
   },
   {
    "duration": 0,
    "start_time": "2023-04-08T15:20:02.634Z"
   },
   {
    "duration": 0,
    "start_time": "2023-04-08T15:20:02.635Z"
   },
   {
    "duration": 0,
    "start_time": "2023-04-08T15:20:02.637Z"
   },
   {
    "duration": 0,
    "start_time": "2023-04-08T15:20:02.638Z"
   },
   {
    "duration": 0,
    "start_time": "2023-04-08T15:20:02.639Z"
   },
   {
    "duration": 0,
    "start_time": "2023-04-08T15:20:02.640Z"
   },
   {
    "duration": 0,
    "start_time": "2023-04-08T15:20:02.641Z"
   },
   {
    "duration": 1,
    "start_time": "2023-04-08T15:20:02.642Z"
   },
   {
    "duration": 0,
    "start_time": "2023-04-08T15:20:02.644Z"
   },
   {
    "duration": 0,
    "start_time": "2023-04-08T15:20:02.645Z"
   },
   {
    "duration": 0,
    "start_time": "2023-04-08T15:20:02.646Z"
   },
   {
    "duration": 0,
    "start_time": "2023-04-08T15:20:02.647Z"
   },
   {
    "duration": 0,
    "start_time": "2023-04-08T15:20:02.648Z"
   },
   {
    "duration": 0,
    "start_time": "2023-04-08T15:20:02.649Z"
   },
   {
    "duration": 1342,
    "start_time": "2023-04-08T15:20:39.957Z"
   },
   {
    "duration": 962,
    "start_time": "2023-04-08T15:20:41.301Z"
   },
   {
    "duration": 16,
    "start_time": "2023-04-08T15:20:42.264Z"
   },
   {
    "duration": 5,
    "start_time": "2023-04-08T15:20:42.281Z"
   },
   {
    "duration": 5,
    "start_time": "2023-04-08T15:20:42.288Z"
   },
   {
    "duration": 19,
    "start_time": "2023-04-08T15:20:42.295Z"
   },
   {
    "duration": 2,
    "start_time": "2023-04-08T15:20:42.316Z"
   },
   {
    "duration": 21,
    "start_time": "2023-04-08T15:20:42.336Z"
   },
   {
    "duration": 5,
    "start_time": "2023-04-08T15:20:42.359Z"
   },
   {
    "duration": 28,
    "start_time": "2023-04-08T15:20:42.365Z"
   },
   {
    "duration": 64,
    "start_time": "2023-04-08T15:20:42.394Z"
   },
   {
    "duration": 14,
    "start_time": "2023-04-08T15:20:42.460Z"
   },
   {
    "duration": 20,
    "start_time": "2023-04-08T15:20:42.476Z"
   },
   {
    "duration": 10,
    "start_time": "2023-04-08T15:20:42.500Z"
   },
   {
    "duration": 412,
    "start_time": "2023-04-08T15:20:42.535Z"
   },
   {
    "duration": 349,
    "start_time": "2023-04-08T15:20:42.949Z"
   },
   {
    "duration": 64,
    "start_time": "2023-04-08T15:20:43.299Z"
   },
   {
    "duration": 107,
    "start_time": "2023-04-08T15:20:43.364Z"
   },
   {
    "duration": 27,
    "start_time": "2023-04-08T15:20:43.472Z"
   },
   {
    "duration": 48,
    "start_time": "2023-04-08T15:20:43.501Z"
   },
   {
    "duration": 29,
    "start_time": "2023-04-08T15:20:43.551Z"
   },
   {
    "duration": 7,
    "start_time": "2023-04-08T15:20:43.582Z"
   },
   {
    "duration": 7,
    "start_time": "2023-04-08T15:20:43.590Z"
   },
   {
    "duration": 2204,
    "start_time": "2023-04-08T15:20:43.598Z"
   },
   {
    "duration": 10274,
    "start_time": "2023-04-08T15:20:45.803Z"
   },
   {
    "duration": 347,
    "start_time": "2023-04-08T15:20:56.079Z"
   },
   {
    "duration": 149,
    "start_time": "2023-04-08T15:20:56.428Z"
   },
   {
    "duration": 97,
    "start_time": "2023-04-08T15:20:56.579Z"
   },
   {
    "duration": 5,
    "start_time": "2023-04-08T15:20:56.677Z"
   },
   {
    "duration": 26,
    "start_time": "2023-04-08T15:20:56.683Z"
   },
   {
    "duration": 251,
    "start_time": "2023-04-08T15:20:56.711Z"
   },
   {
    "duration": 440,
    "start_time": "2023-04-08T15:20:56.964Z"
   },
   {
    "duration": 128,
    "start_time": "2023-04-08T15:20:57.406Z"
   },
   {
    "duration": 60,
    "start_time": "2023-04-08T15:20:57.537Z"
   },
   {
    "duration": 5838,
    "start_time": "2023-04-08T15:20:57.598Z"
   },
   {
    "duration": 299,
    "start_time": "2023-04-08T15:21:03.438Z"
   },
   {
    "duration": 504,
    "start_time": "2023-04-08T15:21:03.738Z"
   },
   {
    "duration": 3,
    "start_time": "2023-04-08T15:21:04.244Z"
   },
   {
    "duration": 261,
    "start_time": "2023-04-08T15:21:04.249Z"
   },
   {
    "duration": 83,
    "start_time": "2023-04-08T15:21:04.512Z"
   },
   {
    "duration": 255,
    "start_time": "2023-04-08T15:21:04.601Z"
   },
   {
    "duration": 0,
    "start_time": "2023-04-08T15:21:04.859Z"
   },
   {
    "duration": 0,
    "start_time": "2023-04-08T15:21:04.860Z"
   },
   {
    "duration": 0,
    "start_time": "2023-04-08T15:21:04.861Z"
   },
   {
    "duration": 0,
    "start_time": "2023-04-08T15:21:04.864Z"
   },
   {
    "duration": 0,
    "start_time": "2023-04-08T15:21:04.865Z"
   },
   {
    "duration": 0,
    "start_time": "2023-04-08T15:21:04.865Z"
   },
   {
    "duration": 0,
    "start_time": "2023-04-08T15:21:04.867Z"
   },
   {
    "duration": 0,
    "start_time": "2023-04-08T15:21:04.869Z"
   },
   {
    "duration": 0,
    "start_time": "2023-04-08T15:21:04.871Z"
   },
   {
    "duration": 0,
    "start_time": "2023-04-08T15:21:04.872Z"
   },
   {
    "duration": 0,
    "start_time": "2023-04-08T15:21:04.873Z"
   },
   {
    "duration": 0,
    "start_time": "2023-04-08T15:21:04.875Z"
   },
   {
    "duration": 0,
    "start_time": "2023-04-08T15:21:04.876Z"
   },
   {
    "duration": 0,
    "start_time": "2023-04-08T15:21:04.878Z"
   },
   {
    "duration": 0,
    "start_time": "2023-04-08T15:21:04.879Z"
   },
   {
    "duration": 0,
    "start_time": "2023-04-08T15:21:04.880Z"
   },
   {
    "duration": 0,
    "start_time": "2023-04-08T15:21:04.881Z"
   },
   {
    "duration": 0,
    "start_time": "2023-04-08T15:21:04.883Z"
   },
   {
    "duration": 0,
    "start_time": "2023-04-08T15:21:04.885Z"
   },
   {
    "duration": 0,
    "start_time": "2023-04-08T15:21:04.886Z"
   },
   {
    "duration": 0,
    "start_time": "2023-04-08T15:21:04.887Z"
   },
   {
    "duration": 0,
    "start_time": "2023-04-08T15:21:04.889Z"
   },
   {
    "duration": 0,
    "start_time": "2023-04-08T15:21:04.935Z"
   },
   {
    "duration": 0,
    "start_time": "2023-04-08T15:21:04.937Z"
   },
   {
    "duration": 0,
    "start_time": "2023-04-08T15:21:04.938Z"
   },
   {
    "duration": 0,
    "start_time": "2023-04-08T15:21:04.940Z"
   },
   {
    "duration": 0,
    "start_time": "2023-04-08T15:21:04.941Z"
   },
   {
    "duration": 0,
    "start_time": "2023-04-08T15:21:04.943Z"
   },
   {
    "duration": 0,
    "start_time": "2023-04-08T15:21:04.944Z"
   },
   {
    "duration": 5615,
    "start_time": "2023-04-08T15:22:03.524Z"
   },
   {
    "duration": 6467,
    "start_time": "2023-04-08T15:22:11.864Z"
   },
   {
    "duration": 6273,
    "start_time": "2023-04-08T15:22:59.873Z"
   },
   {
    "duration": 18,
    "start_time": "2023-04-08T15:25:27.704Z"
   },
   {
    "duration": 6358,
    "start_time": "2023-04-08T15:26:44.101Z"
   },
   {
    "duration": 5942,
    "start_time": "2023-04-08T15:26:56.004Z"
   },
   {
    "duration": 5972,
    "start_time": "2023-04-08T15:28:02.862Z"
   },
   {
    "duration": 6512,
    "start_time": "2023-04-08T15:28:24.524Z"
   },
   {
    "duration": 5865,
    "start_time": "2023-04-08T15:28:36.899Z"
   },
   {
    "duration": 6071,
    "start_time": "2023-04-08T15:28:49.450Z"
   },
   {
    "duration": 6392,
    "start_time": "2023-04-08T15:29:53.796Z"
   },
   {
    "duration": 660,
    "start_time": "2023-04-08T15:31:33.644Z"
   },
   {
    "duration": 455,
    "start_time": "2023-04-08T15:31:46.724Z"
   },
   {
    "duration": 5471,
    "start_time": "2023-04-08T15:32:09.724Z"
   },
   {
    "duration": 5506,
    "start_time": "2023-04-08T15:32:39.356Z"
   },
   {
    "duration": 523,
    "start_time": "2023-04-08T15:33:11.489Z"
   },
   {
    "duration": 200,
    "start_time": "2023-04-08T15:33:25.948Z"
   },
   {
    "duration": 202,
    "start_time": "2023-04-08T15:33:40.268Z"
   },
   {
    "duration": 207,
    "start_time": "2023-04-08T15:33:55.933Z"
   },
   {
    "duration": 190,
    "start_time": "2023-04-08T15:34:05.983Z"
   },
   {
    "duration": 182,
    "start_time": "2023-04-08T15:34:18.204Z"
   },
   {
    "duration": 182,
    "start_time": "2023-04-08T15:34:31.113Z"
   },
   {
    "duration": 188,
    "start_time": "2023-04-08T15:34:52.987Z"
   },
   {
    "duration": 199,
    "start_time": "2023-04-08T15:35:16.652Z"
   },
   {
    "duration": 47,
    "start_time": "2023-04-08T15:37:55.304Z"
   },
   {
    "duration": 49,
    "start_time": "2023-04-08T15:38:04.481Z"
   },
   {
    "duration": 47,
    "start_time": "2023-04-08T15:38:18.912Z"
   },
   {
    "duration": 17,
    "start_time": "2023-04-08T15:39:05.400Z"
   },
   {
    "duration": 18,
    "start_time": "2023-04-08T15:39:25.012Z"
   },
   {
    "duration": 5945,
    "start_time": "2023-04-08T15:40:25.831Z"
   },
   {
    "duration": 5765,
    "start_time": "2023-04-08T15:40:59.984Z"
   },
   {
    "duration": 7801,
    "start_time": "2023-04-08T15:46:37.118Z"
   },
   {
    "duration": 8392,
    "start_time": "2023-04-08T15:47:49.123Z"
   },
   {
    "duration": 9007,
    "start_time": "2023-04-08T15:48:12.066Z"
   },
   {
    "duration": 130,
    "start_time": "2023-04-08T15:51:35.444Z"
   },
   {
    "duration": 6269,
    "start_time": "2023-04-08T15:53:26.285Z"
   },
   {
    "duration": 12,
    "start_time": "2023-04-08T15:54:11.905Z"
   },
   {
    "duration": 5,
    "start_time": "2023-04-08T15:54:18.574Z"
   },
   {
    "duration": 96,
    "start_time": "2023-04-08T15:54:20.644Z"
   },
   {
    "duration": 5,
    "start_time": "2023-04-08T15:54:30.765Z"
   },
   {
    "duration": 99,
    "start_time": "2023-04-08T15:54:32.737Z"
   },
   {
    "duration": 1473,
    "start_time": "2023-04-08T18:49:26.059Z"
   },
   {
    "duration": 844,
    "start_time": "2023-04-08T18:49:27.534Z"
   },
   {
    "duration": 17,
    "start_time": "2023-04-08T18:49:28.380Z"
   },
   {
    "duration": 16,
    "start_time": "2023-04-08T18:49:28.399Z"
   },
   {
    "duration": 30,
    "start_time": "2023-04-08T18:49:28.417Z"
   },
   {
    "duration": 25,
    "start_time": "2023-04-08T18:49:28.448Z"
   },
   {
    "duration": 4,
    "start_time": "2023-04-08T18:49:28.475Z"
   },
   {
    "duration": 21,
    "start_time": "2023-04-08T18:49:28.481Z"
   },
   {
    "duration": 20,
    "start_time": "2023-04-08T18:49:28.505Z"
   },
   {
    "duration": 26,
    "start_time": "2023-04-08T18:49:28.529Z"
   },
   {
    "duration": 38,
    "start_time": "2023-04-08T18:49:28.556Z"
   },
   {
    "duration": 30,
    "start_time": "2023-04-08T18:49:28.617Z"
   },
   {
    "duration": 19,
    "start_time": "2023-04-08T18:49:28.653Z"
   },
   {
    "duration": 9,
    "start_time": "2023-04-08T18:49:28.674Z"
   },
   {
    "duration": 498,
    "start_time": "2023-04-08T18:49:28.684Z"
   },
   {
    "duration": 433,
    "start_time": "2023-04-08T18:49:29.184Z"
   },
   {
    "duration": 63,
    "start_time": "2023-04-08T18:49:29.620Z"
   },
   {
    "duration": 130,
    "start_time": "2023-04-08T18:49:29.685Z"
   },
   {
    "duration": 34,
    "start_time": "2023-04-08T18:49:29.818Z"
   },
   {
    "duration": 35,
    "start_time": "2023-04-08T18:49:29.854Z"
   },
   {
    "duration": 62,
    "start_time": "2023-04-08T18:49:29.891Z"
   },
   {
    "duration": 8,
    "start_time": "2023-04-08T18:49:29.955Z"
   },
   {
    "duration": 9,
    "start_time": "2023-04-08T18:49:29.965Z"
   },
   {
    "duration": 2535,
    "start_time": "2023-04-08T18:49:29.975Z"
   },
   {
    "duration": 9824,
    "start_time": "2023-04-08T18:49:32.512Z"
   },
   {
    "duration": 463,
    "start_time": "2023-04-08T18:49:42.338Z"
   },
   {
    "duration": 149,
    "start_time": "2023-04-08T18:49:42.803Z"
   },
   {
    "duration": 118,
    "start_time": "2023-04-08T18:49:42.956Z"
   },
   {
    "duration": 6,
    "start_time": "2023-04-08T18:49:43.075Z"
   },
   {
    "duration": 49,
    "start_time": "2023-04-08T18:49:43.083Z"
   },
   {
    "duration": 276,
    "start_time": "2023-04-08T18:49:43.134Z"
   },
   {
    "duration": 480,
    "start_time": "2023-04-08T18:49:43.416Z"
   },
   {
    "duration": 153,
    "start_time": "2023-04-08T18:49:43.898Z"
   },
   {
    "duration": 101,
    "start_time": "2023-04-08T18:49:44.053Z"
   },
   {
    "duration": 4,
    "start_time": "2023-04-08T18:49:44.156Z"
   },
   {
    "duration": 72,
    "start_time": "2023-04-08T18:49:44.161Z"
   },
   {
    "duration": 9,
    "start_time": "2023-04-08T18:49:44.235Z"
   },
   {
    "duration": 24,
    "start_time": "2023-04-08T18:49:44.245Z"
   },
   {
    "duration": 8,
    "start_time": "2023-04-08T18:49:44.271Z"
   },
   {
    "duration": 32,
    "start_time": "2023-04-08T18:49:44.281Z"
   },
   {
    "duration": 50,
    "start_time": "2023-04-08T18:49:44.315Z"
   },
   {
    "duration": 21,
    "start_time": "2023-04-08T18:49:44.367Z"
   },
   {
    "duration": 28,
    "start_time": "2023-04-08T18:49:44.390Z"
   },
   {
    "duration": 37,
    "start_time": "2023-04-08T18:49:44.420Z"
   },
   {
    "duration": 17,
    "start_time": "2023-04-08T18:49:44.459Z"
   },
   {
    "duration": 1605,
    "start_time": "2023-04-08T18:49:44.478Z"
   },
   {
    "duration": 437,
    "start_time": "2023-04-08T18:49:46.085Z"
   },
   {
    "duration": 10,
    "start_time": "2023-04-08T18:49:46.525Z"
   },
   {
    "duration": 304,
    "start_time": "2023-04-08T18:49:46.537Z"
   },
   {
    "duration": 24,
    "start_time": "2023-04-08T18:49:46.843Z"
   },
   {
    "duration": 52,
    "start_time": "2023-04-08T18:49:46.869Z"
   },
   {
    "duration": 251,
    "start_time": "2023-04-08T18:49:46.924Z"
   },
   {
    "duration": 3,
    "start_time": "2023-04-08T18:49:47.177Z"
   },
   {
    "duration": 36,
    "start_time": "2023-04-08T18:49:47.182Z"
   },
   {
    "duration": 23,
    "start_time": "2023-04-08T18:49:47.220Z"
   },
   {
    "duration": 28,
    "start_time": "2023-04-08T18:49:47.244Z"
   },
   {
    "duration": 80,
    "start_time": "2023-04-08T18:49:47.274Z"
   },
   {
    "duration": 0,
    "start_time": "2023-04-08T18:49:47.355Z"
   },
   {
    "duration": 0,
    "start_time": "2023-04-08T18:49:47.357Z"
   },
   {
    "duration": 0,
    "start_time": "2023-04-08T18:49:47.358Z"
   },
   {
    "duration": 0,
    "start_time": "2023-04-08T18:49:47.360Z"
   },
   {
    "duration": 0,
    "start_time": "2023-04-08T18:49:47.361Z"
   },
   {
    "duration": 0,
    "start_time": "2023-04-08T18:49:47.362Z"
   },
   {
    "duration": 0,
    "start_time": "2023-04-08T18:49:47.364Z"
   },
   {
    "duration": 269,
    "start_time": "2023-04-08T18:52:14.409Z"
   },
   {
    "duration": 74,
    "start_time": "2023-04-08T19:02:58.940Z"
   },
   {
    "duration": 90,
    "start_time": "2023-04-08T19:03:43.247Z"
   },
   {
    "duration": 78,
    "start_time": "2023-04-08T19:03:47.705Z"
   },
   {
    "duration": 70,
    "start_time": "2023-04-08T19:03:54.645Z"
   },
   {
    "duration": 90,
    "start_time": "2023-04-08T19:03:58.506Z"
   },
   {
    "duration": 440,
    "start_time": "2023-04-08T19:04:04.095Z"
   },
   {
    "duration": 91,
    "start_time": "2023-04-08T19:04:30.403Z"
   },
   {
    "duration": 78,
    "start_time": "2023-04-08T19:05:11.134Z"
   },
   {
    "duration": 166,
    "start_time": "2023-04-08T19:05:30.730Z"
   },
   {
    "duration": 173,
    "start_time": "2023-04-08T19:06:22.620Z"
   },
   {
    "duration": 1280,
    "start_time": "2023-04-08T19:09:39.754Z"
   },
   {
    "duration": 979,
    "start_time": "2023-04-08T19:09:41.036Z"
   },
   {
    "duration": 25,
    "start_time": "2023-04-08T19:09:42.017Z"
   },
   {
    "duration": 11,
    "start_time": "2023-04-08T19:09:42.045Z"
   },
   {
    "duration": 7,
    "start_time": "2023-04-08T19:09:42.058Z"
   },
   {
    "duration": 16,
    "start_time": "2023-04-08T19:09:42.068Z"
   },
   {
    "duration": 2,
    "start_time": "2023-04-08T19:09:42.086Z"
   },
   {
    "duration": 40,
    "start_time": "2023-04-08T19:09:42.090Z"
   },
   {
    "duration": 21,
    "start_time": "2023-04-08T19:09:42.131Z"
   },
   {
    "duration": 26,
    "start_time": "2023-04-08T19:09:42.156Z"
   },
   {
    "duration": 68,
    "start_time": "2023-04-08T19:09:42.184Z"
   },
   {
    "duration": 15,
    "start_time": "2023-04-08T19:09:42.254Z"
   },
   {
    "duration": 31,
    "start_time": "2023-04-08T19:09:42.270Z"
   },
   {
    "duration": 23,
    "start_time": "2023-04-08T19:09:42.303Z"
   },
   {
    "duration": 440,
    "start_time": "2023-04-08T19:09:42.331Z"
   },
   {
    "duration": 416,
    "start_time": "2023-04-08T19:09:42.773Z"
   },
   {
    "duration": 74,
    "start_time": "2023-04-08T19:09:43.192Z"
   },
   {
    "duration": 115,
    "start_time": "2023-04-08T19:09:43.267Z"
   },
   {
    "duration": 49,
    "start_time": "2023-04-08T19:09:43.384Z"
   },
   {
    "duration": 36,
    "start_time": "2023-04-08T19:09:43.435Z"
   },
   {
    "duration": 33,
    "start_time": "2023-04-08T19:09:43.473Z"
   },
   {
    "duration": 11,
    "start_time": "2023-04-08T19:09:43.517Z"
   },
   {
    "duration": 9,
    "start_time": "2023-04-08T19:09:43.530Z"
   },
   {
    "duration": 2448,
    "start_time": "2023-04-08T19:09:43.541Z"
   },
   {
    "duration": 9765,
    "start_time": "2023-04-08T19:09:45.991Z"
   },
   {
    "duration": 381,
    "start_time": "2023-04-08T19:09:55.758Z"
   },
   {
    "duration": 110,
    "start_time": "2023-04-08T19:09:56.141Z"
   },
   {
    "duration": 127,
    "start_time": "2023-04-08T19:09:56.255Z"
   },
   {
    "duration": 5,
    "start_time": "2023-04-08T19:09:56.384Z"
   },
   {
    "duration": 39,
    "start_time": "2023-04-08T19:09:56.419Z"
   },
   {
    "duration": 250,
    "start_time": "2023-04-08T19:09:56.460Z"
   },
   {
    "duration": 529,
    "start_time": "2023-04-08T19:09:56.712Z"
   },
   {
    "duration": 164,
    "start_time": "2023-04-08T19:09:57.242Z"
   },
   {
    "duration": 446,
    "start_time": "2023-04-08T19:09:57.408Z"
   },
   {
    "duration": 93,
    "start_time": "2023-04-08T19:09:57.856Z"
   },
   {
    "duration": 2,
    "start_time": "2023-04-08T19:09:57.951Z"
   },
   {
    "duration": 151,
    "start_time": "2023-04-08T19:09:57.955Z"
   },
   {
    "duration": 27,
    "start_time": "2023-04-08T19:09:58.108Z"
   },
   {
    "duration": 21,
    "start_time": "2023-04-08T19:09:58.137Z"
   },
   {
    "duration": 24,
    "start_time": "2023-04-08T19:09:58.159Z"
   },
   {
    "duration": 15,
    "start_time": "2023-04-08T19:09:58.185Z"
   },
   {
    "duration": 34,
    "start_time": "2023-04-08T19:09:58.202Z"
   },
   {
    "duration": 9,
    "start_time": "2023-04-08T19:09:58.238Z"
   },
   {
    "duration": 16,
    "start_time": "2023-04-08T19:09:58.249Z"
   },
   {
    "duration": 22,
    "start_time": "2023-04-08T19:09:58.266Z"
   },
   {
    "duration": 24,
    "start_time": "2023-04-08T19:09:58.290Z"
   },
   {
    "duration": 2018,
    "start_time": "2023-04-08T19:09:58.316Z"
   },
   {
    "duration": 409,
    "start_time": "2023-04-08T19:10:00.336Z"
   },
   {
    "duration": 8,
    "start_time": "2023-04-08T19:10:00.747Z"
   },
   {
    "duration": 278,
    "start_time": "2023-04-08T19:10:00.757Z"
   },
   {
    "duration": 16,
    "start_time": "2023-04-08T19:10:01.036Z"
   },
   {
    "duration": 86,
    "start_time": "2023-04-08T19:10:01.053Z"
   },
   {
    "duration": 298,
    "start_time": "2023-04-08T19:10:01.141Z"
   },
   {
    "duration": 3,
    "start_time": "2023-04-08T19:10:01.440Z"
   },
   {
    "duration": 53,
    "start_time": "2023-04-08T19:10:01.444Z"
   },
   {
    "duration": 43,
    "start_time": "2023-04-08T19:10:01.498Z"
   },
   {
    "duration": 62,
    "start_time": "2023-04-08T19:10:01.542Z"
   },
   {
    "duration": 187,
    "start_time": "2023-04-08T19:10:01.606Z"
   },
   {
    "duration": 0,
    "start_time": "2023-04-08T19:10:01.794Z"
   },
   {
    "duration": 0,
    "start_time": "2023-04-08T19:10:01.797Z"
   },
   {
    "duration": 0,
    "start_time": "2023-04-08T19:10:01.798Z"
   },
   {
    "duration": 0,
    "start_time": "2023-04-08T19:10:01.800Z"
   },
   {
    "duration": 0,
    "start_time": "2023-04-08T19:10:01.801Z"
   },
   {
    "duration": 0,
    "start_time": "2023-04-08T19:10:01.803Z"
   },
   {
    "duration": 0,
    "start_time": "2023-04-08T19:10:01.804Z"
   },
   {
    "duration": 5,
    "start_time": "2023-04-08T19:10:15.040Z"
   },
   {
    "duration": 68,
    "start_time": "2023-04-08T19:10:15.507Z"
   },
   {
    "duration": 1548,
    "start_time": "2023-04-08T19:10:38.206Z"
   },
   {
    "duration": 920,
    "start_time": "2023-04-08T19:10:39.757Z"
   },
   {
    "duration": 18,
    "start_time": "2023-04-08T19:10:40.679Z"
   },
   {
    "duration": 5,
    "start_time": "2023-04-08T19:10:40.699Z"
   },
   {
    "duration": 34,
    "start_time": "2023-04-08T19:10:40.707Z"
   },
   {
    "duration": 26,
    "start_time": "2023-04-08T19:10:40.743Z"
   },
   {
    "duration": 23,
    "start_time": "2023-04-08T19:10:40.771Z"
   },
   {
    "duration": 52,
    "start_time": "2023-04-08T19:10:40.796Z"
   },
   {
    "duration": 17,
    "start_time": "2023-04-08T19:10:40.850Z"
   },
   {
    "duration": 28,
    "start_time": "2023-04-08T19:10:40.870Z"
   },
   {
    "duration": 54,
    "start_time": "2023-04-08T19:10:40.900Z"
   },
   {
    "duration": 16,
    "start_time": "2023-04-08T19:10:40.956Z"
   },
   {
    "duration": 21,
    "start_time": "2023-04-08T19:10:40.974Z"
   },
   {
    "duration": 10,
    "start_time": "2023-04-08T19:10:41.017Z"
   },
   {
    "duration": 422,
    "start_time": "2023-04-08T19:10:41.032Z"
   },
   {
    "duration": 419,
    "start_time": "2023-04-08T19:10:41.456Z"
   },
   {
    "duration": 74,
    "start_time": "2023-04-08T19:10:41.877Z"
   },
   {
    "duration": 131,
    "start_time": "2023-04-08T19:10:41.954Z"
   },
   {
    "duration": 40,
    "start_time": "2023-04-08T19:10:42.087Z"
   },
   {
    "duration": 42,
    "start_time": "2023-04-08T19:10:42.130Z"
   },
   {
    "duration": 58,
    "start_time": "2023-04-08T19:10:42.174Z"
   },
   {
    "duration": 8,
    "start_time": "2023-04-08T19:10:42.233Z"
   },
   {
    "duration": 11,
    "start_time": "2023-04-08T19:10:42.243Z"
   },
   {
    "duration": 2571,
    "start_time": "2023-04-08T19:10:42.256Z"
   },
   {
    "duration": 10686,
    "start_time": "2023-04-08T19:10:44.829Z"
   },
   {
    "duration": 425,
    "start_time": "2023-04-08T19:10:55.517Z"
   },
   {
    "duration": 119,
    "start_time": "2023-04-08T19:10:55.944Z"
   },
   {
    "duration": 114,
    "start_time": "2023-04-08T19:10:56.064Z"
   },
   {
    "duration": 5,
    "start_time": "2023-04-08T19:10:56.179Z"
   },
   {
    "duration": 48,
    "start_time": "2023-04-08T19:10:56.185Z"
   },
   {
    "duration": 244,
    "start_time": "2023-04-08T19:10:56.235Z"
   },
   {
    "duration": 501,
    "start_time": "2023-04-08T19:10:56.480Z"
   },
   {
    "duration": 164,
    "start_time": "2023-04-08T19:10:56.982Z"
   },
   {
    "duration": 432,
    "start_time": "2023-04-08T19:10:57.148Z"
   },
   {
    "duration": 87,
    "start_time": "2023-04-08T19:10:57.582Z"
   },
   {
    "duration": 3,
    "start_time": "2023-04-08T19:10:57.670Z"
   },
   {
    "duration": 165,
    "start_time": "2023-04-08T19:10:57.675Z"
   },
   {
    "duration": 9,
    "start_time": "2023-04-08T19:10:57.842Z"
   },
   {
    "duration": 68,
    "start_time": "2023-04-08T19:10:57.853Z"
   },
   {
    "duration": 35,
    "start_time": "2023-04-08T19:10:57.922Z"
   },
   {
    "duration": 38,
    "start_time": "2023-04-08T19:10:57.962Z"
   },
   {
    "duration": 74,
    "start_time": "2023-04-08T19:10:58.002Z"
   },
   {
    "duration": 74,
    "start_time": "2023-04-08T19:10:58.077Z"
   },
   {
    "duration": 22,
    "start_time": "2023-04-08T19:10:58.152Z"
   },
   {
    "duration": 60,
    "start_time": "2023-04-08T19:10:58.175Z"
   },
   {
    "duration": 20,
    "start_time": "2023-04-08T19:10:58.236Z"
   },
   {
    "duration": 2075,
    "start_time": "2023-04-08T19:10:58.258Z"
   },
   {
    "duration": 395,
    "start_time": "2023-04-08T19:11:00.335Z"
   },
   {
    "duration": 9,
    "start_time": "2023-04-08T19:11:00.734Z"
   },
   {
    "duration": 262,
    "start_time": "2023-04-08T19:11:00.745Z"
   },
   {
    "duration": 31,
    "start_time": "2023-04-08T19:11:01.009Z"
   },
   {
    "duration": 101,
    "start_time": "2023-04-08T19:11:01.049Z"
   },
   {
    "duration": 246,
    "start_time": "2023-04-08T19:11:01.152Z"
   },
   {
    "duration": 3,
    "start_time": "2023-04-08T19:11:01.399Z"
   },
   {
    "duration": 73,
    "start_time": "2023-04-08T19:11:01.404Z"
   },
   {
    "duration": 60,
    "start_time": "2023-04-08T19:11:01.479Z"
   },
   {
    "duration": 77,
    "start_time": "2023-04-08T19:11:01.541Z"
   },
   {
    "duration": 112,
    "start_time": "2023-04-08T19:11:01.619Z"
   },
   {
    "duration": 0,
    "start_time": "2023-04-08T19:11:01.733Z"
   },
   {
    "duration": 0,
    "start_time": "2023-04-08T19:11:01.734Z"
   },
   {
    "duration": 0,
    "start_time": "2023-04-08T19:11:01.735Z"
   },
   {
    "duration": 0,
    "start_time": "2023-04-08T19:11:01.737Z"
   },
   {
    "duration": 0,
    "start_time": "2023-04-08T19:11:01.738Z"
   },
   {
    "duration": 0,
    "start_time": "2023-04-08T19:11:01.740Z"
   },
   {
    "duration": 0,
    "start_time": "2023-04-08T19:11:01.741Z"
   },
   {
    "duration": 5,
    "start_time": "2023-04-08T19:11:08.481Z"
   },
   {
    "duration": 117,
    "start_time": "2023-04-08T19:11:09.410Z"
   },
   {
    "duration": 5,
    "start_time": "2023-04-08T19:11:19.387Z"
   },
   {
    "duration": 104,
    "start_time": "2023-04-08T19:11:20.856Z"
   },
   {
    "duration": 150,
    "start_time": "2023-04-08T19:12:59.191Z"
   },
   {
    "duration": 13,
    "start_time": "2023-04-08T19:13:22.022Z"
   },
   {
    "duration": 10,
    "start_time": "2023-04-08T19:13:27.315Z"
   },
   {
    "duration": 123,
    "start_time": "2023-04-08T19:15:23.152Z"
   },
   {
    "duration": 147,
    "start_time": "2023-04-08T19:15:31.831Z"
   },
   {
    "duration": 208,
    "start_time": "2023-04-08T19:15:39.444Z"
   },
   {
    "duration": 109,
    "start_time": "2023-04-08T19:15:43.980Z"
   },
   {
    "duration": 15,
    "start_time": "2023-04-08T19:16:34.915Z"
   },
   {
    "duration": 123,
    "start_time": "2023-04-08T19:16:41.273Z"
   },
   {
    "duration": 74,
    "start_time": "2023-04-08T19:18:19.787Z"
   },
   {
    "duration": 116,
    "start_time": "2023-04-08T19:18:32.057Z"
   },
   {
    "duration": 71,
    "start_time": "2023-04-08T19:18:41.662Z"
   },
   {
    "duration": 136,
    "start_time": "2023-04-08T19:21:27.087Z"
   },
   {
    "duration": 128,
    "start_time": "2023-04-08T19:21:39.253Z"
   },
   {
    "duration": 132,
    "start_time": "2023-04-08T19:21:52.752Z"
   },
   {
    "duration": 351,
    "start_time": "2023-04-08T19:24:23.179Z"
   },
   {
    "duration": 346,
    "start_time": "2023-04-08T19:24:50.876Z"
   },
   {
    "duration": 429,
    "start_time": "2023-04-08T19:25:07.876Z"
   },
   {
    "duration": 261,
    "start_time": "2023-04-08T19:48:09.105Z"
   },
   {
    "duration": 3,
    "start_time": "2023-04-08T19:48:31.287Z"
   },
   {
    "duration": 13,
    "start_time": "2023-04-08T19:51:29.700Z"
   },
   {
    "duration": 29,
    "start_time": "2023-04-08T19:51:38.614Z"
   },
   {
    "duration": 63,
    "start_time": "2023-04-08T19:51:39.683Z"
   },
   {
    "duration": 61,
    "start_time": "2023-04-08T19:51:43.972Z"
   },
   {
    "duration": 29,
    "start_time": "2023-04-08T19:51:46.928Z"
   },
   {
    "duration": 431,
    "start_time": "2023-04-08T19:53:30.798Z"
   },
   {
    "duration": 72,
    "start_time": "2023-04-08T19:54:52.669Z"
   },
   {
    "duration": 74,
    "start_time": "2023-04-08T19:56:33.732Z"
   },
   {
    "duration": 256,
    "start_time": "2023-04-08T19:59:59.718Z"
   },
   {
    "duration": 315,
    "start_time": "2023-04-08T20:00:10.006Z"
   },
   {
    "duration": 372,
    "start_time": "2023-04-08T20:00:22.467Z"
   },
   {
    "duration": 351,
    "start_time": "2023-04-08T20:00:36.427Z"
   },
   {
    "duration": 490,
    "start_time": "2023-04-08T20:00:54.542Z"
   },
   {
    "duration": 304,
    "start_time": "2023-04-08T20:01:03.101Z"
   },
   {
    "duration": 351,
    "start_time": "2023-04-08T20:01:08.787Z"
   },
   {
    "duration": 322,
    "start_time": "2023-04-08T20:01:52.655Z"
   },
   {
    "duration": 341,
    "start_time": "2023-04-08T20:03:56.918Z"
   },
   {
    "duration": 421,
    "start_time": "2023-04-08T20:04:38.652Z"
   },
   {
    "duration": 321,
    "start_time": "2023-04-08T20:06:08.721Z"
   },
   {
    "duration": 304,
    "start_time": "2023-04-08T20:06:21.096Z"
   },
   {
    "duration": 321,
    "start_time": "2023-04-08T20:08:11.280Z"
   },
   {
    "duration": 293,
    "start_time": "2023-04-08T20:08:23.668Z"
   },
   {
    "duration": 319,
    "start_time": "2023-04-08T20:10:54.056Z"
   },
   {
    "duration": 414,
    "start_time": "2023-04-08T20:11:14.964Z"
   },
   {
    "duration": 328,
    "start_time": "2023-04-08T20:11:36.996Z"
   },
   {
    "duration": 339,
    "start_time": "2023-04-08T20:12:50.382Z"
   },
   {
    "duration": 3,
    "start_time": "2023-04-08T20:13:28.255Z"
   },
   {
    "duration": 12,
    "start_time": "2023-04-08T20:17:40.450Z"
   },
   {
    "duration": 26,
    "start_time": "2023-04-08T20:18:08.504Z"
   },
   {
    "duration": 13,
    "start_time": "2023-04-08T20:18:59.555Z"
   },
   {
    "duration": 72,
    "start_time": "2023-04-08T20:19:29.540Z"
   },
   {
    "duration": 10,
    "start_time": "2023-04-08T20:19:33.887Z"
   },
   {
    "duration": 37,
    "start_time": "2023-04-08T20:29:02.227Z"
   },
   {
    "duration": 13,
    "start_time": "2023-04-08T20:29:42.156Z"
   },
   {
    "duration": 18,
    "start_time": "2023-04-08T20:31:08.749Z"
   },
   {
    "duration": 12,
    "start_time": "2023-04-08T20:33:23.027Z"
   },
   {
    "duration": 14,
    "start_time": "2023-04-08T20:33:49.955Z"
   },
   {
    "duration": 11,
    "start_time": "2023-04-08T20:34:03.414Z"
   },
   {
    "duration": 12,
    "start_time": "2023-04-08T20:34:11.049Z"
   },
   {
    "duration": 13,
    "start_time": "2023-04-08T20:34:32.133Z"
   },
   {
    "duration": 13,
    "start_time": "2023-04-08T20:34:37.885Z"
   },
   {
    "duration": 12,
    "start_time": "2023-04-08T20:34:43.833Z"
   },
   {
    "duration": 16,
    "start_time": "2023-04-08T20:34:48.568Z"
   },
   {
    "duration": 13,
    "start_time": "2023-04-08T20:36:35.997Z"
   },
   {
    "duration": 12,
    "start_time": "2023-04-08T20:37:04.339Z"
   },
   {
    "duration": 38,
    "start_time": "2023-04-08T20:37:48.103Z"
   },
   {
    "duration": 12,
    "start_time": "2023-04-08T20:38:02.676Z"
   },
   {
    "duration": 13,
    "start_time": "2023-04-08T20:39:12.680Z"
   },
   {
    "duration": 13,
    "start_time": "2023-04-08T20:44:22.826Z"
   },
   {
    "duration": 13,
    "start_time": "2023-04-08T20:46:55.586Z"
   },
   {
    "duration": 13,
    "start_time": "2023-04-08T20:47:10.387Z"
   },
   {
    "duration": 12,
    "start_time": "2023-04-08T20:47:18.596Z"
   },
   {
    "duration": 13,
    "start_time": "2023-04-08T20:48:30.816Z"
   },
   {
    "duration": 14,
    "start_time": "2023-04-08T20:48:48.564Z"
   },
   {
    "duration": 13,
    "start_time": "2023-04-08T20:48:57.030Z"
   },
   {
    "duration": 14,
    "start_time": "2023-04-08T20:49:08.021Z"
   },
   {
    "duration": 14,
    "start_time": "2023-04-08T20:49:21.807Z"
   },
   {
    "duration": 12,
    "start_time": "2023-04-08T20:49:39.584Z"
   },
   {
    "duration": 13,
    "start_time": "2023-04-08T20:49:44.419Z"
   },
   {
    "duration": 13,
    "start_time": "2023-04-08T20:50:55.986Z"
   },
   {
    "duration": 15,
    "start_time": "2023-04-08T20:51:02.485Z"
   },
   {
    "duration": 11,
    "start_time": "2023-04-08T20:51:08.017Z"
   },
   {
    "duration": 15,
    "start_time": "2023-04-08T20:54:16.815Z"
   },
   {
    "duration": 13,
    "start_time": "2023-04-08T20:59:40.921Z"
   },
   {
    "duration": 12,
    "start_time": "2023-04-08T20:59:58.879Z"
   },
   {
    "duration": 12,
    "start_time": "2023-04-08T21:00:13.914Z"
   },
   {
    "duration": 12,
    "start_time": "2023-04-08T21:00:26.775Z"
   },
   {
    "duration": 13,
    "start_time": "2023-04-08T21:00:35.946Z"
   },
   {
    "duration": 15,
    "start_time": "2023-04-08T21:00:52.412Z"
   },
   {
    "duration": 12,
    "start_time": "2023-04-08T21:01:34.255Z"
   },
   {
    "duration": 13,
    "start_time": "2023-04-08T21:01:46.721Z"
   },
   {
    "duration": 17,
    "start_time": "2023-04-08T21:01:56.620Z"
   },
   {
    "duration": 11,
    "start_time": "2023-04-08T21:02:45.912Z"
   },
   {
    "duration": 12,
    "start_time": "2023-04-08T21:03:02.900Z"
   },
   {
    "duration": 12,
    "start_time": "2023-04-08T21:04:37.859Z"
   },
   {
    "duration": 13,
    "start_time": "2023-04-08T21:04:56.120Z"
   },
   {
    "duration": 13,
    "start_time": "2023-04-08T21:06:04.830Z"
   },
   {
    "duration": 288,
    "start_time": "2023-04-08T21:20:47.602Z"
   },
   {
    "duration": 341,
    "start_time": "2023-04-08T21:24:57.569Z"
   },
   {
    "duration": 1738,
    "start_time": "2023-04-09T10:11:32.197Z"
   },
   {
    "duration": 920,
    "start_time": "2023-04-09T10:11:33.938Z"
   },
   {
    "duration": 19,
    "start_time": "2023-04-09T10:11:34.861Z"
   },
   {
    "duration": 7,
    "start_time": "2023-04-09T10:11:34.882Z"
   },
   {
    "duration": 4,
    "start_time": "2023-04-09T10:11:34.891Z"
   },
   {
    "duration": 18,
    "start_time": "2023-04-09T10:11:34.897Z"
   },
   {
    "duration": 2,
    "start_time": "2023-04-09T10:11:34.934Z"
   },
   {
    "duration": 22,
    "start_time": "2023-04-09T10:11:34.938Z"
   },
   {
    "duration": 16,
    "start_time": "2023-04-09T10:11:34.963Z"
   },
   {
    "duration": 56,
    "start_time": "2023-04-09T10:11:34.984Z"
   },
   {
    "duration": 226,
    "start_time": "2023-04-09T10:11:35.042Z"
   },
   {
    "duration": 0,
    "start_time": "2023-04-09T10:11:35.277Z"
   },
   {
    "duration": 0,
    "start_time": "2023-04-09T10:11:35.279Z"
   },
   {
    "duration": 0,
    "start_time": "2023-04-09T10:11:35.280Z"
   },
   {
    "duration": 0,
    "start_time": "2023-04-09T10:11:35.281Z"
   },
   {
    "duration": 0,
    "start_time": "2023-04-09T10:11:35.283Z"
   },
   {
    "duration": 0,
    "start_time": "2023-04-09T10:11:35.284Z"
   },
   {
    "duration": 0,
    "start_time": "2023-04-09T10:11:35.285Z"
   },
   {
    "duration": 0,
    "start_time": "2023-04-09T10:11:35.286Z"
   },
   {
    "duration": 0,
    "start_time": "2023-04-09T10:11:35.288Z"
   },
   {
    "duration": 0,
    "start_time": "2023-04-09T10:11:35.289Z"
   },
   {
    "duration": 0,
    "start_time": "2023-04-09T10:11:35.290Z"
   },
   {
    "duration": 0,
    "start_time": "2023-04-09T10:11:35.291Z"
   },
   {
    "duration": 0,
    "start_time": "2023-04-09T10:11:35.334Z"
   },
   {
    "duration": 0,
    "start_time": "2023-04-09T10:11:35.335Z"
   },
   {
    "duration": 0,
    "start_time": "2023-04-09T10:11:35.336Z"
   },
   {
    "duration": 0,
    "start_time": "2023-04-09T10:11:35.338Z"
   },
   {
    "duration": 0,
    "start_time": "2023-04-09T10:11:35.339Z"
   },
   {
    "duration": 0,
    "start_time": "2023-04-09T10:11:35.340Z"
   },
   {
    "duration": 0,
    "start_time": "2023-04-09T10:11:35.341Z"
   },
   {
    "duration": 0,
    "start_time": "2023-04-09T10:11:35.342Z"
   },
   {
    "duration": 0,
    "start_time": "2023-04-09T10:11:35.344Z"
   },
   {
    "duration": 0,
    "start_time": "2023-04-09T10:11:35.345Z"
   },
   {
    "duration": 0,
    "start_time": "2023-04-09T10:11:35.346Z"
   },
   {
    "duration": 0,
    "start_time": "2023-04-09T10:11:35.348Z"
   },
   {
    "duration": 0,
    "start_time": "2023-04-09T10:11:35.349Z"
   },
   {
    "duration": 0,
    "start_time": "2023-04-09T10:11:35.350Z"
   },
   {
    "duration": 0,
    "start_time": "2023-04-09T10:11:35.351Z"
   },
   {
    "duration": 0,
    "start_time": "2023-04-09T10:11:35.352Z"
   },
   {
    "duration": 0,
    "start_time": "2023-04-09T10:11:35.353Z"
   },
   {
    "duration": 0,
    "start_time": "2023-04-09T10:11:35.354Z"
   },
   {
    "duration": 0,
    "start_time": "2023-04-09T10:11:35.355Z"
   },
   {
    "duration": 0,
    "start_time": "2023-04-09T10:11:35.356Z"
   },
   {
    "duration": 0,
    "start_time": "2023-04-09T10:11:35.357Z"
   },
   {
    "duration": 0,
    "start_time": "2023-04-09T10:11:35.358Z"
   },
   {
    "duration": 0,
    "start_time": "2023-04-09T10:11:35.359Z"
   },
   {
    "duration": 0,
    "start_time": "2023-04-09T10:11:35.360Z"
   },
   {
    "duration": 0,
    "start_time": "2023-04-09T10:11:35.361Z"
   },
   {
    "duration": 0,
    "start_time": "2023-04-09T10:11:35.362Z"
   },
   {
    "duration": 0,
    "start_time": "2023-04-09T10:11:35.363Z"
   },
   {
    "duration": 0,
    "start_time": "2023-04-09T10:11:35.364Z"
   },
   {
    "duration": 0,
    "start_time": "2023-04-09T10:11:35.365Z"
   },
   {
    "duration": 0,
    "start_time": "2023-04-09T10:11:35.366Z"
   },
   {
    "duration": 0,
    "start_time": "2023-04-09T10:11:35.367Z"
   },
   {
    "duration": 0,
    "start_time": "2023-04-09T10:11:35.368Z"
   },
   {
    "duration": 0,
    "start_time": "2023-04-09T10:11:35.369Z"
   },
   {
    "duration": 0,
    "start_time": "2023-04-09T10:11:35.434Z"
   },
   {
    "duration": 0,
    "start_time": "2023-04-09T10:11:35.435Z"
   },
   {
    "duration": 0,
    "start_time": "2023-04-09T10:11:35.436Z"
   },
   {
    "duration": 0,
    "start_time": "2023-04-09T10:11:35.436Z"
   },
   {
    "duration": 0,
    "start_time": "2023-04-09T10:11:35.437Z"
   },
   {
    "duration": 0,
    "start_time": "2023-04-09T10:11:35.438Z"
   },
   {
    "duration": 0,
    "start_time": "2023-04-09T10:11:35.439Z"
   },
   {
    "duration": 0,
    "start_time": "2023-04-09T10:11:35.440Z"
   },
   {
    "duration": 0,
    "start_time": "2023-04-09T10:11:35.442Z"
   },
   {
    "duration": 0,
    "start_time": "2023-04-09T10:11:35.443Z"
   },
   {
    "duration": 0,
    "start_time": "2023-04-09T10:11:35.444Z"
   },
   {
    "duration": 0,
    "start_time": "2023-04-09T10:11:35.446Z"
   },
   {
    "duration": 0,
    "start_time": "2023-04-09T10:11:35.447Z"
   },
   {
    "duration": 0,
    "start_time": "2023-04-09T10:11:35.448Z"
   },
   {
    "duration": 0,
    "start_time": "2023-04-09T10:11:35.449Z"
   },
   {
    "duration": 0,
    "start_time": "2023-04-09T10:11:35.450Z"
   },
   {
    "duration": 0,
    "start_time": "2023-04-09T10:11:35.451Z"
   },
   {
    "duration": 0,
    "start_time": "2023-04-09T10:11:35.452Z"
   },
   {
    "duration": 0,
    "start_time": "2023-04-09T10:11:35.454Z"
   }
  ],
  "colab": {
   "provenance": []
  },
  "kernelspec": {
   "display_name": "Python 3 (ipykernel)",
   "language": "python",
   "name": "python3"
  },
  "language_info": {
   "codemirror_mode": {
    "name": "ipython",
    "version": 3
   },
   "file_extension": ".py",
   "mimetype": "text/x-python",
   "name": "python",
   "nbconvert_exporter": "python",
   "pygments_lexer": "ipython3",
   "version": "3.10.9"
  },
  "toc": {
   "base_numbering": 1,
   "nav_menu": {},
   "number_sections": true,
   "sideBar": true,
   "skip_h1_title": true,
   "title_cell": "Table of Contents",
   "title_sidebar": "Contents",
   "toc_cell": false,
   "toc_position": {
    "height": "calc(100% - 180px)",
    "left": "10px",
    "top": "150px",
    "width": "276.188px"
   },
   "toc_section_display": true,
   "toc_window_display": true
  }
 },
 "nbformat": 4,
 "nbformat_minor": 1
}
