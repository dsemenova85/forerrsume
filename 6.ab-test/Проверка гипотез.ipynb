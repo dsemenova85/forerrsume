{
 "cells": [
  {
   "cell_type": "markdown",
   "metadata": {},
   "source": [
    "# Анализ гипотез для увеличения выручки интернет-магазина"
   ]
  },
  {
   "cell_type": "markdown",
   "metadata": {},
   "source": [
    "На основании проведенного A/B тестирования по 9 предложенным гипотезам: проведем приоритизацию гипотез через фреймворк ICE и RICE, построим графики коммулятивной выручки и среднего чека, посчитаем статистическую значимость. "
   ]
  },
  {
   "cell_type": "markdown",
   "metadata": {},
   "source": [
    "## Изучим данные"
   ]
  },
  {
   "cell_type": "code",
   "execution_count": 1,
   "metadata": {},
   "outputs": [],
   "source": [
    "import pandas as pd\n",
    "import numpy as np\n",
    "import matplotlib.pyplot as plt\n",
    "from scipy import stats as st\n",
    "import datetime as dt\n",
    "import seaborn as sns\n",
    "from IPython.display import display_html\n",
    "pd.set_option('display.max_columns', 30)\n",
    "pd.set_option(\"display.float_format\", \"{:.2f}\".format)\n",
    "pd.set_option('display.max_colwidth', None)\n",
    "import warnings\n",
    "warnings.simplefilter('ignore')"
   ]
  },
  {
   "cell_type": "markdown",
   "metadata": {},
   "source": [
    "**Описание данных**\n",
    "\n",
    "**Таблица `hypothesis.csv` содержит данные о гипотезах:**\n",
    "\n",
    "`Hypothesis` — краткое описание гипотезы;\n",
    "\n",
    "`Reach` — охват пользователей по 10-балльной шкале;\n",
    "\n",
    "`Impact` — влияние на пользователей по 10-балльной шкале;\n",
    "\n",
    "`Confidence` — уверенность в гипотезе по 10-балльной шкале;\n",
    "\n",
    "`Efforts` — затраты ресурсов на проверку гипотезы по 10-балльной шкале. Чем больше значение Efforts, тем дороже проверка гипотезы.\n",
    "\n",
    "**Таблица  `orders.csv` содержит данные о заказах в период проведения A/B теста:**\n",
    "\n",
    "`transactionId` — идентификатор заказа;\n",
    "\n",
    "`visitorId` — идентификатор пользователя, совершившего заказ;\n",
    "\n",
    "`date` — дата, когда был совершён заказ;\n",
    "\n",
    "`revenue` — выручка заказа;\n",
    "\n",
    "`group` — группа A/B-теста, в которую попал заказ.\n",
    "\n",
    "**Таблица `visitors.csv` содержит данные о посетителях сайта в период A/B теста:**\n",
    "\n",
    "`date` — дата;\n",
    "\n",
    "`group` — группа A/B-теста;\n",
    "\n",
    "`visitors` — количество пользователей в указанную дату в указанной группе A/B-теста"
   ]
  },
  {
   "cell_type": "code",
   "execution_count": 2,
   "metadata": {
    "scrolled": true
   },
   "outputs": [
    {
     "data": {
      "text/html": [
       "<div>\n",
       "<style scoped>\n",
       "    .dataframe tbody tr th:only-of-type {\n",
       "        vertical-align: middle;\n",
       "    }\n",
       "\n",
       "    .dataframe tbody tr th {\n",
       "        vertical-align: top;\n",
       "    }\n",
       "\n",
       "    .dataframe thead th {\n",
       "        text-align: right;\n",
       "    }\n",
       "</style>\n",
       "<table border=\"1\" class=\"dataframe\">\n",
       "  <thead>\n",
       "    <tr style=\"text-align: right;\">\n",
       "      <th></th>\n",
       "      <th>Hypothesis</th>\n",
       "      <th>Reach</th>\n",
       "      <th>Impact</th>\n",
       "      <th>Confidence</th>\n",
       "      <th>Efforts</th>\n",
       "    </tr>\n",
       "  </thead>\n",
       "  <tbody>\n",
       "    <tr>\n",
       "      <th>0</th>\n",
       "      <td>Добавить два новых канала привлечения трафика, что позволит привлекать на 30% больше пользователей</td>\n",
       "      <td>3</td>\n",
       "      <td>10</td>\n",
       "      <td>8</td>\n",
       "      <td>6</td>\n",
       "    </tr>\n",
       "    <tr>\n",
       "      <th>1</th>\n",
       "      <td>Запустить собственную службу доставки, что сократит срок доставки заказов</td>\n",
       "      <td>2</td>\n",
       "      <td>5</td>\n",
       "      <td>4</td>\n",
       "      <td>10</td>\n",
       "    </tr>\n",
       "    <tr>\n",
       "      <th>2</th>\n",
       "      <td>Добавить блоки рекомендаций товаров на сайт интернет магазина, чтобы повысить конверсию и средний чек заказа</td>\n",
       "      <td>8</td>\n",
       "      <td>3</td>\n",
       "      <td>7</td>\n",
       "      <td>3</td>\n",
       "    </tr>\n",
       "    <tr>\n",
       "      <th>3</th>\n",
       "      <td>Изменить структура категорий, что увеличит конверсию, т.к. пользователи быстрее найдут нужный товар</td>\n",
       "      <td>8</td>\n",
       "      <td>3</td>\n",
       "      <td>3</td>\n",
       "      <td>8</td>\n",
       "    </tr>\n",
       "    <tr>\n",
       "      <th>4</th>\n",
       "      <td>Изменить цвет фона главной страницы, чтобы увеличить вовлеченность пользователей</td>\n",
       "      <td>3</td>\n",
       "      <td>1</td>\n",
       "      <td>1</td>\n",
       "      <td>1</td>\n",
       "    </tr>\n",
       "    <tr>\n",
       "      <th>5</th>\n",
       "      <td>Добавить страницу отзывов клиентов о магазине, что позволит увеличить количество заказов</td>\n",
       "      <td>3</td>\n",
       "      <td>2</td>\n",
       "      <td>2</td>\n",
       "      <td>3</td>\n",
       "    </tr>\n",
       "    <tr>\n",
       "      <th>6</th>\n",
       "      <td>Показать на главной странице баннеры с актуальными акциями и распродажами, чтобы увеличить конверсию</td>\n",
       "      <td>5</td>\n",
       "      <td>3</td>\n",
       "      <td>8</td>\n",
       "      <td>3</td>\n",
       "    </tr>\n",
       "    <tr>\n",
       "      <th>7</th>\n",
       "      <td>Добавить форму подписки на все основные страницы, чтобы собрать базу клиентов для email-рассылок</td>\n",
       "      <td>10</td>\n",
       "      <td>7</td>\n",
       "      <td>8</td>\n",
       "      <td>5</td>\n",
       "    </tr>\n",
       "    <tr>\n",
       "      <th>8</th>\n",
       "      <td>Запустить акцию, дающую скидку на товар в день рождения</td>\n",
       "      <td>1</td>\n",
       "      <td>9</td>\n",
       "      <td>9</td>\n",
       "      <td>5</td>\n",
       "    </tr>\n",
       "  </tbody>\n",
       "</table>\n",
       "</div>"
      ],
      "text/plain": [
       "                                                                                                     Hypothesis  \\\n",
       "0            Добавить два новых канала привлечения трафика, что позволит привлекать на 30% больше пользователей   \n",
       "1                                     Запустить собственную службу доставки, что сократит срок доставки заказов   \n",
       "2  Добавить блоки рекомендаций товаров на сайт интернет магазина, чтобы повысить конверсию и средний чек заказа   \n",
       "3           Изменить структура категорий, что увеличит конверсию, т.к. пользователи быстрее найдут нужный товар   \n",
       "4                              Изменить цвет фона главной страницы, чтобы увеличить вовлеченность пользователей   \n",
       "5                      Добавить страницу отзывов клиентов о магазине, что позволит увеличить количество заказов   \n",
       "6          Показать на главной странице баннеры с актуальными акциями и распродажами, чтобы увеличить конверсию   \n",
       "7              Добавить форму подписки на все основные страницы, чтобы собрать базу клиентов для email-рассылок   \n",
       "8                                                       Запустить акцию, дающую скидку на товар в день рождения   \n",
       "\n",
       "   Reach  Impact  Confidence  Efforts  \n",
       "0      3      10           8        6  \n",
       "1      2       5           4       10  \n",
       "2      8       3           7        3  \n",
       "3      8       3           3        8  \n",
       "4      3       1           1        1  \n",
       "5      3       2           2        3  \n",
       "6      5       3           8        3  \n",
       "7     10       7           8        5  \n",
       "8      1       9           9        5  "
      ]
     },
     "execution_count": 2,
     "metadata": {},
     "output_type": "execute_result"
    }
   ],
   "source": [
    "#9 гипотез по увеличению выручки интернет-магазина с указанными параметрами Reach, Impact, Confidence, Effort\n",
    "h = pd.read_csv('/datasets/hypothesis.csv')\n",
    "h.head(9)"
   ]
  },
  {
   "cell_type": "code",
   "execution_count": 3,
   "metadata": {},
   "outputs": [
    {
     "data": {
      "text/html": [
       "<div>\n",
       "<style scoped>\n",
       "    .dataframe tbody tr th:only-of-type {\n",
       "        vertical-align: middle;\n",
       "    }\n",
       "\n",
       "    .dataframe tbody tr th {\n",
       "        vertical-align: top;\n",
       "    }\n",
       "\n",
       "    .dataframe thead th {\n",
       "        text-align: right;\n",
       "    }\n",
       "</style>\n",
       "<table border=\"1\" class=\"dataframe\">\n",
       "  <thead>\n",
       "    <tr style=\"text-align: right;\">\n",
       "      <th></th>\n",
       "      <th>transactionId</th>\n",
       "      <th>visitorId</th>\n",
       "      <th>date</th>\n",
       "      <th>revenue</th>\n",
       "      <th>group</th>\n",
       "    </tr>\n",
       "  </thead>\n",
       "  <tbody>\n",
       "    <tr>\n",
       "      <th>0</th>\n",
       "      <td>3667963787</td>\n",
       "      <td>3312258926</td>\n",
       "      <td>2019-08-15</td>\n",
       "      <td>1650</td>\n",
       "      <td>B</td>\n",
       "    </tr>\n",
       "    <tr>\n",
       "      <th>1</th>\n",
       "      <td>2804400009</td>\n",
       "      <td>3642806036</td>\n",
       "      <td>2019-08-15</td>\n",
       "      <td>730</td>\n",
       "      <td>B</td>\n",
       "    </tr>\n",
       "    <tr>\n",
       "      <th>2</th>\n",
       "      <td>2961555356</td>\n",
       "      <td>4069496402</td>\n",
       "      <td>2019-08-15</td>\n",
       "      <td>400</td>\n",
       "      <td>A</td>\n",
       "    </tr>\n",
       "    <tr>\n",
       "      <th>3</th>\n",
       "      <td>3797467345</td>\n",
       "      <td>1196621759</td>\n",
       "      <td>2019-08-15</td>\n",
       "      <td>9759</td>\n",
       "      <td>B</td>\n",
       "    </tr>\n",
       "    <tr>\n",
       "      <th>4</th>\n",
       "      <td>2282983706</td>\n",
       "      <td>2322279887</td>\n",
       "      <td>2019-08-15</td>\n",
       "      <td>2308</td>\n",
       "      <td>B</td>\n",
       "    </tr>\n",
       "  </tbody>\n",
       "</table>\n",
       "</div>"
      ],
      "text/plain": [
       "   transactionId   visitorId        date  revenue group\n",
       "0     3667963787  3312258926  2019-08-15     1650     B\n",
       "1     2804400009  3642806036  2019-08-15      730     B\n",
       "2     2961555356  4069496402  2019-08-15      400     A\n",
       "3     3797467345  1196621759  2019-08-15     9759     B\n",
       "4     2282983706  2322279887  2019-08-15     2308     B"
      ]
     },
     "execution_count": 3,
     "metadata": {},
     "output_type": "execute_result"
    }
   ],
   "source": [
    "o = pd.read_csv('/datasets/orders.csv')\n",
    "o.head(5)"
   ]
  },
  {
   "cell_type": "code",
   "execution_count": 4,
   "metadata": {},
   "outputs": [
    {
     "data": {
      "text/html": [
       "<div>\n",
       "<style scoped>\n",
       "    .dataframe tbody tr th:only-of-type {\n",
       "        vertical-align: middle;\n",
       "    }\n",
       "\n",
       "    .dataframe tbody tr th {\n",
       "        vertical-align: top;\n",
       "    }\n",
       "\n",
       "    .dataframe thead th {\n",
       "        text-align: right;\n",
       "    }\n",
       "</style>\n",
       "<table border=\"1\" class=\"dataframe\">\n",
       "  <thead>\n",
       "    <tr style=\"text-align: right;\">\n",
       "      <th></th>\n",
       "      <th>date</th>\n",
       "      <th>group</th>\n",
       "      <th>visitors</th>\n",
       "    </tr>\n",
       "  </thead>\n",
       "  <tbody>\n",
       "    <tr>\n",
       "      <th>0</th>\n",
       "      <td>2019-08-01</td>\n",
       "      <td>A</td>\n",
       "      <td>719</td>\n",
       "    </tr>\n",
       "    <tr>\n",
       "      <th>1</th>\n",
       "      <td>2019-08-02</td>\n",
       "      <td>A</td>\n",
       "      <td>619</td>\n",
       "    </tr>\n",
       "    <tr>\n",
       "      <th>2</th>\n",
       "      <td>2019-08-03</td>\n",
       "      <td>A</td>\n",
       "      <td>507</td>\n",
       "    </tr>\n",
       "    <tr>\n",
       "      <th>3</th>\n",
       "      <td>2019-08-04</td>\n",
       "      <td>A</td>\n",
       "      <td>717</td>\n",
       "    </tr>\n",
       "    <tr>\n",
       "      <th>4</th>\n",
       "      <td>2019-08-05</td>\n",
       "      <td>A</td>\n",
       "      <td>756</td>\n",
       "    </tr>\n",
       "  </tbody>\n",
       "</table>\n",
       "</div>"
      ],
      "text/plain": [
       "         date group  visitors\n",
       "0  2019-08-01     A       719\n",
       "1  2019-08-02     A       619\n",
       "2  2019-08-03     A       507\n",
       "3  2019-08-04     A       717\n",
       "4  2019-08-05     A       756"
      ]
     },
     "execution_count": 4,
     "metadata": {},
     "output_type": "execute_result"
    }
   ],
   "source": [
    "v = pd.read_csv('/datasets/visitors.csv')\n",
    "v.head(5)"
   ]
  },
  {
   "cell_type": "code",
   "execution_count": 5,
   "metadata": {},
   "outputs": [
    {
     "name": "stdout",
     "output_type": "stream",
     "text": [
      "Датафрейм hypothesis, количество дубликатов 0\n",
      "<class 'pandas.core.frame.DataFrame'>\n",
      "RangeIndex: 9 entries, 0 to 8\n",
      "Data columns (total 5 columns):\n",
      " #   Column      Non-Null Count  Dtype \n",
      "---  ------      --------------  ----- \n",
      " 0   Hypothesis  9 non-null      object\n",
      " 1   Reach       9 non-null      int64 \n",
      " 2   Impact      9 non-null      int64 \n",
      " 3   Confidence  9 non-null      int64 \n",
      " 4   Efforts     9 non-null      int64 \n",
      "dtypes: int64(4), object(1)\n",
      "memory usage: 488.0+ bytes\n"
     ]
    },
    {
     "data": {
      "text/plain": [
       "None"
      ]
     },
     "metadata": {},
     "output_type": "display_data"
    },
    {
     "name": "stdout",
     "output_type": "stream",
     "text": [
      "- - - - - - - - - - - - - - - - - - - - - - - - - - - - - - - - - - - - - - - - - - - - - - - - - - \n",
      "Датафрейм orders, количество дубликатов 0\n",
      "<class 'pandas.core.frame.DataFrame'>\n",
      "RangeIndex: 1197 entries, 0 to 1196\n",
      "Data columns (total 5 columns):\n",
      " #   Column         Non-Null Count  Dtype \n",
      "---  ------         --------------  ----- \n",
      " 0   transactionId  1197 non-null   int64 \n",
      " 1   visitorId      1197 non-null   int64 \n",
      " 2   date           1197 non-null   object\n",
      " 3   revenue        1197 non-null   int64 \n",
      " 4   group          1197 non-null   object\n",
      "dtypes: int64(3), object(2)\n",
      "memory usage: 46.9+ KB\n"
     ]
    },
    {
     "data": {
      "text/plain": [
       "None"
      ]
     },
     "metadata": {},
     "output_type": "display_data"
    },
    {
     "name": "stdout",
     "output_type": "stream",
     "text": [
      "- - - - - - - - - - - - - - - - - - - - - - - - - - - - - - - - - - - - - - - - - - - - - - - - - - \n",
      "Датафрейм visitors, количество дубликатов 0\n",
      "<class 'pandas.core.frame.DataFrame'>\n",
      "RangeIndex: 62 entries, 0 to 61\n",
      "Data columns (total 3 columns):\n",
      " #   Column    Non-Null Count  Dtype \n",
      "---  ------    --------------  ----- \n",
      " 0   date      62 non-null     object\n",
      " 1   group     62 non-null     object\n",
      " 2   visitors  62 non-null     int64 \n",
      "dtypes: int64(1), object(2)\n",
      "memory usage: 1.6+ KB\n"
     ]
    },
    {
     "data": {
      "text/plain": [
       "None"
      ]
     },
     "metadata": {},
     "output_type": "display_data"
    },
    {
     "name": "stdout",
     "output_type": "stream",
     "text": [
      "- - - - - - - - - - - - - - - - - - - - - - - - - - - - - - - - - - - - - - - - - - - - - - - - - - \n"
     ]
    }
   ],
   "source": [
    "d = {'hypothesis' : h, 'orders' : o, 'visitors' : v}\n",
    "for a, i in d.items():\n",
    "    print(f'Датафрейм {a}, количество дубликатов {i.duplicated().sum()}')\n",
    "    display(i.info())\n",
    "    print('- ' * 50)"
   ]
  },
  {
   "cell_type": "code",
   "execution_count": 6,
   "metadata": {},
   "outputs": [],
   "source": [
    "for i in [h, o, v]:\n",
    "    i.columns = [x.lower().replace(' ', '_') for x in i.columns.values]"
   ]
  },
  {
   "cell_type": "code",
   "execution_count": 7,
   "metadata": {},
   "outputs": [],
   "source": [
    "#Преобразуем время\n",
    "o['date'] = pd.to_datetime(o['date']).dt.date\n",
    "v['date'] = pd.to_datetime(v['date']).dt.date"
   ]
  },
  {
   "cell_type": "markdown",
   "metadata": {},
   "source": [
    "## Приоритизация гипотез"
   ]
  },
  {
   "cell_type": "markdown",
   "metadata": {},
   "source": [
    "\n",
    "**Чем отличаются фреймворки ICE и RICE?**\n",
    "\n",
    "**ICE**\n",
    "\n",
    "Impact - влияние на пользователей\n",
    "Confidence - уверенность влияния на пользователей\n",
    "Efforts - трудозатраты компании\n",
    "\n",
    "**RICE**\n",
    "\n",
    "Reach - люди и события задействованные за определенное время\n",
    "\n",
    "**Основное отличие заключается в том, что метод RICE скоринга предполагает ещё и оценку охвата, т.е. предполагаемой целевой аудитории проекта.**"
   ]
  },
  {
   "cell_type": "markdown",
   "metadata": {},
   "source": [
    "### Фреймфорк ICE"
   ]
  },
  {
   "cell_type": "code",
   "execution_count": 8,
   "metadata": {},
   "outputs": [
    {
     "data": {
      "text/html": [
       "<div>\n",
       "<style scoped>\n",
       "    .dataframe tbody tr th:only-of-type {\n",
       "        vertical-align: middle;\n",
       "    }\n",
       "\n",
       "    .dataframe tbody tr th {\n",
       "        vertical-align: top;\n",
       "    }\n",
       "\n",
       "    .dataframe thead th {\n",
       "        text-align: right;\n",
       "    }\n",
       "</style>\n",
       "<table border=\"1\" class=\"dataframe\">\n",
       "  <thead>\n",
       "    <tr style=\"text-align: right;\">\n",
       "      <th></th>\n",
       "      <th>hypothesis</th>\n",
       "      <th>ICE</th>\n",
       "    </tr>\n",
       "  </thead>\n",
       "  <tbody>\n",
       "    <tr>\n",
       "      <th>8</th>\n",
       "      <td>Запустить акцию, дающую скидку на товар в день рождения</td>\n",
       "      <td>16.20</td>\n",
       "    </tr>\n",
       "    <tr>\n",
       "      <th>0</th>\n",
       "      <td>Добавить два новых канала привлечения трафика, что позволит привлекать на 30% больше пользователей</td>\n",
       "      <td>13.33</td>\n",
       "    </tr>\n",
       "    <tr>\n",
       "      <th>7</th>\n",
       "      <td>Добавить форму подписки на все основные страницы, чтобы собрать базу клиентов для email-рассылок</td>\n",
       "      <td>11.20</td>\n",
       "    </tr>\n",
       "    <tr>\n",
       "      <th>6</th>\n",
       "      <td>Показать на главной странице баннеры с актуальными акциями и распродажами, чтобы увеличить конверсию</td>\n",
       "      <td>8.00</td>\n",
       "    </tr>\n",
       "    <tr>\n",
       "      <th>2</th>\n",
       "      <td>Добавить блоки рекомендаций товаров на сайт интернет магазина, чтобы повысить конверсию и средний чек заказа</td>\n",
       "      <td>7.00</td>\n",
       "    </tr>\n",
       "    <tr>\n",
       "      <th>1</th>\n",
       "      <td>Запустить собственную службу доставки, что сократит срок доставки заказов</td>\n",
       "      <td>2.00</td>\n",
       "    </tr>\n",
       "    <tr>\n",
       "      <th>5</th>\n",
       "      <td>Добавить страницу отзывов клиентов о магазине, что позволит увеличить количество заказов</td>\n",
       "      <td>1.33</td>\n",
       "    </tr>\n",
       "    <tr>\n",
       "      <th>3</th>\n",
       "      <td>Изменить структура категорий, что увеличит конверсию, т.к. пользователи быстрее найдут нужный товар</td>\n",
       "      <td>1.12</td>\n",
       "    </tr>\n",
       "    <tr>\n",
       "      <th>4</th>\n",
       "      <td>Изменить цвет фона главной страницы, чтобы увеличить вовлеченность пользователей</td>\n",
       "      <td>1.00</td>\n",
       "    </tr>\n",
       "  </tbody>\n",
       "</table>\n",
       "</div>"
      ],
      "text/plain": [
       "                                                                                                     hypothesis  \\\n",
       "8                                                       Запустить акцию, дающую скидку на товар в день рождения   \n",
       "0            Добавить два новых канала привлечения трафика, что позволит привлекать на 30% больше пользователей   \n",
       "7              Добавить форму подписки на все основные страницы, чтобы собрать базу клиентов для email-рассылок   \n",
       "6          Показать на главной странице баннеры с актуальными акциями и распродажами, чтобы увеличить конверсию   \n",
       "2  Добавить блоки рекомендаций товаров на сайт интернет магазина, чтобы повысить конверсию и средний чек заказа   \n",
       "1                                     Запустить собственную службу доставки, что сократит срок доставки заказов   \n",
       "5                      Добавить страницу отзывов клиентов о магазине, что позволит увеличить количество заказов   \n",
       "3           Изменить структура категорий, что увеличит конверсию, т.к. пользователи быстрее найдут нужный товар   \n",
       "4                              Изменить цвет фона главной страницы, чтобы увеличить вовлеченность пользователей   \n",
       "\n",
       "    ICE  \n",
       "8 16.20  \n",
       "0 13.33  \n",
       "7 11.20  \n",
       "6  8.00  \n",
       "2  7.00  \n",
       "1  2.00  \n",
       "5  1.33  \n",
       "3  1.12  \n",
       "4  1.00  "
      ]
     },
     "metadata": {},
     "output_type": "display_data"
    }
   ],
   "source": [
    "h['ICE'] = h['impact'] * h['confidence'] / h['efforts']\n",
    "\n",
    "display(h[['hypothesis', 'ICE']].sort_values(by='ICE', ascending=False))"
   ]
  },
  {
   "cell_type": "markdown",
   "metadata": {},
   "source": [
    "### Фреймфорк RICE"
   ]
  },
  {
   "cell_type": "code",
   "execution_count": 9,
   "metadata": {},
   "outputs": [
    {
     "data": {
      "text/html": [
       "<div>\n",
       "<style scoped>\n",
       "    .dataframe tbody tr th:only-of-type {\n",
       "        vertical-align: middle;\n",
       "    }\n",
       "\n",
       "    .dataframe tbody tr th {\n",
       "        vertical-align: top;\n",
       "    }\n",
       "\n",
       "    .dataframe thead th {\n",
       "        text-align: right;\n",
       "    }\n",
       "</style>\n",
       "<table border=\"1\" class=\"dataframe\">\n",
       "  <thead>\n",
       "    <tr style=\"text-align: right;\">\n",
       "      <th></th>\n",
       "      <th>hypothesis</th>\n",
       "      <th>RICE</th>\n",
       "    </tr>\n",
       "  </thead>\n",
       "  <tbody>\n",
       "    <tr>\n",
       "      <th>7</th>\n",
       "      <td>Добавить форму подписки на все основные страницы, чтобы собрать базу клиентов для email-рассылок</td>\n",
       "      <td>112.00</td>\n",
       "    </tr>\n",
       "    <tr>\n",
       "      <th>2</th>\n",
       "      <td>Добавить блоки рекомендаций товаров на сайт интернет магазина, чтобы повысить конверсию и средний чек заказа</td>\n",
       "      <td>56.00</td>\n",
       "    </tr>\n",
       "    <tr>\n",
       "      <th>0</th>\n",
       "      <td>Добавить два новых канала привлечения трафика, что позволит привлекать на 30% больше пользователей</td>\n",
       "      <td>40.00</td>\n",
       "    </tr>\n",
       "    <tr>\n",
       "      <th>6</th>\n",
       "      <td>Показать на главной странице баннеры с актуальными акциями и распродажами, чтобы увеличить конверсию</td>\n",
       "      <td>40.00</td>\n",
       "    </tr>\n",
       "    <tr>\n",
       "      <th>8</th>\n",
       "      <td>Запустить акцию, дающую скидку на товар в день рождения</td>\n",
       "      <td>16.20</td>\n",
       "    </tr>\n",
       "    <tr>\n",
       "      <th>3</th>\n",
       "      <td>Изменить структура категорий, что увеличит конверсию, т.к. пользователи быстрее найдут нужный товар</td>\n",
       "      <td>9.00</td>\n",
       "    </tr>\n",
       "    <tr>\n",
       "      <th>1</th>\n",
       "      <td>Запустить собственную службу доставки, что сократит срок доставки заказов</td>\n",
       "      <td>4.00</td>\n",
       "    </tr>\n",
       "    <tr>\n",
       "      <th>5</th>\n",
       "      <td>Добавить страницу отзывов клиентов о магазине, что позволит увеличить количество заказов</td>\n",
       "      <td>4.00</td>\n",
       "    </tr>\n",
       "    <tr>\n",
       "      <th>4</th>\n",
       "      <td>Изменить цвет фона главной страницы, чтобы увеличить вовлеченность пользователей</td>\n",
       "      <td>3.00</td>\n",
       "    </tr>\n",
       "  </tbody>\n",
       "</table>\n",
       "</div>"
      ],
      "text/plain": [
       "                                                                                                     hypothesis  \\\n",
       "7              Добавить форму подписки на все основные страницы, чтобы собрать базу клиентов для email-рассылок   \n",
       "2  Добавить блоки рекомендаций товаров на сайт интернет магазина, чтобы повысить конверсию и средний чек заказа   \n",
       "0            Добавить два новых канала привлечения трафика, что позволит привлекать на 30% больше пользователей   \n",
       "6          Показать на главной странице баннеры с актуальными акциями и распродажами, чтобы увеличить конверсию   \n",
       "8                                                       Запустить акцию, дающую скидку на товар в день рождения   \n",
       "3           Изменить структура категорий, что увеличит конверсию, т.к. пользователи быстрее найдут нужный товар   \n",
       "1                                     Запустить собственную службу доставки, что сократит срок доставки заказов   \n",
       "5                      Добавить страницу отзывов клиентов о магазине, что позволит увеличить количество заказов   \n",
       "4                              Изменить цвет фона главной страницы, чтобы увеличить вовлеченность пользователей   \n",
       "\n",
       "    RICE  \n",
       "7 112.00  \n",
       "2  56.00  \n",
       "0  40.00  \n",
       "6  40.00  \n",
       "8  16.20  \n",
       "3   9.00  \n",
       "1   4.00  \n",
       "5   4.00  \n",
       "4   3.00  "
      ]
     },
     "metadata": {},
     "output_type": "display_data"
    }
   ],
   "source": [
    "h['RICE'] = h['reach'] * h['impact'] * h['confidence'] / h['efforts']\n",
    "\n",
    "display(h[['hypothesis', 'RICE']].sort_values(by='RICE', ascending=False))"
   ]
  },
  {
   "cell_type": "markdown",
   "metadata": {},
   "source": [
    "**Вывод:**\n",
    "___\n",
    "\n",
    "1. **Две гипотезы 7 и 0 находятся наиболее высоко в рейтинге обеих таблиц**\n",
    "\n",
    "* `\"Добавить форму подписки на все основные страницы, чтобы собрать базу клиентов для email-рассылок\" `\n",
    "* `\"Добавить два новых канала привлечения трафика, что позволит привлекать на 30% больше пользователей\"`\n",
    "\n",
    "Форму подписки увидят все пользователи и 30% увидят новые каналы привлечения трафика\n",
    "\n",
    "2. **Гипотезы 8 и 2**\n",
    "\n",
    "* `\"Запустить акцию, дающую скидку на товар в день рождения\"`\n",
    "\n",
    "Легче запустить, но акцию нужн еще продвинуть пользователям\n",
    "\n",
    "* `\"Добавить блоки рекомендаций товаров на сайт интернет магазина, чтобы повысить конверсию и средний чек заказа\"`\n",
    "\n",
    "Увидит большое количество пользователей, поэтому высоко находится в таблице, при этом трудозатратна, поэтому в рейтинге RICE опускается на 5 место\n",
    "___"
   ]
  },
  {
   "cell_type": "markdown",
   "metadata": {},
   "source": [
    "## Анализ A/B-теста"
   ]
  },
  {
   "cell_type": "markdown",
   "metadata": {},
   "source": [
    "Проведем анализ A/B теста\n",
    "\n",
    "Стоит проверить, есть ли пользователи, которые попали в обе группы."
   ]
  },
  {
   "cell_type": "code",
   "execution_count": 10,
   "metadata": {},
   "outputs": [
    {
     "name": "stdout",
     "output_type": "stream",
     "text": [
      "Количество пользователей в двух группах: 58\n",
      "Сумма заказов пользователей: 1558935\n",
      "Количество заказов пользователей: 181\n"
     ]
    }
   ],
   "source": [
    "dublicate = o.groupby(['visitorid']).agg({'group' : 'nunique', 'transactionid' : 'count', 'revenue' : 'sum'}).reset_index()\n",
    "print(f'Количество пользователей в двух группах: {dublicate[dublicate.group != 1][\"visitorid\"].count()}')\n",
    "print(f\"Сумма заказов пользователей: {dublicate[dublicate.group != 1]['revenue'].sum()}\")\n",
    "print(f\"Количество заказов пользователей: {dublicate[dublicate.group != 1]['transactionid'].sum()}\")"
   ]
  },
  {
   "cell_type": "markdown",
   "metadata": {},
   "source": [
    "* 58 пользователей оказались в двух группах `orders` и `visitors`. \n",
    "* 181 заказ оформили 58 пользователей на сумму от 1,5 млн. руб. \n",
    "\n",
    "Стоит исключить пользователей, т.к. мы не можем соотнести их покупки к определенному типу событий."
   ]
  },
  {
   "cell_type": "code",
   "execution_count": 11,
   "metadata": {},
   "outputs": [],
   "source": [
    "actual = list(dublicate[dublicate.group != 1]['visitorid'])\n",
    "o_good = o.query('visitorid not in @actual')"
   ]
  },
  {
   "cell_type": "code",
   "execution_count": 12,
   "metadata": {},
   "outputs": [
    {
     "data": {
      "text/plain": [
       "date       0.00\n",
       "group      0.00\n",
       "visitors   0.00\n",
       "dtype: float64"
      ]
     },
     "execution_count": 12,
     "metadata": {},
     "output_type": "execute_result"
    }
   ],
   "source": [
    "v.isna().mean().sort_values(ascending=False)"
   ]
  },
  {
   "cell_type": "code",
   "execution_count": 13,
   "metadata": {},
   "outputs": [
    {
     "data": {
      "text/plain": [
       "hypothesis   0.00\n",
       "reach        0.00\n",
       "impact       0.00\n",
       "confidence   0.00\n",
       "efforts      0.00\n",
       "ICE          0.00\n",
       "RICE         0.00\n",
       "dtype: float64"
      ]
     },
     "execution_count": 13,
     "metadata": {},
     "output_type": "execute_result"
    }
   ],
   "source": [
    "h.isna().mean().sort_values(ascending=False)"
   ]
  },
  {
   "cell_type": "code",
   "execution_count": 14,
   "metadata": {},
   "outputs": [
    {
     "data": {
      "text/plain": [
       "transactionid   0.00\n",
       "visitorid       0.00\n",
       "date            0.00\n",
       "revenue         0.00\n",
       "group           0.00\n",
       "dtype: float64"
      ]
     },
     "execution_count": 14,
     "metadata": {},
     "output_type": "execute_result"
    }
   ],
   "source": [
    "o.isna().mean().sort_values(ascending=False)"
   ]
  },
  {
   "cell_type": "markdown",
   "metadata": {},
   "source": [
    "### График кумулятивной выручки по группам"
   ]
  },
  {
   "cell_type": "code",
   "execution_count": 15,
   "metadata": {},
   "outputs": [],
   "source": [
    "o_agg_a = o_good[o_good['group'] == 'A'].groupby('date').agg({'transactionid' : 'nunique', \n",
    "                                       'visitorid' : 'nunique', \n",
    "                                       'revenue' : 'sum'}).sort_values(by='date').cumsum().reset_index()\n",
    "\n",
    "\n",
    "o_agg_b = o_good[o_good['group'] == 'B'].groupby('date').agg({'transactionid' : 'nunique', \n",
    "                                       'visitorid' : 'nunique', \n",
    "                                       'revenue' : 'sum'}).sort_values(by='date').cumsum().reset_index()"
   ]
  },
  {
   "cell_type": "code",
   "execution_count": 16,
   "metadata": {
    "scrolled": true
   },
   "outputs": [
    {
     "data": {
      "image/png": "[encoded data removed]",
      "text/plain": [
       "<Figure size 1080x360 with 1 Axes>"
      ]
     },
     "metadata": {
      "needs_background": "light"
     },
     "output_type": "display_data"
    }
   ],
   "source": [
    "fig, ax = plt.subplots(figsize=(15, 5))\n",
    "ax.plot(o_agg_a.date, o_agg_a.revenue, label = 'A')\n",
    "ax.plot(o_agg_b.date, o_agg_b.revenue, label = 'B')\n",
    "plt.legend()\n",
    "plt.xlabel('Дата')\n",
    "plt.ylabel('Выручка')\n",
    "plt.title('Кумулятивная выручка')\n",
    "plt.show()"
   ]
  },
  {
   "cell_type": "markdown",
   "metadata": {},
   "source": [
    "Кумулятивная выручка растет в обеих группах, в течение всех дней тестирования. Есть резкий скачок в группе В после 17 августа, возможно, это связано с количеством заказов или стоимости\n",
    "\n",
    "### Кумулятивный средний чек"
   ]
  },
  {
   "cell_type": "code",
   "execution_count": 17,
   "metadata": {},
   "outputs": [
    {
     "data": {
      "image/png": "[encoded data removed]",
      "text/plain": [
       "<Figure size 1080x360 with 1 Axes>"
      ]
     },
     "metadata": {
      "needs_background": "light"
     },
     "output_type": "display_data"
    }
   ],
   "source": [
    "fig, ax = plt.subplots(figsize=(15, 5))\n",
    "ax.plot(o_agg_a.date, o_agg_a.revenue / o_agg_a.transactionid, label = 'A')\n",
    "ax.plot(o_agg_b.date, o_agg_b.revenue / o_agg_b.transactionid, label = 'B')\n",
    "plt.legend()\n",
    "plt.xlabel('Дата')\n",
    "plt.ylabel('Транзакции')\n",
    "plt.title('Кумулятивный средний чек')\n",
    "plt.show()"
   ]
  },
  {
   "cell_type": "markdown",
   "metadata": {},
   "source": [
    "### Относительное изменение кумулятивного среднего чека группы B к группе A"
   ]
  },
  {
   "cell_type": "code",
   "execution_count": 18,
   "metadata": {},
   "outputs": [
    {
     "data": {
      "image/png": "[encoded data removed]",
      "text/plain": [
       "<Figure size 1080x360 with 1 Axes>"
      ]
     },
     "metadata": {
      "needs_background": "light"
     },
     "output_type": "display_data"
    }
   ],
   "source": [
    "o_agg = o_agg_a.merge(o_agg_b, on='date', how='left', suffixes=('_A', '_B'))\n",
    "o_agg['rel_rev'] = (\n",
    "    (o_agg.revenue_B  / o_agg.transactionid_B ) \n",
    "    / (o_agg.revenue_A  / o_agg.transactionid_A ) - 1\n",
    ")\n",
    "\n",
    "o_agg.plot('date', 'rel_rev', figsize=(15, 5))\n",
    "plt.title('Относительный средний чек')\n",
    "plt.ylabel('Средний чек')\n",
    "plt.xlabel('Дата')\n",
    "plt.axhline(y=0, color='black', linestyle='--') \n",
    "plt.show()"
   ]
  },
  {
   "cell_type": "markdown",
   "metadata": {},
   "source": [
    "Все еще видим резкий рост после 17 августа"
   ]
  },
  {
   "cell_type": "code",
   "execution_count": 19,
   "metadata": {},
   "outputs": [],
   "source": [
    "#добавим посетителей\n",
    "o_agg_a['v_agg_a'] = v[v['group'] == 'A']['visitors'].reset_index(drop=True).cumsum(axis=0)\n",
    "o_agg_b['v_agg_b'] = v[v['group'] == 'B']['visitors'].reset_index(drop=True).cumsum(axis=0)"
   ]
  },
  {
   "cell_type": "code",
   "execution_count": 20,
   "metadata": {},
   "outputs": [],
   "source": [
    "#конверсия\n",
    "o_agg_a['conversion_A'] = o_agg_a.transactionid / o_agg_a.v_agg_a\n",
    "o_agg_b['conversion_B'] = o_agg_b.transactionid / o_agg_b.v_agg_b"
   ]
  },
  {
   "cell_type": "code",
   "execution_count": 21,
   "metadata": {},
   "outputs": [
    {
     "data": {
      "image/png": "[encoded data removed]",
      "text/plain": [
       "<Figure size 1080x360 with 1 Axes>"
      ]
     },
     "metadata": {
      "needs_background": "light"
     },
     "output_type": "display_data"
    }
   ],
   "source": [
    "fig, ax = plt.subplots(figsize=(15, 5))\n",
    "ax.plot(o_agg_a.date, o_agg_a['conversion_A'], label = 'A')\n",
    "ax.plot(o_agg_b.date, o_agg_b['conversion_B'], label = 'B')\n",
    "plt.legend()\n",
    "plt.title('Среднее количество покупок на посетителя')\n",
    "plt.ylabel('Среднее количество покупок')\n",
    "plt.xlabel('Дата')\n",
    "plt.show()"
   ]
  },
  {
   "cell_type": "markdown",
   "metadata": {},
   "source": [
    "⭐ **Группа А.** Была на пике в период с 1 по 3 августа, затем на протяжении всего периода, держится значительно ниже группы В. \n",
    "\n",
    "⭐ **Группа В.** Есть также скачок с 1 по 3 августа, но пик приходится на 10 августа "
   ]
  },
  {
   "cell_type": "markdown",
   "metadata": {},
   "source": [
    "### Относительная конверсия"
   ]
  },
  {
   "cell_type": "code",
   "execution_count": 22,
   "metadata": {},
   "outputs": [
    {
     "data": {
      "image/png": "[encoded data removed]",
      "text/plain": [
       "<Figure size 1080x360 with 1 Axes>"
      ]
     },
     "metadata": {
      "needs_background": "light"
     },
     "output_type": "display_data"
    }
   ],
   "source": [
    "o_agg['conv'] = o_agg_b['conversion_B'] / o_agg_a['conversion_A'] - 1\n",
    "# строим график\n",
    "o_agg.plot('date', 'conv', figsize=(15, 5))\n",
    "plt.title('Относительный прирост группы B относительно группы A')\n",
    "plt.ylabel('Среднее количество покупок на посетителя')\n",
    "plt.xlabel('Дата')\n",
    "plt.axhline(y=0, color='black', linestyle='--') \n",
    "plt.show()"
   ]
  },
  {
   "cell_type": "markdown",
   "metadata": {},
   "source": [
    "Группа А по прежнему имеет показатели ниже В\n",
    "\n",
    "**Вывод**\n",
    "\n",
    "Проведя анализ графиков среднего чека и конверсии, можно сказать, что в группе B есть слишком большие значения, они влияют на увеличение среднего чека. В конце теста, конверсия стала стабильной.\n"
   ]
  },
  {
   "cell_type": "markdown",
   "metadata": {},
   "source": [
    "## Анализ выбросов"
   ]
  },
  {
   "cell_type": "markdown",
   "metadata": {},
   "source": [
    "### Заказы пользователей"
   ]
  },
  {
   "cell_type": "code",
   "execution_count": 23,
   "metadata": {},
   "outputs": [
    {
     "data": {
      "text/plain": [
       "visitorid\n",
       "3967698036    3\n",
       "249864742     3\n",
       "2108163459    3\n",
       "2988190573    3\n",
       "3908431265    3\n",
       "611059232     3\n",
       "2742574263    3\n",
       "678354126     2\n",
       "1404560065    2\n",
       "1985475298    2\n",
       "Name: transactionid, dtype: int64"
      ]
     },
     "execution_count": 23,
     "metadata": {},
     "output_type": "execute_result"
    }
   ],
   "source": [
    "o_by_user = o_good.groupby('visitorid')['transactionid'].nunique()\n",
    "o_by_user.sort_values(ascending=False).head(10)"
   ]
  },
  {
   "cell_type": "code",
   "execution_count": 24,
   "metadata": {},
   "outputs": [
    {
     "data": {
      "image/png": "[encoded data removed]",
      "text/plain": [
       "<Figure size 432x288 with 1 Axes>"
      ]
     },
     "metadata": {
      "needs_background": "light"
     },
     "output_type": "display_data"
    }
   ],
   "source": [
    "plt.scatter(pd.Series(range(0,len(o_by_user))), o_by_user)\n",
    "plt.title('Заказы пользователей')\n",
    "plt.ylabel('Количество заказов')\n",
    "plt.xlabel('Количество пользователей')\n",
    "plt.show()"
   ]
  },
  {
   "cell_type": "markdown",
   "metadata": {},
   "source": [
    "1 заказ сделало большая часть пользователей"
   ]
  },
  {
   "cell_type": "markdown",
   "metadata": {},
   "source": [
    "Граница для фильтрации по количеству заказов выбрана в размере 1 заказа"
   ]
  },
  {
   "cell_type": "code",
   "execution_count": 25,
   "metadata": {},
   "outputs": [
    {
     "name": "stdout",
     "output_type": "stream",
     "text": [
      "3.70%\n"
     ]
    }
   ],
   "source": [
    "# сколько пользователей сделали больше 1 заказа?\n",
    "print('{:.2%}'.format(len(o_by_user[o_by_user > 1]) / len(o_by_user)))"
   ]
  },
  {
   "cell_type": "markdown",
   "metadata": {},
   "source": [
    "9% пользоватей сделали более 1 заказа"
   ]
  },
  {
   "cell_type": "markdown",
   "metadata": {},
   "source": [
    "### Количество заказов на пользователя"
   ]
  },
  {
   "cell_type": "code",
   "execution_count": 26,
   "metadata": {},
   "outputs": [
    {
     "data": {
      "text/plain": [
       "count      1016.00\n",
       "mean       8300.81\n",
       "std       42121.99\n",
       "min          50.00\n",
       "5%          300.00\n",
       "50%        2955.00\n",
       "90%       17990.00\n",
       "95%       26785.00\n",
       "99%       53904.00\n",
       "max     1294500.00\n",
       "Name: revenue, dtype: float64"
      ]
     },
     "execution_count": 26,
     "metadata": {},
     "output_type": "execute_result"
    }
   ],
   "source": [
    "o_good['revenue'].describe(percentiles=[0.05, 0.50, 0.90, 0.95, 0.99])"
   ]
  },
  {
   "cell_type": "markdown",
   "metadata": {},
   "source": [
    "90-й перцентиль - 18168 руб.\n",
    "\n",
    "95-й перцентиль - 28000 руб.\n",
    "\n",
    "99-й пернцентиль - 582333 руб."
   ]
  },
  {
   "cell_type": "code",
   "execution_count": 27,
   "metadata": {},
   "outputs": [
    {
     "data": {
      "image/png": "[encoded data removed]",
      "text/plain": [
       "<Figure size 432x288 with 1 Axes>"
      ]
     },
     "metadata": {
      "needs_background": "light"
     },
     "output_type": "display_data"
    }
   ],
   "source": [
    "plt.scatter(pd.Series(range(0,len(o))), o['revenue'])\n",
    "plt.title('Количество заказов на пользователя')\n",
    "plt.ylabel('Стоимость заказа')\n",
    "plt.xlabel('Количество пользователей')\n",
    "plt.show()"
   ]
  },
  {
   "cell_type": "code",
   "execution_count": 28,
   "metadata": {},
   "outputs": [
    {
     "name": "stdout",
     "output_type": "stream",
     "text": [
      "4.26%\n"
     ]
    }
   ],
   "source": [
    "print('{:.2%}'.format(len(o_good[o_good.revenue > 27000]) / len(o)))"
   ]
  },
  {
   "cell_type": "markdown",
   "metadata": {},
   "source": [
    "Есть выброс в 1,3 млн. руб, который сместил показатели, нужно отбросить выбросы свыше 27000 руб."
   ]
  },
  {
   "cell_type": "markdown",
   "metadata": {},
   "source": [
    "## Статистический анализ"
   ]
  },
  {
   "cell_type": "markdown",
   "metadata": {},
   "source": [
    "###  Статистическая значимость по \"сырым\" данным"
   ]
  },
  {
   "cell_type": "markdown",
   "metadata": {},
   "source": [
    "В даннных есть выбросы и аномалии, используем тест Манна-Уитни для расчета статистической значимости.\n",
    "Тест Манна-Уитни используется для сравнения списков, поэтому, чтобы рассчитать среднее количество покупок на пользователя, нам потребуется двa спискa, соответствующих по длине количеству посетителей сaйтa в соответствии с рaссмaтривaемой группой, где кaждому пользователю будет соответствовать количество совершенных заказов.\n",
    "\n",
    "Подготовим данные для анализа. Первая проверка будет по сырым данным, а во второй, устраним аномалии. "
   ]
  },
  {
   "cell_type": "code",
   "execution_count": 29,
   "metadata": {},
   "outputs": [
    {
     "data": {
      "text/html": [
       "<div>\n",
       "<style scoped>\n",
       "    .dataframe tbody tr th:only-of-type {\n",
       "        vertical-align: middle;\n",
       "    }\n",
       "\n",
       "    .dataframe tbody tr th {\n",
       "        vertical-align: top;\n",
       "    }\n",
       "\n",
       "    .dataframe thead th {\n",
       "        text-align: right;\n",
       "    }\n",
       "</style>\n",
       "<table border=\"1\" class=\"dataframe\">\n",
       "  <thead>\n",
       "    <tr style=\"text-align: right;\">\n",
       "      <th></th>\n",
       "      <th>date</th>\n",
       "      <th>group</th>\n",
       "      <th>transactionid</th>\n",
       "      <th>visitorid</th>\n",
       "      <th>revenue</th>\n",
       "    </tr>\n",
       "  </thead>\n",
       "  <tbody>\n",
       "    <tr>\n",
       "      <th>0</th>\n",
       "      <td>2019-08-01</td>\n",
       "      <td>A</td>\n",
       "      <td>23</td>\n",
       "      <td>19</td>\n",
       "      <td>142779</td>\n",
       "    </tr>\n",
       "    <tr>\n",
       "      <th>1</th>\n",
       "      <td>2019-08-01</td>\n",
       "      <td>B</td>\n",
       "      <td>17</td>\n",
       "      <td>17</td>\n",
       "      <td>59758</td>\n",
       "    </tr>\n",
       "    <tr>\n",
       "      <th>2</th>\n",
       "      <td>2019-08-02</td>\n",
       "      <td>A</td>\n",
       "      <td>19</td>\n",
       "      <td>18</td>\n",
       "      <td>91602</td>\n",
       "    </tr>\n",
       "    <tr>\n",
       "      <th>3</th>\n",
       "      <td>2019-08-02</td>\n",
       "      <td>B</td>\n",
       "      <td>23</td>\n",
       "      <td>22</td>\n",
       "      <td>162043</td>\n",
       "    </tr>\n",
       "    <tr>\n",
       "      <th>4</th>\n",
       "      <td>2019-08-03</td>\n",
       "      <td>A</td>\n",
       "      <td>24</td>\n",
       "      <td>24</td>\n",
       "      <td>112473</td>\n",
       "    </tr>\n",
       "    <tr>\n",
       "      <th>5</th>\n",
       "      <td>2019-08-03</td>\n",
       "      <td>B</td>\n",
       "      <td>14</td>\n",
       "      <td>14</td>\n",
       "      <td>67049</td>\n",
       "    </tr>\n",
       "    <tr>\n",
       "      <th>6</th>\n",
       "      <td>2019-08-04</td>\n",
       "      <td>A</td>\n",
       "      <td>11</td>\n",
       "      <td>11</td>\n",
       "      <td>41176</td>\n",
       "    </tr>\n",
       "    <tr>\n",
       "      <th>7</th>\n",
       "      <td>2019-08-04</td>\n",
       "      <td>B</td>\n",
       "      <td>14</td>\n",
       "      <td>13</td>\n",
       "      <td>96890</td>\n",
       "    </tr>\n",
       "    <tr>\n",
       "      <th>8</th>\n",
       "      <td>2019-08-05</td>\n",
       "      <td>A</td>\n",
       "      <td>22</td>\n",
       "      <td>22</td>\n",
       "      <td>86383</td>\n",
       "    </tr>\n",
       "    <tr>\n",
       "      <th>9</th>\n",
       "      <td>2019-08-05</td>\n",
       "      <td>B</td>\n",
       "      <td>21</td>\n",
       "      <td>21</td>\n",
       "      <td>89908</td>\n",
       "    </tr>\n",
       "  </tbody>\n",
       "</table>\n",
       "</div>"
      ],
      "text/plain": [
       "         date group  transactionid  visitorid  revenue\n",
       "0  2019-08-01     A             23         19   142779\n",
       "1  2019-08-01     B             17         17    59758\n",
       "2  2019-08-02     A             19         18    91602\n",
       "3  2019-08-02     B             23         22   162043\n",
       "4  2019-08-03     A             24         24   112473\n",
       "5  2019-08-03     B             14         14    67049\n",
       "6  2019-08-04     A             11         11    41176\n",
       "7  2019-08-04     B             14         13    96890\n",
       "8  2019-08-05     A             22         22    86383\n",
       "9  2019-08-05     B             21         21    89908"
      ]
     },
     "execution_count": 29,
     "metadata": {},
     "output_type": "execute_result"
    }
   ],
   "source": [
    "#группировка дней и заказов\n",
    "o_date = o_good.groupby(['date', 'group']).agg({'transactionid' : 'nunique', \n",
    "                                       'visitorid' : 'nunique', \n",
    "                                       'revenue' : 'sum'}).sort_values(by=['date','group']).reset_index()\n",
    "o_date.head(10)"
   ]
  },
  {
   "cell_type": "code",
   "execution_count": 30,
   "metadata": {},
   "outputs": [],
   "source": [
    "#группа А\n",
    "\n",
    "a_data = o_agg_a[['date', 'transactionid', 'revenue', 'v_agg_a']].merge(o_date[o_date['group']=='A']\n",
    "                                                                                [['date', 'transactionid', 'revenue']], \n",
    "                  on='date', how='left')\n",
    "\n",
    "a_data = a_data.merge(v[v['group'] == 'A'][['date', 'visitors']], on='date', how='left')\n",
    "\n",
    "a_data.set_axis(['date', 'orders_agg', 'revenue_agg', 'visiters_agg', 'orders_daily', 'revenue_daily', 'visitors_daily'], \n",
    "                axis='columns', inplace=True)"
   ]
  },
  {
   "cell_type": "code",
   "execution_count": 31,
   "metadata": {},
   "outputs": [],
   "source": [
    "#группа В\n",
    "b_data = o_agg_b[['date', 'transactionid', 'revenue', 'v_agg_b']].merge(o_date[o_date['group']=='B']\n",
    "                                                                                [['date', 'transactionid', 'revenue']], \n",
    "                  on='date', how='left')\n",
    "\n",
    "\n",
    "b_data = b_data.merge(v[v['group'] == 'B'][['date', 'visitors']], on='date', how='left')\n",
    "\n",
    "b_data.set_axis(['date', 'orders_agg', 'revenue_agg', 'visiters_agg', 'orders_daily', 'revenue_daily', 'visitors_daily'], \n",
    "                axis='columns', inplace=True)"
   ]
  },
  {
   "cell_type": "code",
   "execution_count": 32,
   "metadata": {},
   "outputs": [],
   "source": [
    "o_users_a = (\n",
    "    o[o['group'] == 'A'].groupby('visitorid', as_index=False)\n",
    "    .agg({'transactionid': pd.Series.nunique})\n",
    ")\n",
    "\n",
    "o_users_b = (\n",
    "    o[o['group'] == 'B'].groupby('visitorid', as_index=False)\n",
    "    .agg({'transactionid': pd.Series.nunique})\n",
    ")\n",
    "\n",
    "sample_a = pd.concat([o_users_a['transactionid'], \n",
    "                     pd.Series(0,index=np.arange(a_data['visitors_daily'].sum() - len(o_users_a['transactionid'])), \n",
    "                               name='orders')], axis=0)\n",
    "\n",
    "sample_b = pd.concat([o_users_b['transactionid'], \n",
    "                     pd.Series(0,index=np.arange(b_data['visitors_daily'].sum() - len(o_users_b['transactionid'])), \n",
    "                               name='orders')], axis=0)"
   ]
  },
  {
   "cell_type": "markdown",
   "metadata": {},
   "source": [
    "**Сформулируем нулевую и альтернативную гипотезу:**\n",
    "\n",
    "\n",
    "▶ **H0** - статистически значимых различий в среднем количестве покупок на сырых данных между группами нет.\n",
    "\n",
    "▶ **H1** - статистически значимые различия в среднем количестве покупок на сырых данных между группами есть.\n",
    "\n",
    "Установим уровень значимости - 5%, `alpha = 0.05`.\n",
    "Если минимиальный уровень значимости будет меньше того, который был указан, то H0 (нулевая гипотеза) не принимается, а если больше, то мы принимаем нулевую гипотезу.\n",
    "\n",
    "Для проверки гипотез используем критерий Манна-Уитни, так как в данных есть выбросы."
   ]
  },
  {
   "cell_type": "code",
   "execution_count": 33,
   "metadata": {},
   "outputs": [
    {
     "name": "stdout",
     "output_type": "stream",
     "text": [
      "Минимальный уровень значимости при оценке сырых данных: 0.017, нулевая гипотеза отвергнута\n",
      "Относительный прирост среднего количества покупок на пользователя группы B к группе A: 13.81%\n"
     ]
    }
   ],
   "source": [
    "#задаем уровень статистической значимости\n",
    "alpha=0.05\n",
    "\n",
    "#проводим тест и получаем значение минимального уровня значимости\n",
    "p_value = st.mannwhitneyu(sample_a, sample_b)[1]\n",
    "\n",
    "#сравниваем с заданным уровнем значимости и анализируем результаты\n",
    "if p_value < alpha:\n",
    "    print(\n",
    "        'Минимальный уровень значимости при оценке сырых данных: {:.3f}, нулевая гипотеза отвергнута'\n",
    "        .format(p_value)\n",
    "    )\n",
    "    print(\n",
    "        'Относительный прирост среднего количества покупок на пользователя группы B к группе A: {:.2%}'\n",
    "        .format(sample_b.mean() / sample_a.mean() - 1)\n",
    "    )\n",
    "else:\n",
    "    print(\n",
    "        'Минимальный уровень значимости при оценке сырых данных: {:.3f}, нулевая гипотеза не может быть отвергнута'\n",
    "        .format(p_value)\n",
    "    )\n",
    "    print(\n",
    "        'Относительный прирост среднего количества покупок на пользователя группы B к группе A: {:.2%}'\n",
    "        .format(sample_a.mean() / sample_a.mean() - 1)\n",
    "    )\n",
    "    "
   ]
  },
  {
   "cell_type": "markdown",
   "metadata": {},
   "source": [
    "Статистически значимые различия есть, количество покупок в группах неравномерно. В отношении группы В к группе А, есть прирост на 13,8%.\n",
    "\n",
    "**Сформулируем нулевую и альтернативную гипотезу:**\n",
    "\n",
    "▶ **H0** - статистически значимых различий в среднем чеке на сырых данных между группами нет.\n",
    "\n",
    "▶ **H1** - статистически значимые различия в среднем чеке на сырых данных между группами есть."
   ]
  },
  {
   "cell_type": "code",
   "execution_count": 34,
   "metadata": {},
   "outputs": [
    {
     "name": "stdout",
     "output_type": "stream",
     "text": [
      "Минимальный уровень значимости при оценке отфильтрованных данных: 0.829, нулевая гипотеза не может быть отвергнута\n",
      "Относительный прирост среднего количества заказов на пользователя группы B к группе A: 28.66%\n"
     ]
    }
   ],
   "source": [
    "#проводим тест и получаем значение минимального уровня значимости\n",
    "p_value = st.mannwhitneyu(o_good[o_good['group']=='A']['revenue'], \n",
    "                                       o_good[o_good['group']=='B']['revenue'])[1]\n",
    "\n",
    "#сравниваем с заданным уровнем значимости и анализируем результаты\n",
    "if p_value < alpha:\n",
    "    print(\n",
    "        'Минимальный уровень значимости при оценке отфильтрованных данных: {:.3f}, нулевая гипотеза отвергнута'\n",
    "        .format(p_value)\n",
    "    )\n",
    "    print(\n",
    "        'Относительный прирост среднего количества заказов на пользователя группы B к группе A: {:.2%}'\n",
    "        .format(o_good[o_good['group']=='B']['revenue'].mean()/\n",
    "                       o_good[o_good['group']=='A']['revenue'].mean()-1)\n",
    "    )\n",
    "else:\n",
    "    print(\n",
    "        'Минимальный уровень значимости при оценке отфильтрованных данных: {:.3f}, нулевая гипотеза не может быть отвергнута'\n",
    "        .format(p_value)\n",
    "    )\n",
    "    print(\n",
    "        'Относительный прирост среднего количества заказов на пользователя группы B к группе A: {:.2%}'\n",
    "        .format(o_good[o_good['group']=='B']['revenue'].mean()/\n",
    "                       o_good[o_good['group']=='A']['revenue'].mean()-1)\n",
    "    )"
   ]
  },
  {
   "cell_type": "markdown",
   "metadata": {},
   "source": [
    "Нулевую гипотезу не отвергаем - между группами нет статистически значимых различий. По итогу проведения теста относительное изменение среднего чека составило 28,7%."
   ]
  },
  {
   "cell_type": "markdown",
   "metadata": {},
   "source": [
    "###  Статистическая значимость по очищенным данным\n"
   ]
  },
  {
   "cell_type": "markdown",
   "metadata": {},
   "source": [
    "#### Фильтруем аномалии\n",
    "Уберем выбросы - пользователь сделал больше 1 заказа или оформил заказ дороже 27000 руб."
   ]
  },
  {
   "cell_type": "code",
   "execution_count": 35,
   "metadata": {},
   "outputs": [],
   "source": [
    "# пользователи с несколькими заказами\n",
    "\n",
    "o_filt = o_good.groupby('visitorid')['transactionid'].count().reset_index()\n",
    "o_filt = o_filt[o_filt['transactionid'] > 1]['visitorid']\n",
    "\n",
    "# пользователи с дорогими заказами\n",
    "\n",
    "expensive_orders = o_good[o_good['revenue'] > 26785]['visitorid'].reset_index(drop=True)\n",
    "\n",
    "# объединим данные\n",
    "a_b_users = pd.Series((list(o_filt) + list(expensive_orders)), name='visitorsid').drop_duplicates()"
   ]
  },
  {
   "cell_type": "markdown",
   "metadata": {},
   "source": [
    "#### Относительные потери\n",
    "\n",
    "Узнаем сколько у нас аномальных пользователей и какой процент они составляют от общего числа уникальных пользователей"
   ]
  },
  {
   "cell_type": "code",
   "execution_count": 36,
   "metadata": {},
   "outputs": [
    {
     "data": {
      "text/plain": [
       "86"
      ]
     },
     "execution_count": 36,
     "metadata": {},
     "output_type": "execute_result"
    }
   ],
   "source": [
    "len(a_b_users)"
   ]
  },
  {
   "cell_type": "markdown",
   "metadata": {},
   "source": [
    "86 аномальных пользователей "
   ]
  },
  {
   "cell_type": "code",
   "execution_count": 37,
   "metadata": {},
   "outputs": [
    {
     "data": {
      "text/plain": [
       "'8.34'"
      ]
     },
     "execution_count": 37,
     "metadata": {},
     "output_type": "execute_result"
    }
   ],
   "source": [
    "format(len(a_b_users)/len(set(o['visitorid']))*100, '.2f')"
   ]
  },
  {
   "cell_type": "markdown",
   "metadata": {},
   "source": [
    "Относительные потери составили 8.34% от общего количества уникальных пользователей из таблицы `orders`"
   ]
  },
  {
   "cell_type": "markdown",
   "metadata": {},
   "source": [
    "#### Cреднее количество покупок пользователя по «очищенным» данным"
   ]
  },
  {
   "cell_type": "code",
   "execution_count": 38,
   "metadata": {},
   "outputs": [],
   "source": [
    "group_A_filt = pd.concat([o_users_a.query('not visitorid in @a_b_users')['transactionid'], \n",
    "                          pd.Series(0, index=np.arange(a_data['visitors_daily'].sum() - len(o_users_a['transactionid'])), \n",
    "                                    name='orders')], axis=0)\n",
    "group_B_filt = pd.concat([o_users_b.query('not visitorid in @a_b_users')['transactionid'], \n",
    "                          pd.Series(0, index=np.arange(b_data['visitors_daily'].sum() - len(o_users_b['transactionid'])), \n",
    "                                    name='orders')], axis=0)"
   ]
  },
  {
   "cell_type": "markdown",
   "metadata": {},
   "source": [
    "**Сформулируем нулевую и альтернативную гипотезу:**\n",
    "\n",
    "▶ **H0** - статистически значимых различий в среднем чеке на очищенных данных между группами нет.\n",
    "\n",
    "▶ **H1** - статистически значимые различия в среднем чеке на очищенных данных между группами есть."
   ]
  },
  {
   "cell_type": "code",
   "execution_count": 39,
   "metadata": {},
   "outputs": [
    {
     "name": "stdout",
     "output_type": "stream",
     "text": [
      "Минимальный уровень значимости при оценке данных: 0.024\n",
      "Относительный прирост среднего количества заказов на пользователя группы B к группе A: 14.70%\n"
     ]
    }
   ],
   "source": [
    "print('Минимальный уровень значимости при оценке данных: {:.3f}'.format(st.mannwhitneyu(group_A_filt, group_B_filt)[1]))\n",
    "print('Относительный прирост среднего количества заказов на пользователя группы B к группе A: {:.2%}'.format(group_B_filt.mean()/group_A_filt.mean()-1))"
   ]
  },
  {
   "cell_type": "markdown",
   "metadata": {},
   "source": [
    "Гипотеза об отсуствии различия среднего количества заказов между группами отвергнута.\n",
    "\n",
    "Из рассчитанного относительного различия группы В к группе А мы видим прирост в контролируемой группе на 14.7%."
   ]
  },
  {
   "cell_type": "markdown",
   "metadata": {},
   "source": [
    "#### Статистическая значимость различий в среднем чеке заказа по «очищенным» данным."
   ]
  },
  {
   "cell_type": "code",
   "execution_count": 40,
   "metadata": {},
   "outputs": [
    {
     "name": "stdout",
     "output_type": "stream",
     "text": [
      "Минимальный уровень значимости при оценке данных: 0.727\n",
      "Относительный прирост среднего количества среднего чека группы B к группе A: -3.37%\n"
     ]
    }
   ],
   "source": [
    "print('Минимальный уровень значимости при оценке данных: {:.3f}'.format(st.mannwhitneyu(o_good.query('group == \"A\" and not visitorid in @a_b_users')['revenue'], \n",
    "                                      o_good.query('group == \"B\" and not visitorid in @a_b_users')['revenue'])[1]))\n",
    "\n",
    "print('Относительный прирост среднего количества среднего чека группы B к группе A: {:.2%}'.format(o_good.query('group == \"B\" and not visitorid in @a_b_users')['revenue'].mean() / \n",
    "                       o_good.query('group == \"A\" and not visitorid in @a_b_users')['revenue'].mean() - 1))"
   ]
  },
  {
   "cell_type": "markdown",
   "metadata": {},
   "source": [
    "Нулевую гипотезу опровергнуть не удалось, статистически значимых различий в среднем чеке между группами нет. \n",
    "\n",
    "По итогу проведения теста относительное изменение среднего чека уменьшился на -3.37%."
   ]
  },
  {
   "cell_type": "markdown",
   "metadata": {},
   "source": [
    "## Принятие решения по результатам теста"
   ]
  },
  {
   "cell_type": "markdown",
   "metadata": {},
   "source": [
    "<div style=\"border: solid bisque 2px; padding: 20px; font-size: 16px;\"> По условиям проекта, необходимо принять решение по результатам теста:\n",
    "    \n",
    "    \n",
    "1. Остановить тест, зафиксировать победу одной из групп.\n",
    "2. Остановить тест, зафиксировать отсутствие различий между группами.\n",
    "3. Продолжить тест.\n",
    "\n",
    "Фильтрация \"сырых\" данных от аномалий, мало повлияла на график относительного кумулятивного среднего количества оформления заказов на пользователя. По результатам можно увидеть, что группа В, чаще становится покупателями магазина.\n",
    "    \n",
    "Итоговое решение - остановить тест, зафиксировать победу группы В\n",
    "    \n",
    "</div>"
   ]
  },
  {
   "cell_type": "markdown",
   "metadata": {},
   "source": [
    "## Вывод"
   ]
  },
  {
   "cell_type": "markdown",
   "metadata": {},
   "source": [
    "<div style=\"border: solid green 2px; padding: 20px\"> \n",
    "<b> </b>\n",
    "    \n",
    "**Цель исследования** - анализ 9 гипотез для увеличения выручки интернет-магазина\n",
    "___\n",
    "\n",
    "**Вывод**\n",
    "\n",
    "* Между сырыми данными и отфильтрованными, есть значимая разница конверсии\n",
    "\n",
    "* При анализе среднего чека, нет статистически значимого различия\n",
    "    \n",
    "* По графику конверсии, группа B показала результаты лучше группы A\n",
    "    \n",
    "* Построив график среднего чека по сырым данным, мы смогли увидеть аномальные значения и отфильтровать их\n",
    "    \n",
    "* После фильтрации средний чек не имел различий между группами\n",
    "    \n",
    "</div>"
   ]
  }
 ],
 "metadata": {
  "ExecuteTimeLog": [
   {
    "duration": 1248,
    "start_time": "2023-01-22T21:44:57.765Z"
   },
   {
    "duration": 4,
    "start_time": "2023-01-22T21:45:04.206Z"
   },
   {
    "duration": 68,
    "start_time": "2023-01-22T21:46:30.277Z"
   },
   {
    "duration": 26,
    "start_time": "2023-01-22T21:46:50.829Z"
   },
   {
    "duration": 26,
    "start_time": "2023-01-22T21:47:41.032Z"
   },
   {
    "duration": 24,
    "start_time": "2023-01-22T21:48:21.192Z"
   },
   {
    "duration": 27,
    "start_time": "2023-01-22T21:48:29.944Z"
   },
   {
    "duration": 101,
    "start_time": "2023-01-22T21:49:54.418Z"
   },
   {
    "duration": 117,
    "start_time": "2023-01-22T21:49:58.418Z"
   },
   {
    "duration": 69,
    "start_time": "2023-01-22T21:50:19.519Z"
   },
   {
    "duration": 3,
    "start_time": "2023-01-22T22:08:11.685Z"
   },
   {
    "duration": 28,
    "start_time": "2023-01-22T22:08:37.306Z"
   },
   {
    "duration": 6,
    "start_time": "2023-01-22T22:11:41.830Z"
   },
   {
    "duration": 45,
    "start_time": "2023-01-23T21:44:55.051Z"
   },
   {
    "duration": 1286,
    "start_time": "2023-01-23T21:45:01.001Z"
   },
   {
    "duration": 92,
    "start_time": "2023-01-23T21:45:02.289Z"
   },
   {
    "duration": 98,
    "start_time": "2023-01-23T21:45:02.383Z"
   },
   {
    "duration": 69,
    "start_time": "2023-01-23T21:45:02.483Z"
   },
   {
    "duration": 3,
    "start_time": "2023-01-23T21:45:02.553Z"
   },
   {
    "duration": 30,
    "start_time": "2023-01-23T21:45:02.558Z"
   },
   {
    "duration": 7,
    "start_time": "2023-01-23T21:45:02.590Z"
   },
   {
    "duration": 14,
    "start_time": "2023-01-23T21:45:02.598Z"
   },
   {
    "duration": 103,
    "start_time": "2023-01-23T21:45:02.614Z"
   },
   {
    "duration": 12,
    "start_time": "2023-01-23T21:45:48.428Z"
   },
   {
    "duration": 66,
    "start_time": "2023-01-23T21:46:53.926Z"
   },
   {
    "duration": 148,
    "start_time": "2023-01-23T21:47:06.485Z"
   },
   {
    "duration": 12,
    "start_time": "2023-01-23T21:48:12.412Z"
   },
   {
    "duration": 15,
    "start_time": "2023-01-23T21:48:40.065Z"
   },
   {
    "duration": 15,
    "start_time": "2023-01-23T21:49:00.529Z"
   },
   {
    "duration": 4,
    "start_time": "2023-01-23T21:49:03.156Z"
   },
   {
    "duration": 49,
    "start_time": "2023-01-23T21:49:03.162Z"
   },
   {
    "duration": 43,
    "start_time": "2023-01-23T21:49:03.213Z"
   },
   {
    "duration": 20,
    "start_time": "2023-01-23T21:49:03.258Z"
   },
   {
    "duration": 4,
    "start_time": "2023-01-23T21:49:03.279Z"
   },
   {
    "duration": 30,
    "start_time": "2023-01-23T21:49:03.284Z"
   },
   {
    "duration": 8,
    "start_time": "2023-01-23T21:49:03.316Z"
   },
   {
    "duration": 14,
    "start_time": "2023-01-23T21:49:03.325Z"
   },
   {
    "duration": 14,
    "start_time": "2023-01-23T21:49:03.340Z"
   },
   {
    "duration": 15,
    "start_time": "2023-01-23T21:49:03.381Z"
   },
   {
    "duration": 0,
    "start_time": "2023-01-23T21:49:03.398Z"
   },
   {
    "duration": 0,
    "start_time": "2023-01-23T21:49:03.399Z"
   },
   {
    "duration": 0,
    "start_time": "2023-01-23T21:49:03.400Z"
   },
   {
    "duration": 15,
    "start_time": "2023-01-23T21:49:19.525Z"
   },
   {
    "duration": 4,
    "start_time": "2023-01-23T21:49:21.946Z"
   },
   {
    "duration": 46,
    "start_time": "2023-01-23T21:49:21.954Z"
   },
   {
    "duration": 42,
    "start_time": "2023-01-23T21:49:22.002Z"
   },
   {
    "duration": 20,
    "start_time": "2023-01-23T21:49:22.045Z"
   },
   {
    "duration": 3,
    "start_time": "2023-01-23T21:49:22.067Z"
   },
   {
    "duration": 51,
    "start_time": "2023-01-23T21:49:22.073Z"
   },
   {
    "duration": 6,
    "start_time": "2023-01-23T21:49:22.125Z"
   },
   {
    "duration": 29,
    "start_time": "2023-01-23T21:49:22.132Z"
   },
   {
    "duration": 35,
    "start_time": "2023-01-23T21:49:22.163Z"
   },
   {
    "duration": 24,
    "start_time": "2023-01-23T21:49:22.200Z"
   },
   {
    "duration": 0,
    "start_time": "2023-01-23T21:49:22.226Z"
   },
   {
    "duration": 0,
    "start_time": "2023-01-23T21:49:22.226Z"
   },
   {
    "duration": 0,
    "start_time": "2023-01-23T21:49:22.228Z"
   },
   {
    "duration": 8,
    "start_time": "2023-01-23T21:49:55.662Z"
   },
   {
    "duration": 3,
    "start_time": "2023-01-23T21:50:09.184Z"
   },
   {
    "duration": 33,
    "start_time": "2023-01-23T21:50:09.191Z"
   },
   {
    "duration": 42,
    "start_time": "2023-01-23T21:50:09.226Z"
   },
   {
    "duration": 18,
    "start_time": "2023-01-23T21:50:09.270Z"
   },
   {
    "duration": 3,
    "start_time": "2023-01-23T21:50:09.290Z"
   },
   {
    "duration": 28,
    "start_time": "2023-01-23T21:50:09.295Z"
   },
   {
    "duration": 5,
    "start_time": "2023-01-23T21:50:09.325Z"
   },
   {
    "duration": 13,
    "start_time": "2023-01-23T21:50:09.332Z"
   },
   {
    "duration": 36,
    "start_time": "2023-01-23T21:50:09.346Z"
   },
   {
    "duration": 18,
    "start_time": "2023-01-23T21:50:09.383Z"
   },
   {
    "duration": 0,
    "start_time": "2023-01-23T21:50:09.403Z"
   },
   {
    "duration": 0,
    "start_time": "2023-01-23T21:50:09.404Z"
   },
   {
    "duration": 0,
    "start_time": "2023-01-23T21:50:09.405Z"
   },
   {
    "duration": 4,
    "start_time": "2023-01-23T21:50:15.891Z"
   },
   {
    "duration": 38,
    "start_time": "2023-01-23T21:50:15.897Z"
   },
   {
    "duration": 42,
    "start_time": "2023-01-23T21:50:15.936Z"
   },
   {
    "duration": 19,
    "start_time": "2023-01-23T21:50:15.981Z"
   },
   {
    "duration": 3,
    "start_time": "2023-01-23T21:50:16.001Z"
   },
   {
    "duration": 32,
    "start_time": "2023-01-23T21:50:16.006Z"
   },
   {
    "duration": 7,
    "start_time": "2023-01-23T21:50:16.040Z"
   },
   {
    "duration": 21,
    "start_time": "2023-01-23T21:50:16.048Z"
   },
   {
    "duration": 12,
    "start_time": "2023-01-23T21:50:16.081Z"
   },
   {
    "duration": 33,
    "start_time": "2023-01-23T21:50:16.095Z"
   },
   {
    "duration": 0,
    "start_time": "2023-01-23T21:50:16.129Z"
   },
   {
    "duration": 0,
    "start_time": "2023-01-23T21:50:16.130Z"
   },
   {
    "duration": 0,
    "start_time": "2023-01-23T21:50:16.131Z"
   },
   {
    "duration": 4,
    "start_time": "2023-01-23T21:50:29.368Z"
   },
   {
    "duration": 49,
    "start_time": "2023-01-23T21:50:29.374Z"
   },
   {
    "duration": 43,
    "start_time": "2023-01-23T21:50:29.425Z"
   },
   {
    "duration": 20,
    "start_time": "2023-01-23T21:50:29.470Z"
   },
   {
    "duration": 3,
    "start_time": "2023-01-23T21:50:29.491Z"
   },
   {
    "duration": 31,
    "start_time": "2023-01-23T21:50:29.495Z"
   },
   {
    "duration": 5,
    "start_time": "2023-01-23T21:50:29.528Z"
   },
   {
    "duration": 14,
    "start_time": "2023-01-23T21:50:29.534Z"
   },
   {
    "duration": 14,
    "start_time": "2023-01-23T21:50:29.550Z"
   },
   {
    "duration": 27,
    "start_time": "2023-01-23T21:50:29.566Z"
   },
   {
    "duration": 270,
    "start_time": "2023-01-23T21:50:29.594Z"
   },
   {
    "duration": 126,
    "start_time": "2023-01-23T21:50:29.866Z"
   },
   {
    "duration": 0,
    "start_time": "2023-01-23T21:50:29.994Z"
   },
   {
    "duration": 186,
    "start_time": "2023-01-23T21:50:51.762Z"
   },
   {
    "duration": 403,
    "start_time": "2023-01-23T21:51:02.135Z"
   },
   {
    "duration": 93,
    "start_time": "2023-01-29T16:17:10.151Z"
   },
   {
    "duration": 43,
    "start_time": "2023-01-29T16:21:05.594Z"
   },
   {
    "duration": 1324,
    "start_time": "2023-01-29T16:21:10.110Z"
   },
   {
    "duration": 91,
    "start_time": "2023-01-29T16:21:11.436Z"
   },
   {
    "duration": 100,
    "start_time": "2023-01-29T16:21:11.529Z"
   },
   {
    "duration": 70,
    "start_time": "2023-01-29T16:21:11.631Z"
   },
   {
    "duration": 3,
    "start_time": "2023-01-29T16:21:11.703Z"
   },
   {
    "duration": 30,
    "start_time": "2023-01-29T16:21:11.708Z"
   },
   {
    "duration": 6,
    "start_time": "2023-01-29T16:21:11.740Z"
   },
   {
    "duration": 11,
    "start_time": "2023-01-29T16:21:11.748Z"
   },
   {
    "duration": 9,
    "start_time": "2023-01-29T16:21:11.760Z"
   },
   {
    "duration": 16,
    "start_time": "2023-01-29T16:21:11.771Z"
   },
   {
    "duration": 256,
    "start_time": "2023-01-29T16:21:11.788Z"
   },
   {
    "duration": 182,
    "start_time": "2023-01-29T16:21:12.046Z"
   },
   {
    "duration": 365,
    "start_time": "2023-01-29T16:21:12.229Z"
   },
   {
    "duration": 6,
    "start_time": "2023-01-29T16:21:12.596Z"
   },
   {
    "duration": 76,
    "start_time": "2023-01-29T16:21:12.603Z"
   },
   {
    "duration": 1,
    "start_time": "2023-01-29T16:21:12.681Z"
   },
   {
    "duration": 0,
    "start_time": "2023-01-29T16:21:12.683Z"
   },
   {
    "duration": 0,
    "start_time": "2023-01-29T16:21:12.684Z"
   },
   {
    "duration": 0,
    "start_time": "2023-01-29T16:21:12.685Z"
   },
   {
    "duration": 0,
    "start_time": "2023-01-29T16:21:12.686Z"
   },
   {
    "duration": 0,
    "start_time": "2023-01-29T16:21:12.687Z"
   },
   {
    "duration": 0,
    "start_time": "2023-01-29T16:21:12.688Z"
   },
   {
    "duration": 0,
    "start_time": "2023-01-29T16:21:12.690Z"
   },
   {
    "duration": 0,
    "start_time": "2023-01-29T16:21:12.691Z"
   },
   {
    "duration": 0,
    "start_time": "2023-01-29T16:21:12.692Z"
   },
   {
    "duration": 0,
    "start_time": "2023-01-29T16:21:12.693Z"
   },
   {
    "duration": 0,
    "start_time": "2023-01-29T16:21:12.694Z"
   },
   {
    "duration": 0,
    "start_time": "2023-01-29T16:21:12.695Z"
   },
   {
    "duration": 0,
    "start_time": "2023-01-29T16:21:12.696Z"
   },
   {
    "duration": 0,
    "start_time": "2023-01-29T16:21:12.697Z"
   },
   {
    "duration": 0,
    "start_time": "2023-01-29T16:21:12.698Z"
   },
   {
    "duration": 0,
    "start_time": "2023-01-29T16:21:12.699Z"
   },
   {
    "duration": 0,
    "start_time": "2023-01-29T16:21:12.700Z"
   },
   {
    "duration": 0,
    "start_time": "2023-01-29T16:21:12.701Z"
   },
   {
    "duration": 0,
    "start_time": "2023-01-29T16:21:12.702Z"
   },
   {
    "duration": 0,
    "start_time": "2023-01-29T16:21:12.703Z"
   },
   {
    "duration": 0,
    "start_time": "2023-01-29T16:21:12.704Z"
   },
   {
    "duration": 0,
    "start_time": "2023-01-29T16:21:12.705Z"
   },
   {
    "duration": 0,
    "start_time": "2023-01-29T16:21:12.706Z"
   },
   {
    "duration": 0,
    "start_time": "2023-01-29T16:21:12.749Z"
   },
   {
    "duration": 0,
    "start_time": "2023-01-29T16:21:12.750Z"
   },
   {
    "duration": 0,
    "start_time": "2023-01-29T16:21:12.751Z"
   },
   {
    "duration": 0,
    "start_time": "2023-01-29T16:21:12.753Z"
   },
   {
    "duration": 0,
    "start_time": "2023-01-29T16:21:12.754Z"
   },
   {
    "duration": 0,
    "start_time": "2023-01-29T16:21:12.755Z"
   },
   {
    "duration": 0,
    "start_time": "2023-01-29T16:21:12.756Z"
   },
   {
    "duration": 0,
    "start_time": "2023-01-29T16:21:12.757Z"
   },
   {
    "duration": 3,
    "start_time": "2023-01-29T16:21:33.896Z"
   },
   {
    "duration": 31,
    "start_time": "2023-01-29T16:21:33.917Z"
   },
   {
    "duration": 41,
    "start_time": "2023-01-29T16:21:33.950Z"
   },
   {
    "duration": 19,
    "start_time": "2023-01-29T16:21:33.992Z"
   },
   {
    "duration": 3,
    "start_time": "2023-01-29T16:21:34.013Z"
   },
   {
    "duration": 32,
    "start_time": "2023-01-29T16:21:34.018Z"
   },
   {
    "duration": 5,
    "start_time": "2023-01-29T16:21:34.054Z"
   },
   {
    "duration": 18,
    "start_time": "2023-01-29T16:21:34.061Z"
   },
   {
    "duration": 11,
    "start_time": "2023-01-29T16:21:34.080Z"
   },
   {
    "duration": 13,
    "start_time": "2023-01-29T16:21:34.100Z"
   },
   {
    "duration": 202,
    "start_time": "2023-01-29T16:21:34.114Z"
   },
   {
    "duration": 207,
    "start_time": "2023-01-29T16:21:34.318Z"
   },
   {
    "duration": 332,
    "start_time": "2023-01-29T16:21:34.527Z"
   },
   {
    "duration": 6,
    "start_time": "2023-01-29T16:21:34.860Z"
   },
   {
    "duration": 14,
    "start_time": "2023-01-29T16:21:34.868Z"
   },
   {
    "duration": 1,
    "start_time": "2023-01-29T16:21:34.883Z"
   },
   {
    "duration": 0,
    "start_time": "2023-01-29T16:21:34.884Z"
   },
   {
    "duration": 0,
    "start_time": "2023-01-29T16:21:34.885Z"
   },
   {
    "duration": 0,
    "start_time": "2023-01-29T16:21:34.886Z"
   },
   {
    "duration": 0,
    "start_time": "2023-01-29T16:21:34.887Z"
   },
   {
    "duration": 0,
    "start_time": "2023-01-29T16:21:34.889Z"
   },
   {
    "duration": 0,
    "start_time": "2023-01-29T16:21:34.890Z"
   },
   {
    "duration": 0,
    "start_time": "2023-01-29T16:21:34.975Z"
   },
   {
    "duration": 0,
    "start_time": "2023-01-29T16:21:34.977Z"
   },
   {
    "duration": 0,
    "start_time": "2023-01-29T16:21:34.977Z"
   },
   {
    "duration": 0,
    "start_time": "2023-01-29T16:21:34.979Z"
   },
   {
    "duration": 0,
    "start_time": "2023-01-29T16:21:34.980Z"
   },
   {
    "duration": 0,
    "start_time": "2023-01-29T16:21:34.981Z"
   },
   {
    "duration": 0,
    "start_time": "2023-01-29T16:21:34.982Z"
   },
   {
    "duration": 0,
    "start_time": "2023-01-29T16:21:34.983Z"
   },
   {
    "duration": 0,
    "start_time": "2023-01-29T16:21:34.984Z"
   },
   {
    "duration": 0,
    "start_time": "2023-01-29T16:21:34.985Z"
   },
   {
    "duration": 0,
    "start_time": "2023-01-29T16:21:34.987Z"
   },
   {
    "duration": 0,
    "start_time": "2023-01-29T16:21:34.988Z"
   },
   {
    "duration": 0,
    "start_time": "2023-01-29T16:21:34.989Z"
   },
   {
    "duration": 0,
    "start_time": "2023-01-29T16:21:34.990Z"
   },
   {
    "duration": 0,
    "start_time": "2023-01-29T16:21:34.991Z"
   },
   {
    "duration": 0,
    "start_time": "2023-01-29T16:21:34.992Z"
   },
   {
    "duration": 0,
    "start_time": "2023-01-29T16:21:34.993Z"
   },
   {
    "duration": 0,
    "start_time": "2023-01-29T16:21:34.994Z"
   },
   {
    "duration": 0,
    "start_time": "2023-01-29T16:21:34.995Z"
   },
   {
    "duration": 0,
    "start_time": "2023-01-29T16:21:34.996Z"
   },
   {
    "duration": 0,
    "start_time": "2023-01-29T16:21:34.997Z"
   },
   {
    "duration": 0,
    "start_time": "2023-01-29T16:21:34.998Z"
   },
   {
    "duration": 0,
    "start_time": "2023-01-29T16:21:34.999Z"
   },
   {
    "duration": 0,
    "start_time": "2023-01-29T16:21:35.000Z"
   },
   {
    "duration": 0,
    "start_time": "2023-01-29T16:21:35.001Z"
   },
   {
    "duration": 6,
    "start_time": "2023-01-29T16:22:53.634Z"
   },
   {
    "duration": 200,
    "start_time": "2023-01-29T16:23:12.488Z"
   },
   {
    "duration": 53,
    "start_time": "2023-01-30T19:57:09.256Z"
   },
   {
    "duration": 1360,
    "start_time": "2023-01-30T19:57:13.879Z"
   },
   {
    "duration": 86,
    "start_time": "2023-01-30T19:57:15.241Z"
   },
   {
    "duration": 94,
    "start_time": "2023-01-30T19:57:15.329Z"
   },
   {
    "duration": 68,
    "start_time": "2023-01-30T19:57:15.426Z"
   },
   {
    "duration": 3,
    "start_time": "2023-01-30T19:57:15.496Z"
   },
   {
    "duration": 41,
    "start_time": "2023-01-30T19:57:15.501Z"
   },
   {
    "duration": 6,
    "start_time": "2023-01-30T19:57:15.544Z"
   },
   {
    "duration": 17,
    "start_time": "2023-01-30T19:57:15.552Z"
   },
   {
    "duration": 23,
    "start_time": "2023-01-30T19:57:15.570Z"
   },
   {
    "duration": 15,
    "start_time": "2023-01-30T19:57:15.597Z"
   },
   {
    "duration": 291,
    "start_time": "2023-01-30T19:57:15.613Z"
   },
   {
    "duration": 198,
    "start_time": "2023-01-30T19:57:15.906Z"
   },
   {
    "duration": 366,
    "start_time": "2023-01-30T19:57:16.106Z"
   },
   {
    "duration": 6,
    "start_time": "2023-01-30T19:57:16.473Z"
   },
   {
    "duration": 19,
    "start_time": "2023-01-30T19:57:16.481Z"
   },
   {
    "duration": 221,
    "start_time": "2023-01-30T19:57:16.501Z"
   },
   {
    "duration": 327,
    "start_time": "2023-01-30T19:57:16.723Z"
   },
   {
    "duration": 70,
    "start_time": "2023-01-30T19:57:17.052Z"
   },
   {
    "duration": 0,
    "start_time": "2023-01-30T19:57:17.124Z"
   },
   {
    "duration": 0,
    "start_time": "2023-01-30T19:57:17.125Z"
   },
   {
    "duration": 0,
    "start_time": "2023-01-30T19:57:17.126Z"
   },
   {
    "duration": 0,
    "start_time": "2023-01-30T19:57:17.128Z"
   },
   {
    "duration": 0,
    "start_time": "2023-01-30T19:57:17.129Z"
   },
   {
    "duration": 0,
    "start_time": "2023-01-30T19:57:17.130Z"
   },
   {
    "duration": 0,
    "start_time": "2023-01-30T19:57:17.132Z"
   },
   {
    "duration": 0,
    "start_time": "2023-01-30T19:57:17.133Z"
   },
   {
    "duration": 0,
    "start_time": "2023-01-30T19:57:17.134Z"
   },
   {
    "duration": 0,
    "start_time": "2023-01-30T19:57:17.135Z"
   },
   {
    "duration": 0,
    "start_time": "2023-01-30T19:57:17.136Z"
   },
   {
    "duration": 0,
    "start_time": "2023-01-30T19:57:17.137Z"
   },
   {
    "duration": 0,
    "start_time": "2023-01-30T19:57:17.138Z"
   },
   {
    "duration": 0,
    "start_time": "2023-01-30T19:57:17.139Z"
   },
   {
    "duration": 0,
    "start_time": "2023-01-30T19:57:17.140Z"
   },
   {
    "duration": 0,
    "start_time": "2023-01-30T19:57:17.141Z"
   },
   {
    "duration": 0,
    "start_time": "2023-01-30T19:57:17.142Z"
   },
   {
    "duration": 0,
    "start_time": "2023-01-30T19:57:17.143Z"
   },
   {
    "duration": 0,
    "start_time": "2023-01-30T19:57:17.145Z"
   },
   {
    "duration": 0,
    "start_time": "2023-01-30T19:57:17.146Z"
   },
   {
    "duration": 0,
    "start_time": "2023-01-30T19:57:17.147Z"
   },
   {
    "duration": 0,
    "start_time": "2023-01-30T19:57:17.148Z"
   },
   {
    "duration": 0,
    "start_time": "2023-01-30T19:57:17.149Z"
   },
   {
    "duration": 0,
    "start_time": "2023-01-30T19:57:17.150Z"
   },
   {
    "duration": 0,
    "start_time": "2023-01-30T19:57:17.151Z"
   },
   {
    "duration": 0,
    "start_time": "2023-01-30T19:57:17.152Z"
   },
   {
    "duration": 0,
    "start_time": "2023-01-30T19:57:17.153Z"
   },
   {
    "duration": 0,
    "start_time": "2023-01-30T19:57:17.154Z"
   },
   {
    "duration": 0,
    "start_time": "2023-01-30T19:57:17.155Z"
   },
   {
    "duration": 342,
    "start_time": "2023-01-30T20:36:40.151Z"
   },
   {
    "duration": 67,
    "start_time": "2023-01-30T20:42:11.123Z"
   },
   {
    "duration": 8,
    "start_time": "2023-01-30T20:42:32.012Z"
   },
   {
    "duration": 8,
    "start_time": "2023-01-30T20:43:45.250Z"
   },
   {
    "duration": 9,
    "start_time": "2023-01-30T20:44:12.046Z"
   },
   {
    "duration": 4,
    "start_time": "2023-01-30T20:44:20.300Z"
   },
   {
    "duration": 40,
    "start_time": "2023-01-30T20:44:20.307Z"
   },
   {
    "duration": 39,
    "start_time": "2023-01-30T20:44:20.348Z"
   },
   {
    "duration": 18,
    "start_time": "2023-01-30T20:44:20.389Z"
   },
   {
    "duration": 2,
    "start_time": "2023-01-30T20:44:20.409Z"
   },
   {
    "duration": 30,
    "start_time": "2023-01-30T20:44:20.413Z"
   },
   {
    "duration": 6,
    "start_time": "2023-01-30T20:44:20.444Z"
   },
   {
    "duration": 11,
    "start_time": "2023-01-30T20:44:20.452Z"
   },
   {
    "duration": 14,
    "start_time": "2023-01-30T20:44:20.465Z"
   },
   {
    "duration": 13,
    "start_time": "2023-01-30T20:44:20.491Z"
   },
   {
    "duration": 186,
    "start_time": "2023-01-30T20:44:20.505Z"
   },
   {
    "duration": 242,
    "start_time": "2023-01-30T20:44:20.692Z"
   },
   {
    "duration": 299,
    "start_time": "2023-01-30T20:44:20.936Z"
   },
   {
    "duration": 5,
    "start_time": "2023-01-30T20:44:21.237Z"
   },
   {
    "duration": 6,
    "start_time": "2023-01-30T20:44:21.244Z"
   },
   {
    "duration": 185,
    "start_time": "2023-01-30T20:44:21.251Z"
   },
   {
    "duration": 280,
    "start_time": "2023-01-30T20:44:21.437Z"
   },
   {
    "duration": 8,
    "start_time": "2023-01-30T20:44:21.718Z"
   },
   {
    "duration": 0,
    "start_time": "2023-01-30T20:44:21.728Z"
   },
   {
    "duration": 0,
    "start_time": "2023-01-30T20:44:21.729Z"
   },
   {
    "duration": 0,
    "start_time": "2023-01-30T20:44:21.730Z"
   },
   {
    "duration": 0,
    "start_time": "2023-01-30T20:44:21.732Z"
   },
   {
    "duration": 0,
    "start_time": "2023-01-30T20:44:21.733Z"
   },
   {
    "duration": 0,
    "start_time": "2023-01-30T20:44:21.734Z"
   },
   {
    "duration": 0,
    "start_time": "2023-01-30T20:44:21.735Z"
   },
   {
    "duration": 0,
    "start_time": "2023-01-30T20:44:21.736Z"
   },
   {
    "duration": 0,
    "start_time": "2023-01-30T20:44:21.737Z"
   },
   {
    "duration": 0,
    "start_time": "2023-01-30T20:44:21.738Z"
   },
   {
    "duration": 0,
    "start_time": "2023-01-30T20:44:21.739Z"
   },
   {
    "duration": 0,
    "start_time": "2023-01-30T20:44:21.740Z"
   },
   {
    "duration": 1,
    "start_time": "2023-01-30T20:44:21.741Z"
   },
   {
    "duration": 0,
    "start_time": "2023-01-30T20:44:21.742Z"
   },
   {
    "duration": 0,
    "start_time": "2023-01-30T20:44:21.744Z"
   },
   {
    "duration": 0,
    "start_time": "2023-01-30T20:44:21.744Z"
   },
   {
    "duration": 0,
    "start_time": "2023-01-30T20:44:21.746Z"
   },
   {
    "duration": 1,
    "start_time": "2023-01-30T20:44:21.746Z"
   },
   {
    "duration": 0,
    "start_time": "2023-01-30T20:44:21.747Z"
   },
   {
    "duration": 0,
    "start_time": "2023-01-30T20:44:21.748Z"
   },
   {
    "duration": 0,
    "start_time": "2023-01-30T20:44:21.792Z"
   },
   {
    "duration": 0,
    "start_time": "2023-01-30T20:44:21.793Z"
   },
   {
    "duration": 0,
    "start_time": "2023-01-30T20:44:21.794Z"
   },
   {
    "duration": 0,
    "start_time": "2023-01-30T20:44:21.795Z"
   },
   {
    "duration": 0,
    "start_time": "2023-01-30T20:44:21.796Z"
   },
   {
    "duration": 0,
    "start_time": "2023-01-30T20:44:21.797Z"
   },
   {
    "duration": 0,
    "start_time": "2023-01-30T20:44:21.798Z"
   },
   {
    "duration": 0,
    "start_time": "2023-01-30T20:44:21.799Z"
   },
   {
    "duration": 0,
    "start_time": "2023-01-30T20:44:21.800Z"
   },
   {
    "duration": 12,
    "start_time": "2023-01-30T20:46:14.924Z"
   },
   {
    "duration": 6,
    "start_time": "2023-01-30T20:46:20.638Z"
   },
   {
    "duration": 113,
    "start_time": "2023-01-30T20:46:46.550Z"
   },
   {
    "duration": 102,
    "start_time": "2023-01-30T20:47:35.241Z"
   },
   {
    "duration": 5,
    "start_time": "2023-01-30T20:50:47.791Z"
   },
   {
    "duration": 8,
    "start_time": "2023-01-30T20:54:50.106Z"
   },
   {
    "duration": 8,
    "start_time": "2023-01-30T20:54:55.117Z"
   },
   {
    "duration": 113,
    "start_time": "2023-01-30T20:57:06.113Z"
   },
   {
    "duration": 8,
    "start_time": "2023-01-30T20:57:30.412Z"
   },
   {
    "duration": 5,
    "start_time": "2023-01-30T20:57:44.416Z"
   },
   {
    "duration": 15,
    "start_time": "2023-01-30T21:00:48.046Z"
   },
   {
    "duration": 16,
    "start_time": "2023-01-30T21:01:08.856Z"
   },
   {
    "duration": 10,
    "start_time": "2023-01-30T21:01:59.618Z"
   },
   {
    "duration": 14,
    "start_time": "2023-01-30T21:02:12.513Z"
   },
   {
    "duration": 12,
    "start_time": "2023-01-30T21:02:32.687Z"
   },
   {
    "duration": 13,
    "start_time": "2023-01-30T21:03:04.152Z"
   },
   {
    "duration": 12,
    "start_time": "2023-01-30T21:03:08.962Z"
   },
   {
    "duration": 12,
    "start_time": "2023-01-30T21:03:59.723Z"
   },
   {
    "duration": 10,
    "start_time": "2023-01-30T21:04:43.266Z"
   },
   {
    "duration": 11,
    "start_time": "2023-01-30T21:05:27.720Z"
   },
   {
    "duration": 156,
    "start_time": "2023-01-30T21:05:51.177Z"
   },
   {
    "duration": 134,
    "start_time": "2023-01-30T21:06:16.703Z"
   },
   {
    "duration": 136,
    "start_time": "2023-01-30T21:06:29.605Z"
   },
   {
    "duration": 159,
    "start_time": "2023-01-30T21:08:11.720Z"
   },
   {
    "duration": 11,
    "start_time": "2023-01-30T21:08:28.207Z"
   },
   {
    "duration": 202,
    "start_time": "2023-01-30T21:08:39.188Z"
   },
   {
    "duration": 8,
    "start_time": "2023-01-30T21:14:21.290Z"
   },
   {
    "duration": 188,
    "start_time": "2023-01-30T21:14:30.203Z"
   },
   {
    "duration": 1301,
    "start_time": "2023-02-01T17:01:20.463Z"
   },
   {
    "duration": 91,
    "start_time": "2023-02-01T17:01:21.766Z"
   },
   {
    "duration": 98,
    "start_time": "2023-02-01T17:01:21.859Z"
   },
   {
    "duration": 70,
    "start_time": "2023-02-01T17:01:21.959Z"
   },
   {
    "duration": 3,
    "start_time": "2023-02-01T17:01:22.030Z"
   },
   {
    "duration": 35,
    "start_time": "2023-02-01T17:01:22.034Z"
   },
   {
    "duration": 5,
    "start_time": "2023-02-01T17:01:22.071Z"
   },
   {
    "duration": 18,
    "start_time": "2023-02-01T17:01:22.078Z"
   },
   {
    "duration": 14,
    "start_time": "2023-02-01T17:01:22.097Z"
   },
   {
    "duration": 14,
    "start_time": "2023-02-01T17:01:22.113Z"
   },
   {
    "duration": 276,
    "start_time": "2023-02-01T17:01:22.129Z"
   },
   {
    "duration": 206,
    "start_time": "2023-02-01T17:01:22.406Z"
   },
   {
    "duration": 390,
    "start_time": "2023-02-01T17:01:22.614Z"
   },
   {
    "duration": 7,
    "start_time": "2023-02-01T17:01:23.005Z"
   },
   {
    "duration": 7,
    "start_time": "2023-02-01T17:01:23.014Z"
   },
   {
    "duration": 209,
    "start_time": "2023-02-01T17:01:23.022Z"
   },
   {
    "duration": 332,
    "start_time": "2023-02-01T17:01:23.233Z"
   },
   {
    "duration": 6,
    "start_time": "2023-02-01T17:01:23.567Z"
   },
   {
    "duration": 132,
    "start_time": "2023-02-01T17:01:23.575Z"
   },
   {
    "duration": 4,
    "start_time": "2023-02-01T17:01:23.708Z"
   },
   {
    "duration": 16,
    "start_time": "2023-02-01T17:01:23.714Z"
   },
   {
    "duration": 135,
    "start_time": "2023-02-01T17:01:23.732Z"
   },
   {
    "duration": 5,
    "start_time": "2023-02-01T17:01:23.869Z"
   },
   {
    "duration": 27,
    "start_time": "2023-02-01T17:01:23.876Z"
   },
   {
    "duration": 21,
    "start_time": "2023-02-01T17:01:23.905Z"
   },
   {
    "duration": 93,
    "start_time": "2023-02-01T17:01:23.928Z"
   },
   {
    "duration": 149,
    "start_time": "2023-02-01T17:01:24.023Z"
   },
   {
    "duration": 196,
    "start_time": "2023-02-01T17:01:24.174Z"
   },
   {
    "duration": 48,
    "start_time": "2023-02-01T17:05:28.057Z"
   },
   {
    "duration": 2,
    "start_time": "2023-02-01T17:08:50.160Z"
   },
   {
    "duration": 109,
    "start_time": "2023-02-01T17:10:15.393Z"
   },
   {
    "duration": 8,
    "start_time": "2023-02-01T17:10:46.089Z"
   },
   {
    "duration": 9,
    "start_time": "2023-02-01T17:11:12.511Z"
   },
   {
    "duration": 72,
    "start_time": "2023-02-02T20:15:33.486Z"
   },
   {
    "duration": 1284,
    "start_time": "2023-02-02T20:15:39.379Z"
   },
   {
    "duration": 66,
    "start_time": "2023-02-02T20:15:40.665Z"
   },
   {
    "duration": 100,
    "start_time": "2023-02-02T20:15:40.733Z"
   },
   {
    "duration": 60,
    "start_time": "2023-02-02T20:15:40.835Z"
   },
   {
    "duration": 2,
    "start_time": "2023-02-02T20:15:40.897Z"
   },
   {
    "duration": 11,
    "start_time": "2023-02-02T20:15:40.901Z"
   },
   {
    "duration": 12,
    "start_time": "2023-02-02T20:15:40.914Z"
   },
   {
    "duration": 9,
    "start_time": "2023-02-02T20:15:40.928Z"
   },
   {
    "duration": 13,
    "start_time": "2023-02-02T20:15:40.938Z"
   },
   {
    "duration": 12,
    "start_time": "2023-02-02T20:15:40.953Z"
   },
   {
    "duration": 273,
    "start_time": "2023-02-02T20:15:40.966Z"
   },
   {
    "duration": 203,
    "start_time": "2023-02-02T20:15:41.242Z"
   },
   {
    "duration": 366,
    "start_time": "2023-02-02T20:15:41.447Z"
   },
   {
    "duration": 6,
    "start_time": "2023-02-02T20:15:41.817Z"
   },
   {
    "duration": 11,
    "start_time": "2023-02-02T20:15:41.825Z"
   },
   {
    "duration": 197,
    "start_time": "2023-02-02T20:15:41.838Z"
   },
   {
    "duration": 322,
    "start_time": "2023-02-02T20:15:42.037Z"
   },
   {
    "duration": 7,
    "start_time": "2023-02-02T20:15:42.361Z"
   },
   {
    "duration": 130,
    "start_time": "2023-02-02T20:15:42.370Z"
   },
   {
    "duration": 4,
    "start_time": "2023-02-02T20:15:42.502Z"
   },
   {
    "duration": 25,
    "start_time": "2023-02-02T20:15:42.507Z"
   },
   {
    "duration": 193,
    "start_time": "2023-02-02T20:15:42.534Z"
   },
   {
    "duration": 6,
    "start_time": "2023-02-02T20:15:42.729Z"
   },
   {
    "duration": 28,
    "start_time": "2023-02-02T20:15:42.736Z"
   },
   {
    "duration": 13,
    "start_time": "2023-02-02T20:15:42.765Z"
   },
   {
    "duration": 20,
    "start_time": "2023-02-02T20:15:42.780Z"
   },
   {
    "duration": 251,
    "start_time": "2023-02-02T20:15:42.802Z"
   },
   {
    "duration": 340,
    "start_time": "2023-02-02T20:15:43.055Z"
   },
   {
    "duration": 11,
    "start_time": "2023-02-02T20:16:37.139Z"
   },
   {
    "duration": 107,
    "start_time": "2023-02-02T20:22:29.402Z"
   },
   {
    "duration": 6,
    "start_time": "2023-02-02T20:22:39.771Z"
   },
   {
    "duration": 14,
    "start_time": "2023-02-02T20:23:34.630Z"
   },
   {
    "duration": 236,
    "start_time": "2023-02-02T20:23:39.290Z"
   },
   {
    "duration": 4,
    "start_time": "2023-02-02T20:25:48.882Z"
   },
   {
    "duration": 28,
    "start_time": "2023-02-02T20:25:48.892Z"
   },
   {
    "duration": 36,
    "start_time": "2023-02-02T20:25:48.922Z"
   },
   {
    "duration": 16,
    "start_time": "2023-02-02T20:25:48.960Z"
   },
   {
    "duration": 3,
    "start_time": "2023-02-02T20:25:48.979Z"
   },
   {
    "duration": 8,
    "start_time": "2023-02-02T20:25:48.984Z"
   },
   {
    "duration": 19,
    "start_time": "2023-02-02T20:25:48.995Z"
   },
   {
    "duration": 11,
    "start_time": "2023-02-02T20:25:49.016Z"
   },
   {
    "duration": 31,
    "start_time": "2023-02-02T20:25:49.029Z"
   },
   {
    "duration": 6,
    "start_time": "2023-02-02T20:25:49.062Z"
   },
   {
    "duration": 16,
    "start_time": "2023-02-02T20:25:49.071Z"
   },
   {
    "duration": 213,
    "start_time": "2023-02-02T20:25:49.089Z"
   },
   {
    "duration": 189,
    "start_time": "2023-02-02T20:25:49.303Z"
   },
   {
    "duration": 313,
    "start_time": "2023-02-02T20:25:49.494Z"
   },
   {
    "duration": 7,
    "start_time": "2023-02-02T20:25:49.809Z"
   },
   {
    "duration": 14,
    "start_time": "2023-02-02T20:25:49.818Z"
   },
   {
    "duration": 203,
    "start_time": "2023-02-02T20:25:49.835Z"
   },
   {
    "duration": 309,
    "start_time": "2023-02-02T20:25:50.040Z"
   },
   {
    "duration": 6,
    "start_time": "2023-02-02T20:25:50.354Z"
   },
   {
    "duration": 139,
    "start_time": "2023-02-02T20:25:50.361Z"
   },
   {
    "duration": 5,
    "start_time": "2023-02-02T20:25:50.501Z"
   },
   {
    "duration": 22,
    "start_time": "2023-02-02T20:25:50.507Z"
   },
   {
    "duration": 126,
    "start_time": "2023-02-02T20:25:50.531Z"
   },
   {
    "duration": 4,
    "start_time": "2023-02-02T20:25:50.658Z"
   },
   {
    "duration": 18,
    "start_time": "2023-02-02T20:25:50.664Z"
   },
   {
    "duration": 13,
    "start_time": "2023-02-02T20:25:50.684Z"
   },
   {
    "duration": 15,
    "start_time": "2023-02-02T20:25:50.698Z"
   },
   {
    "duration": 177,
    "start_time": "2023-02-02T20:25:50.715Z"
   },
   {
    "duration": 217,
    "start_time": "2023-02-02T20:25:50.896Z"
   },
   {
    "duration": 176,
    "start_time": "2023-02-02T20:28:10.249Z"
   },
   {
    "duration": 196,
    "start_time": "2023-02-02T20:36:46.676Z"
   },
   {
    "duration": 292,
    "start_time": "2023-02-02T20:36:55.612Z"
   },
   {
    "duration": 195,
    "start_time": "2023-02-02T20:37:31.989Z"
   },
   {
    "duration": 194,
    "start_time": "2023-02-02T20:39:43.572Z"
   },
   {
    "duration": 45,
    "start_time": "2023-02-02T21:07:42.730Z"
   },
   {
    "duration": 198,
    "start_time": "2023-02-02T21:08:30.805Z"
   },
   {
    "duration": 1141,
    "start_time": "2023-02-02T21:08:44.429Z"
   },
   {
    "duration": 30,
    "start_time": "2023-02-02T21:08:45.572Z"
   },
   {
    "duration": 35,
    "start_time": "2023-02-02T21:08:45.604Z"
   },
   {
    "duration": 18,
    "start_time": "2023-02-02T21:08:45.640Z"
   },
   {
    "duration": 3,
    "start_time": "2023-02-02T21:08:45.660Z"
   },
   {
    "duration": 10,
    "start_time": "2023-02-02T21:08:45.665Z"
   },
   {
    "duration": 15,
    "start_time": "2023-02-02T21:08:45.676Z"
   },
   {
    "duration": 10,
    "start_time": "2023-02-02T21:08:45.693Z"
   },
   {
    "duration": 16,
    "start_time": "2023-02-02T21:08:45.704Z"
   },
   {
    "duration": 7,
    "start_time": "2023-02-02T21:08:45.722Z"
   },
   {
    "duration": 15,
    "start_time": "2023-02-02T21:08:45.753Z"
   },
   {
    "duration": 290,
    "start_time": "2023-02-02T21:08:45.770Z"
   },
   {
    "duration": 228,
    "start_time": "2023-02-02T21:08:46.061Z"
   },
   {
    "duration": 315,
    "start_time": "2023-02-02T21:08:46.292Z"
   },
   {
    "duration": 7,
    "start_time": "2023-02-02T21:08:46.609Z"
   },
   {
    "duration": 24,
    "start_time": "2023-02-02T21:08:46.617Z"
   },
   {
    "duration": 212,
    "start_time": "2023-02-02T21:08:46.643Z"
   },
   {
    "duration": 308,
    "start_time": "2023-02-02T21:08:46.857Z"
   },
   {
    "duration": 8,
    "start_time": "2023-02-02T21:08:47.167Z"
   },
   {
    "duration": 140,
    "start_time": "2023-02-02T21:08:47.177Z"
   },
   {
    "duration": 4,
    "start_time": "2023-02-02T21:08:47.318Z"
   },
   {
    "duration": 12,
    "start_time": "2023-02-02T21:08:47.323Z"
   },
   {
    "duration": 123,
    "start_time": "2023-02-02T21:08:47.336Z"
   },
   {
    "duration": 4,
    "start_time": "2023-02-02T21:08:47.460Z"
   },
   {
    "duration": 22,
    "start_time": "2023-02-02T21:08:47.465Z"
   },
   {
    "duration": 12,
    "start_time": "2023-02-02T21:08:47.488Z"
   },
   {
    "duration": 100,
    "start_time": "2023-02-02T21:08:47.502Z"
   },
   {
    "duration": 135,
    "start_time": "2023-02-02T21:08:47.604Z"
   },
   {
    "duration": 220,
    "start_time": "2023-02-02T21:08:47.741Z"
   },
   {
    "duration": 228,
    "start_time": "2023-02-02T21:08:47.962Z"
   },
   {
    "duration": 105,
    "start_time": "2023-02-02T21:08:48.192Z"
   },
   {
    "duration": 0,
    "start_time": "2023-02-02T21:08:48.299Z"
   },
   {
    "duration": 0,
    "start_time": "2023-02-02T21:08:48.300Z"
   },
   {
    "duration": 0,
    "start_time": "2023-02-02T21:08:48.302Z"
   },
   {
    "duration": 0,
    "start_time": "2023-02-02T21:08:48.303Z"
   },
   {
    "duration": 0,
    "start_time": "2023-02-02T21:08:48.303Z"
   },
   {
    "duration": 0,
    "start_time": "2023-02-02T21:08:48.304Z"
   },
   {
    "duration": 0,
    "start_time": "2023-02-02T21:08:48.305Z"
   },
   {
    "duration": 0,
    "start_time": "2023-02-02T21:08:48.306Z"
   },
   {
    "duration": 0,
    "start_time": "2023-02-02T21:08:48.307Z"
   },
   {
    "duration": 10,
    "start_time": "2023-02-02T21:10:08.620Z"
   },
   {
    "duration": 9,
    "start_time": "2023-02-02T21:10:37.511Z"
   },
   {
    "duration": 199,
    "start_time": "2023-02-02T21:10:44.873Z"
   },
   {
    "duration": 4,
    "start_time": "2023-02-02T21:13:00.002Z"
   },
   {
    "duration": 1124,
    "start_time": "2023-02-02T21:13:10.036Z"
   },
   {
    "duration": 32,
    "start_time": "2023-02-02T21:13:11.162Z"
   },
   {
    "duration": 36,
    "start_time": "2023-02-02T21:13:11.196Z"
   },
   {
    "duration": 17,
    "start_time": "2023-02-02T21:13:11.235Z"
   },
   {
    "duration": 4,
    "start_time": "2023-02-02T21:13:11.253Z"
   },
   {
    "duration": 8,
    "start_time": "2023-02-02T21:13:11.259Z"
   },
   {
    "duration": 12,
    "start_time": "2023-02-02T21:13:11.268Z"
   },
   {
    "duration": 10,
    "start_time": "2023-02-02T21:13:11.282Z"
   },
   {
    "duration": 11,
    "start_time": "2023-02-02T21:13:11.294Z"
   },
   {
    "duration": 6,
    "start_time": "2023-02-02T21:13:11.307Z"
   },
   {
    "duration": 46,
    "start_time": "2023-02-02T21:13:11.314Z"
   },
   {
    "duration": 293,
    "start_time": "2023-02-02T21:13:11.362Z"
   },
   {
    "duration": 222,
    "start_time": "2023-02-02T21:13:11.657Z"
   },
   {
    "duration": 272,
    "start_time": "2023-02-02T21:13:11.881Z"
   },
   {
    "duration": 6,
    "start_time": "2023-02-02T21:13:12.154Z"
   },
   {
    "duration": 7,
    "start_time": "2023-02-02T21:13:12.161Z"
   },
   {
    "duration": 194,
    "start_time": "2023-02-02T21:13:12.169Z"
   },
   {
    "duration": 292,
    "start_time": "2023-02-02T21:13:12.365Z"
   },
   {
    "duration": 6,
    "start_time": "2023-02-02T21:13:12.659Z"
   },
   {
    "duration": 128,
    "start_time": "2023-02-02T21:13:12.666Z"
   },
   {
    "duration": 4,
    "start_time": "2023-02-02T21:13:12.795Z"
   },
   {
    "duration": 10,
    "start_time": "2023-02-02T21:13:12.801Z"
   },
   {
    "duration": 131,
    "start_time": "2023-02-02T21:13:12.813Z"
   },
   {
    "duration": 8,
    "start_time": "2023-02-02T21:13:12.946Z"
   },
   {
    "duration": 19,
    "start_time": "2023-02-02T21:13:12.956Z"
   },
   {
    "duration": 10,
    "start_time": "2023-02-02T21:13:12.977Z"
   },
   {
    "duration": 103,
    "start_time": "2023-02-02T21:13:12.989Z"
   },
   {
    "duration": 159,
    "start_time": "2023-02-02T21:13:13.097Z"
   },
   {
    "duration": 201,
    "start_time": "2023-02-02T21:13:13.257Z"
   },
   {
    "duration": 234,
    "start_time": "2023-02-02T21:13:13.460Z"
   },
   {
    "duration": 10,
    "start_time": "2023-02-02T21:13:13.696Z"
   },
   {
    "duration": 7,
    "start_time": "2023-02-02T21:13:13.708Z"
   },
   {
    "duration": 121,
    "start_time": "2023-02-02T21:13:13.717Z"
   },
   {
    "duration": 0,
    "start_time": "2023-02-02T21:13:13.839Z"
   },
   {
    "duration": 0,
    "start_time": "2023-02-02T21:13:13.841Z"
   },
   {
    "duration": 0,
    "start_time": "2023-02-02T21:13:13.842Z"
   },
   {
    "duration": 0,
    "start_time": "2023-02-02T21:13:13.852Z"
   },
   {
    "duration": 0,
    "start_time": "2023-02-02T21:13:13.854Z"
   },
   {
    "duration": 0,
    "start_time": "2023-02-02T21:13:13.855Z"
   },
   {
    "duration": 0,
    "start_time": "2023-02-02T21:13:13.856Z"
   },
   {
    "duration": 11,
    "start_time": "2023-02-02T21:14:31.727Z"
   },
   {
    "duration": 11,
    "start_time": "2023-02-02T21:15:10.299Z"
   },
   {
    "duration": 11,
    "start_time": "2023-02-02T21:16:31.060Z"
   },
   {
    "duration": 13,
    "start_time": "2023-02-02T21:16:42.423Z"
   },
   {
    "duration": 41,
    "start_time": "2023-02-02T21:16:58.607Z"
   },
   {
    "duration": 17,
    "start_time": "2023-02-02T21:17:06.828Z"
   },
   {
    "duration": 218,
    "start_time": "2023-02-02T21:17:39.441Z"
   },
   {
    "duration": 19,
    "start_time": "2023-02-02T21:18:27.698Z"
   },
   {
    "duration": 39,
    "start_time": "2023-02-02T21:18:35.431Z"
   },
   {
    "duration": 19,
    "start_time": "2023-02-02T21:18:55.283Z"
   },
   {
    "duration": 12,
    "start_time": "2023-02-02T21:19:59.407Z"
   },
   {
    "duration": 12,
    "start_time": "2023-02-02T21:20:10.804Z"
   },
   {
    "duration": 19,
    "start_time": "2023-02-02T21:20:17.467Z"
   },
   {
    "duration": 271,
    "start_time": "2023-02-02T21:20:22.894Z"
   },
   {
    "duration": 770,
    "start_time": "2023-02-02T21:20:40.506Z"
   },
   {
    "duration": 332,
    "start_time": "2023-02-02T21:20:48.850Z"
   },
   {
    "duration": 1087,
    "start_time": "2023-02-02T21:30:36.288Z"
   },
   {
    "duration": 34,
    "start_time": "2023-02-02T21:30:37.378Z"
   },
   {
    "duration": 39,
    "start_time": "2023-02-02T21:30:37.414Z"
   },
   {
    "duration": 19,
    "start_time": "2023-02-02T21:30:37.455Z"
   },
   {
    "duration": 4,
    "start_time": "2023-02-02T21:30:37.475Z"
   },
   {
    "duration": 10,
    "start_time": "2023-02-02T21:30:37.481Z"
   },
   {
    "duration": 15,
    "start_time": "2023-02-02T21:30:37.493Z"
   },
   {
    "duration": 10,
    "start_time": "2023-02-02T21:30:37.510Z"
   },
   {
    "duration": 34,
    "start_time": "2023-02-02T21:30:37.522Z"
   },
   {
    "duration": 5,
    "start_time": "2023-02-02T21:30:37.558Z"
   },
   {
    "duration": 16,
    "start_time": "2023-02-02T21:30:37.565Z"
   },
   {
    "duration": 275,
    "start_time": "2023-02-02T21:30:37.582Z"
   },
   {
    "duration": 211,
    "start_time": "2023-02-02T21:30:37.858Z"
   },
   {
    "duration": 291,
    "start_time": "2023-02-02T21:30:38.070Z"
   },
   {
    "duration": 6,
    "start_time": "2023-02-02T21:30:38.363Z"
   },
   {
    "duration": 7,
    "start_time": "2023-02-02T21:30:38.370Z"
   },
   {
    "duration": 203,
    "start_time": "2023-02-02T21:30:38.379Z"
   },
   {
    "duration": 278,
    "start_time": "2023-02-02T21:30:38.583Z"
   },
   {
    "duration": 6,
    "start_time": "2023-02-02T21:30:38.863Z"
   },
   {
    "duration": 133,
    "start_time": "2023-02-02T21:30:38.871Z"
   },
   {
    "duration": 4,
    "start_time": "2023-02-02T21:30:39.006Z"
   },
   {
    "duration": 11,
    "start_time": "2023-02-02T21:30:39.011Z"
   },
   {
    "duration": 134,
    "start_time": "2023-02-02T21:30:39.023Z"
   },
   {
    "duration": 4,
    "start_time": "2023-02-02T21:30:39.159Z"
   },
   {
    "duration": 18,
    "start_time": "2023-02-02T21:30:39.165Z"
   },
   {
    "duration": 14,
    "start_time": "2023-02-02T21:30:39.184Z"
   },
   {
    "duration": 100,
    "start_time": "2023-02-02T21:30:39.200Z"
   },
   {
    "duration": 149,
    "start_time": "2023-02-02T21:30:39.304Z"
   },
   {
    "duration": 220,
    "start_time": "2023-02-02T21:30:39.455Z"
   },
   {
    "duration": 211,
    "start_time": "2023-02-02T21:30:39.678Z"
   },
   {
    "duration": 10,
    "start_time": "2023-02-02T21:30:39.891Z"
   },
   {
    "duration": 11,
    "start_time": "2023-02-02T21:30:39.903Z"
   },
   {
    "duration": 9,
    "start_time": "2023-02-02T21:30:39.916Z"
   },
   {
    "duration": 36,
    "start_time": "2023-02-02T21:30:39.927Z"
   },
   {
    "duration": 198,
    "start_time": "2023-02-02T21:30:39.965Z"
   },
   {
    "duration": 15,
    "start_time": "2023-02-02T21:30:40.164Z"
   },
   {
    "duration": 18,
    "start_time": "2023-02-02T21:30:40.180Z"
   },
   {
    "duration": 345,
    "start_time": "2023-02-02T21:30:40.199Z"
   },
   {
    "duration": 65,
    "start_time": "2023-02-03T16:41:02.147Z"
   },
   {
    "duration": 1409,
    "start_time": "2023-02-03T16:41:34.079Z"
   },
   {
    "duration": 92,
    "start_time": "2023-02-03T16:41:35.490Z"
   },
   {
    "duration": 97,
    "start_time": "2023-02-03T16:41:35.585Z"
   },
   {
    "duration": 72,
    "start_time": "2023-02-03T16:41:35.685Z"
   },
   {
    "duration": 4,
    "start_time": "2023-02-03T16:41:35.759Z"
   },
   {
    "duration": 24,
    "start_time": "2023-02-03T16:41:35.764Z"
   },
   {
    "duration": 20,
    "start_time": "2023-02-03T16:41:35.789Z"
   },
   {
    "duration": 10,
    "start_time": "2023-02-03T16:41:35.810Z"
   },
   {
    "duration": 17,
    "start_time": "2023-02-03T16:41:35.822Z"
   },
   {
    "duration": 15,
    "start_time": "2023-02-03T16:41:35.841Z"
   },
   {
    "duration": 22,
    "start_time": "2023-02-03T16:41:35.858Z"
   },
   {
    "duration": 311,
    "start_time": "2023-02-03T16:41:35.881Z"
   },
   {
    "duration": 224,
    "start_time": "2023-02-03T16:41:36.194Z"
   },
   {
    "duration": 400,
    "start_time": "2023-02-03T16:41:36.420Z"
   },
   {
    "duration": 8,
    "start_time": "2023-02-03T16:41:36.823Z"
   },
   {
    "duration": 8,
    "start_time": "2023-02-03T16:41:36.833Z"
   },
   {
    "duration": 239,
    "start_time": "2023-02-03T16:41:36.842Z"
   },
   {
    "duration": 311,
    "start_time": "2023-02-03T16:41:37.082Z"
   },
   {
    "duration": 7,
    "start_time": "2023-02-03T16:41:37.395Z"
   },
   {
    "duration": 146,
    "start_time": "2023-02-03T16:41:37.404Z"
   },
   {
    "duration": 4,
    "start_time": "2023-02-03T16:41:37.552Z"
   },
   {
    "duration": 28,
    "start_time": "2023-02-03T16:41:37.557Z"
   },
   {
    "duration": 131,
    "start_time": "2023-02-03T16:41:37.587Z"
   },
   {
    "duration": 6,
    "start_time": "2023-02-03T16:41:37.720Z"
   },
   {
    "duration": 23,
    "start_time": "2023-02-03T16:41:37.727Z"
   },
   {
    "duration": 33,
    "start_time": "2023-02-03T16:41:37.751Z"
   },
   {
    "duration": 84,
    "start_time": "2023-02-03T16:41:37.786Z"
   },
   {
    "duration": 179,
    "start_time": "2023-02-03T16:41:37.873Z"
   },
   {
    "duration": 238,
    "start_time": "2023-02-03T16:41:38.054Z"
   },
   {
    "duration": 230,
    "start_time": "2023-02-03T16:41:38.293Z"
   },
   {
    "duration": 12,
    "start_time": "2023-02-03T16:41:38.526Z"
   },
   {
    "duration": 35,
    "start_time": "2023-02-03T16:41:38.540Z"
   },
   {
    "duration": 12,
    "start_time": "2023-02-03T16:41:38.589Z"
   },
   {
    "duration": 16,
    "start_time": "2023-02-03T16:41:38.603Z"
   },
   {
    "duration": 263,
    "start_time": "2023-02-03T16:41:38.621Z"
   },
   {
    "duration": 16,
    "start_time": "2023-02-03T16:41:38.886Z"
   },
   {
    "duration": 24,
    "start_time": "2023-02-03T16:41:38.904Z"
   },
   {
    "duration": 379,
    "start_time": "2023-02-03T16:41:38.929Z"
   },
   {
    "duration": 19,
    "start_time": "2023-02-03T16:41:47.923Z"
   },
   {
    "duration": 295,
    "start_time": "2023-02-03T16:42:11.722Z"
   },
   {
    "duration": 333,
    "start_time": "2023-02-03T16:42:24.885Z"
   },
   {
    "duration": 27,
    "start_time": "2023-02-03T16:47:31.095Z"
   },
   {
    "duration": 11,
    "start_time": "2023-02-03T16:48:03.198Z"
   },
   {
    "duration": 31,
    "start_time": "2023-02-03T16:48:18.831Z"
   },
   {
    "duration": 28,
    "start_time": "2023-02-03T16:49:04.094Z"
   },
   {
    "duration": 47,
    "start_time": "2023-02-03T16:50:50.470Z"
   },
   {
    "duration": 27,
    "start_time": "2023-02-03T16:51:21.511Z"
   },
   {
    "duration": 16,
    "start_time": "2023-02-03T16:53:44.311Z"
   },
   {
    "duration": 273,
    "start_time": "2023-02-03T16:53:57.317Z"
   },
   {
    "duration": 285,
    "start_time": "2023-02-03T16:56:35.294Z"
   },
   {
    "duration": 318,
    "start_time": "2023-02-03T16:56:48.037Z"
   },
   {
    "duration": 309,
    "start_time": "2023-02-03T16:57:48.946Z"
   },
   {
    "duration": 337,
    "start_time": "2023-02-03T16:58:09.937Z"
   },
   {
    "duration": 205,
    "start_time": "2023-02-03T16:59:23.781Z"
   },
   {
    "duration": 293,
    "start_time": "2023-02-03T16:59:47.126Z"
   },
   {
    "duration": 144,
    "start_time": "2023-02-03T17:00:23.319Z"
   },
   {
    "duration": 130,
    "start_time": "2023-02-03T17:01:02.515Z"
   },
   {
    "duration": 305,
    "start_time": "2023-02-03T17:01:26.909Z"
   },
   {
    "duration": 1116,
    "start_time": "2023-02-03T17:01:58.887Z"
   },
   {
    "duration": 39,
    "start_time": "2023-02-03T17:02:00.005Z"
   },
   {
    "duration": 41,
    "start_time": "2023-02-03T17:02:00.046Z"
   },
   {
    "duration": 18,
    "start_time": "2023-02-03T17:02:00.089Z"
   },
   {
    "duration": 38,
    "start_time": "2023-02-03T17:02:00.109Z"
   },
   {
    "duration": 14,
    "start_time": "2023-02-03T17:02:00.149Z"
   },
   {
    "duration": 22,
    "start_time": "2023-02-03T17:02:00.165Z"
   },
   {
    "duration": 43,
    "start_time": "2023-02-03T17:02:00.189Z"
   },
   {
    "duration": 60,
    "start_time": "2023-02-03T17:02:00.234Z"
   },
   {
    "duration": 37,
    "start_time": "2023-02-03T17:02:00.297Z"
   },
   {
    "duration": 32,
    "start_time": "2023-02-03T17:02:00.336Z"
   },
   {
    "duration": 35,
    "start_time": "2023-02-03T17:02:00.370Z"
   },
   {
    "duration": 301,
    "start_time": "2023-02-03T17:02:00.407Z"
   },
   {
    "duration": 230,
    "start_time": "2023-02-03T17:02:00.710Z"
   },
   {
    "duration": 344,
    "start_time": "2023-02-03T17:02:00.941Z"
   },
   {
    "duration": 6,
    "start_time": "2023-02-03T17:02:01.287Z"
   },
   {
    "duration": 32,
    "start_time": "2023-02-03T17:02:01.295Z"
   },
   {
    "duration": 223,
    "start_time": "2023-02-03T17:02:01.328Z"
   },
   {
    "duration": 323,
    "start_time": "2023-02-03T17:02:01.553Z"
   },
   {
    "duration": 7,
    "start_time": "2023-02-03T17:02:01.878Z"
   },
   {
    "duration": 187,
    "start_time": "2023-02-03T17:02:01.886Z"
   },
   {
    "duration": 4,
    "start_time": "2023-02-03T17:02:02.076Z"
   },
   {
    "duration": 43,
    "start_time": "2023-02-03T17:02:02.082Z"
   },
   {
    "duration": 179,
    "start_time": "2023-02-03T17:02:02.127Z"
   },
   {
    "duration": 4,
    "start_time": "2023-02-03T17:02:02.308Z"
   },
   {
    "duration": 49,
    "start_time": "2023-02-03T17:02:02.313Z"
   },
   {
    "duration": 24,
    "start_time": "2023-02-03T17:02:02.364Z"
   },
   {
    "duration": 41,
    "start_time": "2023-02-03T17:02:02.392Z"
   },
   {
    "duration": 276,
    "start_time": "2023-02-03T17:02:02.435Z"
   },
   {
    "duration": 222,
    "start_time": "2023-02-03T17:02:02.713Z"
   },
   {
    "duration": 225,
    "start_time": "2023-02-03T17:02:02.937Z"
   },
   {
    "duration": 11,
    "start_time": "2023-02-03T17:02:03.164Z"
   },
   {
    "duration": 7,
    "start_time": "2023-02-03T17:02:03.176Z"
   },
   {
    "duration": 25,
    "start_time": "2023-02-03T17:02:03.185Z"
   },
   {
    "duration": 44,
    "start_time": "2023-02-03T17:02:03.211Z"
   },
   {
    "duration": 220,
    "start_time": "2023-02-03T17:02:03.257Z"
   },
   {
    "duration": 17,
    "start_time": "2023-02-03T17:02:03.479Z"
   },
   {
    "duration": 19,
    "start_time": "2023-02-03T17:02:03.497Z"
   },
   {
    "duration": 383,
    "start_time": "2023-02-03T17:02:03.518Z"
   },
   {
    "duration": 47,
    "start_time": "2023-02-04T14:33:37.196Z"
   },
   {
    "duration": 1325,
    "start_time": "2023-02-04T14:33:44.764Z"
   },
   {
    "duration": 103,
    "start_time": "2023-02-04T14:33:46.091Z"
   },
   {
    "duration": 113,
    "start_time": "2023-02-04T14:33:46.196Z"
   },
   {
    "duration": 86,
    "start_time": "2023-02-04T14:33:46.312Z"
   },
   {
    "duration": 33,
    "start_time": "2023-02-04T14:33:46.399Z"
   },
   {
    "duration": 7,
    "start_time": "2023-02-04T14:33:46.434Z"
   },
   {
    "duration": 28,
    "start_time": "2023-02-04T14:33:46.443Z"
   },
   {
    "duration": 15,
    "start_time": "2023-02-04T14:33:46.473Z"
   },
   {
    "duration": 10,
    "start_time": "2023-02-04T14:33:46.489Z"
   },
   {
    "duration": 20,
    "start_time": "2023-02-04T14:33:46.501Z"
   },
   {
    "duration": 10,
    "start_time": "2023-02-04T14:33:46.522Z"
   },
   {
    "duration": 26,
    "start_time": "2023-02-04T14:33:46.533Z"
   },
   {
    "duration": 309,
    "start_time": "2023-02-04T14:33:46.561Z"
   },
   {
    "duration": 292,
    "start_time": "2023-02-04T14:33:46.872Z"
   },
   {
    "duration": 440,
    "start_time": "2023-02-04T14:33:47.165Z"
   },
   {
    "duration": 9,
    "start_time": "2023-02-04T14:33:47.607Z"
   },
   {
    "duration": 45,
    "start_time": "2023-02-04T14:33:47.618Z"
   },
   {
    "duration": 216,
    "start_time": "2023-02-04T14:33:47.665Z"
   },
   {
    "duration": 339,
    "start_time": "2023-02-04T14:33:47.883Z"
   },
   {
    "duration": 15,
    "start_time": "2023-02-04T14:33:48.224Z"
   },
   {
    "duration": 172,
    "start_time": "2023-02-04T14:33:48.240Z"
   },
   {
    "duration": 4,
    "start_time": "2023-02-04T14:33:48.413Z"
   },
   {
    "duration": 47,
    "start_time": "2023-02-04T14:33:48.418Z"
   },
   {
    "duration": 142,
    "start_time": "2023-02-04T14:33:48.466Z"
   },
   {
    "duration": 4,
    "start_time": "2023-02-04T14:33:48.610Z"
   },
   {
    "duration": 27,
    "start_time": "2023-02-04T14:33:48.616Z"
   },
   {
    "duration": 202,
    "start_time": "2023-02-04T14:33:48.644Z"
   },
   {
    "duration": 0,
    "start_time": "2023-02-04T14:33:48.848Z"
   },
   {
    "duration": 0,
    "start_time": "2023-02-04T14:33:48.849Z"
   },
   {
    "duration": 0,
    "start_time": "2023-02-04T14:33:48.850Z"
   },
   {
    "duration": 0,
    "start_time": "2023-02-04T14:33:48.973Z"
   },
   {
    "duration": 0,
    "start_time": "2023-02-04T14:33:48.974Z"
   },
   {
    "duration": 0,
    "start_time": "2023-02-04T14:33:48.975Z"
   },
   {
    "duration": 0,
    "start_time": "2023-02-04T14:33:48.976Z"
   },
   {
    "duration": 0,
    "start_time": "2023-02-04T14:33:48.977Z"
   },
   {
    "duration": 0,
    "start_time": "2023-02-04T14:33:48.978Z"
   },
   {
    "duration": 0,
    "start_time": "2023-02-04T14:33:49.027Z"
   },
   {
    "duration": 0,
    "start_time": "2023-02-04T14:33:49.029Z"
   },
   {
    "duration": 92,
    "start_time": "2023-02-04T14:36:22.236Z"
   },
   {
    "duration": 8,
    "start_time": "2023-02-04T14:38:30.883Z"
   },
   {
    "duration": 7,
    "start_time": "2023-02-04T14:38:41.643Z"
   },
   {
    "duration": 6,
    "start_time": "2023-02-04T14:38:49.582Z"
   },
   {
    "duration": 50,
    "start_time": "2023-02-04T14:41:18.844Z"
   },
   {
    "duration": 11,
    "start_time": "2023-02-04T14:41:39.143Z"
   },
   {
    "duration": 7,
    "start_time": "2023-02-04T14:41:58.401Z"
   },
   {
    "duration": 9,
    "start_time": "2023-02-04T14:42:01.942Z"
   },
   {
    "duration": 7,
    "start_time": "2023-02-04T14:45:24.989Z"
   },
   {
    "duration": 12,
    "start_time": "2023-02-04T14:45:43.443Z"
   },
   {
    "duration": 76,
    "start_time": "2023-02-04T14:55:58.480Z"
   },
   {
    "duration": 305,
    "start_time": "2023-02-04T14:58:14.956Z"
   },
   {
    "duration": 323,
    "start_time": "2023-02-04T14:59:18.145Z"
   },
   {
    "duration": 76,
    "start_time": "2023-02-04T15:00:41.286Z"
   },
   {
    "duration": 72,
    "start_time": "2023-02-04T15:02:12.673Z"
   },
   {
    "duration": 8,
    "start_time": "2023-02-04T15:03:51.461Z"
   },
   {
    "duration": 9,
    "start_time": "2023-02-04T15:04:24.984Z"
   },
   {
    "duration": 138,
    "start_time": "2023-02-04T15:04:35.563Z"
   },
   {
    "duration": 154,
    "start_time": "2023-02-04T15:04:38.180Z"
   },
   {
    "duration": 1076,
    "start_time": "2023-02-04T15:04:53.020Z"
   },
   {
    "duration": 43,
    "start_time": "2023-02-04T15:04:54.098Z"
   },
   {
    "duration": 39,
    "start_time": "2023-02-04T15:04:54.143Z"
   },
   {
    "duration": 17,
    "start_time": "2023-02-04T15:04:54.184Z"
   },
   {
    "duration": 47,
    "start_time": "2023-02-04T15:04:54.202Z"
   },
   {
    "duration": 2,
    "start_time": "2023-02-04T15:04:54.251Z"
   },
   {
    "duration": 15,
    "start_time": "2023-02-04T15:04:54.255Z"
   },
   {
    "duration": 27,
    "start_time": "2023-02-04T15:04:54.272Z"
   },
   {
    "duration": 43,
    "start_time": "2023-02-04T15:04:54.301Z"
   },
   {
    "duration": 13,
    "start_time": "2023-02-04T15:04:54.347Z"
   },
   {
    "duration": 32,
    "start_time": "2023-02-04T15:04:54.361Z"
   },
   {
    "duration": 41,
    "start_time": "2023-02-04T15:04:54.394Z"
   },
   {
    "duration": 36,
    "start_time": "2023-02-04T15:04:54.437Z"
   },
   {
    "duration": 25,
    "start_time": "2023-02-04T15:04:54.474Z"
   },
   {
    "duration": 25,
    "start_time": "2023-02-04T15:04:54.500Z"
   },
   {
    "duration": 289,
    "start_time": "2023-02-04T15:04:54.527Z"
   },
   {
    "duration": 196,
    "start_time": "2023-02-04T15:04:54.818Z"
   },
   {
    "duration": 353,
    "start_time": "2023-02-04T15:04:55.016Z"
   },
   {
    "duration": 6,
    "start_time": "2023-02-04T15:04:55.371Z"
   },
   {
    "duration": 11,
    "start_time": "2023-02-04T15:04:55.379Z"
   },
   {
    "duration": 222,
    "start_time": "2023-02-04T15:04:55.392Z"
   },
   {
    "duration": 335,
    "start_time": "2023-02-04T15:04:55.616Z"
   },
   {
    "duration": 7,
    "start_time": "2023-02-04T15:04:55.953Z"
   },
   {
    "duration": 160,
    "start_time": "2023-02-04T15:04:55.961Z"
   },
   {
    "duration": 15,
    "start_time": "2023-02-04T15:04:56.122Z"
   },
   {
    "duration": 18,
    "start_time": "2023-02-04T15:04:56.139Z"
   },
   {
    "duration": 144,
    "start_time": "2023-02-04T15:04:56.159Z"
   },
   {
    "duration": 4,
    "start_time": "2023-02-04T15:04:56.306Z"
   },
   {
    "duration": 34,
    "start_time": "2023-02-04T15:04:56.312Z"
   },
   {
    "duration": 221,
    "start_time": "2023-02-04T15:04:56.348Z"
   },
   {
    "duration": 212,
    "start_time": "2023-02-04T15:04:56.571Z"
   },
   {
    "duration": 0,
    "start_time": "2023-02-04T15:04:56.784Z"
   },
   {
    "duration": 0,
    "start_time": "2023-02-04T15:04:56.785Z"
   },
   {
    "duration": 0,
    "start_time": "2023-02-04T15:04:56.786Z"
   },
   {
    "duration": 0,
    "start_time": "2023-02-04T15:04:56.787Z"
   },
   {
    "duration": 0,
    "start_time": "2023-02-04T15:04:56.788Z"
   },
   {
    "duration": 0,
    "start_time": "2023-02-04T15:04:56.789Z"
   },
   {
    "duration": 0,
    "start_time": "2023-02-04T15:04:56.790Z"
   },
   {
    "duration": 0,
    "start_time": "2023-02-04T15:04:56.791Z"
   },
   {
    "duration": 0,
    "start_time": "2023-02-04T15:04:56.792Z"
   },
   {
    "duration": 0,
    "start_time": "2023-02-04T15:04:56.793Z"
   },
   {
    "duration": 20,
    "start_time": "2023-02-04T15:09:27.626Z"
   },
   {
    "duration": 12,
    "start_time": "2023-02-04T15:10:31.544Z"
   },
   {
    "duration": 137,
    "start_time": "2023-02-04T15:10:35.766Z"
   },
   {
    "duration": 4,
    "start_time": "2023-02-04T15:10:40.637Z"
   },
   {
    "duration": 34,
    "start_time": "2023-02-04T15:10:40.642Z"
   },
   {
    "duration": 38,
    "start_time": "2023-02-04T15:10:40.678Z"
   },
   {
    "duration": 18,
    "start_time": "2023-02-04T15:10:40.718Z"
   },
   {
    "duration": 30,
    "start_time": "2023-02-04T15:10:40.738Z"
   },
   {
    "duration": 3,
    "start_time": "2023-02-04T15:10:40.770Z"
   },
   {
    "duration": 7,
    "start_time": "2023-02-04T15:10:40.775Z"
   },
   {
    "duration": 10,
    "start_time": "2023-02-04T15:10:40.783Z"
   },
   {
    "duration": 50,
    "start_time": "2023-02-04T15:10:40.795Z"
   },
   {
    "duration": 17,
    "start_time": "2023-02-04T15:10:40.848Z"
   },
   {
    "duration": 5,
    "start_time": "2023-02-04T15:10:40.867Z"
   },
   {
    "duration": 7,
    "start_time": "2023-02-04T15:10:40.874Z"
   },
   {
    "duration": 9,
    "start_time": "2023-02-04T15:10:40.883Z"
   },
   {
    "duration": 12,
    "start_time": "2023-02-04T15:10:40.894Z"
   },
   {
    "duration": 20,
    "start_time": "2023-02-04T15:10:40.908Z"
   },
   {
    "duration": 191,
    "start_time": "2023-02-04T15:10:40.929Z"
   },
   {
    "duration": 201,
    "start_time": "2023-02-04T15:10:41.122Z"
   },
   {
    "duration": 292,
    "start_time": "2023-02-04T15:10:41.328Z"
   },
   {
    "duration": 7,
    "start_time": "2023-02-04T15:10:41.627Z"
   },
   {
    "duration": 8,
    "start_time": "2023-02-04T15:10:41.635Z"
   },
   {
    "duration": 197,
    "start_time": "2023-02-04T15:10:41.644Z"
   },
   {
    "duration": 292,
    "start_time": "2023-02-04T15:10:41.842Z"
   },
   {
    "duration": 6,
    "start_time": "2023-02-04T15:10:42.135Z"
   },
   {
    "duration": 140,
    "start_time": "2023-02-04T15:10:42.143Z"
   },
   {
    "duration": 4,
    "start_time": "2023-02-04T15:10:42.284Z"
   },
   {
    "duration": 10,
    "start_time": "2023-02-04T15:10:42.289Z"
   },
   {
    "duration": 152,
    "start_time": "2023-02-04T15:10:42.301Z"
   },
   {
    "duration": 4,
    "start_time": "2023-02-04T15:10:42.455Z"
   },
   {
    "duration": 15,
    "start_time": "2023-02-04T15:10:42.462Z"
   },
   {
    "duration": 11,
    "start_time": "2023-02-04T15:10:42.478Z"
   },
   {
    "duration": 42,
    "start_time": "2023-02-04T15:10:42.490Z"
   },
   {
    "duration": 140,
    "start_time": "2023-02-04T15:10:42.534Z"
   },
   {
    "duration": 21,
    "start_time": "2023-02-04T15:10:42.675Z"
   },
   {
    "duration": 32,
    "start_time": "2023-02-04T15:10:42.697Z"
   },
   {
    "duration": 10,
    "start_time": "2023-02-04T15:10:42.731Z"
   },
   {
    "duration": 9,
    "start_time": "2023-02-04T15:10:42.742Z"
   },
   {
    "duration": 9,
    "start_time": "2023-02-04T15:10:42.753Z"
   },
   {
    "duration": 9,
    "start_time": "2023-02-04T15:10:42.764Z"
   },
   {
    "duration": 53,
    "start_time": "2023-02-04T15:10:42.775Z"
   },
   {
    "duration": 17,
    "start_time": "2023-02-04T15:10:42.830Z"
   },
   {
    "duration": 22,
    "start_time": "2023-02-04T15:10:42.848Z"
   },
   {
    "duration": 341,
    "start_time": "2023-02-04T15:10:42.872Z"
   },
   {
    "duration": 14,
    "start_time": "2023-02-04T16:17:26.778Z"
   },
   {
    "duration": 14,
    "start_time": "2023-02-04T16:17:36.657Z"
   },
   {
    "duration": 11,
    "start_time": "2023-02-04T16:18:12.828Z"
   },
   {
    "duration": 12,
    "start_time": "2023-02-04T16:18:14.157Z"
   },
   {
    "duration": 15,
    "start_time": "2023-02-04T16:18:18.661Z"
   },
   {
    "duration": 16,
    "start_time": "2023-02-04T16:18:25.127Z"
   },
   {
    "duration": 6,
    "start_time": "2023-02-04T18:16:05.951Z"
   },
   {
    "duration": 12,
    "start_time": "2023-02-04T18:16:14.453Z"
   },
   {
    "duration": 3,
    "start_time": "2023-02-04T18:16:37.862Z"
   },
   {
    "duration": 95,
    "start_time": "2023-02-04T18:16:37.868Z"
   },
   {
    "duration": 102,
    "start_time": "2023-02-04T18:16:37.965Z"
   },
   {
    "duration": 68,
    "start_time": "2023-02-04T18:16:38.069Z"
   },
   {
    "duration": 31,
    "start_time": "2023-02-04T18:16:38.140Z"
   },
   {
    "duration": 3,
    "start_time": "2023-02-04T18:16:38.173Z"
   },
   {
    "duration": 7,
    "start_time": "2023-02-04T18:16:38.178Z"
   },
   {
    "duration": 12,
    "start_time": "2023-02-04T18:16:38.186Z"
   },
   {
    "duration": 35,
    "start_time": "2023-02-04T18:16:38.199Z"
   },
   {
    "duration": 12,
    "start_time": "2023-02-04T18:16:38.236Z"
   },
   {
    "duration": 5,
    "start_time": "2023-02-04T18:16:38.250Z"
   },
   {
    "duration": 12,
    "start_time": "2023-02-04T18:16:38.256Z"
   },
   {
    "duration": 0,
    "start_time": "2023-02-04T18:16:38.270Z"
   },
   {
    "duration": 0,
    "start_time": "2023-02-04T18:16:38.271Z"
   },
   {
    "duration": 0,
    "start_time": "2023-02-04T18:16:38.272Z"
   },
   {
    "duration": 0,
    "start_time": "2023-02-04T18:16:38.273Z"
   },
   {
    "duration": 0,
    "start_time": "2023-02-04T18:16:38.274Z"
   },
   {
    "duration": 0,
    "start_time": "2023-02-04T18:16:38.275Z"
   },
   {
    "duration": 0,
    "start_time": "2023-02-04T18:16:38.276Z"
   },
   {
    "duration": 0,
    "start_time": "2023-02-04T18:16:38.277Z"
   },
   {
    "duration": 0,
    "start_time": "2023-02-04T18:16:38.278Z"
   },
   {
    "duration": 0,
    "start_time": "2023-02-04T18:16:38.279Z"
   },
   {
    "duration": 0,
    "start_time": "2023-02-04T18:16:38.280Z"
   },
   {
    "duration": 0,
    "start_time": "2023-02-04T18:16:38.281Z"
   },
   {
    "duration": 0,
    "start_time": "2023-02-04T18:16:38.281Z"
   },
   {
    "duration": 0,
    "start_time": "2023-02-04T18:16:38.282Z"
   },
   {
    "duration": 0,
    "start_time": "2023-02-04T18:16:38.283Z"
   },
   {
    "duration": 0,
    "start_time": "2023-02-04T18:16:38.284Z"
   },
   {
    "duration": 0,
    "start_time": "2023-02-04T18:16:38.285Z"
   },
   {
    "duration": 0,
    "start_time": "2023-02-04T18:16:38.286Z"
   },
   {
    "duration": 0,
    "start_time": "2023-02-04T18:16:38.287Z"
   },
   {
    "duration": 0,
    "start_time": "2023-02-04T18:16:38.287Z"
   },
   {
    "duration": 0,
    "start_time": "2023-02-04T18:16:38.328Z"
   },
   {
    "duration": 0,
    "start_time": "2023-02-04T18:16:38.330Z"
   },
   {
    "duration": 0,
    "start_time": "2023-02-04T18:16:38.332Z"
   },
   {
    "duration": 0,
    "start_time": "2023-02-04T18:16:38.332Z"
   },
   {
    "duration": 0,
    "start_time": "2023-02-04T18:16:38.333Z"
   },
   {
    "duration": 0,
    "start_time": "2023-02-04T18:16:38.334Z"
   },
   {
    "duration": 0,
    "start_time": "2023-02-04T18:16:38.335Z"
   },
   {
    "duration": 0,
    "start_time": "2023-02-04T18:16:38.336Z"
   },
   {
    "duration": 0,
    "start_time": "2023-02-04T18:16:38.337Z"
   },
   {
    "duration": 0,
    "start_time": "2023-02-04T18:16:38.338Z"
   },
   {
    "duration": 1,
    "start_time": "2023-02-04T18:16:38.340Z"
   },
   {
    "duration": 0,
    "start_time": "2023-02-04T18:16:38.342Z"
   },
   {
    "duration": 0,
    "start_time": "2023-02-04T18:16:38.348Z"
   },
   {
    "duration": 0,
    "start_time": "2023-02-04T18:16:38.349Z"
   },
   {
    "duration": 0,
    "start_time": "2023-02-04T18:16:38.350Z"
   },
   {
    "duration": 0,
    "start_time": "2023-02-04T18:16:38.351Z"
   },
   {
    "duration": 0,
    "start_time": "2023-02-04T18:16:38.352Z"
   },
   {
    "duration": 0,
    "start_time": "2023-02-04T18:16:38.354Z"
   },
   {
    "duration": 10,
    "start_time": "2023-02-04T18:17:19.341Z"
   },
   {
    "duration": 33,
    "start_time": "2023-02-04T18:18:36.233Z"
   },
   {
    "duration": 10,
    "start_time": "2023-02-04T18:19:22.257Z"
   },
   {
    "duration": 26,
    "start_time": "2023-02-04T18:19:39.249Z"
   },
   {
    "duration": 4,
    "start_time": "2023-02-04T18:20:08.374Z"
   },
   {
    "duration": 42,
    "start_time": "2023-02-04T18:20:08.380Z"
   },
   {
    "duration": 41,
    "start_time": "2023-02-04T18:20:08.424Z"
   },
   {
    "duration": 17,
    "start_time": "2023-02-04T18:20:08.467Z"
   },
   {
    "duration": 31,
    "start_time": "2023-02-04T18:20:08.486Z"
   },
   {
    "duration": 4,
    "start_time": "2023-02-04T18:20:08.518Z"
   },
   {
    "duration": 9,
    "start_time": "2023-02-04T18:20:08.524Z"
   },
   {
    "duration": 12,
    "start_time": "2023-02-04T18:20:08.534Z"
   },
   {
    "duration": 12,
    "start_time": "2023-02-04T18:20:08.548Z"
   },
   {
    "duration": 14,
    "start_time": "2023-02-04T18:20:08.561Z"
   },
   {
    "duration": 5,
    "start_time": "2023-02-04T18:20:08.577Z"
   },
   {
    "duration": 10,
    "start_time": "2023-02-04T18:20:08.584Z"
   },
   {
    "duration": 0,
    "start_time": "2023-02-04T18:20:08.596Z"
   },
   {
    "duration": 0,
    "start_time": "2023-02-04T18:20:08.597Z"
   },
   {
    "duration": 0,
    "start_time": "2023-02-04T18:20:08.598Z"
   },
   {
    "duration": 0,
    "start_time": "2023-02-04T18:20:08.599Z"
   },
   {
    "duration": 0,
    "start_time": "2023-02-04T18:20:08.628Z"
   },
   {
    "duration": 0,
    "start_time": "2023-02-04T18:20:08.629Z"
   },
   {
    "duration": 0,
    "start_time": "2023-02-04T18:20:08.629Z"
   },
   {
    "duration": 0,
    "start_time": "2023-02-04T18:20:08.631Z"
   },
   {
    "duration": 0,
    "start_time": "2023-02-04T18:20:08.632Z"
   },
   {
    "duration": 0,
    "start_time": "2023-02-04T18:20:08.633Z"
   },
   {
    "duration": 0,
    "start_time": "2023-02-04T18:20:08.634Z"
   },
   {
    "duration": 0,
    "start_time": "2023-02-04T18:20:08.635Z"
   },
   {
    "duration": 0,
    "start_time": "2023-02-04T18:20:08.637Z"
   },
   {
    "duration": 0,
    "start_time": "2023-02-04T18:20:08.638Z"
   },
   {
    "duration": 0,
    "start_time": "2023-02-04T18:20:08.639Z"
   },
   {
    "duration": 0,
    "start_time": "2023-02-04T18:20:08.640Z"
   },
   {
    "duration": 0,
    "start_time": "2023-02-04T18:20:08.641Z"
   },
   {
    "duration": 0,
    "start_time": "2023-02-04T18:20:08.642Z"
   },
   {
    "duration": 0,
    "start_time": "2023-02-04T18:20:08.643Z"
   },
   {
    "duration": 0,
    "start_time": "2023-02-04T18:20:08.644Z"
   },
   {
    "duration": 0,
    "start_time": "2023-02-04T18:20:08.647Z"
   },
   {
    "duration": 0,
    "start_time": "2023-02-04T18:20:08.648Z"
   },
   {
    "duration": 0,
    "start_time": "2023-02-04T18:20:08.649Z"
   },
   {
    "duration": 0,
    "start_time": "2023-02-04T18:20:08.650Z"
   },
   {
    "duration": 0,
    "start_time": "2023-02-04T18:20:08.651Z"
   },
   {
    "duration": 0,
    "start_time": "2023-02-04T18:20:08.652Z"
   },
   {
    "duration": 0,
    "start_time": "2023-02-04T18:20:08.653Z"
   },
   {
    "duration": 0,
    "start_time": "2023-02-04T18:20:08.654Z"
   },
   {
    "duration": 0,
    "start_time": "2023-02-04T18:20:08.655Z"
   },
   {
    "duration": 0,
    "start_time": "2023-02-04T18:20:08.656Z"
   },
   {
    "duration": 0,
    "start_time": "2023-02-04T18:20:08.657Z"
   },
   {
    "duration": 0,
    "start_time": "2023-02-04T18:20:08.658Z"
   },
   {
    "duration": 0,
    "start_time": "2023-02-04T18:20:08.659Z"
   },
   {
    "duration": 27,
    "start_time": "2023-02-04T18:20:50.092Z"
   },
   {
    "duration": 26,
    "start_time": "2023-02-04T18:22:21.675Z"
   },
   {
    "duration": 3,
    "start_time": "2023-02-04T18:24:36.649Z"
   },
   {
    "duration": 4,
    "start_time": "2023-02-04T18:24:42.834Z"
   },
   {
    "duration": 69,
    "start_time": "2023-02-04T18:24:53.249Z"
   },
   {
    "duration": 26,
    "start_time": "2023-02-04T18:25:17.992Z"
   },
   {
    "duration": 20,
    "start_time": "2023-02-04T18:26:39.052Z"
   },
   {
    "duration": 16,
    "start_time": "2023-02-04T18:26:49.785Z"
   },
   {
    "duration": 12,
    "start_time": "2023-02-04T18:27:03.640Z"
   },
   {
    "duration": 11,
    "start_time": "2023-02-04T18:34:54.771Z"
   },
   {
    "duration": 11,
    "start_time": "2023-02-04T18:35:02.477Z"
   },
   {
    "duration": 23,
    "start_time": "2023-02-04T18:35:56.759Z"
   },
   {
    "duration": 61,
    "start_time": "2023-02-05T21:42:53.993Z"
   },
   {
    "duration": 1485,
    "start_time": "2023-02-05T21:44:58.933Z"
   },
   {
    "duration": 106,
    "start_time": "2023-02-05T21:45:00.421Z"
   },
   {
    "duration": 114,
    "start_time": "2023-02-05T21:45:00.529Z"
   },
   {
    "duration": 72,
    "start_time": "2023-02-05T21:45:00.645Z"
   },
   {
    "duration": 43,
    "start_time": "2023-02-05T21:45:00.719Z"
   },
   {
    "duration": 4,
    "start_time": "2023-02-05T21:45:00.764Z"
   },
   {
    "duration": 23,
    "start_time": "2023-02-05T21:45:00.770Z"
   },
   {
    "duration": 48,
    "start_time": "2023-02-05T21:45:00.795Z"
   },
   {
    "duration": 14,
    "start_time": "2023-02-05T21:45:00.845Z"
   },
   {
    "duration": 28,
    "start_time": "2023-02-05T21:45:00.862Z"
   },
   {
    "duration": 21,
    "start_time": "2023-02-05T21:45:00.892Z"
   },
   {
    "duration": 91,
    "start_time": "2023-02-05T21:45:00.915Z"
   },
   {
    "duration": 0,
    "start_time": "2023-02-05T21:45:01.008Z"
   },
   {
    "duration": 0,
    "start_time": "2023-02-05T21:45:01.010Z"
   },
   {
    "duration": 0,
    "start_time": "2023-02-05T21:45:01.011Z"
   },
   {
    "duration": 0,
    "start_time": "2023-02-05T21:45:01.012Z"
   },
   {
    "duration": 0,
    "start_time": "2023-02-05T21:45:01.013Z"
   },
   {
    "duration": 0,
    "start_time": "2023-02-05T21:45:01.014Z"
   },
   {
    "duration": 0,
    "start_time": "2023-02-05T21:45:01.015Z"
   },
   {
    "duration": 0,
    "start_time": "2023-02-05T21:45:01.016Z"
   },
   {
    "duration": 0,
    "start_time": "2023-02-05T21:45:01.016Z"
   },
   {
    "duration": 0,
    "start_time": "2023-02-05T21:45:01.017Z"
   },
   {
    "duration": 0,
    "start_time": "2023-02-05T21:45:01.018Z"
   },
   {
    "duration": 0,
    "start_time": "2023-02-05T21:45:01.021Z"
   },
   {
    "duration": 0,
    "start_time": "2023-02-05T21:45:01.022Z"
   },
   {
    "duration": 0,
    "start_time": "2023-02-05T21:45:01.023Z"
   },
   {
    "duration": 0,
    "start_time": "2023-02-05T21:45:01.025Z"
   },
   {
    "duration": 0,
    "start_time": "2023-02-05T21:45:01.026Z"
   },
   {
    "duration": 0,
    "start_time": "2023-02-05T21:45:01.028Z"
   },
   {
    "duration": 0,
    "start_time": "2023-02-05T21:45:01.029Z"
   },
   {
    "duration": 0,
    "start_time": "2023-02-05T21:45:01.031Z"
   },
   {
    "duration": 0,
    "start_time": "2023-02-05T21:45:01.032Z"
   },
   {
    "duration": 0,
    "start_time": "2023-02-05T21:45:01.033Z"
   },
   {
    "duration": 0,
    "start_time": "2023-02-05T21:45:01.035Z"
   },
   {
    "duration": 0,
    "start_time": "2023-02-05T21:45:01.036Z"
   },
   {
    "duration": 0,
    "start_time": "2023-02-05T21:45:01.037Z"
   },
   {
    "duration": 0,
    "start_time": "2023-02-05T21:45:01.039Z"
   },
   {
    "duration": 0,
    "start_time": "2023-02-05T21:45:01.040Z"
   },
   {
    "duration": 0,
    "start_time": "2023-02-05T21:45:01.042Z"
   },
   {
    "duration": 0,
    "start_time": "2023-02-05T21:45:01.044Z"
   },
   {
    "duration": 0,
    "start_time": "2023-02-05T21:45:01.045Z"
   },
   {
    "duration": 0,
    "start_time": "2023-02-05T21:45:01.046Z"
   },
   {
    "duration": 0,
    "start_time": "2023-02-05T21:45:01.047Z"
   },
   {
    "duration": 12,
    "start_time": "2023-02-05T21:48:11.506Z"
   },
   {
    "duration": 11,
    "start_time": "2023-02-05T21:52:55.546Z"
   },
   {
    "duration": 146,
    "start_time": "2023-02-05T21:53:06.945Z"
   },
   {
    "duration": 3,
    "start_time": "2023-02-05T21:53:12.511Z"
   },
   {
    "duration": 48,
    "start_time": "2023-02-05T21:53:12.517Z"
   },
   {
    "duration": 44,
    "start_time": "2023-02-05T21:53:12.567Z"
   },
   {
    "duration": 25,
    "start_time": "2023-02-05T21:53:12.614Z"
   },
   {
    "duration": 34,
    "start_time": "2023-02-05T21:53:12.642Z"
   },
   {
    "duration": 3,
    "start_time": "2023-02-05T21:53:12.678Z"
   },
   {
    "duration": 9,
    "start_time": "2023-02-05T21:53:12.683Z"
   },
   {
    "duration": 31,
    "start_time": "2023-02-05T21:53:12.694Z"
   },
   {
    "duration": 23,
    "start_time": "2023-02-05T21:53:12.727Z"
   },
   {
    "duration": 15,
    "start_time": "2023-02-05T21:53:12.752Z"
   },
   {
    "duration": 8,
    "start_time": "2023-02-05T21:53:12.768Z"
   },
   {
    "duration": 11,
    "start_time": "2023-02-05T21:53:12.778Z"
   },
   {
    "duration": 0,
    "start_time": "2023-02-05T21:53:12.791Z"
   },
   {
    "duration": 0,
    "start_time": "2023-02-05T21:53:12.793Z"
   },
   {
    "duration": 0,
    "start_time": "2023-02-05T21:53:12.794Z"
   },
   {
    "duration": 0,
    "start_time": "2023-02-05T21:53:12.795Z"
   },
   {
    "duration": 0,
    "start_time": "2023-02-05T21:53:12.828Z"
   },
   {
    "duration": 0,
    "start_time": "2023-02-05T21:53:12.831Z"
   },
   {
    "duration": 0,
    "start_time": "2023-02-05T21:53:12.833Z"
   },
   {
    "duration": 0,
    "start_time": "2023-02-05T21:53:12.834Z"
   },
   {
    "duration": 0,
    "start_time": "2023-02-05T21:53:12.836Z"
   },
   {
    "duration": 0,
    "start_time": "2023-02-05T21:53:12.838Z"
   },
   {
    "duration": 0,
    "start_time": "2023-02-05T21:53:12.839Z"
   },
   {
    "duration": 0,
    "start_time": "2023-02-05T21:53:12.841Z"
   },
   {
    "duration": 0,
    "start_time": "2023-02-05T21:53:12.842Z"
   },
   {
    "duration": 0,
    "start_time": "2023-02-05T21:53:12.843Z"
   },
   {
    "duration": 0,
    "start_time": "2023-02-05T21:53:12.845Z"
   },
   {
    "duration": 0,
    "start_time": "2023-02-05T21:53:12.846Z"
   },
   {
    "duration": 0,
    "start_time": "2023-02-05T21:53:12.847Z"
   },
   {
    "duration": 0,
    "start_time": "2023-02-05T21:53:12.848Z"
   },
   {
    "duration": 0,
    "start_time": "2023-02-05T21:53:12.850Z"
   },
   {
    "duration": 0,
    "start_time": "2023-02-05T21:53:12.851Z"
   },
   {
    "duration": 0,
    "start_time": "2023-02-05T21:53:12.852Z"
   },
   {
    "duration": 0,
    "start_time": "2023-02-05T21:53:12.853Z"
   },
   {
    "duration": 0,
    "start_time": "2023-02-05T21:53:12.854Z"
   },
   {
    "duration": 0,
    "start_time": "2023-02-05T21:53:12.855Z"
   },
   {
    "duration": 0,
    "start_time": "2023-02-05T21:53:12.856Z"
   },
   {
    "duration": 0,
    "start_time": "2023-02-05T21:53:12.857Z"
   },
   {
    "duration": 0,
    "start_time": "2023-02-05T21:53:12.858Z"
   },
   {
    "duration": 0,
    "start_time": "2023-02-05T21:53:12.860Z"
   },
   {
    "duration": 0,
    "start_time": "2023-02-05T21:53:12.861Z"
   },
   {
    "duration": 0,
    "start_time": "2023-02-05T21:53:12.862Z"
   },
   {
    "duration": 0,
    "start_time": "2023-02-05T21:53:12.863Z"
   },
   {
    "duration": 18,
    "start_time": "2023-02-05T21:53:17.234Z"
   },
   {
    "duration": 11,
    "start_time": "2023-02-05T21:53:18.267Z"
   },
   {
    "duration": 1197,
    "start_time": "2023-02-05T21:53:37.067Z"
   },
   {
    "duration": 38,
    "start_time": "2023-02-05T21:53:38.266Z"
   },
   {
    "duration": 47,
    "start_time": "2023-02-05T21:53:38.306Z"
   },
   {
    "duration": 20,
    "start_time": "2023-02-05T21:53:38.356Z"
   },
   {
    "duration": 34,
    "start_time": "2023-02-05T21:53:38.377Z"
   },
   {
    "duration": 4,
    "start_time": "2023-02-05T21:53:38.412Z"
   },
   {
    "duration": 20,
    "start_time": "2023-02-05T21:53:38.417Z"
   },
   {
    "duration": 14,
    "start_time": "2023-02-05T21:53:38.439Z"
   },
   {
    "duration": 11,
    "start_time": "2023-02-05T21:53:38.454Z"
   },
   {
    "duration": 11,
    "start_time": "2023-02-05T21:53:38.467Z"
   },
   {
    "duration": 6,
    "start_time": "2023-02-05T21:53:38.480Z"
   },
   {
    "duration": 123,
    "start_time": "2023-02-05T21:53:38.488Z"
   },
   {
    "duration": 0,
    "start_time": "2023-02-05T21:53:38.613Z"
   },
   {
    "duration": 0,
    "start_time": "2023-02-05T21:53:38.615Z"
   },
   {
    "duration": 0,
    "start_time": "2023-02-05T21:53:38.616Z"
   },
   {
    "duration": 0,
    "start_time": "2023-02-05T21:53:38.621Z"
   },
   {
    "duration": 0,
    "start_time": "2023-02-05T21:53:38.622Z"
   },
   {
    "duration": 0,
    "start_time": "2023-02-05T21:53:38.624Z"
   },
   {
    "duration": 0,
    "start_time": "2023-02-05T21:53:38.627Z"
   },
   {
    "duration": 0,
    "start_time": "2023-02-05T21:53:38.629Z"
   },
   {
    "duration": 0,
    "start_time": "2023-02-05T21:53:38.630Z"
   },
   {
    "duration": 0,
    "start_time": "2023-02-05T21:53:38.632Z"
   },
   {
    "duration": 0,
    "start_time": "2023-02-05T21:53:38.633Z"
   },
   {
    "duration": 0,
    "start_time": "2023-02-05T21:53:38.635Z"
   },
   {
    "duration": 0,
    "start_time": "2023-02-05T21:53:38.636Z"
   },
   {
    "duration": 0,
    "start_time": "2023-02-05T21:53:38.638Z"
   },
   {
    "duration": 0,
    "start_time": "2023-02-05T21:53:38.639Z"
   },
   {
    "duration": 0,
    "start_time": "2023-02-05T21:53:38.640Z"
   },
   {
    "duration": 0,
    "start_time": "2023-02-05T21:53:38.641Z"
   },
   {
    "duration": 0,
    "start_time": "2023-02-05T21:53:38.642Z"
   },
   {
    "duration": 0,
    "start_time": "2023-02-05T21:53:38.643Z"
   },
   {
    "duration": 0,
    "start_time": "2023-02-05T21:53:38.644Z"
   },
   {
    "duration": 0,
    "start_time": "2023-02-05T21:53:38.645Z"
   },
   {
    "duration": 0,
    "start_time": "2023-02-05T21:53:38.646Z"
   },
   {
    "duration": 0,
    "start_time": "2023-02-05T21:53:38.647Z"
   },
   {
    "duration": 0,
    "start_time": "2023-02-05T21:53:38.648Z"
   },
   {
    "duration": 0,
    "start_time": "2023-02-05T21:53:38.649Z"
   },
   {
    "duration": 0,
    "start_time": "2023-02-05T21:53:38.650Z"
   },
   {
    "duration": 0,
    "start_time": "2023-02-05T21:53:38.651Z"
   },
   {
    "duration": 0,
    "start_time": "2023-02-05T21:53:38.652Z"
   },
   {
    "duration": 0,
    "start_time": "2023-02-05T21:53:38.653Z"
   },
   {
    "duration": 0,
    "start_time": "2023-02-05T21:53:38.654Z"
   },
   {
    "duration": 0,
    "start_time": "2023-02-05T21:53:38.655Z"
   },
   {
    "duration": 13,
    "start_time": "2023-02-05T21:53:56.375Z"
   },
   {
    "duration": 164,
    "start_time": "2023-02-05T21:54:15.106Z"
   },
   {
    "duration": 10,
    "start_time": "2023-02-05T21:54:31.839Z"
   },
   {
    "duration": 19,
    "start_time": "2023-02-05T21:54:53.710Z"
   },
   {
    "duration": 317,
    "start_time": "2023-02-05T21:54:54.836Z"
   },
   {
    "duration": 208,
    "start_time": "2023-02-05T21:54:57.296Z"
   },
   {
    "duration": 338,
    "start_time": "2023-02-05T21:54:58.519Z"
   },
   {
    "duration": 9,
    "start_time": "2023-02-05T21:55:00.304Z"
   },
   {
    "duration": 5,
    "start_time": "2023-02-05T21:55:01.197Z"
   },
   {
    "duration": 226,
    "start_time": "2023-02-05T21:55:01.905Z"
   },
   {
    "duration": 350,
    "start_time": "2023-02-05T21:55:04.818Z"
   },
   {
    "duration": 13,
    "start_time": "2023-02-05T21:55:08.023Z"
   },
   {
    "duration": 147,
    "start_time": "2023-02-05T21:55:08.534Z"
   },
   {
    "duration": 4,
    "start_time": "2023-02-05T21:55:10.234Z"
   },
   {
    "duration": 9,
    "start_time": "2023-02-05T21:55:13.259Z"
   },
   {
    "duration": 155,
    "start_time": "2023-02-05T21:55:14.840Z"
   },
   {
    "duration": 6,
    "start_time": "2023-02-05T21:55:16.539Z"
   },
   {
    "duration": 18,
    "start_time": "2023-02-05T21:55:19.353Z"
   },
   {
    "duration": 13,
    "start_time": "2023-02-05T21:55:20.149Z"
   },
   {
    "duration": 13,
    "start_time": "2023-02-05T21:55:20.768Z"
   },
   {
    "duration": 229,
    "start_time": "2023-02-05T21:55:21.896Z"
   },
   {
    "duration": 24,
    "start_time": "2023-02-05T21:55:23.445Z"
   },
   {
    "duration": 11,
    "start_time": "2023-02-05T21:55:26.193Z"
   },
   {
    "duration": 11,
    "start_time": "2023-02-05T21:56:31.497Z"
   },
   {
    "duration": 10,
    "start_time": "2023-02-05T21:56:33.571Z"
   },
   {
    "duration": 25,
    "start_time": "2023-02-05T21:56:34.268Z"
   },
   {
    "duration": 17,
    "start_time": "2023-02-05T21:56:36.003Z"
   },
   {
    "duration": 21,
    "start_time": "2023-02-05T21:56:38.194Z"
   },
   {
    "duration": 317,
    "start_time": "2023-02-05T21:56:39.050Z"
   },
   {
    "duration": 17,
    "start_time": "2023-02-05T21:56:40.821Z"
   },
   {
    "duration": 19,
    "start_time": "2023-02-05T21:56:41.698Z"
   },
   {
    "duration": 1225,
    "start_time": "2023-02-05T22:14:15.842Z"
   },
   {
    "duration": 38,
    "start_time": "2023-02-05T22:14:17.069Z"
   },
   {
    "duration": 45,
    "start_time": "2023-02-05T22:14:17.109Z"
   },
   {
    "duration": 20,
    "start_time": "2023-02-05T22:14:17.156Z"
   },
   {
    "duration": 34,
    "start_time": "2023-02-05T22:14:17.178Z"
   },
   {
    "duration": 3,
    "start_time": "2023-02-05T22:14:17.214Z"
   },
   {
    "duration": 19,
    "start_time": "2023-02-05T22:14:17.218Z"
   },
   {
    "duration": 15,
    "start_time": "2023-02-05T22:14:17.238Z"
   },
   {
    "duration": 10,
    "start_time": "2023-02-05T22:14:17.254Z"
   },
   {
    "duration": 13,
    "start_time": "2023-02-05T22:14:17.267Z"
   },
   {
    "duration": 6,
    "start_time": "2023-02-05T22:14:17.282Z"
   },
   {
    "duration": 116,
    "start_time": "2023-02-05T22:14:17.289Z"
   },
   {
    "duration": 0,
    "start_time": "2023-02-05T22:14:17.407Z"
   },
   {
    "duration": 0,
    "start_time": "2023-02-05T22:14:17.409Z"
   },
   {
    "duration": 0,
    "start_time": "2023-02-05T22:14:17.410Z"
   },
   {
    "duration": 0,
    "start_time": "2023-02-05T22:14:17.411Z"
   },
   {
    "duration": 0,
    "start_time": "2023-02-05T22:14:17.420Z"
   },
   {
    "duration": 0,
    "start_time": "2023-02-05T22:14:17.422Z"
   },
   {
    "duration": 0,
    "start_time": "2023-02-05T22:14:17.424Z"
   },
   {
    "duration": 0,
    "start_time": "2023-02-05T22:14:17.425Z"
   },
   {
    "duration": 0,
    "start_time": "2023-02-05T22:14:17.428Z"
   },
   {
    "duration": 0,
    "start_time": "2023-02-05T22:14:17.430Z"
   },
   {
    "duration": 0,
    "start_time": "2023-02-05T22:14:17.432Z"
   },
   {
    "duration": 0,
    "start_time": "2023-02-05T22:14:17.434Z"
   },
   {
    "duration": 0,
    "start_time": "2023-02-05T22:14:17.435Z"
   },
   {
    "duration": 0,
    "start_time": "2023-02-05T22:14:17.436Z"
   },
   {
    "duration": 0,
    "start_time": "2023-02-05T22:14:17.438Z"
   },
   {
    "duration": 0,
    "start_time": "2023-02-05T22:14:17.439Z"
   },
   {
    "duration": 0,
    "start_time": "2023-02-05T22:14:17.440Z"
   },
   {
    "duration": 0,
    "start_time": "2023-02-05T22:14:17.442Z"
   },
   {
    "duration": 0,
    "start_time": "2023-02-05T22:14:17.443Z"
   },
   {
    "duration": 0,
    "start_time": "2023-02-05T22:14:17.444Z"
   },
   {
    "duration": 0,
    "start_time": "2023-02-05T22:14:17.445Z"
   },
   {
    "duration": 0,
    "start_time": "2023-02-05T22:14:17.446Z"
   },
   {
    "duration": 0,
    "start_time": "2023-02-05T22:14:17.447Z"
   },
   {
    "duration": 0,
    "start_time": "2023-02-05T22:14:17.448Z"
   },
   {
    "duration": 0,
    "start_time": "2023-02-05T22:14:17.449Z"
   },
   {
    "duration": 4,
    "start_time": "2023-02-05T22:14:43.796Z"
   },
   {
    "duration": 1245,
    "start_time": "2023-02-05T22:15:00.651Z"
   },
   {
    "duration": 54,
    "start_time": "2023-02-05T22:15:01.898Z"
   },
   {
    "duration": 49,
    "start_time": "2023-02-05T22:15:01.954Z"
   },
   {
    "duration": 30,
    "start_time": "2023-02-05T22:15:02.005Z"
   },
   {
    "duration": 40,
    "start_time": "2023-02-05T22:15:02.037Z"
   },
   {
    "duration": 4,
    "start_time": "2023-02-05T22:15:02.078Z"
   },
   {
    "duration": 44,
    "start_time": "2023-02-05T22:15:02.084Z"
   },
   {
    "duration": 27,
    "start_time": "2023-02-05T22:15:02.131Z"
   },
   {
    "duration": 12,
    "start_time": "2023-02-05T22:15:02.160Z"
   },
   {
    "duration": 18,
    "start_time": "2023-02-05T22:15:02.176Z"
   },
   {
    "duration": 7,
    "start_time": "2023-02-05T22:15:02.197Z"
   },
   {
    "duration": 137,
    "start_time": "2023-02-05T22:15:02.206Z"
   },
   {
    "duration": 0,
    "start_time": "2023-02-05T22:15:02.347Z"
   },
   {
    "duration": 0,
    "start_time": "2023-02-05T22:15:02.348Z"
   },
   {
    "duration": 0,
    "start_time": "2023-02-05T22:15:02.350Z"
   },
   {
    "duration": 0,
    "start_time": "2023-02-05T22:15:02.351Z"
   },
   {
    "duration": 0,
    "start_time": "2023-02-05T22:15:02.352Z"
   },
   {
    "duration": 0,
    "start_time": "2023-02-05T22:15:02.354Z"
   },
   {
    "duration": 0,
    "start_time": "2023-02-05T22:15:02.355Z"
   },
   {
    "duration": 0,
    "start_time": "2023-02-05T22:15:02.357Z"
   },
   {
    "duration": 0,
    "start_time": "2023-02-05T22:15:02.358Z"
   },
   {
    "duration": 0,
    "start_time": "2023-02-05T22:15:02.360Z"
   },
   {
    "duration": 0,
    "start_time": "2023-02-05T22:15:02.361Z"
   },
   {
    "duration": 0,
    "start_time": "2023-02-05T22:15:02.362Z"
   },
   {
    "duration": 0,
    "start_time": "2023-02-05T22:15:02.365Z"
   },
   {
    "duration": 0,
    "start_time": "2023-02-05T22:15:02.366Z"
   },
   {
    "duration": 0,
    "start_time": "2023-02-05T22:15:02.371Z"
   },
   {
    "duration": 0,
    "start_time": "2023-02-05T22:15:02.373Z"
   },
   {
    "duration": 0,
    "start_time": "2023-02-05T22:15:02.374Z"
   },
   {
    "duration": 0,
    "start_time": "2023-02-05T22:15:02.375Z"
   },
   {
    "duration": 0,
    "start_time": "2023-02-05T22:15:02.376Z"
   },
   {
    "duration": 0,
    "start_time": "2023-02-05T22:15:02.377Z"
   },
   {
    "duration": 0,
    "start_time": "2023-02-05T22:15:02.378Z"
   },
   {
    "duration": 0,
    "start_time": "2023-02-05T22:15:02.380Z"
   },
   {
    "duration": 0,
    "start_time": "2023-02-05T22:15:02.381Z"
   },
   {
    "duration": 0,
    "start_time": "2023-02-05T22:15:02.383Z"
   },
   {
    "duration": 0,
    "start_time": "2023-02-05T22:15:02.384Z"
   },
   {
    "duration": 1270,
    "start_time": "2023-02-07T00:09:03.890Z"
   },
   {
    "duration": 94,
    "start_time": "2023-02-07T00:09:05.162Z"
   },
   {
    "duration": 102,
    "start_time": "2023-02-07T00:09:05.257Z"
   },
   {
    "duration": 75,
    "start_time": "2023-02-07T00:09:05.361Z"
   },
   {
    "duration": 40,
    "start_time": "2023-02-07T00:09:05.439Z"
   },
   {
    "duration": 4,
    "start_time": "2023-02-07T00:09:05.480Z"
   },
   {
    "duration": 12,
    "start_time": "2023-02-07T00:09:05.486Z"
   },
   {
    "duration": 17,
    "start_time": "2023-02-07T00:09:05.501Z"
   },
   {
    "duration": 10,
    "start_time": "2023-02-07T00:09:05.563Z"
   },
   {
    "duration": 11,
    "start_time": "2023-02-07T00:09:06.824Z"
   },
   {
    "duration": 6,
    "start_time": "2023-02-07T00:09:06.989Z"
   },
   {
    "duration": 94,
    "start_time": "2023-02-07T00:09:07.158Z"
   },
   {
    "duration": 0,
    "start_time": "2023-02-07T00:09:07.254Z"
   },
   {
    "duration": 8,
    "start_time": "2023-02-07T00:09:07.326Z"
   },
   {
    "duration": 7,
    "start_time": "2023-02-07T00:09:11.635Z"
   },
   {
    "duration": 7,
    "start_time": "2023-02-07T00:09:41.876Z"
   },
   {
    "duration": 1215,
    "start_time": "2023-02-07T00:10:04.001Z"
   },
   {
    "duration": 38,
    "start_time": "2023-02-07T00:10:05.219Z"
   },
   {
    "duration": 44,
    "start_time": "2023-02-07T00:10:05.258Z"
   },
   {
    "duration": 20,
    "start_time": "2023-02-07T00:10:05.305Z"
   },
   {
    "duration": 32,
    "start_time": "2023-02-07T00:10:05.328Z"
   },
   {
    "duration": 4,
    "start_time": "2023-02-07T00:10:05.361Z"
   },
   {
    "duration": 9,
    "start_time": "2023-02-07T00:10:05.366Z"
   },
   {
    "duration": 16,
    "start_time": "2023-02-07T00:10:05.376Z"
   },
   {
    "duration": 14,
    "start_time": "2023-02-07T00:10:05.393Z"
   },
   {
    "duration": 43,
    "start_time": "2023-02-07T00:10:05.410Z"
   },
   {
    "duration": 6,
    "start_time": "2023-02-07T00:10:05.455Z"
   },
   {
    "duration": 9,
    "start_time": "2023-02-07T00:10:05.463Z"
   },
   {
    "duration": 14,
    "start_time": "2023-02-07T00:10:05.474Z"
   },
   {
    "duration": 12,
    "start_time": "2023-02-07T00:10:05.491Z"
   },
   {
    "duration": 16,
    "start_time": "2023-02-07T00:10:05.504Z"
   },
   {
    "duration": 13,
    "start_time": "2023-02-07T00:10:05.522Z"
   },
   {
    "duration": 7,
    "start_time": "2023-02-07T00:10:05.549Z"
   },
   {
    "duration": 16,
    "start_time": "2023-02-07T00:10:05.558Z"
   },
   {
    "duration": 293,
    "start_time": "2023-02-07T00:10:05.575Z"
   },
   {
    "duration": 205,
    "start_time": "2023-02-07T00:10:05.869Z"
   },
   {
    "duration": 339,
    "start_time": "2023-02-07T00:10:06.076Z"
   },
   {
    "duration": 8,
    "start_time": "2023-02-07T00:10:06.417Z"
   },
   {
    "duration": 9,
    "start_time": "2023-02-07T00:10:06.427Z"
   },
   {
    "duration": 234,
    "start_time": "2023-02-07T00:10:06.439Z"
   },
   {
    "duration": 296,
    "start_time": "2023-02-07T00:10:06.674Z"
   },
   {
    "duration": 6,
    "start_time": "2023-02-07T00:10:06.972Z"
   },
   {
    "duration": 142,
    "start_time": "2023-02-07T00:10:06.980Z"
   },
   {
    "duration": 4,
    "start_time": "2023-02-07T00:10:07.125Z"
   },
   {
    "duration": 24,
    "start_time": "2023-02-07T00:10:07.131Z"
   },
   {
    "duration": 135,
    "start_time": "2023-02-07T00:10:07.157Z"
   },
   {
    "duration": 4,
    "start_time": "2023-02-07T00:10:07.294Z"
   },
   {
    "duration": 31,
    "start_time": "2023-02-07T00:10:07.301Z"
   },
   {
    "duration": 25,
    "start_time": "2023-02-07T00:10:07.334Z"
   },
   {
    "duration": 15,
    "start_time": "2023-02-07T00:10:07.361Z"
   },
   {
    "duration": 226,
    "start_time": "2023-02-07T00:10:07.378Z"
   },
   {
    "duration": 26,
    "start_time": "2023-02-07T00:10:07.606Z"
   },
   {
    "duration": 25,
    "start_time": "2023-02-07T00:10:07.634Z"
   },
   {
    "duration": 31,
    "start_time": "2023-02-07T00:10:07.661Z"
   },
   {
    "duration": 49,
    "start_time": "2023-02-07T00:10:07.693Z"
   },
   {
    "duration": 1196,
    "start_time": "2023-02-07T00:25:09.251Z"
   },
   {
    "duration": 37,
    "start_time": "2023-02-07T00:25:10.449Z"
   },
   {
    "duration": 53,
    "start_time": "2023-02-07T00:25:10.488Z"
   },
   {
    "duration": 25,
    "start_time": "2023-02-07T00:25:10.543Z"
   },
   {
    "duration": 45,
    "start_time": "2023-02-07T00:25:10.570Z"
   },
   {
    "duration": 6,
    "start_time": "2023-02-07T00:25:10.617Z"
   },
   {
    "duration": 32,
    "start_time": "2023-02-07T00:25:10.624Z"
   },
   {
    "duration": 14,
    "start_time": "2023-02-07T00:25:10.658Z"
   },
   {
    "duration": 10,
    "start_time": "2023-02-07T00:25:10.674Z"
   },
   {
    "duration": 64,
    "start_time": "2023-02-07T00:25:10.687Z"
   },
   {
    "duration": 10,
    "start_time": "2023-02-07T00:25:10.752Z"
   },
   {
    "duration": 106,
    "start_time": "2023-02-07T00:25:10.764Z"
   },
   {
    "duration": 0,
    "start_time": "2023-02-07T00:25:10.872Z"
   },
   {
    "duration": 0,
    "start_time": "2023-02-07T00:25:10.873Z"
   },
   {
    "duration": 0,
    "start_time": "2023-02-07T00:25:10.874Z"
   },
   {
    "duration": 0,
    "start_time": "2023-02-07T00:25:10.875Z"
   },
   {
    "duration": 0,
    "start_time": "2023-02-07T00:25:10.876Z"
   },
   {
    "duration": 0,
    "start_time": "2023-02-07T00:25:10.878Z"
   },
   {
    "duration": 0,
    "start_time": "2023-02-07T00:25:10.879Z"
   },
   {
    "duration": 0,
    "start_time": "2023-02-07T00:25:10.880Z"
   },
   {
    "duration": 0,
    "start_time": "2023-02-07T00:25:10.881Z"
   },
   {
    "duration": 0,
    "start_time": "2023-02-07T00:25:10.882Z"
   },
   {
    "duration": 0,
    "start_time": "2023-02-07T00:25:10.884Z"
   },
   {
    "duration": 0,
    "start_time": "2023-02-07T00:25:10.885Z"
   },
   {
    "duration": 0,
    "start_time": "2023-02-07T00:25:10.886Z"
   },
   {
    "duration": 0,
    "start_time": "2023-02-07T00:25:10.887Z"
   },
   {
    "duration": 0,
    "start_time": "2023-02-07T00:25:10.888Z"
   },
   {
    "duration": 0,
    "start_time": "2023-02-07T00:25:10.889Z"
   },
   {
    "duration": 0,
    "start_time": "2023-02-07T00:25:10.890Z"
   },
   {
    "duration": 0,
    "start_time": "2023-02-07T00:25:10.891Z"
   },
   {
    "duration": 0,
    "start_time": "2023-02-07T00:25:10.892Z"
   },
   {
    "duration": 0,
    "start_time": "2023-02-07T00:25:10.893Z"
   },
   {
    "duration": 0,
    "start_time": "2023-02-07T00:25:10.894Z"
   },
   {
    "duration": 0,
    "start_time": "2023-02-07T00:25:10.895Z"
   },
   {
    "duration": 0,
    "start_time": "2023-02-07T00:25:10.896Z"
   },
   {
    "duration": 0,
    "start_time": "2023-02-07T00:25:10.897Z"
   },
   {
    "duration": 0,
    "start_time": "2023-02-07T00:25:10.899Z"
   },
   {
    "duration": 1193,
    "start_time": "2023-02-07T00:25:17.049Z"
   },
   {
    "duration": 37,
    "start_time": "2023-02-07T00:25:18.244Z"
   },
   {
    "duration": 50,
    "start_time": "2023-02-07T00:25:18.283Z"
   },
   {
    "duration": 23,
    "start_time": "2023-02-07T00:25:18.336Z"
   },
   {
    "duration": 48,
    "start_time": "2023-02-07T00:25:18.361Z"
   },
   {
    "duration": 4,
    "start_time": "2023-02-07T00:25:18.411Z"
   },
   {
    "duration": 38,
    "start_time": "2023-02-07T00:25:18.418Z"
   },
   {
    "duration": 20,
    "start_time": "2023-02-07T00:25:18.458Z"
   },
   {
    "duration": 14,
    "start_time": "2023-02-07T00:25:18.480Z"
   },
   {
    "duration": 18,
    "start_time": "2023-02-07T00:25:18.498Z"
   },
   {
    "duration": 33,
    "start_time": "2023-02-07T00:25:18.518Z"
   },
   {
    "duration": 10,
    "start_time": "2023-02-07T00:25:18.553Z"
   },
   {
    "duration": 9,
    "start_time": "2023-02-07T00:25:18.565Z"
   },
   {
    "duration": 7,
    "start_time": "2023-02-07T00:25:18.576Z"
   },
   {
    "duration": 17,
    "start_time": "2023-02-07T00:25:18.585Z"
   },
   {
    "duration": 329,
    "start_time": "2023-02-07T00:25:18.604Z"
   },
   {
    "duration": 230,
    "start_time": "2023-02-07T00:25:18.935Z"
   },
   {
    "duration": 325,
    "start_time": "2023-02-07T00:25:19.168Z"
   },
   {
    "duration": 8,
    "start_time": "2023-02-07T00:25:19.496Z"
   },
   {
    "duration": 12,
    "start_time": "2023-02-07T00:25:19.507Z"
   },
   {
    "duration": 276,
    "start_time": "2023-02-07T00:25:19.522Z"
   },
   {
    "duration": 380,
    "start_time": "2023-02-07T00:25:19.800Z"
   },
   {
    "duration": 10,
    "start_time": "2023-02-07T00:25:20.182Z"
   },
   {
    "duration": 242,
    "start_time": "2023-02-07T00:25:20.193Z"
   },
   {
    "duration": 14,
    "start_time": "2023-02-07T00:25:20.438Z"
   },
   {
    "duration": 19,
    "start_time": "2023-02-07T00:25:20.454Z"
   },
   {
    "duration": 236,
    "start_time": "2023-02-07T00:25:20.476Z"
   },
   {
    "duration": 8,
    "start_time": "2023-02-07T00:25:20.716Z"
   },
   {
    "duration": 29,
    "start_time": "2023-02-07T00:25:20.726Z"
   },
   {
    "duration": 15,
    "start_time": "2023-02-07T00:25:20.758Z"
   },
   {
    "duration": 126,
    "start_time": "2023-02-07T00:25:20.775Z"
   },
   {
    "duration": 261,
    "start_time": "2023-02-07T00:25:20.904Z"
   },
   {
    "duration": 32,
    "start_time": "2023-02-07T00:25:21.167Z"
   },
   {
    "duration": 12,
    "start_time": "2023-02-07T00:25:21.201Z"
   },
   {
    "duration": 38,
    "start_time": "2023-02-07T00:25:21.216Z"
   },
   {
    "duration": 24,
    "start_time": "2023-02-07T00:25:21.257Z"
   },
   {
    "duration": 105,
    "start_time": "2023-02-07T00:25:26.741Z"
   },
   {
    "duration": 46,
    "start_time": "2023-02-07T20:07:12.005Z"
   },
   {
    "duration": 1256,
    "start_time": "2023-02-07T20:07:22.946Z"
   },
   {
    "duration": 91,
    "start_time": "2023-02-07T20:07:24.204Z"
   },
   {
    "duration": 152,
    "start_time": "2023-02-07T20:07:24.296Z"
   },
   {
    "duration": 69,
    "start_time": "2023-02-07T20:07:24.450Z"
   },
   {
    "duration": 31,
    "start_time": "2023-02-07T20:07:24.521Z"
   },
   {
    "duration": 4,
    "start_time": "2023-02-07T20:07:24.553Z"
   },
   {
    "duration": 17,
    "start_time": "2023-02-07T20:07:24.558Z"
   },
   {
    "duration": 11,
    "start_time": "2023-02-07T20:07:24.576Z"
   },
   {
    "duration": 9,
    "start_time": "2023-02-07T20:07:24.589Z"
   },
   {
    "duration": 12,
    "start_time": "2023-02-07T20:07:24.600Z"
   },
   {
    "duration": 10,
    "start_time": "2023-02-07T20:07:24.614Z"
   },
   {
    "duration": 11,
    "start_time": "2023-02-07T20:07:24.625Z"
   },
   {
    "duration": 11,
    "start_time": "2023-02-07T20:07:24.637Z"
   },
   {
    "duration": 17,
    "start_time": "2023-02-07T20:07:24.650Z"
   },
   {
    "duration": 24,
    "start_time": "2023-02-07T20:07:24.669Z"
   },
   {
    "duration": 280,
    "start_time": "2023-02-07T20:07:24.694Z"
   },
   {
    "duration": 206,
    "start_time": "2023-02-07T20:07:24.975Z"
   },
   {
    "duration": 351,
    "start_time": "2023-02-07T20:07:25.191Z"
   },
   {
    "duration": 6,
    "start_time": "2023-02-07T20:07:25.544Z"
   },
   {
    "duration": 10,
    "start_time": "2023-02-07T20:07:25.551Z"
   },
   {
    "duration": 203,
    "start_time": "2023-02-07T20:07:25.563Z"
   },
   {
    "duration": 334,
    "start_time": "2023-02-07T20:07:25.767Z"
   },
   {
    "duration": 6,
    "start_time": "2023-02-07T20:07:26.103Z"
   },
   {
    "duration": 150,
    "start_time": "2023-02-07T20:07:26.111Z"
   },
   {
    "duration": 4,
    "start_time": "2023-02-07T20:07:26.263Z"
   },
   {
    "duration": 23,
    "start_time": "2023-02-07T20:07:26.269Z"
   },
   {
    "duration": 146,
    "start_time": "2023-02-07T20:07:26.294Z"
   },
   {
    "duration": 4,
    "start_time": "2023-02-07T20:07:26.443Z"
   },
   {
    "duration": 27,
    "start_time": "2023-02-07T20:07:26.449Z"
   },
   {
    "duration": 15,
    "start_time": "2023-02-07T20:07:26.477Z"
   },
   {
    "duration": 23,
    "start_time": "2023-02-07T20:07:26.493Z"
   },
   {
    "duration": 206,
    "start_time": "2023-02-07T20:07:26.517Z"
   },
   {
    "duration": 97,
    "start_time": "2023-02-07T20:07:26.725Z"
   },
   {
    "duration": 0,
    "start_time": "2023-02-07T20:07:26.824Z"
   },
   {
    "duration": 0,
    "start_time": "2023-02-07T20:07:26.825Z"
   },
   {
    "duration": 0,
    "start_time": "2023-02-07T20:07:26.827Z"
   },
   {
    "duration": 0,
    "start_time": "2023-02-07T20:07:26.828Z"
   },
   {
    "duration": 10,
    "start_time": "2023-02-07T20:08:04.764Z"
   },
   {
    "duration": 24,
    "start_time": "2023-02-07T20:12:25.931Z"
   },
   {
    "duration": 11,
    "start_time": "2023-02-07T20:12:28.718Z"
   },
   {
    "duration": 11,
    "start_time": "2023-02-07T20:15:02.368Z"
   },
   {
    "duration": 2,
    "start_time": "2023-02-07T20:18:16.773Z"
   },
   {
    "duration": 12,
    "start_time": "2023-02-07T20:19:21.057Z"
   },
   {
    "duration": 15,
    "start_time": "2023-02-07T20:24:41.613Z"
   },
   {
    "duration": 10,
    "start_time": "2023-02-07T20:25:00.188Z"
   },
   {
    "duration": 49,
    "start_time": "2023-02-07T20:25:00.212Z"
   },
   {
    "duration": 65,
    "start_time": "2023-02-07T20:25:00.264Z"
   },
   {
    "duration": 19,
    "start_time": "2023-02-07T20:25:00.330Z"
   },
   {
    "duration": 31,
    "start_time": "2023-02-07T20:25:00.350Z"
   },
   {
    "duration": 4,
    "start_time": "2023-02-07T20:25:00.383Z"
   },
   {
    "duration": 39,
    "start_time": "2023-02-07T20:25:00.389Z"
   },
   {
    "duration": 16,
    "start_time": "2023-02-07T20:25:00.430Z"
   },
   {
    "duration": 27,
    "start_time": "2023-02-07T20:25:00.448Z"
   },
   {
    "duration": 24,
    "start_time": "2023-02-07T20:25:00.477Z"
   },
   {
    "duration": 13,
    "start_time": "2023-02-07T20:25:00.508Z"
   },
   {
    "duration": 26,
    "start_time": "2023-02-07T20:25:00.523Z"
   },
   {
    "duration": 24,
    "start_time": "2023-02-07T20:25:00.551Z"
   },
   {
    "duration": 37,
    "start_time": "2023-02-07T20:25:00.576Z"
   },
   {
    "duration": 28,
    "start_time": "2023-02-07T20:25:00.616Z"
   },
   {
    "duration": 226,
    "start_time": "2023-02-07T20:25:00.646Z"
   },
   {
    "duration": 212,
    "start_time": "2023-02-07T20:25:00.873Z"
   },
   {
    "duration": 318,
    "start_time": "2023-02-07T20:25:01.092Z"
   },
   {
    "duration": 7,
    "start_time": "2023-02-07T20:25:01.411Z"
   },
   {
    "duration": 24,
    "start_time": "2023-02-07T20:25:01.420Z"
   },
   {
    "duration": 224,
    "start_time": "2023-02-07T20:25:01.446Z"
   },
   {
    "duration": 337,
    "start_time": "2023-02-07T20:25:01.672Z"
   },
   {
    "duration": 6,
    "start_time": "2023-02-07T20:25:02.011Z"
   },
   {
    "duration": 146,
    "start_time": "2023-02-07T20:25:02.018Z"
   },
   {
    "duration": 3,
    "start_time": "2023-02-07T20:25:02.166Z"
   },
   {
    "duration": 49,
    "start_time": "2023-02-07T20:25:02.171Z"
   },
   {
    "duration": 147,
    "start_time": "2023-02-07T20:25:02.222Z"
   },
   {
    "duration": 4,
    "start_time": "2023-02-07T20:25:02.371Z"
   },
   {
    "duration": 43,
    "start_time": "2023-02-07T20:25:02.377Z"
   },
   {
    "duration": 13,
    "start_time": "2023-02-07T20:25:02.422Z"
   },
   {
    "duration": 21,
    "start_time": "2023-02-07T20:25:02.436Z"
   },
   {
    "duration": 139,
    "start_time": "2023-02-07T20:25:02.459Z"
   },
   {
    "duration": 23,
    "start_time": "2023-02-07T20:25:02.604Z"
   },
   {
    "duration": 10,
    "start_time": "2023-02-07T20:25:02.629Z"
   },
   {
    "duration": 58,
    "start_time": "2023-02-07T20:25:02.640Z"
   },
   {
    "duration": 28,
    "start_time": "2023-02-07T20:25:02.704Z"
   },
   {
    "duration": 0,
    "start_time": "2023-02-07T20:25:02.734Z"
   },
   {
    "duration": 0,
    "start_time": "2023-02-07T20:25:02.735Z"
   },
   {
    "duration": 8,
    "start_time": "2023-02-07T20:25:09.569Z"
   },
   {
    "duration": 13,
    "start_time": "2023-02-07T20:27:20.606Z"
   },
   {
    "duration": 9,
    "start_time": "2023-02-07T20:27:53.179Z"
   },
   {
    "duration": 21,
    "start_time": "2023-02-07T20:28:39.001Z"
   },
   {
    "duration": 16,
    "start_time": "2023-02-07T20:31:17.415Z"
   },
   {
    "duration": 67,
    "start_time": "2023-02-07T20:38:02.332Z"
   },
   {
    "duration": 80,
    "start_time": "2023-02-07T20:38:43.699Z"
   },
   {
    "duration": 2,
    "start_time": "2023-02-07T20:45:10.046Z"
   },
   {
    "duration": 84,
    "start_time": "2023-02-07T20:57:18.069Z"
   },
   {
    "duration": 4,
    "start_time": "2023-02-07T20:57:44.217Z"
   },
   {
    "duration": 34,
    "start_time": "2023-02-07T20:57:44.225Z"
   },
   {
    "duration": 50,
    "start_time": "2023-02-07T20:57:44.261Z"
   },
   {
    "duration": 21,
    "start_time": "2023-02-07T20:57:44.313Z"
   },
   {
    "duration": 33,
    "start_time": "2023-02-07T20:57:44.336Z"
   },
   {
    "duration": 4,
    "start_time": "2023-02-07T20:57:44.370Z"
   },
   {
    "duration": 18,
    "start_time": "2023-02-07T20:57:44.376Z"
   },
   {
    "duration": 11,
    "start_time": "2023-02-07T20:57:44.397Z"
   },
   {
    "duration": 9,
    "start_time": "2023-02-07T20:57:44.410Z"
   },
   {
    "duration": 12,
    "start_time": "2023-02-07T20:57:44.420Z"
   },
   {
    "duration": 5,
    "start_time": "2023-02-07T20:57:44.434Z"
   },
   {
    "duration": 10,
    "start_time": "2023-02-07T20:57:44.440Z"
   },
   {
    "duration": 12,
    "start_time": "2023-02-07T20:57:44.451Z"
   },
   {
    "duration": 27,
    "start_time": "2023-02-07T20:57:44.465Z"
   },
   {
    "duration": 16,
    "start_time": "2023-02-07T20:57:44.495Z"
   },
   {
    "duration": 213,
    "start_time": "2023-02-07T20:57:44.512Z"
   },
   {
    "duration": 212,
    "start_time": "2023-02-07T20:57:44.727Z"
   },
   {
    "duration": 341,
    "start_time": "2023-02-07T20:57:44.941Z"
   },
   {
    "duration": 12,
    "start_time": "2023-02-07T20:57:45.290Z"
   },
   {
    "duration": 24,
    "start_time": "2023-02-07T20:57:45.306Z"
   },
   {
    "duration": 218,
    "start_time": "2023-02-07T20:57:45.332Z"
   },
   {
    "duration": 372,
    "start_time": "2023-02-07T20:57:45.551Z"
   },
   {
    "duration": 7,
    "start_time": "2023-02-07T20:57:45.925Z"
   },
   {
    "duration": 167,
    "start_time": "2023-02-07T20:57:45.934Z"
   },
   {
    "duration": 4,
    "start_time": "2023-02-07T20:57:46.106Z"
   },
   {
    "duration": 11,
    "start_time": "2023-02-07T20:57:46.111Z"
   },
   {
    "duration": 147,
    "start_time": "2023-02-07T20:57:46.123Z"
   },
   {
    "duration": 5,
    "start_time": "2023-02-07T20:57:46.272Z"
   },
   {
    "duration": 25,
    "start_time": "2023-02-07T20:57:46.290Z"
   },
   {
    "duration": 17,
    "start_time": "2023-02-07T20:57:46.317Z"
   },
   {
    "duration": 21,
    "start_time": "2023-02-07T20:57:46.336Z"
   },
   {
    "duration": 171,
    "start_time": "2023-02-07T20:57:46.358Z"
   },
   {
    "duration": 36,
    "start_time": "2023-02-07T20:57:46.531Z"
   },
   {
    "duration": 38,
    "start_time": "2023-02-07T20:57:46.569Z"
   },
   {
    "duration": 19,
    "start_time": "2023-02-07T20:57:46.609Z"
   },
   {
    "duration": 24,
    "start_time": "2023-02-07T20:57:46.630Z"
   },
   {
    "duration": 36,
    "start_time": "2023-02-07T20:57:46.656Z"
   },
   {
    "duration": 26,
    "start_time": "2023-02-07T20:57:46.694Z"
   },
   {
    "duration": 4,
    "start_time": "2023-02-07T20:59:41.415Z"
   },
   {
    "duration": 42,
    "start_time": "2023-02-07T20:59:41.425Z"
   },
   {
    "duration": 53,
    "start_time": "2023-02-07T20:59:41.469Z"
   },
   {
    "duration": 20,
    "start_time": "2023-02-07T20:59:41.524Z"
   },
   {
    "duration": 28,
    "start_time": "2023-02-07T20:59:41.547Z"
   },
   {
    "duration": 3,
    "start_time": "2023-02-07T20:59:41.576Z"
   },
   {
    "duration": 8,
    "start_time": "2023-02-07T20:59:41.581Z"
   },
   {
    "duration": 26,
    "start_time": "2023-02-07T20:59:41.591Z"
   },
   {
    "duration": 12,
    "start_time": "2023-02-07T20:59:41.618Z"
   },
   {
    "duration": 15,
    "start_time": "2023-02-07T20:59:41.632Z"
   },
   {
    "duration": 5,
    "start_time": "2023-02-07T20:59:41.650Z"
   },
   {
    "duration": 12,
    "start_time": "2023-02-07T20:59:41.656Z"
   },
   {
    "duration": 8,
    "start_time": "2023-02-07T20:59:41.669Z"
   },
   {
    "duration": 18,
    "start_time": "2023-02-07T20:59:41.678Z"
   },
   {
    "duration": 17,
    "start_time": "2023-02-07T20:59:41.697Z"
   },
   {
    "duration": 220,
    "start_time": "2023-02-07T20:59:41.716Z"
   },
   {
    "duration": 224,
    "start_time": "2023-02-07T20:59:41.938Z"
   },
   {
    "duration": 345,
    "start_time": "2023-02-07T20:59:42.164Z"
   },
   {
    "duration": 7,
    "start_time": "2023-02-07T20:59:42.511Z"
   },
   {
    "duration": 6,
    "start_time": "2023-02-07T20:59:42.519Z"
   },
   {
    "duration": 234,
    "start_time": "2023-02-07T20:59:42.527Z"
   },
   {
    "duration": 375,
    "start_time": "2023-02-07T20:59:42.762Z"
   },
   {
    "duration": 8,
    "start_time": "2023-02-07T20:59:43.138Z"
   },
   {
    "duration": 174,
    "start_time": "2023-02-07T20:59:43.147Z"
   },
   {
    "duration": 4,
    "start_time": "2023-02-07T20:59:43.323Z"
   },
   {
    "duration": 11,
    "start_time": "2023-02-07T20:59:43.329Z"
   },
   {
    "duration": 168,
    "start_time": "2023-02-07T20:59:43.342Z"
   },
   {
    "duration": 4,
    "start_time": "2023-02-07T20:59:43.511Z"
   },
   {
    "duration": 19,
    "start_time": "2023-02-07T20:59:43.518Z"
   },
   {
    "duration": 16,
    "start_time": "2023-02-07T20:59:43.539Z"
   },
   {
    "duration": 267,
    "start_time": "2023-02-07T20:59:43.557Z"
   },
   {
    "duration": 170,
    "start_time": "2023-02-07T20:59:43.826Z"
   },
   {
    "duration": 30,
    "start_time": "2023-02-07T20:59:43.997Z"
   },
   {
    "duration": 16,
    "start_time": "2023-02-07T20:59:44.028Z"
   },
   {
    "duration": 26,
    "start_time": "2023-02-07T20:59:44.045Z"
   },
   {
    "duration": 28,
    "start_time": "2023-02-07T20:59:44.073Z"
   },
   {
    "duration": 34,
    "start_time": "2023-02-07T20:59:44.106Z"
   },
   {
    "duration": 15,
    "start_time": "2023-02-07T20:59:44.142Z"
   },
   {
    "duration": 42,
    "start_time": "2023-02-08T19:21:50.817Z"
   },
   {
    "duration": 1321,
    "start_time": "2023-02-08T19:22:13.927Z"
   },
   {
    "duration": 97,
    "start_time": "2023-02-08T19:22:15.250Z"
   },
   {
    "duration": 96,
    "start_time": "2023-02-08T19:22:15.349Z"
   },
   {
    "duration": 67,
    "start_time": "2023-02-08T19:22:15.447Z"
   },
   {
    "duration": 30,
    "start_time": "2023-02-08T19:22:15.516Z"
   },
   {
    "duration": 3,
    "start_time": "2023-02-08T19:22:15.547Z"
   },
   {
    "duration": 10,
    "start_time": "2023-02-08T19:22:15.551Z"
   },
   {
    "duration": 14,
    "start_time": "2023-02-08T19:22:15.563Z"
   },
   {
    "duration": 9,
    "start_time": "2023-02-08T19:22:15.578Z"
   },
   {
    "duration": 10,
    "start_time": "2023-02-08T19:22:15.589Z"
   },
   {
    "duration": 31,
    "start_time": "2023-02-08T19:22:15.600Z"
   },
   {
    "duration": 14,
    "start_time": "2023-02-08T19:22:15.632Z"
   },
   {
    "duration": 8,
    "start_time": "2023-02-08T19:22:15.647Z"
   },
   {
    "duration": 7,
    "start_time": "2023-02-08T19:22:15.656Z"
   },
   {
    "duration": 14,
    "start_time": "2023-02-08T19:22:15.664Z"
   },
   {
    "duration": 249,
    "start_time": "2023-02-08T19:22:15.680Z"
   },
   {
    "duration": 189,
    "start_time": "2023-02-08T19:22:15.931Z"
   },
   {
    "duration": 331,
    "start_time": "2023-02-08T19:22:16.122Z"
   },
   {
    "duration": 6,
    "start_time": "2023-02-08T19:22:16.455Z"
   },
   {
    "duration": 20,
    "start_time": "2023-02-08T19:22:16.462Z"
   },
   {
    "duration": 188,
    "start_time": "2023-02-08T19:22:16.483Z"
   },
   {
    "duration": 305,
    "start_time": "2023-02-08T19:22:16.673Z"
   },
   {
    "duration": 7,
    "start_time": "2023-02-08T19:22:16.979Z"
   },
   {
    "duration": 135,
    "start_time": "2023-02-08T19:22:16.987Z"
   },
   {
    "duration": 4,
    "start_time": "2023-02-08T19:22:17.127Z"
   },
   {
    "duration": 17,
    "start_time": "2023-02-08T19:22:17.132Z"
   },
   {
    "duration": 131,
    "start_time": "2023-02-08T19:22:17.150Z"
   },
   {
    "duration": 4,
    "start_time": "2023-02-08T19:22:17.284Z"
   },
   {
    "duration": 25,
    "start_time": "2023-02-08T19:22:17.289Z"
   },
   {
    "duration": 22,
    "start_time": "2023-02-08T19:22:17.316Z"
   },
   {
    "duration": 14,
    "start_time": "2023-02-08T19:22:17.340Z"
   },
   {
    "duration": 241,
    "start_time": "2023-02-08T19:22:17.356Z"
   },
   {
    "duration": 19,
    "start_time": "2023-02-08T19:22:17.599Z"
   },
   {
    "duration": 13,
    "start_time": "2023-02-08T19:22:17.620Z"
   },
   {
    "duration": 7,
    "start_time": "2023-02-08T19:22:17.635Z"
   },
   {
    "duration": 5,
    "start_time": "2023-02-08T19:22:17.643Z"
   },
   {
    "duration": 8,
    "start_time": "2023-02-08T19:22:17.650Z"
   },
   {
    "duration": 19,
    "start_time": "2023-02-08T19:22:17.660Z"
   },
   {
    "duration": 15,
    "start_time": "2023-02-08T19:22:17.680Z"
   },
   {
    "duration": 4,
    "start_time": "2023-02-08T19:22:45.545Z"
   },
   {
    "duration": 10,
    "start_time": "2023-02-08T19:24:58.170Z"
   },
   {
    "duration": 89,
    "start_time": "2023-02-08T19:25:29.300Z"
   },
   {
    "duration": 12,
    "start_time": "2023-02-08T19:26:36.423Z"
   },
   {
    "duration": 5,
    "start_time": "2023-02-08T19:27:06.624Z"
   },
   {
    "duration": 4,
    "start_time": "2023-02-08T19:27:14.265Z"
   },
   {
    "duration": 75,
    "start_time": "2023-02-08T19:27:48.293Z"
   },
   {
    "duration": 3,
    "start_time": "2023-02-08T19:27:54.092Z"
   },
   {
    "duration": 3,
    "start_time": "2023-02-08T19:28:08.258Z"
   },
   {
    "duration": 3,
    "start_time": "2023-02-08T19:28:15.929Z"
   },
   {
    "duration": 3,
    "start_time": "2023-02-08T19:28:31.958Z"
   },
   {
    "duration": 4,
    "start_time": "2023-02-08T19:28:38.523Z"
   },
   {
    "duration": 4,
    "start_time": "2023-02-08T19:35:11.646Z"
   },
   {
    "duration": 4,
    "start_time": "2023-02-08T19:35:33.639Z"
   },
   {
    "duration": 4,
    "start_time": "2023-02-08T19:35:41.260Z"
   },
   {
    "duration": 5,
    "start_time": "2023-02-08T19:36:01.340Z"
   },
   {
    "duration": 1048,
    "start_time": "2023-02-08T19:36:12.670Z"
   },
   {
    "duration": 35,
    "start_time": "2023-02-08T19:36:13.720Z"
   },
   {
    "duration": 41,
    "start_time": "2023-02-08T19:36:13.756Z"
   },
   {
    "duration": 18,
    "start_time": "2023-02-08T19:36:13.800Z"
   },
   {
    "duration": 30,
    "start_time": "2023-02-08T19:36:13.820Z"
   },
   {
    "duration": 3,
    "start_time": "2023-02-08T19:36:13.851Z"
   },
   {
    "duration": 12,
    "start_time": "2023-02-08T19:36:13.856Z"
   },
   {
    "duration": 17,
    "start_time": "2023-02-08T19:36:13.870Z"
   },
   {
    "duration": 10,
    "start_time": "2023-02-08T19:36:13.889Z"
   },
   {
    "duration": 34,
    "start_time": "2023-02-08T19:36:13.901Z"
   },
   {
    "duration": 5,
    "start_time": "2023-02-08T19:36:13.937Z"
   },
   {
    "duration": 7,
    "start_time": "2023-02-08T19:36:13.943Z"
   },
   {
    "duration": 8,
    "start_time": "2023-02-08T19:36:13.951Z"
   },
   {
    "duration": 5,
    "start_time": "2023-02-08T19:36:13.960Z"
   },
   {
    "duration": 13,
    "start_time": "2023-02-08T19:36:13.966Z"
   },
   {
    "duration": 284,
    "start_time": "2023-02-08T19:36:13.980Z"
   },
   {
    "duration": 217,
    "start_time": "2023-02-08T19:36:14.265Z"
   },
   {
    "duration": 360,
    "start_time": "2023-02-08T19:36:14.484Z"
   },
   {
    "duration": 6,
    "start_time": "2023-02-08T19:36:14.846Z"
   },
   {
    "duration": 7,
    "start_time": "2023-02-08T19:36:14.854Z"
   },
   {
    "duration": 245,
    "start_time": "2023-02-08T19:36:14.862Z"
   },
   {
    "duration": 341,
    "start_time": "2023-02-08T19:36:15.109Z"
   },
   {
    "duration": 8,
    "start_time": "2023-02-08T19:36:15.452Z"
   },
   {
    "duration": 179,
    "start_time": "2023-02-08T19:36:15.461Z"
   },
   {
    "duration": 6,
    "start_time": "2023-02-08T19:36:15.642Z"
   },
   {
    "duration": 12,
    "start_time": "2023-02-08T19:36:15.650Z"
   },
   {
    "duration": 167,
    "start_time": "2023-02-08T19:36:15.664Z"
   },
   {
    "duration": 5,
    "start_time": "2023-02-08T19:36:15.834Z"
   },
   {
    "duration": 18,
    "start_time": "2023-02-08T19:36:15.840Z"
   },
   {
    "duration": 14,
    "start_time": "2023-02-08T19:36:15.860Z"
   },
   {
    "duration": 13,
    "start_time": "2023-02-08T19:36:15.875Z"
   },
   {
    "duration": 243,
    "start_time": "2023-02-08T19:36:15.889Z"
   },
   {
    "duration": 22,
    "start_time": "2023-02-08T19:36:16.134Z"
   },
   {
    "duration": 11,
    "start_time": "2023-02-08T19:36:16.158Z"
   },
   {
    "duration": 18,
    "start_time": "2023-02-08T19:36:16.172Z"
   },
   {
    "duration": 5,
    "start_time": "2023-02-08T19:36:16.192Z"
   },
   {
    "duration": 31,
    "start_time": "2023-02-08T19:36:16.199Z"
   },
   {
    "duration": 19,
    "start_time": "2023-02-08T19:36:16.232Z"
   },
   {
    "duration": 27,
    "start_time": "2023-02-08T19:36:16.253Z"
   },
   {
    "duration": 18,
    "start_time": "2023-02-08T19:36:16.282Z"
   },
   {
    "duration": 6,
    "start_time": "2023-02-08T19:36:59.970Z"
   },
   {
    "duration": 4,
    "start_time": "2023-02-08T19:38:16.718Z"
   },
   {
    "duration": 89,
    "start_time": "2023-02-08T19:38:24.127Z"
   },
   {
    "duration": 4,
    "start_time": "2023-02-08T19:38:29.445Z"
   },
   {
    "duration": 5,
    "start_time": "2023-02-08T19:45:48.777Z"
   },
   {
    "duration": 4,
    "start_time": "2023-02-08T19:45:56.386Z"
   },
   {
    "duration": 69,
    "start_time": "2023-02-08T19:46:02.383Z"
   },
   {
    "duration": 5,
    "start_time": "2023-02-08T19:46:08.034Z"
   },
   {
    "duration": 71,
    "start_time": "2023-02-08T19:47:11.730Z"
   },
   {
    "duration": 95,
    "start_time": "2023-02-08T19:47:36.540Z"
   },
   {
    "duration": 76,
    "start_time": "2023-02-08T19:49:14.301Z"
   },
   {
    "duration": 67,
    "start_time": "2023-02-08T19:49:29.579Z"
   },
   {
    "duration": 70,
    "start_time": "2023-02-08T19:51:08.157Z"
   },
   {
    "duration": 70,
    "start_time": "2023-02-08T19:51:34.580Z"
   },
   {
    "duration": 71,
    "start_time": "2023-02-08T19:51:44.419Z"
   },
   {
    "duration": 4,
    "start_time": "2023-02-08T19:53:50.058Z"
   },
   {
    "duration": 4,
    "start_time": "2023-02-08T19:54:47.328Z"
   },
   {
    "duration": 3,
    "start_time": "2023-02-08T19:56:02.734Z"
   },
   {
    "duration": 65,
    "start_time": "2023-02-08T19:56:04.253Z"
   },
   {
    "duration": 4,
    "start_time": "2023-02-08T19:56:45.369Z"
   },
   {
    "duration": 4,
    "start_time": "2023-02-08T19:56:58.532Z"
   },
   {
    "duration": 73,
    "start_time": "2023-02-08T20:02:43.745Z"
   },
   {
    "duration": 1102,
    "start_time": "2023-02-08T20:03:05.445Z"
   },
   {
    "duration": 37,
    "start_time": "2023-02-08T20:03:06.549Z"
   },
   {
    "duration": 42,
    "start_time": "2023-02-08T20:03:06.588Z"
   },
   {
    "duration": 18,
    "start_time": "2023-02-08T20:03:06.631Z"
   },
   {
    "duration": 28,
    "start_time": "2023-02-08T20:03:06.651Z"
   },
   {
    "duration": 2,
    "start_time": "2023-02-08T20:03:06.681Z"
   },
   {
    "duration": 11,
    "start_time": "2023-02-08T20:03:06.685Z"
   },
   {
    "duration": 11,
    "start_time": "2023-02-08T20:03:06.697Z"
   },
   {
    "duration": 25,
    "start_time": "2023-02-08T20:03:06.710Z"
   },
   {
    "duration": 10,
    "start_time": "2023-02-08T20:03:06.736Z"
   },
   {
    "duration": 5,
    "start_time": "2023-02-08T20:03:06.748Z"
   },
   {
    "duration": 8,
    "start_time": "2023-02-08T20:03:06.755Z"
   },
   {
    "duration": 11,
    "start_time": "2023-02-08T20:03:06.765Z"
   },
   {
    "duration": 6,
    "start_time": "2023-02-08T20:03:06.778Z"
   },
   {
    "duration": 13,
    "start_time": "2023-02-08T20:03:06.785Z"
   },
   {
    "duration": 256,
    "start_time": "2023-02-08T20:03:06.828Z"
   },
   {
    "duration": 238,
    "start_time": "2023-02-08T20:03:07.085Z"
   },
   {
    "duration": 312,
    "start_time": "2023-02-08T20:03:07.328Z"
   },
   {
    "duration": 6,
    "start_time": "2023-02-08T20:03:07.642Z"
   },
   {
    "duration": 12,
    "start_time": "2023-02-08T20:03:07.649Z"
   },
   {
    "duration": 194,
    "start_time": "2023-02-08T20:03:07.662Z"
   },
   {
    "duration": 297,
    "start_time": "2023-02-08T20:03:07.858Z"
   },
   {
    "duration": 6,
    "start_time": "2023-02-08T20:03:08.158Z"
   },
   {
    "duration": 136,
    "start_time": "2023-02-08T20:03:08.165Z"
   },
   {
    "duration": 3,
    "start_time": "2023-02-08T20:03:08.303Z"
   },
   {
    "duration": 9,
    "start_time": "2023-02-08T20:03:08.308Z"
   },
   {
    "duration": 135,
    "start_time": "2023-02-08T20:03:08.328Z"
   },
   {
    "duration": 5,
    "start_time": "2023-02-08T20:03:08.464Z"
   },
   {
    "duration": 22,
    "start_time": "2023-02-08T20:03:08.471Z"
   },
   {
    "duration": 11,
    "start_time": "2023-02-08T20:03:08.495Z"
   },
   {
    "duration": 26,
    "start_time": "2023-02-08T20:03:08.507Z"
   },
   {
    "duration": 200,
    "start_time": "2023-02-08T20:03:08.535Z"
   },
   {
    "duration": 20,
    "start_time": "2023-02-08T20:03:08.736Z"
   },
   {
    "duration": 10,
    "start_time": "2023-02-08T20:03:08.757Z"
   },
   {
    "duration": 7,
    "start_time": "2023-02-08T20:03:08.768Z"
   },
   {
    "duration": 7,
    "start_time": "2023-02-08T20:03:08.776Z"
   },
   {
    "duration": 5,
    "start_time": "2023-02-08T20:03:08.784Z"
   },
   {
    "duration": 37,
    "start_time": "2023-02-08T20:03:08.791Z"
   },
   {
    "duration": 19,
    "start_time": "2023-02-08T20:03:08.829Z"
   },
   {
    "duration": 15,
    "start_time": "2023-02-08T20:03:08.850Z"
   }
  ],
  "kernelspec": {
   "display_name": "Python 3 (ipykernel)",
   "language": "python",
   "name": "python3"
  },
  "language_info": {
   "codemirror_mode": {
    "name": "ipython",
    "version": 3
   },
   "file_extension": ".py",
   "mimetype": "text/x-python",
   "name": "python",
   "nbconvert_exporter": "python",
   "pygments_lexer": "ipython3",
   "version": "3.10.9"
  },
  "toc": {
   "base_numbering": 1,
   "nav_menu": {},
   "number_sections": true,
   "sideBar": true,
   "skip_h1_title": true,
   "title_cell": "Table of Contents",
   "title_sidebar": "Contents",
   "toc_cell": false,
   "toc_position": {
    "height": "calc(100% - 180px)",
    "left": "10px",
    "top": "150px",
    "width": "225px"
   },
   "toc_section_display": true,
   "toc_window_display": true
  }
 },
 "nbformat": 4,
 "nbformat_minor": 2
}
