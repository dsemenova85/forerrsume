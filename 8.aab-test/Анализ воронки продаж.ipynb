{
 "cells": [
  {
   "cell_type": "markdown",
   "id": "dfa36faf",
   "metadata": {},
   "source": [
    "# Анализ воронки продаж"
   ]
  },
  {
   "cell_type": "markdown",
   "id": "858dd831",
   "metadata": {},
   "source": [
    "В рамках проекта, необходимо изучить воронку продаж. Проанализировать, как и какое количество пользователей доходят до покупки продуктов питания, есть ли стоп-факторы на пути воронки."
   ]
  },
  {
   "cell_type": "markdown",
   "id": "4584213d",
   "metadata": {},
   "source": [
    "**План проверки:** \n",
    "\n",
    "* Подготовим данные к анализу\n",
    "* Изучим данные выборки\n",
    "* Изучим и выберем актуальный период для проверки\n",
    "* Проанализируем движение пользователей в приложении\n",
    "* Проведем эксперимент с контрольной группой и экспериментальной \n"
   ]
  },
  {
   "cell_type": "markdown",
   "id": "5c99f110",
   "metadata": {},
   "source": [
    "## Изучим данные"
   ]
  },
  {
   "cell_type": "code",
   "execution_count": 1,
   "id": "14cf1b60",
   "metadata": {},
   "outputs": [],
   "source": [
    "#импорт библиотек\n",
    "import pandas as pd\n",
    "import numpy as np\n",
    "import matplotlib.pyplot as plt\n",
    "import seaborn as sns\n",
    "import datetime as dt\n",
    "import scipy.stats as st"
   ]
  },
  {
   "cell_type": "code",
   "execution_count": 2,
   "id": "21ee2e1e",
   "metadata": {},
   "outputs": [],
   "source": [
    "#загрузка данных\n",
    "try:\n",
    "    logs = pd.read_csv('/Users/macbookair/Desktop/logs_exp.csv')\n",
    "except:\n",
    "      logs = pd.read_csv('/datasets/logs_exp.csv', sep ='\\t')"
   ]
  },
  {
   "cell_type": "code",
   "execution_count": 3,
   "id": "c8e82f72",
   "metadata": {},
   "outputs": [
    {
     "data": {
      "text/html": [
       "<div>\n",
       "<style scoped>\n",
       "    .dataframe tbody tr th:only-of-type {\n",
       "        vertical-align: middle;\n",
       "    }\n",
       "\n",
       "    .dataframe tbody tr th {\n",
       "        vertical-align: top;\n",
       "    }\n",
       "\n",
       "    .dataframe thead th {\n",
       "        text-align: right;\n",
       "    }\n",
       "</style>\n",
       "<table border=\"1\" class=\"dataframe\">\n",
       "  <thead>\n",
       "    <tr style=\"text-align: right;\">\n",
       "      <th></th>\n",
       "      <th>EventName</th>\n",
       "      <th>DeviceIDHash</th>\n",
       "      <th>EventTimestamp</th>\n",
       "      <th>ExpId</th>\n",
       "    </tr>\n",
       "  </thead>\n",
       "  <tbody>\n",
       "    <tr>\n",
       "      <th>0</th>\n",
       "      <td>MainScreenAppear</td>\n",
       "      <td>4575588528974610257</td>\n",
       "      <td>1564029816</td>\n",
       "      <td>246</td>\n",
       "    </tr>\n",
       "    <tr>\n",
       "      <th>1</th>\n",
       "      <td>MainScreenAppear</td>\n",
       "      <td>7416695313311560658</td>\n",
       "      <td>1564053102</td>\n",
       "      <td>246</td>\n",
       "    </tr>\n",
       "    <tr>\n",
       "      <th>2</th>\n",
       "      <td>PaymentScreenSuccessful</td>\n",
       "      <td>3518123091307005509</td>\n",
       "      <td>1564054127</td>\n",
       "      <td>248</td>\n",
       "    </tr>\n",
       "    <tr>\n",
       "      <th>3</th>\n",
       "      <td>CartScreenAppear</td>\n",
       "      <td>3518123091307005509</td>\n",
       "      <td>1564054127</td>\n",
       "      <td>248</td>\n",
       "    </tr>\n",
       "    <tr>\n",
       "      <th>4</th>\n",
       "      <td>PaymentScreenSuccessful</td>\n",
       "      <td>6217807653094995999</td>\n",
       "      <td>1564055322</td>\n",
       "      <td>248</td>\n",
       "    </tr>\n",
       "  </tbody>\n",
       "</table>\n",
       "</div>"
      ],
      "text/plain": [
       "                 EventName         DeviceIDHash  EventTimestamp  ExpId\n",
       "0         MainScreenAppear  4575588528974610257      1564029816    246\n",
       "1         MainScreenAppear  7416695313311560658      1564053102    246\n",
       "2  PaymentScreenSuccessful  3518123091307005509      1564054127    248\n",
       "3         CartScreenAppear  3518123091307005509      1564054127    248\n",
       "4  PaymentScreenSuccessful  6217807653094995999      1564055322    248"
      ]
     },
     "execution_count": 3,
     "metadata": {},
     "output_type": "execute_result"
    }
   ],
   "source": [
    "logs.head(5)"
   ]
  },
  {
   "cell_type": "markdown",
   "id": "af2f3681",
   "metadata": {},
   "source": [
    "Описание данных\n",
    "\n",
    "Каждая запись в логе — это действие пользователя, или событие. \n",
    "\n",
    "`EventName` — название события;\n",
    "\n",
    "`DeviceIDHash` — уникальный идентификатор пользователя;\n",
    "\n",
    "`EventTimestamp` — время события;\n",
    "\n",
    "`ExpId` — номер эксперимента: 246 и 247 — контрольные группы, а 248 — экспериментальная."
   ]
  },
  {
   "cell_type": "markdown",
   "id": "c98ee218",
   "metadata": {},
   "source": [
    "## Подготовим данные"
   ]
  },
  {
   "cell_type": "code",
   "execution_count": 4,
   "id": "9be80376",
   "metadata": {},
   "outputs": [
    {
     "name": "stdout",
     "output_type": "stream",
     "text": [
      "Index(['event_name', 'device_id', 'event_time', 'exp_id'], dtype='object')\n"
     ]
    }
   ],
   "source": [
    "# заменим столбцы\n",
    "logs = logs.rename(columns={'EventName' : 'event_name', 'DeviceIDHash' : 'device_id', 'EventTimestamp' : 'event_time', 'ExpId' : 'exp_id'})\n",
    "print(logs.columns)"
   ]
  },
  {
   "cell_type": "code",
   "execution_count": 5,
   "id": "aabe0350",
   "metadata": {},
   "outputs": [
    {
     "name": "stdout",
     "output_type": "stream",
     "text": [
      "<class 'pandas.core.frame.DataFrame'>\n",
      "RangeIndex: 244126 entries, 0 to 244125\n",
      "Data columns (total 4 columns):\n",
      " #   Column      Non-Null Count   Dtype \n",
      "---  ------      --------------   ----- \n",
      " 0   event_name  244126 non-null  object\n",
      " 1   device_id   244126 non-null  int64 \n",
      " 2   event_time  244126 non-null  int64 \n",
      " 3   exp_id      244126 non-null  int64 \n",
      "dtypes: int64(3), object(1)\n",
      "memory usage: 7.5+ MB\n"
     ]
    },
    {
     "data": {
      "text/plain": [
       "None"
      ]
     },
     "metadata": {},
     "output_type": "display_data"
    },
    {
     "name": "stdout",
     "output_type": "stream",
     "text": [
      "Количество дубликатов 413\n",
      "Количество пропусков 0\n"
     ]
    }
   ],
   "source": [
    "# проверим пропуски, дубликаты и тип данных\n",
    "display(logs.info())\n",
    "print(f'Количество дубликатов {logs.duplicated().sum()}')\n",
    "print(f'Количество пропусков {logs.isnull().sum().sum()}')"
   ]
  },
  {
   "cell_type": "code",
   "execution_count": 6,
   "id": "a15ddfc2",
   "metadata": {},
   "outputs": [],
   "source": [
    "# преобразование времени\n",
    "logs.event_time = pd.to_datetime(logs.event_time, unit='s')\n",
    "\n",
    "# создание столбца с датой\n",
    "logs['event_date'] = logs.event_time.dt.date\n",
    "\n",
    "# удаление дубликатов \n",
    "logs = logs.drop_duplicates().reset_index(drop=True)"
   ]
  },
  {
   "cell_type": "markdown",
   "id": "e7910b30",
   "metadata": {},
   "source": [
    "## Изучите и проверьте данные"
   ]
  },
  {
   "cell_type": "markdown",
   "id": "df3ea556",
   "metadata": {},
   "source": [
    "### Изучим данные"
   ]
  },
  {
   "cell_type": "code",
   "execution_count": 7,
   "id": "2a1977e6",
   "metadata": {},
   "outputs": [
    {
     "name": "stdout",
     "output_type": "stream",
     "text": [
      "Сколько всего событий в логе - 243713\n",
      "Сколько всего пользователей в логе - 7551.\n",
      "Сколько в среднем событий приходится на пользователя - 32\n"
     ]
    }
   ],
   "source": [
    "print(f'Сколько всего событий в логе - {len(logs)}')\n",
    "print(f'Сколько всего пользователей в логе - {len(logs.device_id.unique())}.')\n",
    "print(f'Сколько в среднем событий приходится на пользователя - {int(len(logs) / len(logs.device_id.unique()))}')"
   ]
  },
  {
   "cell_type": "markdown",
   "id": "450c007b",
   "metadata": {},
   "source": [
    "### Изучим период событий"
   ]
  },
  {
   "cell_type": "markdown",
   "id": "f2620791",
   "metadata": {},
   "source": [
    "За какой период времени выбраны события?"
   ]
  },
  {
   "cell_type": "code",
   "execution_count": 8,
   "id": "02aac1e0",
   "metadata": {},
   "outputs": [
    {
     "name": "stdout",
     "output_type": "stream",
     "text": [
      "Минимальная дата - 2019-07-25 04:43:36\n",
      "Максимальная дата - 2019-08-07 21:15:17\n"
     ]
    }
   ],
   "source": [
    "print(f'Минимальная дата - {logs.event_time.min()}')\n",
    "print(f'Максимальная дата - {logs.event_time.max()}')"
   ]
  },
  {
   "cell_type": "code",
   "execution_count": 9,
   "id": "22021526",
   "metadata": {},
   "outputs": [
    {
     "data": {
      "image/png": "[encoded data removed]",
      "text/plain": [
       "<Figure size 1080x504 with 1 Axes>"
      ]
     },
     "metadata": {
      "needs_background": "light"
     },
     "output_type": "display_data"
    }
   ],
   "source": [
    "time_period = logs.groupby('event_date')[['event_name']].count().reset_index()\n",
    "\n",
    "plt.figure(figsize=(15, 7))\n",
    "ax = sns.barplot(x='event_date', y='event_name', data=time_period, palette='hls')\n",
    "for i, v in time_period.iterrows():\n",
    "       ax.text(i, v[1]+500, str(v[1]), ha='center')\n",
    "plt.title('Распределение событий по времени')\n",
    "plt.xlabel('Дата')\n",
    "plt.ylabel('Количество событий')\n",
    "plt.show()"
   ]
  },
  {
   "cell_type": "markdown",
   "id": "8afb9174",
   "metadata": {},
   "source": [
    "**Период выборки - с 25 июля по 7 августа 2019 года (2 недели)**\n",
    "\n",
    "С 1 августа видим резкий рост событий с 2 тыс. до 36 тыс. Предполгается, что на вторую неделю была запущена рекламная кампания, которая повлияла на скачок. Данные за первую неделю будут для нас не актуальными."
   ]
  },
  {
   "cell_type": "markdown",
   "id": "3ad6f50f",
   "metadata": {},
   "source": [
    "### Фильтруем данные\n",
    "\n",
    "Отфильтруем данные, уберем 1 неделю и посмотрим, как это повлияет на нашу выборку"
   ]
  },
  {
   "cell_type": "code",
   "execution_count": 10,
   "id": "d60da03a",
   "metadata": {},
   "outputs": [
    {
     "name": "stdout",
     "output_type": "stream",
     "text": [
      "<class 'pandas.core.frame.DataFrame'>\n",
      "Int64Index: 240887 entries, 2826 to 243712\n",
      "Data columns (total 5 columns):\n",
      " #   Column      Non-Null Count   Dtype         \n",
      "---  ------      --------------   -----         \n",
      " 0   event_name  240887 non-null  object        \n",
      " 1   device_id   240887 non-null  int64         \n",
      " 2   event_time  240887 non-null  datetime64[ns]\n",
      " 3   exp_id      240887 non-null  int64         \n",
      " 4   event_date  240887 non-null  object        \n",
      "dtypes: datetime64[ns](1), int64(2), object(2)\n",
      "memory usage: 11.0+ MB\n",
      "None\n",
      "\n",
      "98.84% - количество событий второй недели\n",
      "Всего пользователей во второй неделе 7534.\n",
      "\n",
      "exp_id\n",
      "246    2484\n",
      "247    2513\n",
      "248    2537\n",
      "Name: device_id, dtype: int64\n"
     ]
    }
   ],
   "source": [
    "# убираем 1 неделю \n",
    "logs_2w = logs.query('event_date >= datetime(2019, 8, 1).date()')\n",
    "print(logs_2w.info())\n",
    "print()\n",
    "print(f'{(len(logs_2w) / len(logs)):.2%} - количество событий второй недели')\n",
    "print(f'Всего пользователей во второй неделе {len(logs_2w.device_id.unique())}.')\n",
    "print()\n",
    "print(logs_2w.groupby('exp_id')['device_id'].nunique())"
   ]
  },
  {
   "cell_type": "markdown",
   "id": "12144e30",
   "metadata": {},
   "source": [
    "* ~99% данных содержит вторая неделя, это 7534 пользователя из 7551\n",
    "* После фильтрации мы потеряли 1,16% данных\n",
    "* В выборке остались пользователи всех трех групп 246,247 и 248\n",
    "* Группы примерно равны по количеству"
   ]
  },
  {
   "cell_type": "markdown",
   "id": "7ca80e4d",
   "metadata": {},
   "source": [
    "## Изучим воронку событий"
   ]
  },
  {
   "cell_type": "markdown",
   "id": "8cb7c293",
   "metadata": {},
   "source": [
    "###  Посмотрим на данные воронки\n",
    "\n",
    "Какие события есть в логах, как часто они встречаются"
   ]
  },
  {
   "cell_type": "code",
   "execution_count": 11,
   "id": "f84798b7",
   "metadata": {},
   "outputs": [
    {
     "data": {
      "text/plain": [
       "array(['Tutorial', 'MainScreenAppear', 'OffersScreenAppear',\n",
       "       'CartScreenAppear', 'PaymentScreenSuccessful'], dtype=object)"
      ]
     },
     "execution_count": 11,
     "metadata": {},
     "output_type": "execute_result"
    }
   ],
   "source": [
    "logs_2w.event_name.unique()"
   ]
  },
  {
   "cell_type": "markdown",
   "id": "f35e823c",
   "metadata": {},
   "source": [
    "**Выборка содержит 5 событий**\n",
    "\n",
    "**Образуют путь пользователя по приложению, от открытия главной страницы до покупки продуктов питания:**\n",
    "\n",
    "`MainScreenAppear` - просмотр главной страницы\n",
    "\n",
    "`OffersScreenAppear` - просмотр страницы предложений\n",
    "\n",
    "`CartScreenAppear` - просмотр корзины\n",
    "\n",
    "`PaymentScreenSuccessful` - переход на страницу успешной оплаты\n",
    "\n",
    "**Помогает пользователям соориентироваться на сайте:**\n",
    "\n",
    "`Tutorial` - просмотр обучающей информации для новых пользователей"
   ]
  },
  {
   "cell_type": "markdown",
   "id": "e53f1317",
   "metadata": {},
   "source": [
    "### Cколько пользователей совершали каждое из этих событий \n",
    "<a id='events'></a>"
   ]
  },
  {
   "cell_type": "code",
   "execution_count": 12,
   "id": "615fbc26",
   "metadata": {},
   "outputs": [
    {
     "data": {
      "text/html": [
       "<div>\n",
       "<style scoped>\n",
       "    .dataframe tbody tr th:only-of-type {\n",
       "        vertical-align: middle;\n",
       "    }\n",
       "\n",
       "    .dataframe tbody tr th {\n",
       "        vertical-align: top;\n",
       "    }\n",
       "\n",
       "    .dataframe thead th {\n",
       "        text-align: right;\n",
       "    }\n",
       "</style>\n",
       "<table border=\"1\" class=\"dataframe\">\n",
       "  <thead>\n",
       "    <tr style=\"text-align: right;\">\n",
       "      <th></th>\n",
       "      <th>event_name</th>\n",
       "      <th>users_count</th>\n",
       "      <th>%</th>\n",
       "      <th>funnel</th>\n",
       "    </tr>\n",
       "  </thead>\n",
       "  <tbody>\n",
       "    <tr>\n",
       "      <th>0</th>\n",
       "      <td>MainScreenAppear</td>\n",
       "      <td>7419</td>\n",
       "      <td>0.984736</td>\n",
       "      <td>1.000000</td>\n",
       "    </tr>\n",
       "    <tr>\n",
       "      <th>1</th>\n",
       "      <td>OffersScreenAppear</td>\n",
       "      <td>4593</td>\n",
       "      <td>0.609636</td>\n",
       "      <td>0.619086</td>\n",
       "    </tr>\n",
       "    <tr>\n",
       "      <th>2</th>\n",
       "      <td>CartScreenAppear</td>\n",
       "      <td>3734</td>\n",
       "      <td>0.495620</td>\n",
       "      <td>0.812976</td>\n",
       "    </tr>\n",
       "    <tr>\n",
       "      <th>3</th>\n",
       "      <td>PaymentScreenSuccessful</td>\n",
       "      <td>3539</td>\n",
       "      <td>0.469737</td>\n",
       "      <td>0.947777</td>\n",
       "    </tr>\n",
       "    <tr>\n",
       "      <th>4</th>\n",
       "      <td>Tutorial</td>\n",
       "      <td>840</td>\n",
       "      <td>0.111495</td>\n",
       "      <td>1.000000</td>\n",
       "    </tr>\n",
       "  </tbody>\n",
       "</table>\n",
       "</div>"
      ],
      "text/plain": [
       "                event_name  users_count         %    funnel\n",
       "0         MainScreenAppear         7419  0.984736  1.000000\n",
       "1       OffersScreenAppear         4593  0.609636  0.619086\n",
       "2         CartScreenAppear         3734  0.495620  0.812976\n",
       "3  PaymentScreenSuccessful         3539  0.469737  0.947777\n",
       "4                 Tutorial          840  0.111495  1.000000"
      ]
     },
     "execution_count": 12,
     "metadata": {},
     "output_type": "execute_result"
    }
   ],
   "source": [
    "# сгруппируем таблицу по событиям\n",
    "event_users = logs_2w.groupby('event_name').agg({'device_id':'nunique'}).reset_index()\n",
    "event_users.set_axis(['event_name', 'users_count'], axis='columns', inplace=True)\n",
    "\n",
    "# какой процент уникальных пользователей совершала это событие\n",
    "event_users['%'] = event_users.users_count / logs_2w['device_id'].nunique()\n",
    "event_users = event_users.sort_values('users_count', ascending=False).reset_index(drop=True)\n",
    "\n",
    "# построим воронку\n",
    "event_users['funnel'] = 1\n",
    "for i in range(1, 4):\n",
    "    event_users.loc[i, 'funnel'] = event_users.loc[i, 'users_count'] /  (event_users.loc[i-1, 'users_count'])\n",
    "\n",
    "event_users"
   ]
  },
  {
   "cell_type": "code",
   "execution_count": 13,
   "id": "cffc6ab0",
   "metadata": {},
   "outputs": [
    {
     "data": {
      "image/png": "[encoded data removed]",
      "text/plain": [
       "<Figure size 1080x504 with 1 Axes>"
      ]
     },
     "metadata": {
      "needs_background": "light"
     },
     "output_type": "display_data"
    }
   ],
   "source": [
    "plt.figure(figsize=(15, 7))\n",
    "sns.barplot(data=event_users.loc[0:3], x='event_name', y='users_count', palette='hls')\n",
    "plt.title('Движение пользователей по приложению')\n",
    "plt.xlabel('События')\n",
    "plt.ylabel('Количество пользователей')\n",
    "plt.show()"
   ]
  },
  {
   "cell_type": "markdown",
   "id": "7ba07e1a",
   "metadata": {},
   "source": [
    " <div style=\"border: solid bisque 2px; padding: 20px; font-size: 16px;\">\n",
    "    \n",
    "* 98% пользователей не заходит на главную страницу, значит пользователи могут попасть сразу на другие страницы приложения\n",
    "    \n",
    "* 60% посещают каталог\n",
    "    \n",
    "* Около 40% пользователей не переходят в каталог\n",
    "\n",
    "* 19% не переходят в корзину\n",
    "    \n",
    "* 5% не переходят на страницу оплаты\n",
    "    \n",
    "**Всего 47% пользователей совершают оплату**\n",
    "    \n",
    "    \n",
    "</div>"
   ]
  },
  {
   "cell_type": "markdown",
   "id": "321be48f",
   "metadata": {},
   "source": [
    "## Изучим результаты эксперимента\n",
    "<a id='test'></a>"
   ]
  },
  {
   "cell_type": "markdown",
   "id": "9fa4565a",
   "metadata": {},
   "source": [
    "###  Проведем А/А-тест"
   ]
  },
  {
   "cell_type": "code",
   "execution_count": 14,
   "id": "f6ad131f",
   "metadata": {},
   "outputs": [
    {
     "data": {
      "text/plain": [
       "exp_id\n",
       "246    2484\n",
       "247    2513\n",
       "248    2537\n",
       "Name: device_id, dtype: int64"
      ]
     },
     "execution_count": 14,
     "metadata": {},
     "output_type": "execute_result"
    }
   ],
   "source": [
    "logs_2w.groupby('exp_id')['device_id'].nunique()"
   ]
  },
  {
   "cell_type": "markdown",
   "id": "581c511d",
   "metadata": {},
   "source": [
    "Группы 246 и 247 - контрольные (2484 и 2513 пользователей)\n",
    "\n",
    "Группа - 248 экспериментальная (2537 пользователей)"
   ]
  },
  {
   "cell_type": "markdown",
   "id": "338c366b",
   "metadata": {},
   "source": [
    "**Условия успешного A/A теста:**\n",
    "\n",
    "* Разница в количества в группах должна быть не более 1%\n",
    "\n",
    "* Данные о движении пользователей не должны иметь различий \n",
    "\n",
    "* Данные не имеют статистической значимости \n",
    "\n",
    "* Ключевые метрики не имеют различия больше 1%\n",
    "\n",
    "* Пользователь группы проходит до конца теста"
   ]
  },
  {
   "cell_type": "code",
   "execution_count": 15,
   "id": "20b90787",
   "metadata": {},
   "outputs": [
    {
     "name": "stdout",
     "output_type": "stream",
     "text": [
      "Разница между группой 246 и 247 составляет 1.15%\n",
      "Разница между группой 247 и 248 составляет 0.95%\n",
      "Разница между группой 248 и 246 составляет -2.13%\n"
     ]
    }
   ],
   "source": [
    "# разница в количестве пользователей между группами\n",
    "for i in range(0, 3):\n",
    "    group = [246, 247, 248, 246]\n",
    "    print(f'Разница между группой {group[i]} и {group[i+1]} составляет {1 - logs_2w.query(\"exp_id == @group[@i]\")[\"device_id\"].nunique() / logs_2w.query(\"exp_id == @group[@i+1]\")[\"device_id\"].nunique():.2%}')"
   ]
  },
  {
   "cell_type": "markdown",
   "id": "275ce0d2",
   "metadata": {},
   "source": [
    "Разница между группами незначительная"
   ]
  },
  {
   "cell_type": "code",
   "execution_count": 16,
   "id": "285b0d89",
   "metadata": {},
   "outputs": [
    {
     "data": {
      "text/plain": [
       "0"
      ]
     },
     "execution_count": 16,
     "metadata": {},
     "output_type": "execute_result"
    }
   ],
   "source": [
    "len(logs_2w.groupby('device_id')['exp_id'].nunique().reset_index().query('exp_id > 1'))"
   ]
  },
  {
   "cell_type": "markdown",
   "id": "92b88b59",
   "metadata": {},
   "source": [
    "Нет пользователей, попавших в несколько групп\n",
    "\n",
    "Посмотрим,какое количество пользователей совершило каждое событие от общего количества пользователей в группах"
   ]
  },
  {
   "cell_type": "code",
   "execution_count": 17,
   "id": "845a539c",
   "metadata": {},
   "outputs": [
    {
     "data": {
      "text/html": [
       "<div>\n",
       "<style scoped>\n",
       "    .dataframe tbody tr th:only-of-type {\n",
       "        vertical-align: middle;\n",
       "    }\n",
       "\n",
       "    .dataframe tbody tr th {\n",
       "        vertical-align: top;\n",
       "    }\n",
       "\n",
       "    .dataframe thead th {\n",
       "        text-align: right;\n",
       "    }\n",
       "</style>\n",
       "<table border=\"1\" class=\"dataframe\">\n",
       "  <thead>\n",
       "    <tr style=\"text-align: right;\">\n",
       "      <th>exp_id</th>\n",
       "      <th>event_name</th>\n",
       "      <th>246</th>\n",
       "      <th>247</th>\n",
       "      <th>248</th>\n",
       "      <th>All</th>\n",
       "    </tr>\n",
       "  </thead>\n",
       "  <tbody>\n",
       "    <tr>\n",
       "      <th>0</th>\n",
       "      <td>MainScreenAppear</td>\n",
       "      <td>2450</td>\n",
       "      <td>2476</td>\n",
       "      <td>2493</td>\n",
       "      <td>7419</td>\n",
       "    </tr>\n",
       "    <tr>\n",
       "      <th>1</th>\n",
       "      <td>OffersScreenAppear</td>\n",
       "      <td>1542</td>\n",
       "      <td>1520</td>\n",
       "      <td>1531</td>\n",
       "      <td>4593</td>\n",
       "    </tr>\n",
       "    <tr>\n",
       "      <th>2</th>\n",
       "      <td>CartScreenAppear</td>\n",
       "      <td>1266</td>\n",
       "      <td>1238</td>\n",
       "      <td>1230</td>\n",
       "      <td>3734</td>\n",
       "    </tr>\n",
       "    <tr>\n",
       "      <th>3</th>\n",
       "      <td>PaymentScreenSuccessful</td>\n",
       "      <td>1200</td>\n",
       "      <td>1158</td>\n",
       "      <td>1181</td>\n",
       "      <td>3539</td>\n",
       "    </tr>\n",
       "    <tr>\n",
       "      <th>4</th>\n",
       "      <td>Tutorial</td>\n",
       "      <td>278</td>\n",
       "      <td>283</td>\n",
       "      <td>279</td>\n",
       "      <td>840</td>\n",
       "    </tr>\n",
       "    <tr>\n",
       "      <th>5</th>\n",
       "      <td>All</td>\n",
       "      <td>2484</td>\n",
       "      <td>2513</td>\n",
       "      <td>2537</td>\n",
       "      <td>7534</td>\n",
       "    </tr>\n",
       "  </tbody>\n",
       "</table>\n",
       "</div>"
      ],
      "text/plain": [
       "exp_id               event_name   246   247   248   All\n",
       "0              MainScreenAppear  2450  2476  2493  7419\n",
       "1            OffersScreenAppear  1542  1520  1531  4593\n",
       "2              CartScreenAppear  1266  1238  1230  3734\n",
       "3       PaymentScreenSuccessful  1200  1158  1181  3539\n",
       "4                      Tutorial   278   283   279   840\n",
       "5                           All  2484  2513  2537  7534"
      ]
     },
     "execution_count": 17,
     "metadata": {},
     "output_type": "execute_result"
    }
   ],
   "source": [
    "# распределим пользователей по группам и событиям\n",
    "events_groups = logs_2w.pivot_table(index='event_name', columns='exp_id', values='device_id', aggfunc='nunique', margins=True).reset_index().sort_values('All', ascending=False).reset_index(drop=True)\n",
    "events_groups = events_groups.reindex([1, 2, 3, 4, 5, 0]).reset_index(drop=True)\n",
    "events_groups"
   ]
  },
  {
   "cell_type": "code",
   "execution_count": 18,
   "id": "828b4e24",
   "metadata": {},
   "outputs": [],
   "source": [
    "# функция для проверки различий\n",
    "\n",
    "def check_stats(successes1, successes2, test1, test2):\n",
    "    # пропорция успехов в первой группе:\n",
    "    p1 = successes1/test1\n",
    "    # пропорция успехов во второй группе:\n",
    "    p2 = successes2/test2\n",
    "    # пропорция успехов в комбинированном датасете:\n",
    "    p_combined = (successes1 + successes2) / (test1 + test2)\n",
    "    # разница пропорций в датасетах\n",
    "    difference = p1 - p2 \n",
    "    # считаем статистику в ст.отклонениях стандартного нормального распределения\n",
    "    z_value = difference / (p_combined * (1 - p_combined) * (1/test1 + 1/test2)) ** 0.5\n",
    "    # задаем стандартное нормальное распределение (среднее 0, ст.отклонение 1)\n",
    "    distr = st.norm(0, 1)  \n",
    "    p_value = (1 - distr.cdf(abs(z_value))) * 2\n",
    "    return p_value"
   ]
  },
  {
   "cell_type": "code",
   "execution_count": 19,
   "id": "6e513d30",
   "metadata": {},
   "outputs": [
    {
     "data": {
      "text/html": [
       "<style  type=\"text/css\" >\n",
       "#T_6f440_row3_col1{\n",
       "            background-color:  lightblue;\n",
       "        }</style><table id=\"T_6f440_\" ><thead>    <tr>        <th class=\"blank level0\" ></th>        <th class=\"col_heading level0 col0\" >events</th>        <th class=\"col_heading level0 col1\" >246-247</th>    </tr></thead><tbody>\n",
       "                <tr>\n",
       "                        <th id=\"T_6f440_level0_row0\" class=\"row_heading level0 row0\" >0</th>\n",
       "                        <td id=\"T_6f440_row0_col0\" class=\"data row0 col0\" >MainScreenAppear</td>\n",
       "                        <td id=\"T_6f440_row0_col1\" class=\"data row0 col1\" >0.757060</td>\n",
       "            </tr>\n",
       "            <tr>\n",
       "                        <th id=\"T_6f440_level0_row1\" class=\"row_heading level0 row1\" >1</th>\n",
       "                        <td id=\"T_6f440_row1_col0\" class=\"data row1 col0\" >OffersScreenAppear</td>\n",
       "                        <td id=\"T_6f440_row1_col1\" class=\"data row1 col1\" >0.248095</td>\n",
       "            </tr>\n",
       "            <tr>\n",
       "                        <th id=\"T_6f440_level0_row2\" class=\"row_heading level0 row2\" >2</th>\n",
       "                        <td id=\"T_6f440_row2_col0\" class=\"data row2 col0\" >CartScreenAppear</td>\n",
       "                        <td id=\"T_6f440_row2_col1\" class=\"data row2 col1\" >0.228834</td>\n",
       "            </tr>\n",
       "            <tr>\n",
       "                        <th id=\"T_6f440_level0_row3\" class=\"row_heading level0 row3\" >3</th>\n",
       "                        <td id=\"T_6f440_row3_col0\" class=\"data row3 col0\" >PaymentScreenSuccessful</td>\n",
       "                        <td id=\"T_6f440_row3_col1\" class=\"data row3 col1\" >0.114567</td>\n",
       "            </tr>\n",
       "            <tr>\n",
       "                        <th id=\"T_6f440_level0_row4\" class=\"row_heading level0 row4\" >4</th>\n",
       "                        <td id=\"T_6f440_row4_col0\" class=\"data row4 col0\" >Tutorial</td>\n",
       "                        <td id=\"T_6f440_row4_col1\" class=\"data row4 col1\" >0.937700</td>\n",
       "            </tr>\n",
       "    </tbody></table>"
      ],
      "text/plain": [
       "<pandas.io.formats.style.Styler at 0x7f0f82ec1790>"
      ]
     },
     "execution_count": 19,
     "metadata": {},
     "output_type": "execute_result"
    }
   ],
   "source": [
    "# запишем результаты в новую переменную\n",
    "groups_result = pd.DataFrame({'events' : ['MainScreenAppear', 'OffersScreenAppear', 'CartScreenAppear', 'PaymentScreenSuccessful', 'Tutorial'],\n",
    "                             '246-247' : [0, 0, 0, 0, 0],\n",
    "                             '247-248' : [0, 0, 0, 0, 0],\n",
    "                             '248-246' : [0, 0, 0, 0, 0]})\n",
    "\n",
    "# проверим циклом все события и группы \n",
    "for i in range(0, 5):\n",
    "    for j in range(1, 4):\n",
    "        # для группы 248 парной должна побывать и 246\n",
    "        k = j + 1 if j < 3 else 1\n",
    "        # общее количество пользователей в группе в пятой строке All\n",
    "        groups_result.iloc[i, j] = check_stats(events_groups.iloc[i, j], \n",
    "                                              events_groups.iloc[i, k], \n",
    "                                              events_groups.iloc[5, j], \n",
    "                                              events_groups.iloc[5, k])\n",
    "\n",
    "groups_result.iloc[:, [0, 1]].style.highlight_min(color='lightblue', axis=None)"
   ]
  },
  {
   "cell_type": "markdown",
   "id": "ca481f87",
   "metadata": {},
   "source": [
    "Различия событий недостаточны для статистического различия. Группы 246 и 247 одинаковы"
   ]
  },
  {
   "cell_type": "markdown",
   "id": "527f4967",
   "metadata": {},
   "source": [
    "<div style=\"border: solid bisque 2px; padding: 20px; font-size: 16px;\"> \n",
    "Для всех событий разница в пропорциях недостаточна, различия в рассматриваемом параметре не являются статистически значимыми.\n",
    "</div>"
   ]
  },
  {
   "cell_type": "markdown",
   "id": "6a460373",
   "metadata": {},
   "source": [
    "###  Проведем А/В-тест"
   ]
  },
  {
   "cell_type": "markdown",
   "id": "07e6d6c1",
   "metadata": {},
   "source": [
    "Проверим, повлиял ли новый шрифт на поведение пользователей\n",
    "\n",
    "**Сформулируем нулевую и альтернативную гипотезу:**\n",
    "\n",
    "▶ H0 - статистически значимых различий между группами нет.\n",
    "\n",
    "▶ H1 - статистически значимые различия между группами есть.\n",
    "\n",
    "Установим уровень значимости - 5%, alpha = 0.05. Если минимиальный уровень значимости будет меньше того, который был указан, то H0 (нулевая гипотеза) не принимается, а если больше, то мы принимаем нулевую гипотезу."
   ]
  },
  {
   "cell_type": "markdown",
   "id": "d2653cce",
   "metadata": {},
   "source": [
    "<div style=\"border: solid bisque 2px; padding: 20px; font-size: 16px;\"> \n",
    "    \n",
    "**Сформулируем нулевую и альтернативную гипотезу:**    \n",
    "    \n",
    "▶  H0: между долями нет статистически значимых различий\n",
    "    \n",
    "▶  H1: между долями есть статистически значимых различий\n",
    "    \n",
    "    \n",
    "Z-тест - это статистический метод, позволяющий определить, может ли распределение статистики теста быть приближено нормальным распределением. Это метод определения того, являются ли значения выборки примерно одинаковыми или разными.\n",
    "    \n",
    "Установим уровень значимости - 5%, alpha = 0.05. Если минимиальный уровень значимости будет меньше того, который был указан, то H0 (нулевая гипотеза) не принимается, а если больше, то мы принимаем нулевую гипотезу.\n",
    "\n",
    "</div>"
   ]
  },
  {
   "cell_type": "code",
   "execution_count": 20,
   "id": "0d720b67",
   "metadata": {},
   "outputs": [
    {
     "data": {
      "text/html": [
       "<style  type=\"text/css\" >\n",
       "#T_3e0a2_row2_col2{\n",
       "            background-color:  lightblue;\n",
       "        }</style><table id=\"T_3e0a2_\" ><thead>    <tr>        <th class=\"blank level0\" ></th>        <th class=\"col_heading level0 col0\" >events</th>        <th class=\"col_heading level0 col1\" >247-248</th>        <th class=\"col_heading level0 col2\" >248-246</th>    </tr></thead><tbody>\n",
       "                <tr>\n",
       "                        <th id=\"T_3e0a2_level0_row0\" class=\"row_heading level0 row0\" >0</th>\n",
       "                        <td id=\"T_3e0a2_row0_col0\" class=\"data row0 col0\" >MainScreenAppear</td>\n",
       "                        <td id=\"T_3e0a2_row0_col1\" class=\"data row0 col1\" >0.458705</td>\n",
       "                        <td id=\"T_3e0a2_row0_col2\" class=\"data row0 col2\" >0.294972</td>\n",
       "            </tr>\n",
       "            <tr>\n",
       "                        <th id=\"T_3e0a2_level0_row1\" class=\"row_heading level0 row1\" >1</th>\n",
       "                        <td id=\"T_3e0a2_row1_col0\" class=\"data row1 col0\" >OffersScreenAppear</td>\n",
       "                        <td id=\"T_3e0a2_row1_col1\" class=\"data row1 col1\" >0.919782</td>\n",
       "                        <td id=\"T_3e0a2_row1_col2\" class=\"data row1 col2\" >0.208362</td>\n",
       "            </tr>\n",
       "            <tr>\n",
       "                        <th id=\"T_3e0a2_level0_row2\" class=\"row_heading level0 row2\" >2</th>\n",
       "                        <td id=\"T_3e0a2_row2_col0\" class=\"data row2 col0\" >CartScreenAppear</td>\n",
       "                        <td id=\"T_3e0a2_row2_col1\" class=\"data row2 col1\" >0.578620</td>\n",
       "                        <td id=\"T_3e0a2_row2_col2\" class=\"data row2 col2\" >0.078429</td>\n",
       "            </tr>\n",
       "            <tr>\n",
       "                        <th id=\"T_3e0a2_level0_row3\" class=\"row_heading level0 row3\" >3</th>\n",
       "                        <td id=\"T_3e0a2_row3_col0\" class=\"data row3 col0\" >PaymentScreenSuccessful</td>\n",
       "                        <td id=\"T_3e0a2_row3_col1\" class=\"data row3 col1\" >0.737342</td>\n",
       "                        <td id=\"T_3e0a2_row3_col2\" class=\"data row3 col2\" >0.212255</td>\n",
       "            </tr>\n",
       "            <tr>\n",
       "                        <th id=\"T_3e0a2_level0_row4\" class=\"row_heading level0 row4\" >4</th>\n",
       "                        <td id=\"T_3e0a2_row4_col0\" class=\"data row4 col0\" >Tutorial</td>\n",
       "                        <td id=\"T_3e0a2_row4_col1\" class=\"data row4 col1\" >0.765324</td>\n",
       "                        <td id=\"T_3e0a2_row4_col2\" class=\"data row4 col2\" >0.826429</td>\n",
       "            </tr>\n",
       "    </tbody></table>"
      ],
      "text/plain": [
       "<pandas.io.formats.style.Styler at 0x7f0f82ec1310>"
      ]
     },
     "execution_count": 20,
     "metadata": {},
     "output_type": "execute_result"
    }
   ],
   "source": [
    "groups_result.iloc[:, [0, 2, 3]].style.highlight_min(color='lightblue', axis=None)"
   ]
  },
  {
   "cell_type": "markdown",
   "id": "54294283",
   "metadata": {},
   "source": [
    "Нулева гипотеза подтверждается\n",
    "\n",
    "Объединим группы 246 и 247"
   ]
  },
  {
   "cell_type": "code",
   "execution_count": 21,
   "id": "da6c6dee",
   "metadata": {},
   "outputs": [
    {
     "data": {
      "text/html": [
       "<div>\n",
       "<style scoped>\n",
       "    .dataframe tbody tr th:only-of-type {\n",
       "        vertical-align: middle;\n",
       "    }\n",
       "\n",
       "    .dataframe tbody tr th {\n",
       "        vertical-align: top;\n",
       "    }\n",
       "\n",
       "    .dataframe thead th {\n",
       "        text-align: right;\n",
       "    }\n",
       "</style>\n",
       "<table border=\"1\" class=\"dataframe\">\n",
       "  <thead>\n",
       "    <tr style=\"text-align: right;\">\n",
       "      <th>exp_id</th>\n",
       "      <th>event_name</th>\n",
       "      <th>246</th>\n",
       "      <th>247</th>\n",
       "      <th>248</th>\n",
       "      <th>All</th>\n",
       "      <th>246+247</th>\n",
       "    </tr>\n",
       "  </thead>\n",
       "  <tbody>\n",
       "    <tr>\n",
       "      <th>0</th>\n",
       "      <td>MainScreenAppear</td>\n",
       "      <td>2450</td>\n",
       "      <td>2476</td>\n",
       "      <td>2493</td>\n",
       "      <td>7419</td>\n",
       "      <td>4926</td>\n",
       "    </tr>\n",
       "    <tr>\n",
       "      <th>1</th>\n",
       "      <td>OffersScreenAppear</td>\n",
       "      <td>1542</td>\n",
       "      <td>1520</td>\n",
       "      <td>1531</td>\n",
       "      <td>4593</td>\n",
       "      <td>3062</td>\n",
       "    </tr>\n",
       "    <tr>\n",
       "      <th>2</th>\n",
       "      <td>CartScreenAppear</td>\n",
       "      <td>1266</td>\n",
       "      <td>1238</td>\n",
       "      <td>1230</td>\n",
       "      <td>3734</td>\n",
       "      <td>2504</td>\n",
       "    </tr>\n",
       "    <tr>\n",
       "      <th>3</th>\n",
       "      <td>PaymentScreenSuccessful</td>\n",
       "      <td>1200</td>\n",
       "      <td>1158</td>\n",
       "      <td>1181</td>\n",
       "      <td>3539</td>\n",
       "      <td>2358</td>\n",
       "    </tr>\n",
       "    <tr>\n",
       "      <th>4</th>\n",
       "      <td>Tutorial</td>\n",
       "      <td>278</td>\n",
       "      <td>283</td>\n",
       "      <td>279</td>\n",
       "      <td>840</td>\n",
       "      <td>561</td>\n",
       "    </tr>\n",
       "    <tr>\n",
       "      <th>5</th>\n",
       "      <td>All</td>\n",
       "      <td>2484</td>\n",
       "      <td>2513</td>\n",
       "      <td>2537</td>\n",
       "      <td>7534</td>\n",
       "      <td>4997</td>\n",
       "    </tr>\n",
       "  </tbody>\n",
       "</table>\n",
       "</div>"
      ],
      "text/plain": [
       "exp_id               event_name   246   247   248   All  246+247\n",
       "0              MainScreenAppear  2450  2476  2493  7419     4926\n",
       "1            OffersScreenAppear  1542  1520  1531  4593     3062\n",
       "2              CartScreenAppear  1266  1238  1230  3734     2504\n",
       "3       PaymentScreenSuccessful  1200  1158  1181  3539     2358\n",
       "4                      Tutorial   278   283   279   840      561\n",
       "5                           All  2484  2513  2537  7534     4997"
      ]
     },
     "execution_count": 21,
     "metadata": {},
     "output_type": "execute_result"
    }
   ],
   "source": [
    "events_groups['246+247'] = events_groups[246] + events_groups[247]\n",
    "events_groups"
   ]
  },
  {
   "cell_type": "code",
   "execution_count": 22,
   "id": "987c5df9",
   "metadata": {},
   "outputs": [],
   "source": [
    "# добавим столбец\n",
    "groups_result['246+247-248'] = 1\n",
    "\n",
    "for i in range(0, 5):\n",
    "    groups_result.iloc[i, 4] = check_stats(events_groups.iloc[i, 3], \n",
    "                                        events_groups.iloc[i, 5], \n",
    "                                        events_groups.iloc[5, 3], \n",
    "                                        events_groups.iloc[5, 5])"
   ]
  },
  {
   "cell_type": "code",
   "execution_count": 23,
   "id": "d470f2dc",
   "metadata": {},
   "outputs": [
    {
     "data": {
      "text/html": [
       "<style  type=\"text/css\" >\n",
       "#T_19708_row2_col3{\n",
       "            background-color:  lightblue;\n",
       "        }</style><table id=\"T_19708_\" ><thead>    <tr>        <th class=\"blank level0\" ></th>        <th class=\"col_heading level0 col0\" >events</th>        <th class=\"col_heading level0 col1\" >246-247</th>        <th class=\"col_heading level0 col2\" >247-248</th>        <th class=\"col_heading level0 col3\" >248-246</th>        <th class=\"col_heading level0 col4\" >246+247-248</th>    </tr></thead><tbody>\n",
       "                <tr>\n",
       "                        <th id=\"T_19708_level0_row0\" class=\"row_heading level0 row0\" >0</th>\n",
       "                        <td id=\"T_19708_row0_col0\" class=\"data row0 col0\" >MainScreenAppear</td>\n",
       "                        <td id=\"T_19708_row0_col1\" class=\"data row0 col1\" >0.757060</td>\n",
       "                        <td id=\"T_19708_row0_col2\" class=\"data row0 col2\" >0.458705</td>\n",
       "                        <td id=\"T_19708_row0_col3\" class=\"data row0 col3\" >0.294972</td>\n",
       "                        <td id=\"T_19708_row0_col4\" class=\"data row0 col4\" >0.294245</td>\n",
       "            </tr>\n",
       "            <tr>\n",
       "                        <th id=\"T_19708_level0_row1\" class=\"row_heading level0 row1\" >1</th>\n",
       "                        <td id=\"T_19708_row1_col0\" class=\"data row1 col0\" >OffersScreenAppear</td>\n",
       "                        <td id=\"T_19708_row1_col1\" class=\"data row1 col1\" >0.248095</td>\n",
       "                        <td id=\"T_19708_row1_col2\" class=\"data row1 col2\" >0.919782</td>\n",
       "                        <td id=\"T_19708_row1_col3\" class=\"data row1 col3\" >0.208362</td>\n",
       "                        <td id=\"T_19708_row1_col4\" class=\"data row1 col4\" >0.434255</td>\n",
       "            </tr>\n",
       "            <tr>\n",
       "                        <th id=\"T_19708_level0_row2\" class=\"row_heading level0 row2\" >2</th>\n",
       "                        <td id=\"T_19708_row2_col0\" class=\"data row2 col0\" >CartScreenAppear</td>\n",
       "                        <td id=\"T_19708_row2_col1\" class=\"data row2 col1\" >0.228834</td>\n",
       "                        <td id=\"T_19708_row2_col2\" class=\"data row2 col2\" >0.578620</td>\n",
       "                        <td id=\"T_19708_row2_col3\" class=\"data row2 col3\" >0.078429</td>\n",
       "                        <td id=\"T_19708_row2_col4\" class=\"data row2 col4\" >0.181759</td>\n",
       "            </tr>\n",
       "            <tr>\n",
       "                        <th id=\"T_19708_level0_row3\" class=\"row_heading level0 row3\" >3</th>\n",
       "                        <td id=\"T_19708_row3_col0\" class=\"data row3 col0\" >PaymentScreenSuccessful</td>\n",
       "                        <td id=\"T_19708_row3_col1\" class=\"data row3 col1\" >0.114567</td>\n",
       "                        <td id=\"T_19708_row3_col2\" class=\"data row3 col2\" >0.737342</td>\n",
       "                        <td id=\"T_19708_row3_col3\" class=\"data row3 col3\" >0.212255</td>\n",
       "                        <td id=\"T_19708_row3_col4\" class=\"data row3 col4\" >0.600429</td>\n",
       "            </tr>\n",
       "            <tr>\n",
       "                        <th id=\"T_19708_level0_row4\" class=\"row_heading level0 row4\" >4</th>\n",
       "                        <td id=\"T_19708_row4_col0\" class=\"data row4 col0\" >Tutorial</td>\n",
       "                        <td id=\"T_19708_row4_col1\" class=\"data row4 col1\" >0.937700</td>\n",
       "                        <td id=\"T_19708_row4_col2\" class=\"data row4 col2\" >0.765324</td>\n",
       "                        <td id=\"T_19708_row4_col3\" class=\"data row4 col3\" >0.826429</td>\n",
       "                        <td id=\"T_19708_row4_col4\" class=\"data row4 col4\" >0.764862</td>\n",
       "            </tr>\n",
       "    </tbody></table>"
      ],
      "text/plain": [
       "<pandas.io.formats.style.Styler at 0x7f0f82d7d310>"
      ]
     },
     "execution_count": 23,
     "metadata": {},
     "output_type": "execute_result"
    }
   ],
   "source": [
    "groups_result.style.highlight_min(color='lightblue', axis=None)"
   ]
  },
  {
   "cell_type": "markdown",
   "id": "8a0e2307",
   "metadata": {},
   "source": [
    "<div style=\"border: solid bisque 2px; padding: 20px; font-size: 16px;\">\n",
    "    \n",
    "* Получилось 4 варианта воронки \n",
    "    \n",
    "* 16 гипотез\n",
    "    \n",
    "* `p_value` лучше уменьшить с поправкой Бонферрони до 0,003\n",
    "\n",
    "* `p_value` значительно больше для всех воронок \n",
    "    \n",
    "* Минимальное значение составило 0,078\n",
    "    \n",
    "**Новый шрифт не оказал влияние на поведение пользователей в приложении**\n",
    "    \n",
    "    \n",
    "</div>"
   ]
  },
  {
   "cell_type": "markdown",
   "id": "33ac22cb",
   "metadata": {},
   "source": [
    "## Вывод"
   ]
  },
  {
   "cell_type": "markdown",
   "id": "34da35f3",
   "metadata": {},
   "source": [
    "<div style=\"border: solid green 2px; padding: 20px\"> \n",
    "<b> </b>\n",
    "    \n",
    "**Цель исследования** - проанализировать, как и какое количество пользователей доходят до покупки продуктов питания, есть ли стоп-факторы на пути воронки. Выяснить, как новый шрифт повлиял на поведение пользователей.\n",
    "___\n",
    "\n",
    "**1. По итогу проверки переходов между страницами, выделили следующие выводы:**\n",
    "    \n",
    "* 98% пользователей не заходит на главную страницу, значит пользователи могут попасть сразу на другие страницы приложения\n",
    "    \n",
    "* 60% посещают каталог\n",
    "    \n",
    "* Около 40% пользователей не переходят в каталог\n",
    "\n",
    "* 19% не переходят в корзину\n",
    "    \n",
    "* 5% не переходят на страницу оплаты\n",
    "    \n",
    "**Всего 47% пользователей совершают оплату**\n",
    "    \n",
    "Подробнее в пункте [4.2  Cколько пользователей совершали каждое из этих событий](#events)\n",
    "  \n",
    "**2. Анализ нового шрифта через А/А и А/В тестирование:**\n",
    "    \n",
    "* Нулевая гипотеза не была отвергнута, это значит, что замена шрифта никак не повлияла на поведение пользователей\n",
    "\n",
    "* Стоит обратить внимание на резкое снижение посещаемости каталога продуктов, возможно есть технические неполадки, либо пользователей изначально не заинтеросовала главная страница приложения\n",
    "    \n",
    "Подробнее в пункте [5  Изучим результаты эксперимента](#test)\n",
    "\n",
    "</div>"
   ]
  }
 ],
 "metadata": {
  "ExecuteTimeLog": [
   {
    "duration": 441,
    "start_time": "2023-02-07T21:22:24.335Z"
   },
   {
    "duration": 105,
    "start_time": "2023-02-07T21:24:09.605Z"
   },
   {
    "duration": 657,
    "start_time": "2023-02-07T21:24:14.948Z"
   },
   {
    "duration": 16,
    "start_time": "2023-02-07T21:24:22.972Z"
   },
   {
    "duration": 162,
    "start_time": "2023-02-07T21:25:07.700Z"
   },
   {
    "duration": 10,
    "start_time": "2023-02-07T21:25:08.128Z"
   },
   {
    "duration": 3,
    "start_time": "2023-02-07T21:26:20.165Z"
   },
   {
    "duration": 758,
    "start_time": "2023-02-07T21:39:01.354Z"
   },
   {
    "duration": 3,
    "start_time": "2023-02-07T21:39:47.951Z"
   },
   {
    "duration": 163,
    "start_time": "2023-02-07T21:40:40.034Z"
   },
   {
    "duration": 8,
    "start_time": "2023-02-07T21:40:41.792Z"
   },
   {
    "duration": 49,
    "start_time": "2023-02-08T21:49:49.579Z"
   },
   {
    "duration": 1357,
    "start_time": "2023-02-08T21:50:05.400Z"
   },
   {
    "duration": 249,
    "start_time": "2023-02-08T21:50:06.759Z"
   },
   {
    "duration": 523,
    "start_time": "2023-02-08T21:50:07.011Z"
   },
   {
    "duration": 12,
    "start_time": "2023-02-08T21:50:07.536Z"
   },
   {
    "duration": 67,
    "start_time": "2023-02-08T21:50:07.549Z"
   },
   {
    "duration": 0,
    "start_time": "2023-02-08T21:50:07.618Z"
   },
   {
    "duration": 8,
    "start_time": "2023-02-08T21:50:13.990Z"
   },
   {
    "duration": 20,
    "start_time": "2023-02-08T21:52:47.653Z"
   },
   {
    "duration": 145,
    "start_time": "2023-02-08T21:54:38.364Z"
   },
   {
    "duration": 84,
    "start_time": "2023-02-08T21:54:50.626Z"
   },
   {
    "duration": 94,
    "start_time": "2023-02-08T21:57:01.926Z"
   },
   {
    "duration": 110,
    "start_time": "2023-02-08T21:57:45.776Z"
   },
   {
    "duration": 91,
    "start_time": "2023-02-08T21:57:56.490Z"
   },
   {
    "duration": 91,
    "start_time": "2023-02-08T21:58:19.205Z"
   },
   {
    "duration": 9,
    "start_time": "2023-02-08T21:59:38.598Z"
   },
   {
    "duration": 14,
    "start_time": "2023-02-08T22:00:58.331Z"
   },
   {
    "duration": 14,
    "start_time": "2023-02-08T22:01:10.951Z"
   },
   {
    "duration": 19,
    "start_time": "2023-02-08T22:01:15.040Z"
   },
   {
    "duration": 20,
    "start_time": "2023-02-08T22:01:22.949Z"
   },
   {
    "duration": 188,
    "start_time": "2023-02-08T22:01:37.251Z"
   },
   {
    "duration": 117,
    "start_time": "2023-02-08T22:03:23.640Z"
   },
   {
    "duration": 50,
    "start_time": "2023-02-10T17:20:44.637Z"
   },
   {
    "duration": 1414,
    "start_time": "2023-02-10T17:21:27.375Z"
   },
   {
    "duration": 188,
    "start_time": "2023-02-10T17:21:28.791Z"
   },
   {
    "duration": 722,
    "start_time": "2023-02-10T17:21:28.981Z"
   },
   {
    "duration": 13,
    "start_time": "2023-02-10T17:21:29.706Z"
   },
   {
    "duration": 9,
    "start_time": "2023-02-10T17:21:29.721Z"
   },
   {
    "duration": 93,
    "start_time": "2023-02-10T17:21:29.732Z"
   },
   {
    "duration": 214,
    "start_time": "2023-02-10T17:21:29.827Z"
   },
   {
    "duration": 110,
    "start_time": "2023-02-10T17:21:30.043Z"
   },
   {
    "duration": 9,
    "start_time": "2023-02-10T17:21:48.368Z"
   },
   {
    "duration": 11,
    "start_time": "2023-02-10T17:22:05.784Z"
   },
   {
    "duration": 5,
    "start_time": "2023-02-10T17:26:03.008Z"
   },
   {
    "duration": 7,
    "start_time": "2023-02-10T17:27:58.664Z"
   },
   {
    "duration": 5,
    "start_time": "2023-02-10T17:28:06.064Z"
   },
   {
    "duration": 42,
    "start_time": "2023-02-10T17:30:11.947Z"
   },
   {
    "duration": 41,
    "start_time": "2023-02-10T17:30:24.103Z"
   },
   {
    "duration": 40,
    "start_time": "2023-02-10T17:30:35.278Z"
   },
   {
    "duration": 324,
    "start_time": "2023-02-10T17:30:42.915Z"
   },
   {
    "duration": 311,
    "start_time": "2023-02-10T17:32:02.341Z"
   },
   {
    "duration": 84,
    "start_time": "2023-02-10T17:41:09.868Z"
   },
   {
    "duration": 84,
    "start_time": "2023-02-10T17:42:22.524Z"
   },
   {
    "duration": 18,
    "start_time": "2023-02-10T17:51:33.043Z"
   },
   {
    "duration": 69,
    "start_time": "2023-02-10T18:05:31.230Z"
   },
   {
    "duration": 68,
    "start_time": "2023-02-10T18:06:45.928Z"
   },
   {
    "duration": 167,
    "start_time": "2023-02-10T18:07:16.269Z"
   },
   {
    "duration": 185,
    "start_time": "2023-02-10T18:07:43.718Z"
   },
   {
    "duration": 166,
    "start_time": "2023-02-10T18:08:53.054Z"
   },
   {
    "duration": 14,
    "start_time": "2023-02-10T18:23:24.983Z"
   },
   {
    "duration": 34,
    "start_time": "2023-02-10T18:23:32.979Z"
   },
   {
    "duration": 42,
    "start_time": "2023-02-10T18:23:43.968Z"
   },
   {
    "duration": 35,
    "start_time": "2023-02-10T18:23:50.377Z"
   },
   {
    "duration": 49,
    "start_time": "2023-02-10T20:13:38.145Z"
   },
   {
    "duration": 0,
    "start_time": "2023-02-10T20:15:47.205Z"
   },
   {
    "duration": 0,
    "start_time": "2023-02-10T20:15:51.167Z"
   },
   {
    "duration": 0,
    "start_time": "2023-02-10T20:15:51.168Z"
   },
   {
    "duration": 0,
    "start_time": "2023-02-10T20:15:51.169Z"
   },
   {
    "duration": 0,
    "start_time": "2023-02-10T20:15:51.170Z"
   },
   {
    "duration": 0,
    "start_time": "2023-02-10T20:15:51.171Z"
   },
   {
    "duration": 0,
    "start_time": "2023-02-10T20:15:51.172Z"
   },
   {
    "duration": 0,
    "start_time": "2023-02-10T20:15:51.173Z"
   },
   {
    "duration": 0,
    "start_time": "2023-02-10T20:15:51.174Z"
   },
   {
    "duration": 0,
    "start_time": "2023-02-10T20:15:51.176Z"
   },
   {
    "duration": 0,
    "start_time": "2023-02-10T20:15:51.220Z"
   },
   {
    "duration": 0,
    "start_time": "2023-02-10T20:15:51.221Z"
   },
   {
    "duration": 0,
    "start_time": "2023-02-10T20:15:51.222Z"
   },
   {
    "duration": 0,
    "start_time": "2023-02-10T20:15:51.222Z"
   },
   {
    "duration": 0,
    "start_time": "2023-02-10T20:15:51.223Z"
   },
   {
    "duration": 0,
    "start_time": "2023-02-10T20:15:51.224Z"
   },
   {
    "duration": 0,
    "start_time": "2023-02-10T20:15:51.231Z"
   },
   {
    "duration": 37,
    "start_time": "2023-02-10T20:15:53.647Z"
   },
   {
    "duration": 28,
    "start_time": "2023-02-10T20:15:57.284Z"
   },
   {
    "duration": 38,
    "start_time": "2023-02-10T20:17:02.104Z"
   },
   {
    "duration": 125,
    "start_time": "2023-02-10T20:17:54.756Z"
   },
   {
    "duration": 10,
    "start_time": "2023-02-10T20:20:36.068Z"
   },
   {
    "duration": 22,
    "start_time": "2023-02-10T20:20:40.037Z"
   },
   {
    "duration": 73,
    "start_time": "2023-02-10T20:21:02.784Z"
   },
   {
    "duration": 57,
    "start_time": "2023-02-10T20:21:15.126Z"
   },
   {
    "duration": 95,
    "start_time": "2023-02-10T20:21:57.095Z"
   },
   {
    "duration": 233,
    "start_time": "2023-02-10T20:25:32.054Z"
   },
   {
    "duration": 5,
    "start_time": "2023-02-10T20:27:31.568Z"
   },
   {
    "duration": 4,
    "start_time": "2023-02-10T20:38:51.182Z"
   },
   {
    "duration": 23,
    "start_time": "2023-02-10T20:41:12.493Z"
   },
   {
    "duration": 1263,
    "start_time": "2023-02-10T20:42:10.340Z"
   },
   {
    "duration": 232,
    "start_time": "2023-02-10T20:42:11.606Z"
   },
   {
    "duration": 222,
    "start_time": "2023-02-10T20:42:11.842Z"
   },
   {
    "duration": 11,
    "start_time": "2023-02-10T20:42:12.067Z"
   },
   {
    "duration": 9,
    "start_time": "2023-02-10T20:42:12.080Z"
   },
   {
    "duration": 157,
    "start_time": "2023-02-10T20:42:12.091Z"
   },
   {
    "duration": 238,
    "start_time": "2023-02-10T20:42:12.250Z"
   },
   {
    "duration": 14,
    "start_time": "2023-02-10T20:42:12.490Z"
   },
   {
    "duration": 22,
    "start_time": "2023-02-10T20:42:12.506Z"
   },
   {
    "duration": 353,
    "start_time": "2023-02-10T20:42:12.530Z"
   },
   {
    "duration": 115,
    "start_time": "2023-02-10T20:42:12.886Z"
   },
   {
    "duration": 36,
    "start_time": "2023-02-10T20:42:13.003Z"
   },
   {
    "duration": 100,
    "start_time": "2023-02-10T20:42:13.044Z"
   },
   {
    "duration": 200,
    "start_time": "2023-02-10T20:42:13.147Z"
   },
   {
    "duration": 42,
    "start_time": "2023-02-10T20:42:13.349Z"
   },
   {
    "duration": 266,
    "start_time": "2023-02-10T20:42:13.393Z"
   },
   {
    "duration": 45,
    "start_time": "2023-02-10T20:42:13.661Z"
   },
   {
    "duration": 246,
    "start_time": "2023-02-10T20:42:13.708Z"
   },
   {
    "duration": 5,
    "start_time": "2023-02-10T20:42:13.956Z"
   },
   {
    "duration": 31,
    "start_time": "2023-02-10T20:42:13.963Z"
   },
   {
    "duration": 1279,
    "start_time": "2023-02-10T20:43:11.642Z"
   },
   {
    "duration": 84,
    "start_time": "2023-02-10T20:43:12.931Z"
   },
   {
    "duration": 173,
    "start_time": "2023-02-10T20:43:13.017Z"
   },
   {
    "duration": 15,
    "start_time": "2023-02-10T20:43:13.192Z"
   },
   {
    "duration": 21,
    "start_time": "2023-02-10T20:43:13.209Z"
   },
   {
    "duration": 122,
    "start_time": "2023-02-10T20:43:13.232Z"
   },
   {
    "duration": 222,
    "start_time": "2023-02-10T20:43:13.356Z"
   },
   {
    "duration": 12,
    "start_time": "2023-02-10T20:43:13.581Z"
   },
   {
    "duration": 14,
    "start_time": "2023-02-10T20:43:13.595Z"
   },
   {
    "duration": 353,
    "start_time": "2023-02-10T20:43:13.613Z"
   },
   {
    "duration": 93,
    "start_time": "2023-02-10T20:43:13.968Z"
   },
   {
    "duration": 18,
    "start_time": "2023-02-10T20:43:14.064Z"
   },
   {
    "duration": 92,
    "start_time": "2023-02-10T20:43:14.084Z"
   },
   {
    "duration": 190,
    "start_time": "2023-02-10T20:43:14.177Z"
   },
   {
    "duration": 37,
    "start_time": "2023-02-10T20:43:14.369Z"
   },
   {
    "duration": 263,
    "start_time": "2023-02-10T20:43:14.420Z"
   },
   {
    "duration": 59,
    "start_time": "2023-02-10T20:43:14.686Z"
   },
   {
    "duration": 223,
    "start_time": "2023-02-10T20:43:14.746Z"
   },
   {
    "duration": 5,
    "start_time": "2023-02-10T20:43:14.971Z"
   },
   {
    "duration": 128,
    "start_time": "2023-02-10T20:43:14.979Z"
   },
   {
    "duration": 39,
    "start_time": "2023-02-10T20:44:22.347Z"
   },
   {
    "duration": 43,
    "start_time": "2023-02-10T20:44:30.346Z"
   },
   {
    "duration": 86,
    "start_time": "2023-02-10T20:52:59.718Z"
   },
   {
    "duration": 11,
    "start_time": "2023-02-10T20:54:33.859Z"
   },
   {
    "duration": 10,
    "start_time": "2023-02-10T20:57:03.698Z"
   },
   {
    "duration": 15,
    "start_time": "2023-02-10T20:59:05.141Z"
   },
   {
    "duration": 1269,
    "start_time": "2023-02-10T21:00:07.145Z"
   },
   {
    "duration": 79,
    "start_time": "2023-02-10T21:00:08.416Z"
   },
   {
    "duration": 166,
    "start_time": "2023-02-10T21:00:08.497Z"
   },
   {
    "duration": 11,
    "start_time": "2023-02-10T21:00:08.665Z"
   },
   {
    "duration": 8,
    "start_time": "2023-02-10T21:00:08.678Z"
   },
   {
    "duration": 122,
    "start_time": "2023-02-10T21:00:08.688Z"
   },
   {
    "duration": 203,
    "start_time": "2023-02-10T21:00:08.812Z"
   },
   {
    "duration": 10,
    "start_time": "2023-02-10T21:00:09.017Z"
   },
   {
    "duration": 6,
    "start_time": "2023-02-10T21:00:09.029Z"
   },
   {
    "duration": 349,
    "start_time": "2023-02-10T21:00:09.037Z"
   },
   {
    "duration": 106,
    "start_time": "2023-02-10T21:00:09.388Z"
   },
   {
    "duration": 26,
    "start_time": "2023-02-10T21:00:09.496Z"
   },
   {
    "duration": 74,
    "start_time": "2023-02-10T21:00:09.523Z"
   },
   {
    "duration": 194,
    "start_time": "2023-02-10T21:00:09.599Z"
   },
   {
    "duration": 44,
    "start_time": "2023-02-10T21:00:09.795Z"
   },
   {
    "duration": 230,
    "start_time": "2023-02-10T21:00:09.841Z"
   },
   {
    "duration": 52,
    "start_time": "2023-02-10T21:00:10.073Z"
   },
   {
    "duration": 229,
    "start_time": "2023-02-10T21:00:10.127Z"
   },
   {
    "duration": 5,
    "start_time": "2023-02-10T21:00:10.376Z"
   },
   {
    "duration": 89,
    "start_time": "2023-02-10T21:00:10.383Z"
   },
   {
    "duration": 11,
    "start_time": "2023-02-10T21:00:10.474Z"
   },
   {
    "duration": 15,
    "start_time": "2023-02-10T21:00:10.487Z"
   },
   {
    "duration": 28,
    "start_time": "2023-02-10T21:00:10.504Z"
   },
   {
    "duration": 12,
    "start_time": "2023-02-10T21:00:15.563Z"
   },
   {
    "duration": 17,
    "start_time": "2023-02-10T21:00:44.666Z"
   },
   {
    "duration": 150,
    "start_time": "2023-02-10T21:08:15.372Z"
   },
   {
    "duration": 74,
    "start_time": "2023-02-10T21:09:36.489Z"
   },
   {
    "duration": 92,
    "start_time": "2023-02-10T21:35:31.618Z"
   },
   {
    "duration": 86,
    "start_time": "2023-02-10T21:38:18.897Z"
   },
   {
    "duration": 108,
    "start_time": "2023-02-10T21:38:35.649Z"
   },
   {
    "duration": 207,
    "start_time": "2023-02-10T21:38:41.011Z"
   },
   {
    "duration": 9,
    "start_time": "2023-02-10T21:38:43.671Z"
   },
   {
    "duration": 1170,
    "start_time": "2023-02-10T21:41:22.071Z"
   },
   {
    "duration": 178,
    "start_time": "2023-02-10T21:41:23.243Z"
   },
   {
    "duration": 12,
    "start_time": "2023-02-10T21:41:23.423Z"
   },
   {
    "duration": 11,
    "start_time": "2023-02-10T21:41:23.437Z"
   },
   {
    "duration": 127,
    "start_time": "2023-02-10T21:41:23.450Z"
   },
   {
    "duration": 242,
    "start_time": "2023-02-10T21:41:23.579Z"
   },
   {
    "duration": 11,
    "start_time": "2023-02-10T21:41:23.824Z"
   },
   {
    "duration": 7,
    "start_time": "2023-02-10T21:41:23.837Z"
   },
   {
    "duration": 366,
    "start_time": "2023-02-10T21:41:23.847Z"
   },
   {
    "duration": 100,
    "start_time": "2023-02-10T21:41:24.221Z"
   },
   {
    "duration": 22,
    "start_time": "2023-02-10T21:41:24.322Z"
   },
   {
    "duration": 104,
    "start_time": "2023-02-10T21:41:24.347Z"
   },
   {
    "duration": 238,
    "start_time": "2023-02-10T21:41:24.453Z"
   },
   {
    "duration": 47,
    "start_time": "2023-02-10T21:41:24.694Z"
   },
   {
    "duration": 237,
    "start_time": "2023-02-10T21:41:24.743Z"
   },
   {
    "duration": 65,
    "start_time": "2023-02-10T21:41:24.982Z"
   },
   {
    "duration": 260,
    "start_time": "2023-02-10T21:41:25.049Z"
   },
   {
    "duration": 4,
    "start_time": "2023-02-10T21:41:25.311Z"
   },
   {
    "duration": 102,
    "start_time": "2023-02-10T21:41:25.321Z"
   },
   {
    "duration": 13,
    "start_time": "2023-02-10T21:41:25.425Z"
   },
   {
    "duration": 33,
    "start_time": "2023-02-10T21:41:25.442Z"
   },
   {
    "duration": 17,
    "start_time": "2023-02-10T21:41:25.478Z"
   },
   {
    "duration": 18,
    "start_time": "2023-02-10T21:41:25.497Z"
   },
   {
    "duration": 1335,
    "start_time": "2023-02-11T07:56:12.136Z"
   },
   {
    "duration": 825,
    "start_time": "2023-02-11T07:56:13.474Z"
   },
   {
    "duration": 16,
    "start_time": "2023-02-11T07:56:14.301Z"
   },
   {
    "duration": 13,
    "start_time": "2023-02-11T07:56:14.320Z"
   },
   {
    "duration": 110,
    "start_time": "2023-02-11T07:56:14.336Z"
   },
   {
    "duration": 192,
    "start_time": "2023-02-11T07:56:14.447Z"
   },
   {
    "duration": 7,
    "start_time": "2023-02-11T07:56:14.641Z"
   },
   {
    "duration": 9,
    "start_time": "2023-02-11T07:56:14.650Z"
   },
   {
    "duration": 303,
    "start_time": "2023-02-11T07:56:14.661Z"
   },
   {
    "duration": 81,
    "start_time": "2023-02-11T07:56:14.966Z"
   },
   {
    "duration": 18,
    "start_time": "2023-02-11T07:56:15.049Z"
   },
   {
    "duration": 81,
    "start_time": "2023-02-11T07:56:15.069Z"
   },
   {
    "duration": 176,
    "start_time": "2023-02-11T07:56:15.152Z"
   },
   {
    "duration": 32,
    "start_time": "2023-02-11T07:56:15.330Z"
   },
   {
    "duration": 219,
    "start_time": "2023-02-11T07:56:15.364Z"
   },
   {
    "duration": 52,
    "start_time": "2023-02-11T07:56:15.585Z"
   },
   {
    "duration": 202,
    "start_time": "2023-02-11T07:56:15.638Z"
   },
   {
    "duration": 4,
    "start_time": "2023-02-11T07:56:15.842Z"
   },
   {
    "duration": 79,
    "start_time": "2023-02-11T07:56:15.848Z"
   },
   {
    "duration": 10,
    "start_time": "2023-02-11T07:56:15.929Z"
   },
   {
    "duration": 12,
    "start_time": "2023-02-11T07:56:15.941Z"
   },
   {
    "duration": 12,
    "start_time": "2023-02-11T07:56:15.955Z"
   },
   {
    "duration": 34,
    "start_time": "2023-02-11T07:56:15.969Z"
   },
   {
    "duration": 77,
    "start_time": "2023-02-11T13:18:09.166Z"
   },
   {
    "duration": 1361,
    "start_time": "2023-02-11T13:58:53.418Z"
   },
   {
    "duration": 568,
    "start_time": "2023-02-11T13:58:54.781Z"
   },
   {
    "duration": 17,
    "start_time": "2023-02-11T13:58:55.351Z"
   },
   {
    "duration": 19,
    "start_time": "2023-02-11T13:58:55.370Z"
   },
   {
    "duration": 148,
    "start_time": "2023-02-11T13:58:55.391Z"
   },
   {
    "duration": 210,
    "start_time": "2023-02-11T13:58:55.541Z"
   },
   {
    "duration": 13,
    "start_time": "2023-02-11T13:58:55.753Z"
   },
   {
    "duration": 9,
    "start_time": "2023-02-11T13:58:55.768Z"
   },
   {
    "duration": 340,
    "start_time": "2023-02-11T13:58:55.779Z"
   },
   {
    "duration": 90,
    "start_time": "2023-02-11T13:58:56.123Z"
   },
   {
    "duration": 18,
    "start_time": "2023-02-11T13:58:56.215Z"
   },
   {
    "duration": 81,
    "start_time": "2023-02-11T13:58:56.235Z"
   },
   {
    "duration": 191,
    "start_time": "2023-02-11T13:58:56.318Z"
   },
   {
    "duration": 42,
    "start_time": "2023-02-11T13:58:56.511Z"
   },
   {
    "duration": 247,
    "start_time": "2023-02-11T13:58:56.555Z"
   },
   {
    "duration": 40,
    "start_time": "2023-02-11T13:58:56.804Z"
   },
   {
    "duration": 213,
    "start_time": "2023-02-11T13:58:56.849Z"
   },
   {
    "duration": 4,
    "start_time": "2023-02-11T13:58:57.064Z"
   },
   {
    "duration": 81,
    "start_time": "2023-02-11T13:58:57.069Z"
   },
   {
    "duration": 14,
    "start_time": "2023-02-11T13:58:57.154Z"
   },
   {
    "duration": 11,
    "start_time": "2023-02-11T13:58:57.170Z"
   },
   {
    "duration": 12,
    "start_time": "2023-02-11T13:58:57.183Z"
   },
   {
    "duration": 15,
    "start_time": "2023-02-11T13:58:57.196Z"
   },
   {
    "duration": 1222,
    "start_time": "2023-02-11T13:59:36.875Z"
   },
   {
    "duration": 178,
    "start_time": "2023-02-11T13:59:38.099Z"
   },
   {
    "duration": 11,
    "start_time": "2023-02-11T13:59:38.278Z"
   },
   {
    "duration": 13,
    "start_time": "2023-02-11T13:59:38.291Z"
   },
   {
    "duration": 114,
    "start_time": "2023-02-11T13:59:38.306Z"
   },
   {
    "duration": 196,
    "start_time": "2023-02-11T13:59:38.422Z"
   },
   {
    "duration": 9,
    "start_time": "2023-02-11T13:59:38.619Z"
   },
   {
    "duration": 19,
    "start_time": "2023-02-11T13:59:38.629Z"
   },
   {
    "duration": 316,
    "start_time": "2023-02-11T13:59:38.650Z"
   },
   {
    "duration": 80,
    "start_time": "2023-02-11T13:59:38.969Z"
   },
   {
    "duration": 21,
    "start_time": "2023-02-11T13:59:39.051Z"
   },
   {
    "duration": 85,
    "start_time": "2023-02-11T13:59:39.073Z"
   },
   {
    "duration": 168,
    "start_time": "2023-02-11T13:59:39.161Z"
   },
   {
    "duration": 44,
    "start_time": "2023-02-11T13:59:39.331Z"
   },
   {
    "duration": 214,
    "start_time": "2023-02-11T13:59:39.377Z"
   },
   {
    "duration": 42,
    "start_time": "2023-02-11T13:59:39.593Z"
   },
   {
    "duration": 242,
    "start_time": "2023-02-11T13:59:39.637Z"
   },
   {
    "duration": 5,
    "start_time": "2023-02-11T13:59:39.880Z"
   },
   {
    "duration": 89,
    "start_time": "2023-02-11T13:59:39.886Z"
   },
   {
    "duration": 9,
    "start_time": "2023-02-11T13:59:39.977Z"
   },
   {
    "duration": 10,
    "start_time": "2023-02-11T13:59:39.988Z"
   },
   {
    "duration": 13,
    "start_time": "2023-02-11T13:59:40.000Z"
   },
   {
    "duration": 15,
    "start_time": "2023-02-11T13:59:40.015Z"
   }
  ],
  "kernelspec": {
   "display_name": "Python 3 (ipykernel)",
   "language": "python",
   "name": "python3"
  },
  "language_info": {
   "codemirror_mode": {
    "name": "ipython",
    "version": 3
   },
   "file_extension": ".py",
   "mimetype": "text/x-python",
   "name": "python",
   "nbconvert_exporter": "python",
   "pygments_lexer": "ipython3",
   "version": "3.10.9"
  },
  "toc": {
   "base_numbering": 1,
   "nav_menu": {},
   "number_sections": true,
   "sideBar": true,
   "skip_h1_title": true,
   "title_cell": "Table of Contents",
   "title_sidebar": "Contents",
   "toc_cell": false,
   "toc_position": {
    "height": "calc(100% - 180px)",
    "left": "10px",
    "top": "150px",
    "width": "294px"
   },
   "toc_section_display": true,
   "toc_window_display": true
  }
 },
 "nbformat": 4,
 "nbformat_minor": 5
}
